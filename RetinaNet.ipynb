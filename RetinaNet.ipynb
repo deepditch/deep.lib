{
 "cells": [
  {
   "cell_type": "code",
   "execution_count": 2,
   "metadata": {},
   "outputs": [],
   "source": [
    "import torch\n",
    "import torch.nn as nn\n",
    "import torch.nn.functional as F\n",
    "import torch.optim as optim\n",
    "from torch.autograd import Variable\n",
    "import torchvision.models as models\n",
    "import time\n",
    "import random\n",
    "import numpy as np\n",
    "import matplotlib.pyplot as plt\n",
    "from matplotlib import patches, patheffects\n",
    "import pandas as pd\n",
    "from PIL import ImageDraw, ImageFont\n",
    "from collections import namedtuple, OrderedDict\n",
    "from session import *\n",
    "from LR_Schedule.cos_anneal import CosAnneal\n",
    "from LR_Schedule.cyclical import Cyclical\n",
    "from LR_Schedule.lr_find import lr_find\n",
    "from callbacks import *\n",
    "from validation import *\n",
    "from Vision.ImageHelpers import *\n",
    "from Vision.SSD import *\n",
    "from Datasets.RoadDamage import RoadDamageDataset\n",
    "from Vision.RetinaNet import * "
   ]
  },
  {
   "cell_type": "code",
   "execution_count": 3,
   "metadata": {},
   "outputs": [],
   "source": [
    "%load_ext autoreload\n",
    "%autoreload 2"
   ]
  },
  {
   "cell_type": "code",
   "execution_count": 4,
   "metadata": {},
   "outputs": [],
   "source": [
    "torch.cuda.set_device(0); torch.backends.cudnn.benchmark=True"
   ]
  },
  {
   "cell_type": "code",
   "execution_count": 5,
   "metadata": {},
   "outputs": [],
   "source": [
    "num_colr = 12\n",
    "cmap = get_cmap(num_colr)\n",
    "colr_list = [cmap(float(x)) for x in range(num_colr)]\n",
    "\n",
    "def show_ground_truth(ax, x, bbox, clas=None, prs=None, thresh=0.3, show_bg=False):\n",
    "    im = np.moveaxis(x, 0, 2)\n",
    "    bb = [center_to_hw(o) for o in bbox.reshape(-1,4)]\n",
    "    if prs is None:  prs  = [None]*len(bb)\n",
    "    if clas is None: clas = [None]*len(bb)\n",
    "    ax = show_img(im.clip(0,1), ax=ax)\n",
    "    for i,(b,c,pr) in enumerate(zip(bb, clas, prs)):\n",
    "        if((b[2]>0) and (pr is None or pr > thresh) and (show_bg or c != 0)):\n",
    "            draw_rect(ax, b, color=colr_list[i%num_colr])\n",
    "            txt = f'{i}: '\n",
    "            if c is not None: txt += classes[c]\n",
    "            if pr is not None: txt += f' {pr:.2f}'\n",
    "            draw_text(ax, b[:2], txt, color=colr_list[i%num_colr])\n",
    "            \n",
    "def torch_gt(ax, ima, bbox, clas, prs=None, thresh=0.25, show_bg=False):\n",
    "    return show_ground_truth(ax, ima, (bbox*imsize),\n",
    "         clas, prs if prs is not None else None, thresh, show_bg=show_bg)\n",
    "\n",
    "def test(sess, anchors, grid, data):\n",
    "    with EvalModel(sess.model):\n",
    "        rawx, rawy, *_ = next(iter(data))\n",
    "        pred_classes, bb_outputs = sess.forward(rawx)\n",
    "        prints = {key: val.numpy() for key, val in rawy.items()}\n",
    "        y = {key: Variable(value) for key, value in rawy.items()}\n",
    "\n",
    "        for i, x in enumerate(rawx[0:16]):\n",
    "            im = denorm(rawx[i]).numpy()\n",
    "\n",
    "            pred_classes_1, bb_outputs_1 = pred_classes[i], bb_outputs[i]\n",
    "            label_bbs, label_classes = y['BB'][i], y['CAT'][i]\n",
    "\n",
    "            fig, axes = plt.subplots(3, 2, figsize=(18, 18))\n",
    "\n",
    "\n",
    "            # Ground Truth\n",
    "            show_ground_truth(axes.flat[0], im, prints['BB'][i], prints['CAT'][i])\n",
    "\n",
    "\n",
    "            # Anchorbox Assignments \n",
    "            gt_bbs, gt_classes, *_ = map_label_to_ground_truth(label_bbs, label_classes, anchors, grid, imsize)\n",
    "            torch_gt(axes.flat[1], im, anchors.cpu().data.numpy(), gt_classes.cpu().data.numpy(), show_bg=False)\n",
    "\n",
    "\n",
    "            # Predicted classes per anchorbox\n",
    "            torch_gt(axes.flat[2], im, \n",
    "                     anchors.cpu().data.numpy(), \n",
    "                     pred_classes_1.max(1)[1].data, \n",
    "                     pred_classes_1.max(1)[0].sigmoid().data, \n",
    "                     show_bg=True)\n",
    "\n",
    "\n",
    "            # Predicted classes per anchorbox. No background\n",
    "            torch_gt(axes.flat[3], im, \n",
    "                     anchors.cpu().data.numpy(), \n",
    "                     pred_classes_1[:,1:].max(1)[1].data + 1, \n",
    "                     pred_classes_1[:,1:].max(1)[0].sigmoid().data, \n",
    "                     thresh=0.15,\n",
    "                     show_bg=False)\n",
    "\n",
    "\n",
    "            # Predicted class and bounding box\n",
    "            a_ic = map_bb_outputs_to_pred_bbs(bb_outputs_1, anchors, grids)\n",
    "            torch_gt(axes.flat[4], im, \n",
    "                     a_ic.cpu().data.numpy(), \n",
    "                     pred_classes_1[:,1:].max(1)[1].data + 1, \n",
    "                     pred_classes_1[:,1:].max(1)[0].sigmoid().data, \n",
    "                     thresh=0.15, \n",
    "                     show_bg=False)\n",
    "\n",
    "\n",
    "            # Non Maximum Supression Outputs\n",
    "            nms_classes, nms_conf, nms_bbs = make_output(pred_classes_1, bb_outputs_1, anchors, grids)\n",
    "            nms_bbs_as_numpy = torch_corners_to_center(nms_bbs.cpu()).numpy()\n",
    "            torch_gt(axes.flat[5], im, nms_bbs_as_numpy, nms_classes.cpu().numpy(), nms_conf.cpu().numpy())"
   ]
  },
  {
   "cell_type": "code",
   "execution_count": 9,
   "metadata": {},
   "outputs": [
    {
     "name": "stdout",
     "output_type": "stream",
     "text": [
      "{'train': array([5789, 3496, 2210, ..., 3101, 6133, 4233]), 'valid': array([3663, 4760, 6677, ..., 5563,  110,  708])}\n"
     ]
    },
    {
     "data": {
      "text/plain": [
       "['bg', 'D00', 'D01', 'D10', 'D11', 'D20', 'D40', 'D43', 'D44']"
      ]
     },
     "execution_count": 9,
     "metadata": {},
     "output_type": "execute_result"
    }
   ],
   "source": [
    "imsize = 512\n",
    "batch_size = 8\n",
    "data, classes, train_tfms, val_tfms, denorm = RoadDamageDataset('../storage/road_damage_data', imsize, batch_size)\n",
    "num_classes = len(classes) - 1\n",
    "classes"
   ]
  },
  {
   "cell_type": "code",
   "execution_count": 10,
   "metadata": {},
   "outputs": [],
   "source": [
    "def var_from_np(arr, requires_grad=True):\n",
    "    return Variable(torch.from_numpy(arr), requires_grad=requires_grad)"
   ]
  },
  {
   "cell_type": "code",
   "execution_count": 11,
   "metadata": {},
   "outputs": [
    {
     "data": {
      "text/plain": [
       "3"
      ]
     },
     "execution_count": 11,
     "metadata": {},
     "output_type": "execute_result"
    }
   ],
   "source": [
    "anc_grids = [32,16,8,4]\n",
    "\n",
    "grid_sizes = [64,128,256,512]\n",
    "\n",
    "anc_zooms = [2**0]\n",
    "\n",
    "anc_ratios = [(1.,1.), (1.,0.35), (0.35,1.)]\n",
    "\n",
    "anchor_scales = [(anz*i,anz*j) for anz in anc_zooms for (i,j) in anc_ratios]\n",
    "k = len(anchor_scales)\n",
    "anc_offsets = [1/(o*2) for o in anc_grids]\n",
    "k"
   ]
  },
  {
   "cell_type": "code",
   "execution_count": 12,
   "metadata": {},
   "outputs": [],
   "source": [
    "anc_y = np.concatenate([np.repeat(np.linspace(ao, 1-ao, ag), ag)\n",
    "                        for ao,ag in zip(anc_offsets,anc_grids)])\n",
    "anc_x = np.concatenate([np.tile(np.linspace(ao, 1-ao, ag), ag)\n",
    "                        for ao,ag in zip(anc_offsets,anc_grids)])\n",
    "anc_ctrs = np.repeat(np.stack([anc_x,anc_y], axis=1), k, axis=0)"
   ]
  },
  {
   "cell_type": "code",
   "execution_count": 13,
   "metadata": {},
   "outputs": [],
   "source": [
    "anc_sizes  =   np.concatenate([np.array([[o*size/imsize,p*size/imsize] for i in range(ag*ag) for o,p in anchor_scales])\n",
    "               for size, ag in zip(grid_sizes, anc_grids)])\n",
    "np_grid_sizes = np.concatenate([np.array([ [size/imsize]       for i in range(ag*ag) for o,p in anchor_scales])\n",
    "               for size, ag in zip(grid_sizes, anc_grids)])\n",
    "np_anchors = np.concatenate([anc_ctrs, anc_sizes], axis=1)"
   ]
  },
  {
   "cell_type": "code",
   "execution_count": 14,
   "metadata": {},
   "outputs": [
    {
     "data": {
      "text/plain": [
       "4080"
      ]
     },
     "execution_count": 14,
     "metadata": {},
     "output_type": "execute_result"
    }
   ],
   "source": [
    "grids = Variable(torch.from_numpy(np.concatenate([anc_ctrs, np_grid_sizes, np_grid_sizes], axis=1))).float()\n",
    "len(grids)"
   ]
  },
  {
   "cell_type": "code",
   "execution_count": 15,
   "metadata": {},
   "outputs": [
    {
     "data": {
      "text/plain": [
       "4080"
      ]
     },
     "execution_count": 15,
     "metadata": {},
     "output_type": "execute_result"
    }
   ],
   "source": [
    "anchors = var_from_np(np_anchors, requires_grad=False).float()\n",
    "len(anchors)"
   ]
  },
  {
   "cell_type": "code",
   "execution_count": 16,
   "metadata": {
    "scrolled": false
   },
   "outputs": [
    {
     "data": {
      "image/png": "[encoded data removed]",
      "text/plain": [
       "<Figure size 576x576 with 1 Axes>"
      ]
     },
     "metadata": {},
     "output_type": "display_data"
    }
   ],
   "source": [
    "fig, ax = plt.subplots(figsize=(8, 8))\n",
    "show_ground_truth(ax, np.ones((3, 224, 224)), anchors.data.cpu().numpy()[32*32] * 224)"
   ]
  },
  {
   "cell_type": "code",
   "execution_count": null,
   "metadata": {},
   "outputs": [],
   "source": [
    "# model_ft = models.resnet50(pretrained=True)\n",
    "# model_ft"
   ]
  },
  {
   "cell_type": "code",
   "execution_count": null,
   "metadata": {},
   "outputs": [],
   "source": [
    "model = RetinaNet(classes=num_classes, anchors=k)\n",
    "# model"
   ]
  },
  {
   "cell_type": "code",
   "execution_count": null,
   "metadata": {
    "scrolled": false
   },
   "outputs": [],
   "source": [
    "rawx, rawy, *_ = next(iter(data['valid'])) \n",
    "y = {key: Variable(value) for key, value in rawy.items()}"
   ]
  },
  {
   "cell_type": "code",
   "execution_count": null,
   "metadata": {},
   "outputs": [],
   "source": [
    "criterion = SSDLoss(anchors, grids, num_classes, imsize)\n",
    "optim_fn = optim.Adam\n",
    "sess = Session(model, criterion, optim_fn, 1e-3)"
   ]
  },
  {
   "cell_type": "code",
   "execution_count": null,
   "metadata": {},
   "outputs": [],
   "source": [
    "sess.load(\"best-42-0.6069469835466179\")"
   ]
  },
  {
   "cell_type": "code",
   "execution_count": null,
   "metadata": {
    "scrolled": false
   },
   "outputs": [],
   "source": [
    "batch = sess.forward(rawx)"
   ]
  },
  {
   "cell_type": "code",
   "execution_count": null,
   "metadata": {
    "scrolled": false
   },
   "outputs": [],
   "source": [
    "# batch"
   ]
  },
  {
   "cell_type": "code",
   "execution_count": null,
   "metadata": {},
   "outputs": [],
   "source": [
    "criterion(batch, y, log=True)"
   ]
  },
  {
   "cell_type": "code",
   "execution_count": null,
   "metadata": {
    "scrolled": false
   },
   "outputs": [],
   "source": [
    "test(sess, anchors, grids, data['valid'])"
   ]
  },
  {
   "cell_type": "code",
   "execution_count": null,
   "metadata": {},
   "outputs": [],
   "source": [
    "lr_find(sess, data['train'], start_lr=1e-7)"
   ]
  },
  {
   "cell_type": "code",
   "execution_count": null,
   "metadata": {},
   "outputs": [],
   "source": [
    "sess.set_lr(1e-5)"
   ]
  },
  {
   "cell_type": "code",
   "execution_count": null,
   "metadata": {},
   "outputs": [],
   "source": [
    "lr_scheduler = Cyclical(len(data['train']) * 63, cut_div=4, div=10, momentums=(.95,.8))\n",
    "accuracy = JaccardAccuracy(anchors, grids, imsize, num_classes+1)\n",
    "validator = Validator(data['valid'], accuracy, save_best=True)\n",
    "schedule = TrainingSchedule(data['train'], [lr_scheduler, validator])"
   ]
  },
  {
   "cell_type": "code",
   "execution_count": null,
   "metadata": {},
   "outputs": [],
   "source": [
    "lr_scheduler.plot(len(data['train']) * 63)"
   ]
  },
  {
   "cell_type": "code",
   "execution_count": null,
   "metadata": {},
   "outputs": [],
   "source": [
    "validator.run(sess)"
   ]
  },
  {
   "cell_type": "code",
   "execution_count": null,
   "metadata": {
    "scrolled": false
   },
   "outputs": [],
   "source": [
    "sess.train(schedule, 63)"
   ]
  },
  {
   "cell_type": "code",
   "execution_count": null,
   "metadata": {},
   "outputs": [],
   "source": [
    "sess.save(\"Resnet18DistanceMatching2\")"
   ]
  },
  {
   "cell_type": "code",
   "execution_count": null,
   "metadata": {},
   "outputs": [],
   "source": [
    "sess.load(\"Resnet18DistanceMatching2\")"
   ]
  },
  {
   "cell_type": "code",
   "execution_count": null,
   "metadata": {
    "scrolled": false
   },
   "outputs": [],
   "source": [
    "test(sess, anchors, grids, data['valid'])"
   ]
  },
  {
   "cell_type": "code",
   "execution_count": null,
   "metadata": {},
   "outputs": [],
   "source": [
    "criterion = SSDLoss(anchors, grids, num_classes, imsize)"
   ]
  },
  {
   "cell_type": "code",
   "execution_count": null,
   "metadata": {},
   "outputs": [],
   "source": [
    "rawx, rawy, *_ = next(iter(data['valid']))\n",
    "y =  {key: Variable(value) for key, value in rawy.items()}"
   ]
  },
  {
   "cell_type": "code",
   "execution_count": null,
   "metadata": {},
   "outputs": [],
   "source": [
    "batch = sess.forward(rawx)"
   ]
  },
  {
   "cell_type": "code",
   "execution_count": null,
   "metadata": {
    "scrolled": false
   },
   "outputs": [],
   "source": [
    "criterion(batch, y, log=True)"
   ]
  },
  {
   "cell_type": "code",
   "execution_count": null,
   "metadata": {},
   "outputs": [],
   "source": [
    "sess.train(schedule, 14)"
   ]
  },
  {
   "cell_type": "code",
   "execution_count": null,
   "metadata": {},
   "outputs": [],
   "source": [
    "sess.save(\"Resnet34Multi2\")"
   ]
  },
  {
   "cell_type": "code",
   "execution_count": null,
   "metadata": {},
   "outputs": [],
   "source": [
    "sess.load(\"best-2-0.7926736199440345\")"
   ]
  },
  {
   "cell_type": "code",
   "execution_count": null,
   "metadata": {
    "scrolled": false
   },
   "outputs": [],
   "source": [
    "test(sess, anchors, grids, data['valid'])"
   ]
  },
  {
   "cell_type": "markdown",
   "metadata": {},
   "source": [
    "## Inference Test Data"
   ]
  },
  {
   "cell_type": "code",
   "execution_count": null,
   "metadata": {},
   "outputs": [],
   "source": [
    "def inference_test_data():\n",
    "    inferences = []\n",
    "\n",
    "    prints = 0\n",
    "\n",
    "    with EvalModel(sess.model):\n",
    "        for x,y,meta in data['test']:\n",
    "            pred_classes, bb_outputs = sess.forward(x)\n",
    "            for idx, file in enumerate(meta['file']):\n",
    "                nms_classes, nms_conf, nms_bbs = make_output(pred_classes[idx], bb_outputs[idx], anchors, grids)\n",
    "\n",
    "                if prints < 16 and random.random() <= .01:\n",
    "                    fig, ax = plt.subplots(figsize=(12,12))\n",
    "                    ax.set_title(file.split(\"\\\\\")[-1])\n",
    "                    im = denorm(x[idx]).numpy()\n",
    "                    nms_bbs_as_numpy = torch_corners_to_center(nms_bbs.cpu()).numpy()\n",
    "                    torch_gt(ax, im, nms_bbs_as_numpy, nms_classes.cpu().numpy(), nms_conf.cpu().numpy())\n",
    "                    prints += 1\n",
    "\n",
    "                nms_classes, nms_conf, nms_bbs = nms_classes.cpu().numpy(), nms_conf.cpu().numpy(), nms_bbs.cpu().numpy()   \n",
    "\n",
    "                preds = []\n",
    "\n",
    "                for idx, cls, bb in zip(range(5), nms_classes, nms_bbs):\n",
    "                    corners = (bb * 600).clip(0,600).astype(int)\n",
    "                    if(not (corners[0] < corners[2] and corners[1] < corners[3])): continue\n",
    "                    assert(corners[0] < corners[2] and corners[1] < corners[3])\n",
    "                    preds.append(f'{cls} {\" \".join(corners.astype(str))}')\n",
    "\n",
    "                inferences.append({'filename': file.split(\"/\")[-1], 'prediction': \" \".join(preds)})\n",
    "\n",
    "    df = pd.DataFrame(inferences, columns=['filename', 'prediction'])\n",
    "    df.to_csv(f'Submissions/submission.{time.strftime(\"%Y%m%d-%H%M%S\")}.csv', header=False, index=False)"
   ]
  },
  {
   "cell_type": "code",
   "execution_count": null,
   "metadata": {
    "scrolled": false
   },
   "outputs": [],
   "source": [
    "inference_test_data()"
   ]
  },
  {
   "cell_type": "code",
   "execution_count": null,
   "metadata": {},
   "outputs": [],
   "source": []
  },
  {
   "cell_type": "code",
   "execution_count": null,
   "metadata": {},
   "outputs": [],
   "source": []
  }
 ],
 "metadata": {
  "kernelspec": {
   "display_name": "Python 3",
   "language": "python",
   "name": "python3"
  },
  "language_info": {
   "codemirror_mode": {
    "name": "ipython",
    "version": 3
   },
   "file_extension": ".py",
   "mimetype": "text/x-python",
   "name": "python",
   "nbconvert_exporter": "python",
   "pygments_lexer": "ipython3",
   "version": "3.7.4"
  }
 },
 "nbformat": 4,
 "nbformat_minor": 2
}
