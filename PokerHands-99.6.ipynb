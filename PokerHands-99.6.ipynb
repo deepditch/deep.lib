{
 "cells": [
  {
   "cell_type": "code",
   "execution_count": 228,
   "metadata": {},
   "outputs": [],
   "source": [
    "from pathlib import Path\n",
    "import itertools\n",
    "import numpy as np\n",
    "import pandas as pd\n",
    "import torch\n",
    "from torch.utils.data import Dataset, DataLoader\n",
    "import torch.nn as nn\n",
    "import torch.optim as optim\n",
    "import torch.nn.functional as F\n",
    "import torchvision\n",
    "import torchvision.models as models\n",
    "import Datasets.ModelData as md\n",
    "from session import *\n",
    "from LR_Schedule.lr_find import lr_find\n",
    "from callbacks import *\n",
    "from validation import *\n",
    "from validation import _AccuracyMeter\n",
    "from LR_Schedule.cos_anneal import CosAnneal\n",
    "import matplotlib.pyplot as plt\n",
    "import arff"
   ]
  },
  {
   "cell_type": "code",
   "execution_count": 229,
   "metadata": {},
   "outputs": [
    {
     "name": "stdout",
     "output_type": "stream",
     "text": [
      "The autoreload extension is already loaded. To reload it, use:\n",
      "  %reload_ext autoreload\n"
     ]
    }
   ],
   "source": [
    "%load_ext autoreload\n",
    "%autoreload 2"
   ]
  },
  {
   "cell_type": "code",
   "execution_count": 230,
   "metadata": {},
   "outputs": [],
   "source": [
    "idtohand = {0: \"Nothing in hand; not a recognized poker hand\",\n",
    "            1: \"One pair; one pair of equal ranks within five cards\",\n",
    "            2: \"Two pairs; two pairs of equal ranks within five cards\",\n",
    "            3: \"Three of a kind; three equal ranks within five cards\",\n",
    "            4: \"Straight; five cards, sequentially ranked with no gaps\",\n",
    "            5: \"Flush; five cards with the same suit\",\n",
    "            6: \"Full house; pair + different rank three of a kind\",\n",
    "            7: \"Four of a kind; four equal ranks within five cards\",\n",
    "            8: \"Straight flush; straight + flush\",\n",
    "            9: \"Royal flush; {Ace, King, Queen, Jack, Ten} + flush\" }\n",
    "\n",
    "num_classes = 10\n",
    "\n",
    "idtosuit = {0: \"Hearts\", 1: \"Spades\", 2: \"Diamonds\", 3: \"Clubs\"}\n",
    "idtorank = {0: \"Ace\", \n",
    "            1: \"2\", \n",
    "            2: \"3\", \n",
    "            3: \"4\", \n",
    "            4: \"5\", \n",
    "            5: \"6\", \n",
    "            6: \"7\", \n",
    "            7: \"8\", \n",
    "            8: \"9\", \n",
    "            9: \"10\", \n",
    "            10: \"Jack\", \n",
    "            11: \"Queen\", \n",
    "            12: \"King\"}"
   ]
  },
  {
   "cell_type": "code",
   "execution_count": 231,
   "metadata": {},
   "outputs": [],
   "source": [
    "class PokerHandDataset(Dataset):\n",
    "    def __init__(self, file, tfm=None, percentage=1, balanced=False):\n",
    "        self.hands, self.labels = self.parse_csv(file, percentage)\n",
    "        self.tfm = tfm\n",
    "                  \n",
    "        if balanced:\n",
    "            counts = np.zeros(num_classes)\n",
    "\n",
    "            for label in self.labels:\n",
    "                counts[label] += 1\n",
    "\n",
    "            class_weights = (len(self.labels) / counts)**.8\n",
    "            \n",
    "            fig, ax = plt.subplots()\n",
    "            ax.bar(np.arange(len(counts)), counts)\n",
    "            \n",
    "            fig1, ax1 = plt.subplots()\n",
    "            ax1.bar(np.arange(len(counts)), class_weights)\n",
    "            \n",
    "            fig2, ax2 = plt.subplots()\n",
    "            ax2.bar(np.arange(len(counts)), [w * c for w, c in zip(class_weights, counts)])\n",
    "\n",
    "            instance_weights = np.zeros(len(self.labels))\n",
    "\n",
    "            for idx, label in enumerate(self.labels):\n",
    "                instance_weights[idx] = class_weights[label]\n",
    "\n",
    "            self.sampler = torch.utils.data.sampler.WeightedRandomSampler(instance_weights, len(instance_weights))\n",
    "        else:\n",
    "            self.sampler = None\n",
    "       \n",
    "    @staticmethod\n",
    "    def parse_csv(file, percentage=1):\n",
    "        df = pd.read_csv(file, header=None)\n",
    "        xs = df[df.columns[0:10]]\n",
    "        labels = np.array(df[df.columns[-1]])\n",
    "        \n",
    "        hands = []\n",
    "        for hand in xs.values:\n",
    "            hand = np.array(hand).reshape((5,2)) - 1\n",
    "            hand = hand[hand[:,1].argsort()]\n",
    "            hands.append(hand)\n",
    "            \n",
    "        hands = np.array(hands)\n",
    "        \n",
    "        if percentage < 1:\n",
    "            idxs = np.random.choice(len(xs), int(len(xs) * percentage), replace=False)\n",
    "            hands = hands[idxs]\n",
    "            labels = labels[idxs]\n",
    "            \n",
    "        return hands, labels\n",
    "        \n",
    "    @staticmethod\n",
    "    def make_tensor(hand):\n",
    "        hand_tensor = torch.zeros((4,13)) - 1\n",
    "        for card in hand:       \n",
    "            hand_tensor[card[0], card[1]] = 1\n",
    "        return hand_tensor.unsqueeze(0)\n",
    "    \n",
    "    @staticmethod\n",
    "    def make_one_hot(label):\n",
    "        tensor = torch.zeros(10)\n",
    "        tensor[label] = 1\n",
    "        return tensor\n",
    "    \n",
    "    def save_arff(self, file_name):\n",
    "        data = np.concatenate((self.hands.reshape((-1, 10)), self.labels.reshape(-1, 1)), 1)\n",
    "        \n",
    "        cols = [\"SuitCard1\", \"RankCard1\", \n",
    "                \"SuitCard2\", \"RankCard2\", \n",
    "                \"SuitCard3\", \"RankCard3\", \n",
    "                \"SuitCard4\", \"RankCard4\",\n",
    "                \"SuitCard5\", \"RankCard5\",\n",
    "                \"Hand\"]\n",
    "\n",
    "        df = pd.DataFrame(data, columns=cols)\n",
    "\n",
    "        arff.dump(file_name, df.values, names=df.columns)\n",
    "        \n",
    "    \n",
    "    def __len__(self): return len(self.hands)\n",
    "\n",
    "    def __getitem__(self, i):\n",
    "        hand, label = self.hands[i], self.labels[i]\n",
    "        x, y = self.make_tensor(hand), label\n",
    "        \n",
    "        if self.tfm is not None:\n",
    "            x = self.tfm.transform_x(x)\n",
    "            \n",
    "        return x, y"
   ]
  },
  {
   "cell_type": "code",
   "execution_count": 232,
   "metadata": {},
   "outputs": [],
   "source": [
    "class SuitShiftTransform():\n",
    "    def transform_x(self, hand):\n",
    "        return hand[:,torch.randperm(4)]"
   ]
  },
  {
   "cell_type": "code",
   "execution_count": 233,
   "metadata": {},
   "outputs": [
    {
     "data": {
      "image/png": "[encoded data removed]",
      "text/plain": [
       "<Figure size 432x288 with 1 Axes>"
      ]
     },
     "metadata": {
      "needs_background": "light"
     },
     "output_type": "display_data"
    },
    {
     "data": {
      "image/png": "[encoded data removed]",
      "text/plain": [
       "<Figure size 432x288 with 1 Axes>"
      ]
     },
     "metadata": {
      "needs_background": "light"
     },
     "output_type": "display_data"
    },
    {
     "data": {
      "image/png": "[encoded data removed]",
      "text/plain": [
       "<Figure size 432x288 with 1 Axes>"
      ]
     },
     "metadata": {
      "needs_background": "light"
     },
     "output_type": "display_data"
    }
   ],
   "source": [
    "data_path = Path(\"./Datasets/PokerHands\")\n",
    "train_dataset = PokerHandDataset(data_path/'training.csv', tfm=SuitShiftTransform(), balanced=True)\n",
    "val_dataset = PokerHandDataset(data_path/'testing.csv', percentage=.05)\n",
    "test_dataset = PokerHandDataset(data_path/'testing.csv')"
   ]
  },
  {
   "cell_type": "code",
   "execution_count": 234,
   "metadata": {},
   "outputs": [],
   "source": [
    "# train_dataset.save_arff('./Datasets/PokerHands/training_sorted.arff')\n",
    "# test_dataset.save_arff('./Datasets/PokerHands/testing_sorted.arff')"
   ]
  },
  {
   "cell_type": "code",
   "execution_count": 235,
   "metadata": {},
   "outputs": [],
   "source": [
    "data = md.ModelData({'train': train_dataset}, 32)\n",
    "val_data = md.ModelData({'val': val_dataset, 'test': test_dataset}, 256)"
   ]
  },
  {
   "cell_type": "code",
   "execution_count": 236,
   "metadata": {},
   "outputs": [],
   "source": [
    "class Network(nn.Module):\n",
    "    def __init__(self):\n",
    "        super().__init__();\n",
    "        self.conv1 = nn.Conv2d(1, 32, (4,1))       \n",
    "        self.conv2 = nn.Conv2d(1, 32, (1,13))\n",
    "        self.relu = nn.ReLU(inplace=True)\n",
    "        self.drop = nn.Dropout(p=.1)\n",
    "        self.fc = nn.Linear(32*4 + 32*13, 64)\n",
    "        self.relu2 = nn.ReLU(inplace=True)\n",
    "        self.drop2 = nn.Dropout(p=.1)\n",
    "        self.fc2 = nn.Linear(64, num_classes)      \n",
    "        \n",
    "    def forward(self, x, log=False):\n",
    "        x_1 = self.conv1(x)\n",
    "        x_2 = self.conv2(x)\n",
    "        x = torch.cat([x_1.view(x_1.size(0), -1), x_2.view(x_2.size(0), -1)], dim=1)\n",
    "        x = self.drop(x)\n",
    "        x = self.relu(x)\n",
    "        if log: print(x[0])\n",
    "        x = self.fc(x)\n",
    "        # x = self.drop2(x)\n",
    "        x = self.relu2(x)\n",
    "        if log: print(x[0])\n",
    "        x = self.fc2(x)\n",
    "        if log: print(x[0])\n",
    "        return x"
   ]
  },
  {
   "cell_type": "code",
   "execution_count": 237,
   "metadata": {},
   "outputs": [],
   "source": [
    "model = Network()"
   ]
  },
  {
   "cell_type": "code",
   "execution_count": 238,
   "metadata": {},
   "outputs": [],
   "source": [
    "class FocalLoss(nn.Module):\n",
    "    def __init__(self, num_classes):\n",
    "        super().__init__()\n",
    "        self.num_classes = num_classes\n",
    "\n",
    "    def forward(self, pred, label):\n",
    "        weight = self.get_weight(pred, label)\n",
    "        return F.binary_cross_entropy_with_logits(pred, label, weight)\n",
    "    \n",
    "    def get_weight(self, x, t):\n",
    "        alpha, gamma = 0.25, 2\n",
    "        p = x\n",
    "        pt = p * t + (1-p) * (1-t)\n",
    "        w = alpha * t + (1-alpha) * (1-t)\n",
    "        return w * (1-pt).pow(gamma)"
   ]
  },
  {
   "cell_type": "code",
   "execution_count": 239,
   "metadata": {},
   "outputs": [],
   "source": [
    "class PokerHandAccuracy(_AccuracyMeter):\n",
    "    def __init__(self):\n",
    "        self.reset()\n",
    "        self.confusion = [[0 for y in range(num_classes)] for x in range(num_classes)]\n",
    "\n",
    "    def reset(self):\n",
    "        self.num_correct = 0\n",
    "        self.count = 0\n",
    "        self.confusion = [[0 for y in range(num_classes)] for x in range(num_classes)]\n",
    "        \n",
    "    def accuracy(self): \n",
    "        return self.num_correct / self.count\n",
    "\n",
    "    def update(self, actn, label, log=False):   \n",
    "        actn = F.log_softmax(actn, dim=1)\n",
    "        # if log: print(\"Actn : \", outputs)\n",
    "        vals, preds = torch.max(actn, 1)\n",
    "        # preds = preds + 1\n",
    "        if log: print(\"Max  :\", preds)\n",
    "        # bgs = vals < .7\n",
    "        # if log: print(\"BGS  : \", bgs)\n",
    "        # preds[bgs] = 0\n",
    "        if log: print(\"Preds: \", preds)    \n",
    "        if log: print(\"GT   : \", label)\n",
    "        self.num_correct += torch.sum(preds == label).item()\n",
    "        if log: print(\"Num Correct: \", self.num_correct)\n",
    "        self.count += label.shape[0]\n",
    "        \n",
    "        for lab, pred in zip(label, preds):\n",
    "            self.confusion[lab][pred] += 1\n",
    "            \n",
    "    def plot_confusion_matrix(self,\n",
    "                          title='Confusion matrix',\n",
    "                          cmap=plt.cm.Blues):\n",
    "        cm = np.array(self.confusion)\n",
    "        fig, ax = plt.subplots(figsize=(12,12))\n",
    "        img = ax.imshow(cm, interpolation='nearest', cmap=cmap)\n",
    "        plt.colorbar(img, ax=ax)\n",
    "        ax.set_title(title)\n",
    "        tick_marks = np.arange(num_classes)\n",
    "        plt.xticks(tick_marks, rotation=45)\n",
    "        plt.yticks(tick_marks)\n",
    "\n",
    "        fmt = 'd'\n",
    "        thresh = cm.max() / 2.\n",
    "        for i, j in itertools.product(range(cm.shape[0]), range(cm.shape[1])):\n",
    "            ax.text(j, i, format(cm[i, j], fmt),\n",
    "                     horizontalalignment=\"center\",\n",
    "                     color=\"white\" if cm[i, j] > thresh else \"black\")\n",
    "\n",
    "        ax.set_ylabel('True label')\n",
    "        ax.set_xlabel('Predicted label')"
   ]
  },
  {
   "cell_type": "code",
   "execution_count": 240,
   "metadata": {},
   "outputs": [],
   "source": [
    "criterion = nn.CrossEntropyLoss()\n",
    "optim_fn = optim.Adam\n",
    "sess = Session(model, criterion, optim_fn, 1e-2)"
   ]
  },
  {
   "cell_type": "code",
   "execution_count": 241,
   "metadata": {},
   "outputs": [
    {
     "data": {
      "text/plain": [
       "tensor([[[-1., -1., -1., -1., -1.,  1., -1.,  1., -1., -1., -1., -1., -1.],\n",
       "         [-1., -1., -1., -1., -1., -1., -1., -1., -1., -1., -1., -1., -1.],\n",
       "         [-1., -1., -1., -1., -1., -1., -1., -1., -1., -1., -1., -1., -1.],\n",
       "         [-1., -1., -1., -1., -1.,  1., -1., -1.,  1., -1.,  1., -1., -1.]]])"
      ]
     },
     "execution_count": 241,
     "metadata": {},
     "output_type": "execute_result"
    }
   ],
   "source": [
    "x, y = next(iter(data['train']))\n",
    "x[0]"
   ]
  },
  {
   "cell_type": "code",
   "execution_count": 242,
   "metadata": {
    "scrolled": false
   },
   "outputs": [
    {
     "name": "stdout",
     "output_type": "stream",
     "text": [
      "tensor([0.0000, 0.0000, 0.0000, 0.0000, 0.0000, 0.1022, 0.0000, 0.2556, 0.0000,\n",
      "        0.0000, 0.0000, 0.0000, 0.0000, 0.6296, 0.6296, 0.6296, 0.6296, 0.0000,\n",
      "        0.0000, 0.6296, 0.4242, 0.9024, 0.6296, 0.9024, 0.6296, 0.6296, 0.7413,\n",
      "        0.7413, 0.7413, 0.7413, 0.7413, 0.0000, 0.7413, 0.1862, 0.4045, 0.7413,\n",
      "        0.4045, 0.7413, 0.7413, 0.0000, 1.3583, 1.3583, 1.3583, 1.3583, 0.0000,\n",
      "        0.0000, 0.5051, 0.6572, 0.0000, 0.6572, 1.3583, 1.3583, 0.0000, 0.0000,\n",
      "        0.0000, 0.0000, 0.0000, 0.0000, 0.0000, 0.0000, 0.0689, 0.0000, 0.0000,\n",
      "        0.0000, 0.0000, 0.0000, 0.0000, 0.0000, 0.0000, 0.0000, 0.1954, 0.0000,\n",
      "        0.0000, 0.0000, 0.0000, 0.0000, 0.0000, 0.0000, 0.4057, 0.4057, 0.4057,\n",
      "        0.4057, 0.0000, 0.0000, 0.4057, 0.6842, 0.0000, 0.0000, 0.0000, 0.4057,\n",
      "        0.4057, 0.0000, 0.0000, 0.0000, 0.0000, 0.0000, 0.0000, 0.0000, 0.3884,\n",
      "        0.0000, 0.0000, 0.0000, 0.0000, 0.0000, 0.5509, 0.5509, 0.5509, 0.5509,\n",
      "        0.5509, 0.0000, 0.0000, 0.0994, 0.6430, 0.5509, 0.6430, 0.5509, 0.5509,\n",
      "        0.6834, 0.6834, 0.6834, 0.0000, 0.6834, 0.6735, 0.6834, 0.0000, 0.0000,\n",
      "        0.6834, 0.0000, 0.6834, 0.6834, 0.0000, 0.0000, 0.0000, 0.0000, 0.0000,\n",
      "        0.9346, 0.0000, 0.6152, 0.0000, 0.0000, 0.0000, 0.0000, 0.0000, 0.4387,\n",
      "        0.4387, 0.4387, 0.0000, 0.4387, 0.0000, 0.0000, 0.7578, 0.0701, 0.4387,\n",
      "        0.0000, 0.4387, 0.4387, 1.1911, 0.0000, 1.1911, 1.1911, 0.0000, 0.0000,\n",
      "        1.1911, 0.6683, 0.2765, 1.1911, 0.2765, 1.1911, 0.0000, 0.0000, 0.0000,\n",
      "        0.0000, 0.0000, 0.0000, 0.0000, 0.0000, 0.0215, 0.0000, 0.0000, 0.0000,\n",
      "        0.0000, 0.0000, 1.3118, 1.3118, 1.3118, 1.3118, 1.3118, 0.1332, 1.3118,\n",
      "        0.2327, 1.2123, 1.3118, 1.2123, 1.3118, 1.3118, 0.8155, 0.8155, 0.8155,\n",
      "        0.8155, 0.8155, 0.0000, 0.8155, 0.0000, 0.0000, 0.8155, 0.2635, 0.8155,\n",
      "        0.8155, 0.0000, 0.0000, 0.0000, 0.0000, 0.0000, 0.0000, 0.0000, 0.0000,\n",
      "        0.0000, 0.0000, 0.0000, 0.0000, 0.0000, 0.0000, 0.0000, 1.0248, 1.0248,\n",
      "        1.0248, 0.3654, 1.0248, 1.0148, 0.3754, 1.0248, 0.3754, 1.0248, 1.0248,\n",
      "        0.0000, 0.0000, 0.0000, 0.0000, 0.0000, 0.0000, 0.0000, 0.0000, 0.0000,\n",
      "        0.0000, 0.0000, 0.0000, 0.0000, 0.0920, 0.0920, 0.0920, 0.0920, 0.0920,\n",
      "        0.0000, 0.0920, 0.0000, 0.0974, 0.0000, 0.0000, 0.0920, 0.0920, 0.0000,\n",
      "        0.0000, 0.0000, 0.0000, 0.0000, 0.0000, 0.0000, 0.0000, 0.0000, 0.0000,\n",
      "        0.0000, 0.0000, 0.0000, 0.0000, 0.0000, 0.0000, 0.3224, 0.3224, 0.0000,\n",
      "        0.0000, 0.0000, 0.5729, 0.3224, 0.5729, 0.3224, 0.3224, 0.8044, 0.8044,\n",
      "        0.8044, 0.8044, 0.8044, 0.7893, 0.8044, 0.0573, 1.5363, 0.8044, 1.5363,\n",
      "        0.8044, 0.8044, 0.6855, 0.6855, 0.6855, 0.6855, 0.6855, 0.1288, 0.6855,\n",
      "        1.2371, 0.0000, 0.0000, 0.0000, 0.6855, 0.6855, 0.0000, 0.0000, 0.0000,\n",
      "        0.0000, 0.0000, 0.2073, 0.0000, 0.9110, 0.0000, 0.0000, 0.0000, 0.0000,\n",
      "        0.0000, 0.5133, 0.5133, 0.0000, 0.5133, 0.5133, 0.0000, 0.5133, 0.2877,\n",
      "        0.2194, 0.5133, 0.2194, 0.5133, 0.5133, 0.0000, 0.0000, 0.0000, 0.0000,\n",
      "        0.0000, 0.0000, 0.0000, 0.0000, 0.0000, 0.0000, 0.0000, 0.0000, 0.0000,\n",
      "        0.0000, 0.3779, 0.3779, 0.3779, 0.3779, 0.0000, 0.0000, 0.0000, 0.1530,\n",
      "        0.3779, 0.1530, 0.0000, 0.3779, 0.7736, 0.7736, 0.7736, 0.7736, 0.0000,\n",
      "        0.4634, 0.7736, 1.1432, 0.0938, 0.7736, 0.0938, 0.7736, 0.7736, 0.0000,\n",
      "        0.0000, 0.0000, 0.0000, 0.0000, 1.1807, 0.0000, 0.5544, 0.2790, 0.0000,\n",
      "        0.2790, 0.0000, 0.0000, 0.6103, 0.0000, 0.6103, 0.6103, 0.0000, 0.0000,\n",
      "        0.6103, 1.2103, 0.0000, 0.0000, 0.0000, 0.6103, 0.6103, 0.0000, 0.0000,\n",
      "        0.0000, 0.0000, 0.0000, 0.2158, 0.0000, 0.1410, 0.0000, 0.0000, 0.0000,\n",
      "        0.0000, 0.0000, 0.0000, 0.0000, 0.0000, 0.0000, 0.3504, 0.0000, 0.0000,\n",
      "        0.7593, 0.0000, 0.0000, 0.0000, 0.0000, 0.0000, 0.0000, 0.0000, 0.0000,\n",
      "        0.0000, 0.0000, 0.0000, 0.0000, 0.4830, 0.0000, 0.0000, 0.3787, 0.0000,\n",
      "        0.0000, 0.0000, 0.2940, 0.1206, 0.1500, 0.1500, 0.4877, 0.1157, 0.2155,\n",
      "        0.0000, 0.1184, 0.0000, 0.0000, 0.0000, 0.0000, 0.3071, 0.1497, 0.0000,\n",
      "        0.7389, 0.0000, 0.0000, 0.0000, 0.0000, 0.0000, 1.4763, 1.4763, 0.4874,\n",
      "        0.0000, 0.0000, 0.0000, 0.0000, 0.0000, 0.5625, 0.5625, 0.0000, 0.0535,\n",
      "        0.6779, 0.6779, 0.0000, 0.0000, 0.0000, 0.0000, 0.0000, 0.0000, 0.0000,\n",
      "        0.0000, 0.0000, 0.0000, 0.6613, 0.6613, 0.2595, 0.0000, 0.0096, 0.0096,\n",
      "        0.5470, 0.0000, 0.0000, 0.3904, 0.0183, 0.0000, 0.6599, 0.6599, 0.0000,\n",
      "        0.3441, 0.1940, 0.1940, 0.8079, 0.1099, 0.0000, 0.0000, 0.4780, 0.9834,\n",
      "        1.5920, 1.5920, 0.5302, 0.5816, 0.6537, 0.6537, 0.0000, 0.3214, 0.0000,\n",
      "        0.8054, 1.4996, 0.4275, 0.6776, 0.6776, 0.6149, 0.0000, 0.0188, 0.0188,\n",
      "        0.0000, 0.3434, 0.5380, 0.5380, 0.9341, 0.7043, 0.6982, 0.6982, 0.0000,\n",
      "        0.0000, 0.0789, 0.0789, 0.0000], grad_fn=<SelectBackward>)\n",
      "tensor([0.0000, 0.0000, 0.3029, 0.2224, 0.0679, 0.0000, 0.0000, 0.0000, 0.5752,\n",
      "        0.0000, 0.0000, 0.0000, 0.0000, 0.2963, 0.5151, 0.0000, 0.1380, 0.1328,\n",
      "        0.0000, 0.0000, 0.0000, 0.0000, 0.0000, 0.0000, 0.0000, 0.2668, 0.1366,\n",
      "        0.4284, 0.0000, 0.0000, 0.0000, 0.2297, 0.0000, 0.0000, 0.0000, 0.0000,\n",
      "        0.1924, 0.2363, 0.0752, 0.0000, 0.0835, 0.2193, 0.0000, 0.0000, 0.1853,\n",
      "        0.0000, 0.0000, 0.0000, 0.0000, 0.0000, 0.1135, 0.0691, 0.0000, 0.2889,\n",
      "        0.6352, 0.0000, 0.0000, 0.0984, 0.1719, 0.0000, 0.1212, 0.0000, 0.0000,\n",
      "        0.1338], grad_fn=<SelectBackward>)\n",
      "tensor([-0.1601, -0.0841,  0.0486,  0.0266,  0.0600, -0.0186, -0.0856, -0.0276,\n",
      "        -0.1704, -0.1147], grad_fn=<SelectBackward>)\n"
     ]
    },
    {
     "data": {
      "text/plain": [
       "tensor([[-0.1601, -0.0841,  0.0486,  0.0266,  0.0600, -0.0186, -0.0856, -0.0276,\n",
       "         -0.1704, -0.1147],\n",
       "        [-0.3176, -0.2153, -0.0016,  0.0019, -0.2813,  0.0019, -0.0153, -0.0795,\n",
       "         -0.1133, -0.0051],\n",
       "        [-0.3613, -0.1517, -0.0422,  0.0061, -0.0218, -0.0042, -0.0446,  0.1267,\n",
       "         -0.2019, -0.0712],\n",
       "        [-0.3375, -0.1494, -0.1445,  0.0526, -0.0137, -0.0100, -0.0227,  0.0378,\n",
       "         -0.0860, -0.1265],\n",
       "        [-0.1971, -0.1203, -0.0353,  0.0833, -0.1533, -0.0412, -0.0051,  0.0082,\n",
       "         -0.2014, -0.0580],\n",
       "        [-0.3468, -0.1711,  0.0197, -0.0485, -0.0455,  0.0049, -0.0542,  0.0980,\n",
       "         -0.1203, -0.0147],\n",
       "        [-0.3725, -0.2258,  0.0285,  0.1435, -0.2310,  0.0192,  0.0933,  0.0525,\n",
       "         -0.1616, -0.0561],\n",
       "        [-0.3345, -0.1156,  0.0558,  0.0751, -0.0911, -0.0618, -0.0357,  0.0098,\n",
       "         -0.2040, -0.1668],\n",
       "        [-0.3845, -0.2200,  0.0296,  0.0810, -0.0668, -0.0754, -0.0456,  0.0313,\n",
       "         -0.3076, -0.0541],\n",
       "        [-0.3213, -0.2549,  0.0701,  0.0564, -0.2013, -0.0731,  0.0293, -0.0510,\n",
       "         -0.1908, -0.1105],\n",
       "        [-0.2907, -0.1350, -0.0219,  0.0061, -0.0706,  0.0220, -0.0748, -0.0006,\n",
       "         -0.2118, -0.1974],\n",
       "        [-0.3411, -0.0967,  0.0002,  0.0844,  0.0116, -0.0473, -0.0846, -0.0061,\n",
       "         -0.1116, -0.0885],\n",
       "        [-0.3417, -0.1894,  0.0144,  0.0868, -0.0541, -0.1290,  0.0029, -0.0531,\n",
       "         -0.1913, -0.1082],\n",
       "        [-0.2265, -0.1562, -0.0194, -0.0479, -0.1145,  0.0260, -0.0938, -0.0180,\n",
       "         -0.2758, -0.2139],\n",
       "        [-0.3843, -0.1711, -0.1375,  0.1228, -0.1327,  0.0252, -0.0095, -0.0039,\n",
       "         -0.3105, -0.0733],\n",
       "        [-0.2748, -0.1674, -0.0894,  0.0644, -0.1563,  0.0093, -0.0819, -0.0213,\n",
       "         -0.2038, -0.1267],\n",
       "        [-0.2349, -0.1963, -0.0162, -0.0202, -0.1007,  0.0087,  0.0677, -0.0301,\n",
       "         -0.2836, -0.2049],\n",
       "        [-0.2535, -0.1994, -0.0522, -0.0073, -0.0311, -0.0461, -0.1306,  0.0374,\n",
       "         -0.2229,  0.0162],\n",
       "        [-0.3267, -0.0645, -0.0957,  0.0432, -0.0550,  0.0066, -0.0772,  0.0667,\n",
       "         -0.2600, -0.0361],\n",
       "        [-0.3695, -0.1578, -0.0079,  0.0324, -0.0253,  0.1301,  0.0434,  0.0985,\n",
       "         -0.2305, -0.0122],\n",
       "        [-0.3221, -0.0779, -0.0460,  0.1558, -0.1488, -0.0067, -0.1284,  0.0170,\n",
       "         -0.1695, -0.1473],\n",
       "        [-0.2075, -0.1339, -0.1168,  0.1060, -0.0813, -0.0579, -0.0983, -0.0603,\n",
       "         -0.0497, -0.0502],\n",
       "        [-0.2846, -0.1813,  0.0527,  0.0151, -0.0289,  0.0685,  0.1097,  0.0003,\n",
       "         -0.2022, -0.0918],\n",
       "        [-0.2736, -0.0530,  0.0176,  0.1840, -0.0157, -0.0463, -0.1067, -0.0030,\n",
       "         -0.1714, -0.0498],\n",
       "        [-0.2792, -0.1266, -0.0093,  0.1043, -0.1129, -0.0624, -0.0564, -0.0616,\n",
       "         -0.2040, -0.0842],\n",
       "        [-0.2774, -0.0976, -0.0472,  0.1136, -0.0240,  0.0254, -0.1473,  0.0389,\n",
       "         -0.1600, -0.0732],\n",
       "        [-0.4199, -0.1192, -0.0210,  0.0419, -0.0392,  0.0614,  0.0055,  0.0390,\n",
       "         -0.2486, -0.1609],\n",
       "        [-0.2905, -0.1515,  0.0024,  0.1884, -0.1324, -0.0253, -0.0424, -0.1209,\n",
       "         -0.0433, -0.1019],\n",
       "        [-0.4171, -0.1465,  0.0057,  0.0584, -0.1057, -0.0466, -0.0023,  0.0053,\n",
       "         -0.1430, -0.0405],\n",
       "        [-0.3421, -0.2610,  0.0339,  0.1303, -0.1354, -0.1566, -0.0522, -0.1168,\n",
       "         -0.3284, -0.1815],\n",
       "        [-0.3741, -0.0880, -0.0443,  0.0527, -0.1650, -0.0065, -0.1025,  0.0568,\n",
       "         -0.2421, -0.0903],\n",
       "        [-0.2974, -0.0885,  0.0820, -0.0485, -0.1683,  0.1095, -0.0229,  0.0011,\n",
       "         -0.3169, -0.1272]], grad_fn=<ThAddmmBackward>)"
      ]
     },
     "execution_count": 242,
     "metadata": {},
     "output_type": "execute_result"
    }
   ],
   "source": [
    "actn = Network.forward(model, x, log=True)\n",
    "actn"
   ]
  },
  {
   "cell_type": "code",
   "execution_count": 243,
   "metadata": {
    "scrolled": false
   },
   "outputs": [
    {
     "name": "stdout",
     "output_type": "stream",
     "text": [
      "Max  : tensor([4, 3, 7, 3, 3, 7, 3, 3, 3, 2, 5, 3, 3, 5, 3, 3, 6, 7, 7, 5, 3, 3, 6, 3,\n",
      "        3, 3, 5, 3, 3, 3, 7, 5])\n",
      "Preds:  tensor([4, 3, 7, 3, 3, 7, 3, 3, 3, 2, 5, 3, 3, 5, 3, 3, 6, 7, 7, 5, 3, 3, 6, 3,\n",
      "        3, 3, 5, 3, 3, 3, 7, 5])\n",
      "GT   :  tensor([1, 0, 0, 2, 0, 2, 0, 2, 8, 0, 2, 0, 0, 6, 1, 5, 9, 1, 1, 5, 8, 7, 9, 7,\n",
      "        2, 7, 0, 4, 0, 9, 4, 8])\n",
      "Num Correct:  1\n"
     ]
    }
   ],
   "source": [
    "accuracy = PokerHandAccuracy()\n",
    "accuracy.update(actn, y, log=True)"
   ]
  },
  {
   "cell_type": "code",
   "execution_count": 244,
   "metadata": {
    "scrolled": false
   },
   "outputs": [
    {
     "data": {
      "image/png": "[encoded data removed]",
      "text/plain": [
       "<Figure size 864x864 with 2 Axes>"
      ]
     },
     "metadata": {
      "needs_background": "light"
     },
     "output_type": "display_data"
    }
   ],
   "source": [
    "accuracy.plot_confusion_matrix()"
   ]
  },
  {
   "cell_type": "code",
   "execution_count": 245,
   "metadata": {
    "scrolled": false
   },
   "outputs": [
    {
     "data": {
      "application/vnd.jupyter.widget-view+json": {
       "model_id": "3cfe9738ddfc4cd79d4344eae03a45c6",
       "version_major": 2,
       "version_minor": 0
      },
      "text/plain": [
       "HBox(children=(IntProgress(value=0, description='Epochs', max=1, style=ProgressStyle(description_width='initia…"
      ]
     },
     "metadata": {},
     "output_type": "display_data"
    },
    {
     "data": {
      "application/vnd.jupyter.widget-view+json": {
       "model_id": "d99b2f3586964c148786862047698c54",
       "version_major": 2,
       "version_minor": 0
      },
      "text/plain": [
       "HBox(children=(IntProgress(value=0, description='Steps', max=782, style=ProgressStyle(description_width='initi…"
      ]
     },
     "metadata": {},
     "output_type": "display_data"
    },
    {
     "data": {
      "image/png": "[encoded data removed]",
      "text/plain": [
       "<Figure size 432x288 with 2 Axes>"
      ]
     },
     "metadata": {
      "needs_background": "light"
     },
     "output_type": "display_data"
    }
   ],
   "source": [
    "lr_find(sess, data['train'], start_lr=1e-7)"
   ]
  },
  {
   "cell_type": "code",
   "execution_count": 246,
   "metadata": {},
   "outputs": [],
   "source": [
    "sess.set_lr(1e-2)"
   ]
  },
  {
   "cell_type": "code",
   "execution_count": 247,
   "metadata": {},
   "outputs": [],
   "source": [
    "accuracy = PokerHandAccuracy()\n",
    "validator = Validator(val_data['val'], accuracy)\n",
    "lr_schedule = CosAnneal(len(data['train']), lr_min=1e-5, T_mult=2)\n",
    "schedule = TrainingSchedule(data['train'], [lr_schedule, validator])"
   ]
  },
  {
   "cell_type": "code",
   "execution_count": 248,
   "metadata": {
    "scrolled": false
   },
   "outputs": [
    {
     "data": {
      "application/vnd.jupyter.widget-view+json": {
       "model_id": "ac271a28bcea4264900fa80c86ee3fb5",
       "version_major": 2,
       "version_minor": 0
      },
      "text/plain": [
       "HBox(children=(IntProgress(value=0, description='Epochs', max=31, style=ProgressStyle(description_width='initi…"
      ]
     },
     "metadata": {},
     "output_type": "display_data"
    },
    {
     "data": {
      "application/vnd.jupyter.widget-view+json": {
       "model_id": "",
       "version_major": 2,
       "version_minor": 0
      },
      "text/plain": [
       "HBox(children=(IntProgress(value=0, description='Steps', max=782, style=ProgressStyle(description_width='initi…"
      ]
     },
     "metadata": {},
     "output_type": "display_data"
    },
    {
     "data": {
      "application/vnd.jupyter.widget-view+json": {
       "model_id": "",
       "version_major": 2,
       "version_minor": 0
      },
      "text/plain": [
       "HBox(children=(IntProgress(value=0, description='Validating', max=196, style=ProgressStyle(description_width='…"
      ]
     },
     "metadata": {},
     "output_type": "display_data"
    },
    {
     "name": "stdout",
     "output_type": "stream",
     "text": [
      "Training Loss: 0.220870  Validaton Loss: 0.116019 Validation Accuracy: 0.978460\n"
     ]
    },
    {
     "data": {
      "application/vnd.jupyter.widget-view+json": {
       "model_id": "",
       "version_major": 2,
       "version_minor": 0
      },
      "text/plain": [
       "HBox(children=(IntProgress(value=0, description='Steps', max=782, style=ProgressStyle(description_width='initi…"
      ]
     },
     "metadata": {},
     "output_type": "display_data"
    },
    {
     "data": {
      "application/vnd.jupyter.widget-view+json": {
       "model_id": "",
       "version_major": 2,
       "version_minor": 0
      },
      "text/plain": [
       "HBox(children=(IntProgress(value=0, description='Validating', max=196, style=ProgressStyle(description_width='…"
      ]
     },
     "metadata": {},
     "output_type": "display_data"
    },
    {
     "name": "stdout",
     "output_type": "stream",
     "text": [
      "Training Loss: 0.084020  Validaton Loss: 0.026777 Validation Accuracy: 0.992760\n"
     ]
    },
    {
     "data": {
      "application/vnd.jupyter.widget-view+json": {
       "model_id": "",
       "version_major": 2,
       "version_minor": 0
      },
      "text/plain": [
       "HBox(children=(IntProgress(value=0, description='Steps', max=782, style=ProgressStyle(description_width='initi…"
      ]
     },
     "metadata": {},
     "output_type": "display_data"
    },
    {
     "data": {
      "application/vnd.jupyter.widget-view+json": {
       "model_id": "",
       "version_major": 2,
       "version_minor": 0
      },
      "text/plain": [
       "HBox(children=(IntProgress(value=0, description='Validating', max=196, style=ProgressStyle(description_width='…"
      ]
     },
     "metadata": {},
     "output_type": "display_data"
    },
    {
     "name": "stdout",
     "output_type": "stream",
     "text": [
      "Training Loss: 0.044699  Validaton Loss: 0.023687 Validation Accuracy: 0.993000\n"
     ]
    },
    {
     "data": {
      "application/vnd.jupyter.widget-view+json": {
       "model_id": "",
       "version_major": 2,
       "version_minor": 0
      },
      "text/plain": [
       "HBox(children=(IntProgress(value=0, description='Steps', max=782, style=ProgressStyle(description_width='initi…"
      ]
     },
     "metadata": {},
     "output_type": "display_data"
    },
    {
     "data": {
      "application/vnd.jupyter.widget-view+json": {
       "model_id": "",
       "version_major": 2,
       "version_minor": 0
      },
      "text/plain": [
       "HBox(children=(IntProgress(value=0, description='Validating', max=196, style=ProgressStyle(description_width='…"
      ]
     },
     "metadata": {},
     "output_type": "display_data"
    },
    {
     "name": "stdout",
     "output_type": "stream",
     "text": [
      "Training Loss: 0.048102  Validaton Loss: 0.032780 Validation Accuracy: 0.989220\n"
     ]
    },
    {
     "data": {
      "application/vnd.jupyter.widget-view+json": {
       "model_id": "",
       "version_major": 2,
       "version_minor": 0
      },
      "text/plain": [
       "HBox(children=(IntProgress(value=0, description='Steps', max=782, style=ProgressStyle(description_width='initi…"
      ]
     },
     "metadata": {},
     "output_type": "display_data"
    },
    {
     "data": {
      "application/vnd.jupyter.widget-view+json": {
       "model_id": "",
       "version_major": 2,
       "version_minor": 0
      },
      "text/plain": [
       "HBox(children=(IntProgress(value=0, description='Validating', max=196, style=ProgressStyle(description_width='…"
      ]
     },
     "metadata": {},
     "output_type": "display_data"
    },
    {
     "name": "stdout",
     "output_type": "stream",
     "text": [
      "Training Loss: 0.035561  Validaton Loss: 0.014531 Validation Accuracy: 0.995780\n"
     ]
    },
    {
     "data": {
      "application/vnd.jupyter.widget-view+json": {
       "model_id": "",
       "version_major": 2,
       "version_minor": 0
      },
      "text/plain": [
       "HBox(children=(IntProgress(value=0, description='Steps', max=782, style=ProgressStyle(description_width='initi…"
      ]
     },
     "metadata": {},
     "output_type": "display_data"
    },
    {
     "data": {
      "application/vnd.jupyter.widget-view+json": {
       "model_id": "",
       "version_major": 2,
       "version_minor": 0
      },
      "text/plain": [
       "HBox(children=(IntProgress(value=0, description='Validating', max=196, style=ProgressStyle(description_width='…"
      ]
     },
     "metadata": {},
     "output_type": "display_data"
    },
    {
     "name": "stdout",
     "output_type": "stream",
     "text": [
      "Training Loss: 0.017456  Validaton Loss: 0.015125 Validation Accuracy: 0.995060\n"
     ]
    },
    {
     "data": {
      "application/vnd.jupyter.widget-view+json": {
       "model_id": "",
       "version_major": 2,
       "version_minor": 0
      },
      "text/plain": [
       "HBox(children=(IntProgress(value=0, description='Steps', max=782, style=ProgressStyle(description_width='initi…"
      ]
     },
     "metadata": {},
     "output_type": "display_data"
    },
    {
     "data": {
      "application/vnd.jupyter.widget-view+json": {
       "model_id": "",
       "version_major": 2,
       "version_minor": 0
      },
      "text/plain": [
       "HBox(children=(IntProgress(value=0, description='Validating', max=196, style=ProgressStyle(description_width='…"
      ]
     },
     "metadata": {},
     "output_type": "display_data"
    },
    {
     "name": "stdout",
     "output_type": "stream",
     "text": [
      "Training Loss: 0.017464  Validaton Loss: 0.011644 Validation Accuracy: 0.996740\n"
     ]
    },
    {
     "data": {
      "application/vnd.jupyter.widget-view+json": {
       "model_id": "",
       "version_major": 2,
       "version_minor": 0
      },
      "text/plain": [
       "HBox(children=(IntProgress(value=0, description='Steps', max=782, style=ProgressStyle(description_width='initi…"
      ]
     },
     "metadata": {},
     "output_type": "display_data"
    },
    {
     "data": {
      "application/vnd.jupyter.widget-view+json": {
       "model_id": "",
       "version_major": 2,
       "version_minor": 0
      },
      "text/plain": [
       "HBox(children=(IntProgress(value=0, description='Validating', max=196, style=ProgressStyle(description_width='…"
      ]
     },
     "metadata": {},
     "output_type": "display_data"
    },
    {
     "name": "stdout",
     "output_type": "stream",
     "text": [
      "Training Loss: 0.054212  Validaton Loss: 0.056693 Validation Accuracy: 0.982620\n"
     ]
    },
    {
     "data": {
      "application/vnd.jupyter.widget-view+json": {
       "model_id": "",
       "version_major": 2,
       "version_minor": 0
      },
      "text/plain": [
       "HBox(children=(IntProgress(value=0, description='Steps', max=782, style=ProgressStyle(description_width='initi…"
      ]
     },
     "metadata": {},
     "output_type": "display_data"
    },
    {
     "data": {
      "application/vnd.jupyter.widget-view+json": {
       "model_id": "",
       "version_major": 2,
       "version_minor": 0
      },
      "text/plain": [
       "HBox(children=(IntProgress(value=0, description='Validating', max=196, style=ProgressStyle(description_width='…"
      ]
     },
     "metadata": {},
     "output_type": "display_data"
    },
    {
     "name": "stdout",
     "output_type": "stream",
     "text": [
      "Training Loss: 0.037123  Validaton Loss: 0.009002 Validation Accuracy: 0.998340\n"
     ]
    },
    {
     "data": {
      "application/vnd.jupyter.widget-view+json": {
       "model_id": "",
       "version_major": 2,
       "version_minor": 0
      },
      "text/plain": [
       "HBox(children=(IntProgress(value=0, description='Steps', max=782, style=ProgressStyle(description_width='initi…"
      ]
     },
     "metadata": {},
     "output_type": "display_data"
    },
    {
     "data": {
      "application/vnd.jupyter.widget-view+json": {
       "model_id": "",
       "version_major": 2,
       "version_minor": 0
      },
      "text/plain": [
       "HBox(children=(IntProgress(value=0, description='Validating', max=196, style=ProgressStyle(description_width='…"
      ]
     },
     "metadata": {},
     "output_type": "display_data"
    },
    {
     "name": "stdout",
     "output_type": "stream",
     "text": [
      "Training Loss: 0.017853  Validaton Loss: 0.012511 Validation Accuracy: 0.997040\n"
     ]
    },
    {
     "data": {
      "application/vnd.jupyter.widget-view+json": {
       "model_id": "",
       "version_major": 2,
       "version_minor": 0
      },
      "text/plain": [
       "HBox(children=(IntProgress(value=0, description='Steps', max=782, style=ProgressStyle(description_width='initi…"
      ]
     },
     "metadata": {},
     "output_type": "display_data"
    },
    {
     "data": {
      "application/vnd.jupyter.widget-view+json": {
       "model_id": "",
       "version_major": 2,
       "version_minor": 0
      },
      "text/plain": [
       "HBox(children=(IntProgress(value=0, description='Validating', max=196, style=ProgressStyle(description_width='…"
      ]
     },
     "metadata": {},
     "output_type": "display_data"
    },
    {
     "name": "stdout",
     "output_type": "stream",
     "text": [
      "Training Loss: 0.019899  Validaton Loss: 0.008274 Validation Accuracy: 0.998600\n"
     ]
    },
    {
     "data": {
      "application/vnd.jupyter.widget-view+json": {
       "model_id": "",
       "version_major": 2,
       "version_minor": 0
      },
      "text/plain": [
       "HBox(children=(IntProgress(value=0, description='Steps', max=782, style=ProgressStyle(description_width='initi…"
      ]
     },
     "metadata": {},
     "output_type": "display_data"
    },
    {
     "data": {
      "application/vnd.jupyter.widget-view+json": {
       "model_id": "",
       "version_major": 2,
       "version_minor": 0
      },
      "text/plain": [
       "HBox(children=(IntProgress(value=0, description='Validating', max=196, style=ProgressStyle(description_width='…"
      ]
     },
     "metadata": {},
     "output_type": "display_data"
    },
    {
     "name": "stdout",
     "output_type": "stream",
     "text": [
      "Training Loss: 0.015910  Validaton Loss: 0.008324 Validation Accuracy: 0.998680\n"
     ]
    },
    {
     "data": {
      "application/vnd.jupyter.widget-view+json": {
       "model_id": "",
       "version_major": 2,
       "version_minor": 0
      },
      "text/plain": [
       "HBox(children=(IntProgress(value=0, description='Steps', max=782, style=ProgressStyle(description_width='initi…"
      ]
     },
     "metadata": {},
     "output_type": "display_data"
    },
    {
     "data": {
      "application/vnd.jupyter.widget-view+json": {
       "model_id": "",
       "version_major": 2,
       "version_minor": 0
      },
      "text/plain": [
       "HBox(children=(IntProgress(value=0, description='Validating', max=196, style=ProgressStyle(description_width='…"
      ]
     },
     "metadata": {},
     "output_type": "display_data"
    },
    {
     "name": "stdout",
     "output_type": "stream",
     "text": [
      "Training Loss: 0.006686  Validaton Loss: 0.006914 Validation Accuracy: 0.999220\n"
     ]
    },
    {
     "data": {
      "application/vnd.jupyter.widget-view+json": {
       "model_id": "",
       "version_major": 2,
       "version_minor": 0
      },
      "text/plain": [
       "HBox(children=(IntProgress(value=0, description='Steps', max=782, style=ProgressStyle(description_width='initi…"
      ]
     },
     "metadata": {},
     "output_type": "display_data"
    },
    {
     "data": {
      "application/vnd.jupyter.widget-view+json": {
       "model_id": "",
       "version_major": 2,
       "version_minor": 0
      },
      "text/plain": [
       "HBox(children=(IntProgress(value=0, description='Validating', max=196, style=ProgressStyle(description_width='…"
      ]
     },
     "metadata": {},
     "output_type": "display_data"
    },
    {
     "name": "stdout",
     "output_type": "stream",
     "text": [
      "Training Loss: 0.004899  Validaton Loss: 0.008829 Validation Accuracy: 0.998380\n"
     ]
    },
    {
     "data": {
      "application/vnd.jupyter.widget-view+json": {
       "model_id": "",
       "version_major": 2,
       "version_minor": 0
      },
      "text/plain": [
       "HBox(children=(IntProgress(value=0, description='Steps', max=782, style=ProgressStyle(description_width='initi…"
      ]
     },
     "metadata": {},
     "output_type": "display_data"
    },
    {
     "data": {
      "application/vnd.jupyter.widget-view+json": {
       "model_id": "",
       "version_major": 2,
       "version_minor": 0
      },
      "text/plain": [
       "HBox(children=(IntProgress(value=0, description='Validating', max=196, style=ProgressStyle(description_width='…"
      ]
     },
     "metadata": {},
     "output_type": "display_data"
    },
    {
     "name": "stdout",
     "output_type": "stream",
     "text": [
      "Training Loss: 0.004361  Validaton Loss: 0.008423 Validation Accuracy: 0.998680\n"
     ]
    },
    {
     "data": {
      "application/vnd.jupyter.widget-view+json": {
       "model_id": "",
       "version_major": 2,
       "version_minor": 0
      },
      "text/plain": [
       "HBox(children=(IntProgress(value=0, description='Steps', max=782, style=ProgressStyle(description_width='initi…"
      ]
     },
     "metadata": {},
     "output_type": "display_data"
    },
    {
     "data": {
      "application/vnd.jupyter.widget-view+json": {
       "model_id": "",
       "version_major": 2,
       "version_minor": 0
      },
      "text/plain": [
       "HBox(children=(IntProgress(value=0, description='Validating', max=196, style=ProgressStyle(description_width='…"
      ]
     },
     "metadata": {},
     "output_type": "display_data"
    },
    {
     "name": "stdout",
     "output_type": "stream",
     "text": [
      "Training Loss: 0.025051  Validaton Loss: 0.017408 Validation Accuracy: 0.995560\n"
     ]
    },
    {
     "data": {
      "application/vnd.jupyter.widget-view+json": {
       "model_id": "",
       "version_major": 2,
       "version_minor": 0
      },
      "text/plain": [
       "HBox(children=(IntProgress(value=0, description='Steps', max=782, style=ProgressStyle(description_width='initi…"
      ]
     },
     "metadata": {},
     "output_type": "display_data"
    },
    {
     "data": {
      "application/vnd.jupyter.widget-view+json": {
       "model_id": "",
       "version_major": 2,
       "version_minor": 0
      },
      "text/plain": [
       "HBox(children=(IntProgress(value=0, description='Validating', max=196, style=ProgressStyle(description_width='…"
      ]
     },
     "metadata": {},
     "output_type": "display_data"
    },
    {
     "name": "stdout",
     "output_type": "stream",
     "text": [
      "Training Loss: 0.033876  Validaton Loss: 0.012924 Validation Accuracy: 0.996980\n"
     ]
    },
    {
     "data": {
      "application/vnd.jupyter.widget-view+json": {
       "model_id": "",
       "version_major": 2,
       "version_minor": 0
      },
      "text/plain": [
       "HBox(children=(IntProgress(value=0, description='Steps', max=782, style=ProgressStyle(description_width='initi…"
      ]
     },
     "metadata": {},
     "output_type": "display_data"
    },
    {
     "data": {
      "application/vnd.jupyter.widget-view+json": {
       "model_id": "",
       "version_major": 2,
       "version_minor": 0
      },
      "text/plain": [
       "HBox(children=(IntProgress(value=0, description='Validating', max=196, style=ProgressStyle(description_width='…"
      ]
     },
     "metadata": {},
     "output_type": "display_data"
    },
    {
     "name": "stdout",
     "output_type": "stream",
     "text": [
      "Training Loss: 0.016911  Validaton Loss: 0.012330 Validation Accuracy: 0.996680\n"
     ]
    },
    {
     "data": {
      "application/vnd.jupyter.widget-view+json": {
       "model_id": "",
       "version_major": 2,
       "version_minor": 0
      },
      "text/plain": [
       "HBox(children=(IntProgress(value=0, description='Steps', max=782, style=ProgressStyle(description_width='initi…"
      ]
     },
     "metadata": {},
     "output_type": "display_data"
    },
    {
     "data": {
      "application/vnd.jupyter.widget-view+json": {
       "model_id": "",
       "version_major": 2,
       "version_minor": 0
      },
      "text/plain": [
       "HBox(children=(IntProgress(value=0, description='Validating', max=196, style=ProgressStyle(description_width='…"
      ]
     },
     "metadata": {},
     "output_type": "display_data"
    },
    {
     "name": "stdout",
     "output_type": "stream",
     "text": [
      "Training Loss: 0.029654  Validaton Loss: 0.052836 Validation Accuracy: 0.987620\n"
     ]
    },
    {
     "data": {
      "application/vnd.jupyter.widget-view+json": {
       "model_id": "",
       "version_major": 2,
       "version_minor": 0
      },
      "text/plain": [
       "HBox(children=(IntProgress(value=0, description='Steps', max=782, style=ProgressStyle(description_width='initi…"
      ]
     },
     "metadata": {},
     "output_type": "display_data"
    },
    {
     "data": {
      "application/vnd.jupyter.widget-view+json": {
       "model_id": "",
       "version_major": 2,
       "version_minor": 0
      },
      "text/plain": [
       "HBox(children=(IntProgress(value=0, description='Validating', max=196, style=ProgressStyle(description_width='…"
      ]
     },
     "metadata": {},
     "output_type": "display_data"
    },
    {
     "name": "stdout",
     "output_type": "stream",
     "text": [
      "Training Loss: 0.009640  Validaton Loss: 0.009082 Validation Accuracy: 0.998200\n"
     ]
    },
    {
     "data": {
      "application/vnd.jupyter.widget-view+json": {
       "model_id": "",
       "version_major": 2,
       "version_minor": 0
      },
      "text/plain": [
       "HBox(children=(IntProgress(value=0, description='Steps', max=782, style=ProgressStyle(description_width='initi…"
      ]
     },
     "metadata": {},
     "output_type": "display_data"
    },
    {
     "data": {
      "application/vnd.jupyter.widget-view+json": {
       "model_id": "",
       "version_major": 2,
       "version_minor": 0
      },
      "text/plain": [
       "HBox(children=(IntProgress(value=0, description='Validating', max=196, style=ProgressStyle(description_width='…"
      ]
     },
     "metadata": {},
     "output_type": "display_data"
    },
    {
     "name": "stdout",
     "output_type": "stream",
     "text": [
      "Training Loss: 0.013514  Validaton Loss: 0.005941 Validation Accuracy: 0.999480\n"
     ]
    },
    {
     "data": {
      "application/vnd.jupyter.widget-view+json": {
       "model_id": "",
       "version_major": 2,
       "version_minor": 0
      },
      "text/plain": [
       "HBox(children=(IntProgress(value=0, description='Steps', max=782, style=ProgressStyle(description_width='initi…"
      ]
     },
     "metadata": {},
     "output_type": "display_data"
    },
    {
     "data": {
      "application/vnd.jupyter.widget-view+json": {
       "model_id": "",
       "version_major": 2,
       "version_minor": 0
      },
      "text/plain": [
       "HBox(children=(IntProgress(value=0, description='Validating', max=196, style=ProgressStyle(description_width='…"
      ]
     },
     "metadata": {},
     "output_type": "display_data"
    },
    {
     "name": "stdout",
     "output_type": "stream",
     "text": [
      "Training Loss: 0.014939  Validaton Loss: 0.006869 Validation Accuracy: 0.999120\n"
     ]
    },
    {
     "data": {
      "application/vnd.jupyter.widget-view+json": {
       "model_id": "",
       "version_major": 2,
       "version_minor": 0
      },
      "text/plain": [
       "HBox(children=(IntProgress(value=0, description='Steps', max=782, style=ProgressStyle(description_width='initi…"
      ]
     },
     "metadata": {},
     "output_type": "display_data"
    },
    {
     "data": {
      "application/vnd.jupyter.widget-view+json": {
       "model_id": "",
       "version_major": 2,
       "version_minor": 0
      },
      "text/plain": [
       "HBox(children=(IntProgress(value=0, description='Validating', max=196, style=ProgressStyle(description_width='…"
      ]
     },
     "metadata": {},
     "output_type": "display_data"
    },
    {
     "name": "stdout",
     "output_type": "stream",
     "text": [
      "Training Loss: 0.007490  Validaton Loss: 0.009427 Validation Accuracy: 0.998180\n"
     ]
    },
    {
     "data": {
      "application/vnd.jupyter.widget-view+json": {
       "model_id": "",
       "version_major": 2,
       "version_minor": 0
      },
      "text/plain": [
       "HBox(children=(IntProgress(value=0, description='Steps', max=782, style=ProgressStyle(description_width='initi…"
      ]
     },
     "metadata": {},
     "output_type": "display_data"
    },
    {
     "data": {
      "application/vnd.jupyter.widget-view+json": {
       "model_id": "",
       "version_major": 2,
       "version_minor": 0
      },
      "text/plain": [
       "HBox(children=(IntProgress(value=0, description='Validating', max=196, style=ProgressStyle(description_width='…"
      ]
     },
     "metadata": {},
     "output_type": "display_data"
    },
    {
     "name": "stdout",
     "output_type": "stream",
     "text": [
      "Training Loss: 0.009123  Validaton Loss: 0.008535 Validation Accuracy: 0.998740\n"
     ]
    },
    {
     "data": {
      "application/vnd.jupyter.widget-view+json": {
       "model_id": "",
       "version_major": 2,
       "version_minor": 0
      },
      "text/plain": [
       "HBox(children=(IntProgress(value=0, description='Steps', max=782, style=ProgressStyle(description_width='initi…"
      ]
     },
     "metadata": {},
     "output_type": "display_data"
    },
    {
     "data": {
      "application/vnd.jupyter.widget-view+json": {
       "model_id": "",
       "version_major": 2,
       "version_minor": 0
      },
      "text/plain": [
       "HBox(children=(IntProgress(value=0, description='Validating', max=196, style=ProgressStyle(description_width='…"
      ]
     },
     "metadata": {},
     "output_type": "display_data"
    },
    {
     "name": "stdout",
     "output_type": "stream",
     "text": [
      "Training Loss: 0.005377  Validaton Loss: 0.005883 Validation Accuracy: 0.999580\n"
     ]
    },
    {
     "data": {
      "application/vnd.jupyter.widget-view+json": {
       "model_id": "",
       "version_major": 2,
       "version_minor": 0
      },
      "text/plain": [
       "HBox(children=(IntProgress(value=0, description='Steps', max=782, style=ProgressStyle(description_width='initi…"
      ]
     },
     "metadata": {},
     "output_type": "display_data"
    },
    {
     "data": {
      "application/vnd.jupyter.widget-view+json": {
       "model_id": "",
       "version_major": 2,
       "version_minor": 0
      },
      "text/plain": [
       "HBox(children=(IntProgress(value=0, description='Validating', max=196, style=ProgressStyle(description_width='…"
      ]
     },
     "metadata": {},
     "output_type": "display_data"
    },
    {
     "name": "stdout",
     "output_type": "stream",
     "text": [
      "Training Loss: 0.005456  Validaton Loss: 0.007957 Validation Accuracy: 0.998660\n"
     ]
    },
    {
     "data": {
      "application/vnd.jupyter.widget-view+json": {
       "model_id": "",
       "version_major": 2,
       "version_minor": 0
      },
      "text/plain": [
       "HBox(children=(IntProgress(value=0, description='Steps', max=782, style=ProgressStyle(description_width='initi…"
      ]
     },
     "metadata": {},
     "output_type": "display_data"
    },
    {
     "data": {
      "application/vnd.jupyter.widget-view+json": {
       "model_id": "",
       "version_major": 2,
       "version_minor": 0
      },
      "text/plain": [
       "HBox(children=(IntProgress(value=0, description='Validating', max=196, style=ProgressStyle(description_width='…"
      ]
     },
     "metadata": {},
     "output_type": "display_data"
    },
    {
     "name": "stdout",
     "output_type": "stream",
     "text": [
      "Training Loss: 0.007181  Validaton Loss: 0.005629 Validation Accuracy: 0.999760\n"
     ]
    },
    {
     "data": {
      "application/vnd.jupyter.widget-view+json": {
       "model_id": "",
       "version_major": 2,
       "version_minor": 0
      },
      "text/plain": [
       "HBox(children=(IntProgress(value=0, description='Steps', max=782, style=ProgressStyle(description_width='initi…"
      ]
     },
     "metadata": {},
     "output_type": "display_data"
    },
    {
     "data": {
      "application/vnd.jupyter.widget-view+json": {
       "model_id": "",
       "version_major": 2,
       "version_minor": 0
      },
      "text/plain": [
       "HBox(children=(IntProgress(value=0, description='Validating', max=196, style=ProgressStyle(description_width='…"
      ]
     },
     "metadata": {},
     "output_type": "display_data"
    },
    {
     "name": "stdout",
     "output_type": "stream",
     "text": [
      "Training Loss: 0.003476  Validaton Loss: 0.005928 Validation Accuracy: 0.999800\n"
     ]
    },
    {
     "data": {
      "application/vnd.jupyter.widget-view+json": {
       "model_id": "",
       "version_major": 2,
       "version_minor": 0
      },
      "text/plain": [
       "HBox(children=(IntProgress(value=0, description='Steps', max=782, style=ProgressStyle(description_width='initi…"
      ]
     },
     "metadata": {},
     "output_type": "display_data"
    },
    {
     "data": {
      "application/vnd.jupyter.widget-view+json": {
       "model_id": "",
       "version_major": 2,
       "version_minor": 0
      },
      "text/plain": [
       "HBox(children=(IntProgress(value=0, description='Validating', max=196, style=ProgressStyle(description_width='…"
      ]
     },
     "metadata": {},
     "output_type": "display_data"
    },
    {
     "name": "stdout",
     "output_type": "stream",
     "text": [
      "Training Loss: 0.003976  Validaton Loss: 0.005646 Validation Accuracy: 0.999760\n"
     ]
    },
    {
     "data": {
      "application/vnd.jupyter.widget-view+json": {
       "model_id": "",
       "version_major": 2,
       "version_minor": 0
      },
      "text/plain": [
       "HBox(children=(IntProgress(value=0, description='Steps', max=782, style=ProgressStyle(description_width='initi…"
      ]
     },
     "metadata": {},
     "output_type": "display_data"
    },
    {
     "data": {
      "application/vnd.jupyter.widget-view+json": {
       "model_id": "",
       "version_major": 2,
       "version_minor": 0
      },
      "text/plain": [
       "HBox(children=(IntProgress(value=0, description='Validating', max=196, style=ProgressStyle(description_width='…"
      ]
     },
     "metadata": {},
     "output_type": "display_data"
    },
    {
     "name": "stdout",
     "output_type": "stream",
     "text": [
      "Training Loss: 0.002823  Validaton Loss: 0.005621 Validation Accuracy: 0.999840\n"
     ]
    },
    {
     "data": {
      "application/vnd.jupyter.widget-view+json": {
       "model_id": "",
       "version_major": 2,
       "version_minor": 0
      },
      "text/plain": [
       "HBox(children=(IntProgress(value=0, description='Steps', max=782, style=ProgressStyle(description_width='initi…"
      ]
     },
     "metadata": {},
     "output_type": "display_data"
    },
    {
     "data": {
      "application/vnd.jupyter.widget-view+json": {
       "model_id": "",
       "version_major": 2,
       "version_minor": 0
      },
      "text/plain": [
       "HBox(children=(IntProgress(value=0, description='Validating', max=196, style=ProgressStyle(description_width='…"
      ]
     },
     "metadata": {},
     "output_type": "display_data"
    },
    {
     "name": "stdout",
     "output_type": "stream",
     "text": [
      "Training Loss: 0.002198  Validaton Loss: 0.005639 Validation Accuracy: 0.999840\n"
     ]
    }
   ],
   "source": [
    "sess.train(schedule, 31)"
   ]
  },
  {
   "cell_type": "code",
   "execution_count": 249,
   "metadata": {},
   "outputs": [
    {
     "data": {
      "image/png": "[encoded data removed]",
      "text/plain": [
       "<Figure size 864x864 with 2 Axes>"
      ]
     },
     "metadata": {
      "needs_background": "light"
     },
     "output_type": "display_data"
    }
   ],
   "source": [
    "accuracy.plot_confusion_matrix()"
   ]
  },
  {
   "cell_type": "code",
   "execution_count": 250,
   "metadata": {},
   "outputs": [
    {
     "data": {
      "image/png": "[encoded data removed]",
      "text/plain": [
       "<Figure size 432x288 with 1 Axes>"
      ]
     },
     "metadata": {
      "needs_background": "light"
     },
     "output_type": "display_data"
    }
   ],
   "source": [
    "lr_schedule.plot()"
   ]
  },
  {
   "cell_type": "code",
   "execution_count": 253,
   "metadata": {},
   "outputs": [],
   "source": [
    "sess.save(\"PokerHand-99.99\")"
   ]
  },
  {
   "cell_type": "code",
   "execution_count": 251,
   "metadata": {},
   "outputs": [
    {
     "data": {
      "application/vnd.jupyter.widget-view+json": {
       "model_id": "",
       "version_major": 2,
       "version_minor": 0
      },
      "text/plain": [
       "HBox(children=(IntProgress(value=0, description='Validating', max=782, style=ProgressStyle(description_width='…"
      ]
     },
     "metadata": {},
     "output_type": "display_data"
    },
    {
     "name": "stdout",
     "output_type": "stream",
     "text": [
      "Training Loss: 0.000000  Validaton Loss: 0.000109 Validation Accuracy: 1.000000\n"
     ]
    },
    {
     "data": {
      "image/png": "[encoded data removed]",
      "text/plain": [
       "<Figure size 864x864 with 2 Axes>"
      ]
     },
     "metadata": {
      "needs_background": "light"
     },
     "output_type": "display_data"
    }
   ],
   "source": [
    "t_accuracy = PokerHandAccuracy()\n",
    "t_validator = Validator(data['train'], t_accuracy)\n",
    "t_validator.on_epoch_end(sess, LossMeter())\n",
    "t_accuracy.plot_confusion_matrix()"
   ]
  },
  {
   "cell_type": "code",
   "execution_count": 252,
   "metadata": {},
   "outputs": [
    {
     "data": {
      "application/vnd.jupyter.widget-view+json": {
       "model_id": "",
       "version_major": 2,
       "version_minor": 0
      },
      "text/plain": [
       "HBox(children=(IntProgress(value=0, description='Validating', max=3907, style=ProgressStyle(description_width=…"
      ]
     },
     "metadata": {},
     "output_type": "display_data"
    },
    {
     "name": "stdout",
     "output_type": "stream",
     "text": [
      "Training Loss: 0.000000  Validaton Loss: 0.007629 Validation Accuracy: 0.999789\n"
     ]
    },
    {
     "data": {
      "image/png": "[encoded data removed]",
      "text/plain": [
       "<Figure size 864x864 with 2 Axes>"
      ]
     },
     "metadata": {
      "needs_background": "light"
     },
     "output_type": "display_data"
    }
   ],
   "source": [
    "t_accuracy = PokerHandAccuracy()\n",
    "t_validator = Validator(val_data['test'], t_accuracy)\n",
    "t_validator.on_epoch_end(sess, LossMeter())\n",
    "t_accuracy.plot_confusion_matrix()"
   ]
  },
  {
   "cell_type": "code",
   "execution_count": null,
   "metadata": {},
   "outputs": [],
   "source": [
    "len(data['train'])"
   ]
  },
  {
   "cell_type": "code",
   "execution_count": null,
   "metadata": {},
   "outputs": [],
   "source": [
    "len(data['test'])"
   ]
  },
  {
   "cell_type": "code",
   "execution_count": null,
   "metadata": {},
   "outputs": [],
   "source": []
  }
 ],
 "metadata": {
  "kernelspec": {
   "display_name": "Python 3",
   "language": "python",
   "name": "python3"
  },
  "language_info": {
   "codemirror_mode": {
    "name": "ipython",
    "version": 3
   },
   "file_extension": ".py",
   "mimetype": "text/x-python",
   "name": "python",
   "nbconvert_exporter": "python",
   "pygments_lexer": "ipython3",
   "version": "3.6.6"
  }
 },
 "nbformat": 4,
 "nbformat_minor": 2
}
