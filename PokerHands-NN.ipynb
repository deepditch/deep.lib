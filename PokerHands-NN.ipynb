{
 "cells": [
  {
   "cell_type": "code",
   "execution_count": null,
   "metadata": {},
   "outputs": [],
   "source": [
    "from pathlib import Path\n",
    "import itertools\n",
    "import numpy as np\n",
    "import pandas as pd\n",
    "import matplotlib.pyplot as plt\n",
    "import torch\n",
    "from torch.utils.data import Dataset, DataLoader\n",
    "import torch.nn as nn\n",
    "import torch.optim as optim\n",
    "import torch.nn.functional as F\n",
    "import torchvision\n",
    "import torchvision.models as models\n",
    "import Datasets.ModelData as md\n",
    "from session import *\n",
    "from LR_Schedule.lr_find import lr_find\n",
    "from callbacks import *\n",
    "from validation import *\n",
    "from validation import _AccuracyMeter\n",
    "from LR_Schedule.cos_anneal import CosAnneal"
   ]
  },
  {
   "cell_type": "code",
   "execution_count": null,
   "metadata": {},
   "outputs": [],
   "source": [
    "%load_ext autoreload\n",
    "%autoreload 2"
   ]
  },
  {
   "cell_type": "code",
   "execution_count": null,
   "metadata": {},
   "outputs": [],
   "source": [
    "idtohand = {0: \"Nothing in hand; not a recognized poker hand\",\n",
    "            1: \"One pair; one pair of equal ranks within five cards\",\n",
    "            2: \"Two pairs; two pairs of equal ranks within five cards\",\n",
    "            3: \"Three of a kind; three equal ranks within five cards\",\n",
    "            4: \"Straight; five cards, sequentially ranked with no gaps\",\n",
    "            5: \"Flush; five cards with the same suit\",\n",
    "            6: \"Full house; pair + different rank three of a kind\",\n",
    "            7: \"Four of a kind; four equal ranks within five cards\",\n",
    "            8: \"Straight flush; straight + flush\",\n",
    "            9: \"Royal flush; {Ace, King, Queen, Jack, Ten} + flush\" }\n",
    "\n",
    "num_classes = 10\n",
    "\n",
    "idtosuit = {0: \"Hearts\", 1: \"Spades\", 2: \"Diamonds\", 3: \"Clubs\"}\n",
    "idtorank = {0: \"Ace\", \n",
    "            1: \"2\", \n",
    "            2: \"3\", \n",
    "            3: \"4\", \n",
    "            4: \"5\", \n",
    "            5: \"6\", \n",
    "            6: \"7\", \n",
    "            7: \"8\", \n",
    "            8: \"9\", \n",
    "            9: \"10\", \n",
    "            10: \"Jack\", \n",
    "            11: \"Queen\", \n",
    "            12: \"King\"}"
   ]
  },
  {
   "cell_type": "code",
   "execution_count": null,
   "metadata": {},
   "outputs": [],
   "source": [
    "class SuitShiftTransform():\n",
    "    def transform_x(self, hand):\n",
    "        return hand[:,torch.randperm(4)]"
   ]
  },
  {
   "cell_type": "code",
   "execution_count": null,
   "metadata": {},
   "outputs": [],
   "source": [
    "class PokerHandDataset(Dataset):\n",
    "    def __init__(self, file, tfm=None, percentage=1, balanced=False):\n",
    "        self.hands, self.labels = self.parse_csv(file, percentage)\n",
    "        self.tfm = tfm\n",
    "        \n",
    "        if balanced:\n",
    "            counts = np.zeros(num_classes)\n",
    "\n",
    "            for label in self.labels:\n",
    "                counts[label] += 1\n",
    "\n",
    "            class_weights = len(self.labels) / counts\n",
    "\n",
    "            instance_weights = np.zeros(len(self.labels))\n",
    "\n",
    "            for idx, label in enumerate(self.labels):\n",
    "                instance_weights[idx] = class_weights[label]\n",
    "\n",
    "            self.sampler = torch.utils.data.sampler.WeightedRandomSampler(instance_weights, len(instance_weights))\n",
    "        else:\n",
    "            self.sampler = None\n",
    "       \n",
    "    @staticmethod\n",
    "    def parse_csv(file, percentage=1):\n",
    "        df = pd.read_csv(file, header=None)\n",
    "        xs = df[df.columns[0:10]]\n",
    "        ys = df[df.columns[-1]]\n",
    "        \n",
    "        labels = np.array([label for label in ys])\n",
    "        hands = np.array([np.array(hand).reshape((5,2)) - 1 for hand in xs.values])\n",
    "        \n",
    "        if percentage < 1:\n",
    "            idxs = np.random.choice(len(xs), int(len(xs) * percentage), replace=False)\n",
    "            hands = hands[idxs]\n",
    "            labels = labels[idxs]\n",
    "            \n",
    "        return hands, ys\n",
    "        \n",
    "    @staticmethod\n",
    "    def make_tensor(hand):\n",
    "        hand_tensor = torch.zeros((4,13)) - 1\n",
    "        for card in hand:       \n",
    "            hand_tensor[card[0], card[1]] = 1\n",
    "        return hand_tensor.unsqueeze(0)\n",
    "    \n",
    "    @staticmethod\n",
    "    def make_one_hot(label):\n",
    "        tensor = torch.zeros(10)\n",
    "        tensor[label] = 1\n",
    "        return tensor\n",
    "    \n",
    "    def __len__(self): return len(self.hands)\n",
    "\n",
    "    def __getitem__(self, i):\n",
    "        hand, label = self.hands[i], self.labels[i]\n",
    "        x, y = self.make_tensor(hand), self.make_one_hot(label)\n",
    "        \n",
    "        if self.tfm is not None:\n",
    "            x = self.tfm.transform_x(x)\n",
    "            \n",
    "        return x, y"
   ]
  },
  {
   "cell_type": "code",
   "execution_count": null,
   "metadata": {},
   "outputs": [],
   "source": [
    "data_path = Path(\"./Datasets/PokerHands\")\n",
    "train_dataset = PokerHandDataset(data_path/'training.csv', tfm=SuitShiftTransform())\n",
    "test_dataset = PokerHandDataset(data_path/'testing.csv')"
   ]
  },
  {
   "cell_type": "code",
   "execution_count": null,
   "metadata": {},
   "outputs": [],
   "source": [
    "train_dataset[0]"
   ]
  },
  {
   "cell_type": "markdown",
   "metadata": {},
   "source": [
    "## NN"
   ]
  },
  {
   "cell_type": "code",
   "execution_count": null,
   "metadata": {},
   "outputs": [],
   "source": [
    "data = md.ModelData({'train': train_dataset}, 32)\n",
    "test = md.ModelData({'test': test_dataset}, 256)"
   ]
  },
  {
   "cell_type": "code",
   "execution_count": null,
   "metadata": {
    "scrolled": true
   },
   "outputs": [],
   "source": [
    "next(iter(data['train']))"
   ]
  },
  {
   "cell_type": "code",
   "execution_count": null,
   "metadata": {},
   "outputs": [],
   "source": [
    "class Network(nn.Module):\n",
    "    def __init__(self):\n",
    "        super().__init__();\n",
    "        self.conv1 = nn.Conv2d(1, 32, (4,1))       \n",
    "        self.conv2 = nn.Conv2d(1, 32, (1,13))\n",
    "        self.relu1 = nn.ReLU(inplace=True)\n",
    "        self.drop1 = nn.Dropout(p=.6)\n",
    "        self.fc1 = nn.Linear(32*13 + 32*4, 100)\n",
    "        self.relu2 = nn.ReLU(inplace=True)\n",
    "        self.drop2 = nn.Dropout(p=.6)\n",
    "        self.fc2 = nn.Linear(100, num_classes)\n",
    "        \n",
    "    def forward(self, x):\n",
    "        x_1 = self.conv1(x)\n",
    "        x_2 = self.conv2(x)\n",
    "        x = torch.cat([x_1.view(x_1.size(0), -1), x_2.view(x_2.size(0), -1)], dim=1)\n",
    "        x = self.relu1(x)\n",
    "        x = self.drop1(x)\n",
    "        x = self.fc1(x)\n",
    "        x = self.relu2(x)\n",
    "        x = self.drop2(x)\n",
    "        \n",
    "        x = self.fc2(x)\n",
    "        return F.softmax(x, dim=1)\n",
    "\n",
    "model = Network()"
   ]
  },
  {
   "cell_type": "code",
   "execution_count": null,
   "metadata": {},
   "outputs": [],
   "source": [
    "class FocalLoss(nn.Module):\n",
    "    def __init__(self, num_classes):\n",
    "        super().__init__()\n",
    "        self.num_classes = num_classes\n",
    "\n",
    "    def forward(self, pred, label):\n",
    "        weight = self.get_weight(pred[:,1:], label[:,1:])\n",
    "        return F.binary_cross_entropy_with_logits(pred[:,1:], label[:,1:], weight)\n",
    "    \n",
    "    def get_weight(self, x, t):\n",
    "        alpha, gamma = 0.25, 2\n",
    "        p = x\n",
    "        pt = p * t + (1-p) * (1-t)\n",
    "        w = alpha * t + (1-alpha) * (1-t)\n",
    "        return w * (1-pt).pow(gamma)"
   ]
  },
  {
   "cell_type": "code",
   "execution_count": null,
   "metadata": {},
   "outputs": [],
   "source": [
    "class PokerHandAccuracy(_AccuracyMeter):\n",
    "    def __init__(self):\n",
    "        self.reset()\n",
    "        self.confusion = [[0 for y in range(num_classes)] for x in range(num_classes)]\n",
    "\n",
    "    def reset(self):\n",
    "        self.num_correct = 0\n",
    "        self.count = 0\n",
    "        self.confusion = [[0 for y in range(num_classes)] for x in range(num_classes)]\n",
    "        \n",
    "    def accuracy(self): \n",
    "        return self.num_correct / self.count\n",
    "\n",
    "    def update(self, actn, label, log=False):   \n",
    "        vals, preds = torch.max(actn, 1)\n",
    "        if log: print(\"Preds: \", preds)\n",
    "        _, gt = torch.max(label, 1)     \n",
    "        if log: print(\"GT   : \", gt)\n",
    "        self.num_correct += torch.sum(preds == gt).item()\n",
    "        if log: print(\"Num Correct: \", self.num_correct)\n",
    "        self.count += label.shape[0]\n",
    "        \n",
    "        for lab, pred in zip(gt, preds):\n",
    "            self.confusion[lab][pred] += 1\n",
    "            \n",
    "    def plot_confusion_matrix(self,\n",
    "                          title='Confusion matrix',\n",
    "                          cmap=plt.cm.Blues):\n",
    "        cm = np.array(self.confusion)\n",
    "        fig, ax = plt.subplots(figsize=(12,12))\n",
    "        img = ax.imshow(cm, interpolation='nearest', cmap=cmap)\n",
    "        plt.colorbar(img, ax=ax)\n",
    "        ax.set_title(title)\n",
    "        tick_marks = np.arange(num_classes)\n",
    "        plt.xticks(tick_marks, rotation=45)\n",
    "        plt.yticks(tick_marks)\n",
    "\n",
    "        fmt = 'd'\n",
    "        thresh = cm.max() / 2.\n",
    "        for i, j in itertools.product(range(cm.shape[0]), range(cm.shape[1])):\n",
    "            ax.text(j, i, format(cm[i, j], fmt),\n",
    "                     horizontalalignment=\"center\",\n",
    "                     color=\"white\" if cm[i, j] > thresh else \"black\")\n",
    "\n",
    "        ax.set_ylabel('True label')\n",
    "        ax.set_xlabel('Predicted label')"
   ]
  },
  {
   "cell_type": "code",
   "execution_count": null,
   "metadata": {},
   "outputs": [],
   "source": [
    "criterion = nn.BCELoss()\n",
    "optim_fn = optim.Adam\n",
    "sess = Session(model, criterion, optim_fn, 1e-2)"
   ]
  },
  {
   "cell_type": "code",
   "execution_count": null,
   "metadata": {
    "scrolled": true
   },
   "outputs": [],
   "source": [
    "x, y = next(iter(data['train']))\n",
    "x[0], y[0]"
   ]
  },
  {
   "cell_type": "code",
   "execution_count": null,
   "metadata": {},
   "outputs": [],
   "source": [
    "actn = sess.forward(x)\n",
    "accuracy = PokerHandAccuracy()"
   ]
  },
  {
   "cell_type": "code",
   "execution_count": null,
   "metadata": {
    "scrolled": false
   },
   "outputs": [],
   "source": [
    "accuracy.update(actn, y, log=True)"
   ]
  },
  {
   "cell_type": "code",
   "execution_count": null,
   "metadata": {},
   "outputs": [],
   "source": [
    "accuracy.plot_confusion_matrix()"
   ]
  },
  {
   "cell_type": "code",
   "execution_count": null,
   "metadata": {
    "scrolled": false
   },
   "outputs": [],
   "source": [
    "lr_find(sess, data['train'], start_lr=1e-4, end_lr=2)"
   ]
  },
  {
   "cell_type": "code",
   "execution_count": null,
   "metadata": {},
   "outputs": [],
   "source": [
    "sess.set_lr(1e-2)"
   ]
  },
  {
   "cell_type": "code",
   "execution_count": null,
   "metadata": {},
   "outputs": [],
   "source": [
    "accuracy = PokerHandAccuracy()\n",
    "validator = Validator(data['test'], accuracy)\n",
    "# lr_schedule = CosAnneal(len(data['train']), lr_min=1e-5, T_mult=2)\n",
    "schedule = TrainingSchedule(data['train'])"
   ]
  },
  {
   "cell_type": "code",
   "execution_count": null,
   "metadata": {
    "scrolled": false
   },
   "outputs": [],
   "source": [
    "sess.train(schedule, 5)"
   ]
  },
  {
   "cell_type": "code",
   "execution_count": null,
   "metadata": {},
   "outputs": [],
   "source": [
    "validator.on_epoch_end(sess, LossMeter())"
   ]
  },
  {
   "cell_type": "code",
   "execution_count": null,
   "metadata": {},
   "outputs": [],
   "source": [
    "accuracy.plot_confusion_matrix()"
   ]
  },
  {
   "cell_type": "code",
   "execution_count": null,
   "metadata": {},
   "outputs": [],
   "source": [
    "lr_schedule.plot()"
   ]
  },
  {
   "cell_type": "code",
   "execution_count": null,
   "metadata": {},
   "outputs": [],
   "source": [
    "sess.save(\"PokerHand-99.6\")"
   ]
  },
  {
   "cell_type": "code",
   "execution_count": null,
   "metadata": {},
   "outputs": [],
   "source": [
    "t_accuracy = PokerHandAccuracy()\n",
    "t_validator = Validator(data['train'], t_accuracy)"
   ]
  },
  {
   "cell_type": "code",
   "execution_count": null,
   "metadata": {},
   "outputs": [],
   "source": [
    "t_validator.on_epoch_end(sess, LossMeter())"
   ]
  },
  {
   "cell_type": "code",
   "execution_count": null,
   "metadata": {},
   "outputs": [],
   "source": [
    "t_accuracy.plot_confusion_matrix()"
   ]
  },
  {
   "cell_type": "code",
   "execution_count": null,
   "metadata": {},
   "outputs": [],
   "source": [
    "len(data['train'])"
   ]
  },
  {
   "cell_type": "code",
   "execution_count": null,
   "metadata": {},
   "outputs": [],
   "source": [
    "len(data['test'])"
   ]
  },
  {
   "cell_type": "markdown",
   "metadata": {},
   "source": []
  }
 ],
 "metadata": {
  "kernelspec": {
   "display_name": "Python 3",
   "language": "python",
   "name": "python3"
  },
  "language_info": {
   "codemirror_mode": {
    "name": "ipython",
    "version": 3
   },
   "file_extension": ".py",
   "mimetype": "text/x-python",
   "name": "python",
   "nbconvert_exporter": "python",
   "pygments_lexer": "ipython3",
   "version": "3.6.6"
  }
 },
 "nbformat": 4,
 "nbformat_minor": 2
}
