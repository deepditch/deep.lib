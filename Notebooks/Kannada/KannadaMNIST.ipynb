{
 "cells": [
  {
   "cell_type": "code",
   "execution_count": 4,
   "metadata": {},
   "outputs": [],
   "source": [
    "import numpy as np\n",
    "import torch\n",
    "import torchvision\n",
    "import matplotlib.pyplot as plt\n",
    "from time import time\n",
    "from torchvision import datasets, transforms\n",
    "from torch import nn, optim\n",
    "from torch.nn.modules.loss import *\n",
    "from torch.utils.data import Dataset, DataLoader\n",
    "import matplotlib.pyplot as plt\n",
    "from mpl_toolkits.mplot3d import Axes3D\n",
    "from sklearn.decomposition import PCA\n",
    "from torch.utils.tensorboard import SummaryWriter\n",
    "import pandas as pd\n",
    "from pathlib import Path\n",
    "%matplotlib notebook"
   ]
  },
  {
   "cell_type": "code",
   "execution_count": 5,
   "metadata": {},
   "outputs": [],
   "source": [
    "from Loss.triplet import *\n",
    "from session import *\n",
    "from LR_Schedule.cyclical import Cyclical\n",
    "from LR_Schedule.cos_anneal import CosAnneal\n",
    "from LR_Schedule.lr_find import lr_find\n",
    "from callbacks import *\n",
    "from validation import *\n",
    "from validation import _AccuracyMeter\n",
    "import Datasets.ImageData as ImageData\n",
    "from Transforms.ImageTransforms import *\n",
    "import util\n",
    "import Datasets.ModelData as md"
   ]
  },
  {
   "cell_type": "code",
   "execution_count": 6,
   "metadata": {},
   "outputs": [
    {
     "name": "stdout",
     "output_type": "stream",
     "text": [
      "The autoreload extension is already loaded. To reload it, use:\n",
      "  %reload_ext autoreload\n"
     ]
    }
   ],
   "source": [
    "%load_ext autoreload\n",
    "%autoreload 2"
   ]
  },
  {
   "cell_type": "code",
   "execution_count": 7,
   "metadata": {},
   "outputs": [
    {
     "name": "stderr",
     "output_type": "stream",
     "text": [
      "/home/drake/anaconda3/envs/.torch/lib/python3.7/site-packages/torch/cuda/__init__.py:135: UserWarning: \n",
      "    Found GPU0 GeForce GTX 770 which is of cuda capability 3.0.\n",
      "    PyTorch no longer supports this GPU because it is too old.\n",
      "    The minimum cuda capability that we support is 3.5.\n",
      "    \n",
      "  warnings.warn(old_gpu_warn % (d, name, major, capability[1]))\n"
     ]
    }
   ],
   "source": [
    "torch.cuda.set_device(0); torch.backends.cudnn.benchmark=True;"
   ]
  },
  {
   "cell_type": "code",
   "execution_count": 8,
   "metadata": {},
   "outputs": [],
   "source": [
    "data_path = Path(\"/media/drake/MX500/Datasets/Kannada-MNIST\")\n",
    "train_path = data_path/'train.csv'\n",
    "test_path = data_path/'test.csv'\n",
    "df = pd.read_csv(train_path)\n",
    "test_df = pd.read_csv(test_path)"
   ]
  },
  {
   "cell_type": "code",
   "execution_count": 9,
   "metadata": {},
   "outputs": [
    {
     "data": {
      "text/plain": [
       "((60000, 28, 28), (60000,))"
      ]
     },
     "execution_count": 9,
     "metadata": {},
     "output_type": "execute_result"
    }
   ],
   "source": [
    "labels = df[df.columns[0]].to_numpy()\n",
    "inputs = df[df.columns[1:]].to_numpy().reshape(-1, 28, 28)\n",
    "\n",
    "ids = test_df[test_df.columns[0]].to_numpy()\n",
    "test_inputs = test_df[test_df.columns[1:]].to_numpy().reshape(-1, 28, 28)\n",
    "\n",
    "inputs.shape, labels.shape"
   ]
  },
  {
   "cell_type": "code",
   "execution_count": 10,
   "metadata": {},
   "outputs": [],
   "source": [
    "class KannadaMNISTDataset(Dataset):\n",
    "    def __init__(self, inputs, labels, transform):\n",
    "        self.data = inputs\n",
    "        self.targets = labels\n",
    "        self.tsfm = transform\n",
    "        \n",
    "    def __len__(self): return self.targets.shape[0]\n",
    "        \n",
    "    def __getitem__(self, i):\n",
    "        x, y = self.data[i], self.targets[i]  \n",
    "        x = x.astype(np.uint8)\n",
    "        x = self.tsfm(x)\n",
    "        x = x.float()\n",
    "        \n",
    "        return x, y"
   ]
  },
  {
   "cell_type": "code",
   "execution_count": 11,
   "metadata": {},
   "outputs": [],
   "source": [
    "i_dict = md.make_partition_indices(labels.shape[0], {'train': .95, 'valid': .05})"
   ]
  },
  {
   "cell_type": "code",
   "execution_count": 12,
   "metadata": {},
   "outputs": [],
   "source": [
    "transform = transforms.Compose([transforms.ToPILImage(),\n",
    "                                transforms.RandomRotation(9),\n",
    "                                transforms.RandomResizedCrop(28, scale=(.95, 1.05)),\n",
    "                                transforms.ToTensor(), \n",
    "                                transforms.Normalize((0.5,), (0.5,))])\n",
    "\n",
    "train_dataset = KannadaMNISTDataset(inputs[i_dict['train']], labels[i_dict['train']], transform)\n",
    "valid_dataset = KannadaMNISTDataset(inputs[i_dict['valid']], labels[i_dict['valid']], transform)\n",
    "test_dataset = KannadaMNISTDataset(test_inputs, ids, transform)\n",
    "trainloader = DataLoader(train_dataset, batch_size=64, shuffle=True)\n",
    "valloader = DataLoader(valid_dataset, batch_size=64, shuffle=False)\n",
    "testloader = DataLoader(test_dataset, batch_size=64, shuffle=False)"
   ]
  },
  {
   "cell_type": "code",
   "execution_count": 13,
   "metadata": {},
   "outputs": [],
   "source": [
    "class Flatten(nn.Module):\n",
    "    def forward(self, input):\n",
    "        return input.view(input.size(0), -1)"
   ]
  },
  {
   "cell_type": "markdown",
   "metadata": {},
   "source": [
    "## Baseline"
   ]
  },
  {
   "cell_type": "code",
   "execution_count": null,
   "metadata": {},
   "outputs": [],
   "source": [
    "model_base = nn.Sequential(\n",
    "    nn.Conv2d(1, 32, kernel_size=5, stride=1, padding=2),\n",
    "    nn.ReLU(),\n",
    "    nn.MaxPool2d(kernel_size=2, stride=2),\n",
    "    nn.Conv2d(32, 64, kernel_size=5, stride=1, padding=2),\n",
    "    nn.ReLU(),\n",
    "    nn.MaxPool2d(kernel_size=2, stride=2),\n",
    "    Flatten(),\n",
    "    nn.Linear(7 * 7 * 64, 1000),\n",
    "    nn.Linear(1000, 10),\n",
    "    # nn.LogSoftmax()\n",
    ")\n",
    "\n",
    "sess_base = Session(model_base, nn.CrossEntropyLoss(), optim.Adam, 1e-3)"
   ]
  },
  {
   "cell_type": "code",
   "execution_count": null,
   "metadata": {
    "scrolled": true
   },
   "outputs": [],
   "source": [
    "lr_find(sess_base, trainloader, start_lr=1e-7)"
   ]
  },
  {
   "cell_type": "code",
   "execution_count": null,
   "metadata": {},
   "outputs": [],
   "source": [
    "sess_base.set_lr(1e-4)"
   ]
  },
  {
   "cell_type": "code",
   "execution_count": null,
   "metadata": {},
   "outputs": [],
   "source": [
    "validator = Validator(valloader, OneHotAccuracy(), save_best=True, model_dir='./base')\n",
    "lr_scheduler = CosAnneal(len(trainloader), T_mult=2)\n",
    "schedule = TrainingSchedule(trainloader, [lr_scheduler, validator])\n",
    "sess_base.train(schedule, 7)"
   ]
  },
  {
   "cell_type": "code",
   "execution_count": null,
   "metadata": {},
   "outputs": [],
   "source": [
    "def inference_test_data(model, submission_path=None):\n",
    "    if submission_path is None:\n",
    "        submission_path = Path('./Kannada.submission.csv')\n",
    "        \n",
    "    submission = []\n",
    "    \n",
    "    model = util.to_gpu(model)\n",
    "    \n",
    "    with EvalModel(model):       \n",
    "        for input, id in testloader:\n",
    "            outputs = model(util.to_gpu(input))\n",
    "            _, preds = torch.max(outputs, 1)\n",
    "            \n",
    "\n",
    "            batch = torch.stack([id, preds.cpu()], dim=1).numpy()          \n",
    "\n",
    "            submission.append(batch)\n",
    "\n",
    "    submission = np.concatenate(submission)\n",
    "   \n",
    "    df = pd.DataFrame(submission, columns=['id', 'label'])\n",
    "    \n",
    "    df.to_csv(submission_path, index=False)\n",
    "        \n",
    "    return df"
   ]
  },
  {
   "cell_type": "code",
   "execution_count": null,
   "metadata": {},
   "outputs": [],
   "source": [
    "sub = inference_test_data(model_base)\n",
    "sub"
   ]
  },
  {
   "cell_type": "markdown",
   "metadata": {},
   "source": [
    "## Triplet Loss \n"
   ]
  },
  {
   "cell_type": "code",
   "execution_count": 14,
   "metadata": {},
   "outputs": [],
   "source": [
    "class TripletRegularizedCrossEntropyLoss(nn.Module):\n",
    "    def __init__(self, alpha, margin):     \n",
    "        super().__init__()\n",
    "        self.alpha = alpha\n",
    "        self.margin = margin\n",
    "        \n",
    "    def forward(self, x, y):\n",
    "        loss = F.cross_entropy(x[-1], y)\n",
    "        triplet = 0\n",
    "        \n",
    "        for layer in x[:-1]:\n",
    "            triplet += batch_hard_triplet_loss(layer.view(layer.size(0), -1), y, self.margin)\n",
    "            \n",
    "        triplet *= min(self.alpha/math.sqrt(loss.item()), 1)\n",
    "        triplet *= self.alpha\n",
    "            \n",
    "        return loss + triplet\n",
    "    \n",
    "    \n",
    "class CustomOneHotAccuracy(OneHotAccuracy):\n",
    "    def __init__(self):\n",
    "        super().__init__()\n",
    "        self.reset()\n",
    "\n",
    "    def update(self, output, label):\n",
    "        super().update(output[-1], label)\n",
    "        \n",
    "class SelectiveSequential(nn.Module):\n",
    "    def __init__(self, to_select, modules_dict):\n",
    "        super(SelectiveSequential, self).__init__()\n",
    "        for key, module in modules_dict.items():\n",
    "            self.add_module(key, module)\n",
    "        self._to_select = to_select\n",
    "    \n",
    "    def forward(self, x):\n",
    "        list = []\n",
    "        for name, module in self._modules.items():\n",
    "            x = module(x)\n",
    "            if name in self._to_select:\n",
    "                list.append(x)\n",
    "        return list\n",
    "    "
   ]
  },
  {
   "cell_type": "code",
   "execution_count": 15,
   "metadata": {},
   "outputs": [],
   "source": [
    "model = SelectiveSequential(\n",
    "    ['max1', 'max2', 'fc1', 'fc2', 'out'],\n",
    "    {'conv16': nn.Conv2d(1, 32, kernel_size=3, stride=1, padding=1),\n",
    "     'act16': nn.ReLU(),\n",
    "    \n",
    "     'conv32': nn.Conv2d(32, 32, kernel_size=3, stride=1, padding=1),\n",
    "     'act32': nn.ReLU(),\n",
    "    \n",
    "     'max1': nn.MaxPool2d(kernel_size=2, stride=2),\n",
    "    \n",
    "     'conv64': nn.Conv2d(32, 32, kernel_size=3, stride=1, padding=1),\n",
    "     'act64': nn.ReLU(),\n",
    "     \n",
    "     'conv32b': nn.Conv2d(32, 32, kernel_size=3, stride=1, padding=1),\n",
    "     'act32b': nn.ReLU(),\n",
    "     \n",
    "     'max2': nn.MaxPool2d(kernel_size=2, stride=2),\n",
    "\n",
    "    'flatten': Flatten(),\n",
    "    'fc1': nn.Linear(7 * 7 * 32, 512),\n",
    "    'fc2': nn.Linear(512, 256),\n",
    "    'out': nn.Linear(256, 10)}\n",
    ")"
   ]
  },
  {
   "cell_type": "code",
   "execution_count": 16,
   "metadata": {},
   "outputs": [],
   "source": [
    "criterion = TripletRegularizedCrossEntropyLoss(.25, 1)\n",
    "sess = Session(model, criterion, optim.Adam, 1e-3)"
   ]
  },
  {
   "cell_type": "code",
   "execution_count": 17,
   "metadata": {},
   "outputs": [
    {
     "data": {
      "application/vnd.jupyter.widget-view+json": {
       "model_id": "68dac15ab4004452aeaa364ca78d1bae",
       "version_major": 2,
       "version_minor": 0
      },
      "text/plain": [
       "HBox(children=(IntProgress(value=0, description='Epochs', max=1, style=ProgressStyle(description_width='initia…"
      ]
     },
     "metadata": {},
     "output_type": "display_data"
    },
    {
     "data": {
      "application/vnd.jupyter.widget-view+json": {
       "model_id": "d921f31764b049b68fcbf624d9497790",
       "version_major": 2,
       "version_minor": 0
      },
      "text/plain": [
       "HBox(children=(IntProgress(value=0, description='Steps', max=891, style=ProgressStyle(description_width='initi…"
      ]
     },
     "metadata": {},
     "output_type": "display_data"
    },
    {
     "name": "stdout",
     "output_type": "stream",
     "text": [
      "\n"
     ]
    },
    {
     "data": {
      "application/javascript": [
       "/* Put everything inside the global mpl namespace */\n",
       "window.mpl = {};\n",
       "\n",
       "\n",
       "mpl.get_websocket_type = function() {\n",
       "    if (typeof(WebSocket) !== 'undefined') {\n",
       "        return WebSocket;\n",
       "    } else if (typeof(MozWebSocket) !== 'undefined') {\n",
       "        return MozWebSocket;\n",
       "    } else {\n",
       "        alert('Your browser does not have WebSocket support. ' +\n",
       "              'Please try Chrome, Safari or Firefox ≥ 6. ' +\n",
       "              'Firefox 4 and 5 are also supported but you ' +\n",
       "              'have to enable WebSockets in about:config.');\n",
       "    };\n",
       "}\n",
       "\n",
       "mpl.figure = function(figure_id, websocket, ondownload, parent_element) {\n",
       "    this.id = figure_id;\n",
       "\n",
       "    this.ws = websocket;\n",
       "\n",
       "    this.supports_binary = (this.ws.binaryType != undefined);\n",
       "\n",
       "    if (!this.supports_binary) {\n",
       "        var warnings = document.getElementById(\"mpl-warnings\");\n",
       "        if (warnings) {\n",
       "            warnings.style.display = 'block';\n",
       "            warnings.textContent = (\n",
       "                \"This browser does not support binary websocket messages. \" +\n",
       "                    \"Performance may be slow.\");\n",
       "        }\n",
       "    }\n",
       "\n",
       "    this.imageObj = new Image();\n",
       "\n",
       "    this.context = undefined;\n",
       "    this.message = undefined;\n",
       "    this.canvas = undefined;\n",
       "    this.rubberband_canvas = undefined;\n",
       "    this.rubberband_context = undefined;\n",
       "    this.format_dropdown = undefined;\n",
       "\n",
       "    this.image_mode = 'full';\n",
       "\n",
       "    this.root = $('<div/>');\n",
       "    this._root_extra_style(this.root)\n",
       "    this.root.attr('style', 'display: inline-block');\n",
       "\n",
       "    $(parent_element).append(this.root);\n",
       "\n",
       "    this._init_header(this);\n",
       "    this._init_canvas(this);\n",
       "    this._init_toolbar(this);\n",
       "\n",
       "    var fig = this;\n",
       "\n",
       "    this.waiting = false;\n",
       "\n",
       "    this.ws.onopen =  function () {\n",
       "            fig.send_message(\"supports_binary\", {value: fig.supports_binary});\n",
       "            fig.send_message(\"send_image_mode\", {});\n",
       "            if (mpl.ratio != 1) {\n",
       "                fig.send_message(\"set_dpi_ratio\", {'dpi_ratio': mpl.ratio});\n",
       "            }\n",
       "            fig.send_message(\"refresh\", {});\n",
       "        }\n",
       "\n",
       "    this.imageObj.onload = function() {\n",
       "            if (fig.image_mode == 'full') {\n",
       "                // Full images could contain transparency (where diff images\n",
       "                // almost always do), so we need to clear the canvas so that\n",
       "                // there is no ghosting.\n",
       "                fig.context.clearRect(0, 0, fig.canvas.width, fig.canvas.height);\n",
       "            }\n",
       "            fig.context.drawImage(fig.imageObj, 0, 0);\n",
       "        };\n",
       "\n",
       "    this.imageObj.onunload = function() {\n",
       "        fig.ws.close();\n",
       "    }\n",
       "\n",
       "    this.ws.onmessage = this._make_on_message_function(this);\n",
       "\n",
       "    this.ondownload = ondownload;\n",
       "}\n",
       "\n",
       "mpl.figure.prototype._init_header = function() {\n",
       "    var titlebar = $(\n",
       "        '<div class=\"ui-dialog-titlebar ui-widget-header ui-corner-all ' +\n",
       "        'ui-helper-clearfix\"/>');\n",
       "    var titletext = $(\n",
       "        '<div class=\"ui-dialog-title\" style=\"width: 100%; ' +\n",
       "        'text-align: center; padding: 3px;\"/>');\n",
       "    titlebar.append(titletext)\n",
       "    this.root.append(titlebar);\n",
       "    this.header = titletext[0];\n",
       "}\n",
       "\n",
       "\n",
       "\n",
       "mpl.figure.prototype._canvas_extra_style = function(canvas_div) {\n",
       "\n",
       "}\n",
       "\n",
       "\n",
       "mpl.figure.prototype._root_extra_style = function(canvas_div) {\n",
       "\n",
       "}\n",
       "\n",
       "mpl.figure.prototype._init_canvas = function() {\n",
       "    var fig = this;\n",
       "\n",
       "    var canvas_div = $('<div/>');\n",
       "\n",
       "    canvas_div.attr('style', 'position: relative; clear: both; outline: 0');\n",
       "\n",
       "    function canvas_keyboard_event(event) {\n",
       "        return fig.key_event(event, event['data']);\n",
       "    }\n",
       "\n",
       "    canvas_div.keydown('key_press', canvas_keyboard_event);\n",
       "    canvas_div.keyup('key_release', canvas_keyboard_event);\n",
       "    this.canvas_div = canvas_div\n",
       "    this._canvas_extra_style(canvas_div)\n",
       "    this.root.append(canvas_div);\n",
       "\n",
       "    var canvas = $('<canvas/>');\n",
       "    canvas.addClass('mpl-canvas');\n",
       "    canvas.attr('style', \"left: 0; top: 0; z-index: 0; outline: 0\")\n",
       "\n",
       "    this.canvas = canvas[0];\n",
       "    this.context = canvas[0].getContext(\"2d\");\n",
       "\n",
       "    var backingStore = this.context.backingStorePixelRatio ||\n",
       "\tthis.context.webkitBackingStorePixelRatio ||\n",
       "\tthis.context.mozBackingStorePixelRatio ||\n",
       "\tthis.context.msBackingStorePixelRatio ||\n",
       "\tthis.context.oBackingStorePixelRatio ||\n",
       "\tthis.context.backingStorePixelRatio || 1;\n",
       "\n",
       "    mpl.ratio = (window.devicePixelRatio || 1) / backingStore;\n",
       "\n",
       "    var rubberband = $('<canvas/>');\n",
       "    rubberband.attr('style', \"position: absolute; left: 0; top: 0; z-index: 1;\")\n",
       "\n",
       "    var pass_mouse_events = true;\n",
       "\n",
       "    canvas_div.resizable({\n",
       "        start: function(event, ui) {\n",
       "            pass_mouse_events = false;\n",
       "        },\n",
       "        resize: function(event, ui) {\n",
       "            fig.request_resize(ui.size.width, ui.size.height);\n",
       "        },\n",
       "        stop: function(event, ui) {\n",
       "            pass_mouse_events = true;\n",
       "            fig.request_resize(ui.size.width, ui.size.height);\n",
       "        },\n",
       "    });\n",
       "\n",
       "    function mouse_event_fn(event) {\n",
       "        if (pass_mouse_events)\n",
       "            return fig.mouse_event(event, event['data']);\n",
       "    }\n",
       "\n",
       "    rubberband.mousedown('button_press', mouse_event_fn);\n",
       "    rubberband.mouseup('button_release', mouse_event_fn);\n",
       "    // Throttle sequential mouse events to 1 every 20ms.\n",
       "    rubberband.mousemove('motion_notify', mouse_event_fn);\n",
       "\n",
       "    rubberband.mouseenter('figure_enter', mouse_event_fn);\n",
       "    rubberband.mouseleave('figure_leave', mouse_event_fn);\n",
       "\n",
       "    canvas_div.on(\"wheel\", function (event) {\n",
       "        event = event.originalEvent;\n",
       "        event['data'] = 'scroll'\n",
       "        if (event.deltaY < 0) {\n",
       "            event.step = 1;\n",
       "        } else {\n",
       "            event.step = -1;\n",
       "        }\n",
       "        mouse_event_fn(event);\n",
       "    });\n",
       "\n",
       "    canvas_div.append(canvas);\n",
       "    canvas_div.append(rubberband);\n",
       "\n",
       "    this.rubberband = rubberband;\n",
       "    this.rubberband_canvas = rubberband[0];\n",
       "    this.rubberband_context = rubberband[0].getContext(\"2d\");\n",
       "    this.rubberband_context.strokeStyle = \"#000000\";\n",
       "\n",
       "    this._resize_canvas = function(width, height) {\n",
       "        // Keep the size of the canvas, canvas container, and rubber band\n",
       "        // canvas in synch.\n",
       "        canvas_div.css('width', width)\n",
       "        canvas_div.css('height', height)\n",
       "\n",
       "        canvas.attr('width', width * mpl.ratio);\n",
       "        canvas.attr('height', height * mpl.ratio);\n",
       "        canvas.attr('style', 'width: ' + width + 'px; height: ' + height + 'px;');\n",
       "\n",
       "        rubberband.attr('width', width);\n",
       "        rubberband.attr('height', height);\n",
       "    }\n",
       "\n",
       "    // Set the figure to an initial 600x600px, this will subsequently be updated\n",
       "    // upon first draw.\n",
       "    this._resize_canvas(600, 600);\n",
       "\n",
       "    // Disable right mouse context menu.\n",
       "    $(this.rubberband_canvas).bind(\"contextmenu\",function(e){\n",
       "        return false;\n",
       "    });\n",
       "\n",
       "    function set_focus () {\n",
       "        canvas.focus();\n",
       "        canvas_div.focus();\n",
       "    }\n",
       "\n",
       "    window.setTimeout(set_focus, 100);\n",
       "}\n",
       "\n",
       "mpl.figure.prototype._init_toolbar = function() {\n",
       "    var fig = this;\n",
       "\n",
       "    var nav_element = $('<div/>');\n",
       "    nav_element.attr('style', 'width: 100%');\n",
       "    this.root.append(nav_element);\n",
       "\n",
       "    // Define a callback function for later on.\n",
       "    function toolbar_event(event) {\n",
       "        return fig.toolbar_button_onclick(event['data']);\n",
       "    }\n",
       "    function toolbar_mouse_event(event) {\n",
       "        return fig.toolbar_button_onmouseover(event['data']);\n",
       "    }\n",
       "\n",
       "    for(var toolbar_ind in mpl.toolbar_items) {\n",
       "        var name = mpl.toolbar_items[toolbar_ind][0];\n",
       "        var tooltip = mpl.toolbar_items[toolbar_ind][1];\n",
       "        var image = mpl.toolbar_items[toolbar_ind][2];\n",
       "        var method_name = mpl.toolbar_items[toolbar_ind][3];\n",
       "\n",
       "        if (!name) {\n",
       "            // put a spacer in here.\n",
       "            continue;\n",
       "        }\n",
       "        var button = $('<button/>');\n",
       "        button.addClass('ui-button ui-widget ui-state-default ui-corner-all ' +\n",
       "                        'ui-button-icon-only');\n",
       "        button.attr('role', 'button');\n",
       "        button.attr('aria-disabled', 'false');\n",
       "        button.click(method_name, toolbar_event);\n",
       "        button.mouseover(tooltip, toolbar_mouse_event);\n",
       "\n",
       "        var icon_img = $('<span/>');\n",
       "        icon_img.addClass('ui-button-icon-primary ui-icon');\n",
       "        icon_img.addClass(image);\n",
       "        icon_img.addClass('ui-corner-all');\n",
       "\n",
       "        var tooltip_span = $('<span/>');\n",
       "        tooltip_span.addClass('ui-button-text');\n",
       "        tooltip_span.html(tooltip);\n",
       "\n",
       "        button.append(icon_img);\n",
       "        button.append(tooltip_span);\n",
       "\n",
       "        nav_element.append(button);\n",
       "    }\n",
       "\n",
       "    var fmt_picker_span = $('<span/>');\n",
       "\n",
       "    var fmt_picker = $('<select/>');\n",
       "    fmt_picker.addClass('mpl-toolbar-option ui-widget ui-widget-content');\n",
       "    fmt_picker_span.append(fmt_picker);\n",
       "    nav_element.append(fmt_picker_span);\n",
       "    this.format_dropdown = fmt_picker[0];\n",
       "\n",
       "    for (var ind in mpl.extensions) {\n",
       "        var fmt = mpl.extensions[ind];\n",
       "        var option = $(\n",
       "            '<option/>', {selected: fmt === mpl.default_extension}).html(fmt);\n",
       "        fmt_picker.append(option);\n",
       "    }\n",
       "\n",
       "    // Add hover states to the ui-buttons\n",
       "    $( \".ui-button\" ).hover(\n",
       "        function() { $(this).addClass(\"ui-state-hover\");},\n",
       "        function() { $(this).removeClass(\"ui-state-hover\");}\n",
       "    );\n",
       "\n",
       "    var status_bar = $('<span class=\"mpl-message\"/>');\n",
       "    nav_element.append(status_bar);\n",
       "    this.message = status_bar[0];\n",
       "}\n",
       "\n",
       "mpl.figure.prototype.request_resize = function(x_pixels, y_pixels) {\n",
       "    // Request matplotlib to resize the figure. Matplotlib will then trigger a resize in the client,\n",
       "    // which will in turn request a refresh of the image.\n",
       "    this.send_message('resize', {'width': x_pixels, 'height': y_pixels});\n",
       "}\n",
       "\n",
       "mpl.figure.prototype.send_message = function(type, properties) {\n",
       "    properties['type'] = type;\n",
       "    properties['figure_id'] = this.id;\n",
       "    this.ws.send(JSON.stringify(properties));\n",
       "}\n",
       "\n",
       "mpl.figure.prototype.send_draw_message = function() {\n",
       "    if (!this.waiting) {\n",
       "        this.waiting = true;\n",
       "        this.ws.send(JSON.stringify({type: \"draw\", figure_id: this.id}));\n",
       "    }\n",
       "}\n",
       "\n",
       "\n",
       "mpl.figure.prototype.handle_save = function(fig, msg) {\n",
       "    var format_dropdown = fig.format_dropdown;\n",
       "    var format = format_dropdown.options[format_dropdown.selectedIndex].value;\n",
       "    fig.ondownload(fig, format);\n",
       "}\n",
       "\n",
       "\n",
       "mpl.figure.prototype.handle_resize = function(fig, msg) {\n",
       "    var size = msg['size'];\n",
       "    if (size[0] != fig.canvas.width || size[1] != fig.canvas.height) {\n",
       "        fig._resize_canvas(size[0], size[1]);\n",
       "        fig.send_message(\"refresh\", {});\n",
       "    };\n",
       "}\n",
       "\n",
       "mpl.figure.prototype.handle_rubberband = function(fig, msg) {\n",
       "    var x0 = msg['x0'] / mpl.ratio;\n",
       "    var y0 = (fig.canvas.height - msg['y0']) / mpl.ratio;\n",
       "    var x1 = msg['x1'] / mpl.ratio;\n",
       "    var y1 = (fig.canvas.height - msg['y1']) / mpl.ratio;\n",
       "    x0 = Math.floor(x0) + 0.5;\n",
       "    y0 = Math.floor(y0) + 0.5;\n",
       "    x1 = Math.floor(x1) + 0.5;\n",
       "    y1 = Math.floor(y1) + 0.5;\n",
       "    var min_x = Math.min(x0, x1);\n",
       "    var min_y = Math.min(y0, y1);\n",
       "    var width = Math.abs(x1 - x0);\n",
       "    var height = Math.abs(y1 - y0);\n",
       "\n",
       "    fig.rubberband_context.clearRect(\n",
       "        0, 0, fig.canvas.width / mpl.ratio, fig.canvas.height / mpl.ratio);\n",
       "\n",
       "    fig.rubberband_context.strokeRect(min_x, min_y, width, height);\n",
       "}\n",
       "\n",
       "mpl.figure.prototype.handle_figure_label = function(fig, msg) {\n",
       "    // Updates the figure title.\n",
       "    fig.header.textContent = msg['label'];\n",
       "}\n",
       "\n",
       "mpl.figure.prototype.handle_cursor = function(fig, msg) {\n",
       "    var cursor = msg['cursor'];\n",
       "    switch(cursor)\n",
       "    {\n",
       "    case 0:\n",
       "        cursor = 'pointer';\n",
       "        break;\n",
       "    case 1:\n",
       "        cursor = 'default';\n",
       "        break;\n",
       "    case 2:\n",
       "        cursor = 'crosshair';\n",
       "        break;\n",
       "    case 3:\n",
       "        cursor = 'move';\n",
       "        break;\n",
       "    }\n",
       "    fig.rubberband_canvas.style.cursor = cursor;\n",
       "}\n",
       "\n",
       "mpl.figure.prototype.handle_message = function(fig, msg) {\n",
       "    fig.message.textContent = msg['message'];\n",
       "}\n",
       "\n",
       "mpl.figure.prototype.handle_draw = function(fig, msg) {\n",
       "    // Request the server to send over a new figure.\n",
       "    fig.send_draw_message();\n",
       "}\n",
       "\n",
       "mpl.figure.prototype.handle_image_mode = function(fig, msg) {\n",
       "    fig.image_mode = msg['mode'];\n",
       "}\n",
       "\n",
       "mpl.figure.prototype.updated_canvas_event = function() {\n",
       "    // Called whenever the canvas gets updated.\n",
       "    this.send_message(\"ack\", {});\n",
       "}\n",
       "\n",
       "// A function to construct a web socket function for onmessage handling.\n",
       "// Called in the figure constructor.\n",
       "mpl.figure.prototype._make_on_message_function = function(fig) {\n",
       "    return function socket_on_message(evt) {\n",
       "        if (evt.data instanceof Blob) {\n",
       "            /* FIXME: We get \"Resource interpreted as Image but\n",
       "             * transferred with MIME type text/plain:\" errors on\n",
       "             * Chrome.  But how to set the MIME type?  It doesn't seem\n",
       "             * to be part of the websocket stream */\n",
       "            evt.data.type = \"image/png\";\n",
       "\n",
       "            /* Free the memory for the previous frames */\n",
       "            if (fig.imageObj.src) {\n",
       "                (window.URL || window.webkitURL).revokeObjectURL(\n",
       "                    fig.imageObj.src);\n",
       "            }\n",
       "\n",
       "            fig.imageObj.src = (window.URL || window.webkitURL).createObjectURL(\n",
       "                evt.data);\n",
       "            fig.updated_canvas_event();\n",
       "            fig.waiting = false;\n",
       "            return;\n",
       "        }\n",
       "        else if (typeof evt.data === 'string' && evt.data.slice(0, 21) == \"data:image/png;base64\") {\n",
       "            fig.imageObj.src = evt.data;\n",
       "            fig.updated_canvas_event();\n",
       "            fig.waiting = false;\n",
       "            return;\n",
       "        }\n",
       "\n",
       "        var msg = JSON.parse(evt.data);\n",
       "        var msg_type = msg['type'];\n",
       "\n",
       "        // Call the  \"handle_{type}\" callback, which takes\n",
       "        // the figure and JSON message as its only arguments.\n",
       "        try {\n",
       "            var callback = fig[\"handle_\" + msg_type];\n",
       "        } catch (e) {\n",
       "            console.log(\"No handler for the '\" + msg_type + \"' message type: \", msg);\n",
       "            return;\n",
       "        }\n",
       "\n",
       "        if (callback) {\n",
       "            try {\n",
       "                // console.log(\"Handling '\" + msg_type + \"' message: \", msg);\n",
       "                callback(fig, msg);\n",
       "            } catch (e) {\n",
       "                console.log(\"Exception inside the 'handler_\" + msg_type + \"' callback:\", e, e.stack, msg);\n",
       "            }\n",
       "        }\n",
       "    };\n",
       "}\n",
       "\n",
       "// from http://stackoverflow.com/questions/1114465/getting-mouse-location-in-canvas\n",
       "mpl.findpos = function(e) {\n",
       "    //this section is from http://www.quirksmode.org/js/events_properties.html\n",
       "    var targ;\n",
       "    if (!e)\n",
       "        e = window.event;\n",
       "    if (e.target)\n",
       "        targ = e.target;\n",
       "    else if (e.srcElement)\n",
       "        targ = e.srcElement;\n",
       "    if (targ.nodeType == 3) // defeat Safari bug\n",
       "        targ = targ.parentNode;\n",
       "\n",
       "    // jQuery normalizes the pageX and pageY\n",
       "    // pageX,Y are the mouse positions relative to the document\n",
       "    // offset() returns the position of the element relative to the document\n",
       "    var x = e.pageX - $(targ).offset().left;\n",
       "    var y = e.pageY - $(targ).offset().top;\n",
       "\n",
       "    return {\"x\": x, \"y\": y};\n",
       "};\n",
       "\n",
       "/*\n",
       " * return a copy of an object with only non-object keys\n",
       " * we need this to avoid circular references\n",
       " * http://stackoverflow.com/a/24161582/3208463\n",
       " */\n",
       "function simpleKeys (original) {\n",
       "  return Object.keys(original).reduce(function (obj, key) {\n",
       "    if (typeof original[key] !== 'object')\n",
       "        obj[key] = original[key]\n",
       "    return obj;\n",
       "  }, {});\n",
       "}\n",
       "\n",
       "mpl.figure.prototype.mouse_event = function(event, name) {\n",
       "    var canvas_pos = mpl.findpos(event)\n",
       "\n",
       "    if (name === 'button_press')\n",
       "    {\n",
       "        this.canvas.focus();\n",
       "        this.canvas_div.focus();\n",
       "    }\n",
       "\n",
       "    var x = canvas_pos.x * mpl.ratio;\n",
       "    var y = canvas_pos.y * mpl.ratio;\n",
       "\n",
       "    this.send_message(name, {x: x, y: y, button: event.button,\n",
       "                             step: event.step,\n",
       "                             guiEvent: simpleKeys(event)});\n",
       "\n",
       "    /* This prevents the web browser from automatically changing to\n",
       "     * the text insertion cursor when the button is pressed.  We want\n",
       "     * to control all of the cursor setting manually through the\n",
       "     * 'cursor' event from matplotlib */\n",
       "    event.preventDefault();\n",
       "    return false;\n",
       "}\n",
       "\n",
       "mpl.figure.prototype._key_event_extra = function(event, name) {\n",
       "    // Handle any extra behaviour associated with a key event\n",
       "}\n",
       "\n",
       "mpl.figure.prototype.key_event = function(event, name) {\n",
       "\n",
       "    // Prevent repeat events\n",
       "    if (name == 'key_press')\n",
       "    {\n",
       "        if (event.which === this._key)\n",
       "            return;\n",
       "        else\n",
       "            this._key = event.which;\n",
       "    }\n",
       "    if (name == 'key_release')\n",
       "        this._key = null;\n",
       "\n",
       "    var value = '';\n",
       "    if (event.ctrlKey && event.which != 17)\n",
       "        value += \"ctrl+\";\n",
       "    if (event.altKey && event.which != 18)\n",
       "        value += \"alt+\";\n",
       "    if (event.shiftKey && event.which != 16)\n",
       "        value += \"shift+\";\n",
       "\n",
       "    value += 'k';\n",
       "    value += event.which.toString();\n",
       "\n",
       "    this._key_event_extra(event, name);\n",
       "\n",
       "    this.send_message(name, {key: value,\n",
       "                             guiEvent: simpleKeys(event)});\n",
       "    return false;\n",
       "}\n",
       "\n",
       "mpl.figure.prototype.toolbar_button_onclick = function(name) {\n",
       "    if (name == 'download') {\n",
       "        this.handle_save(this, null);\n",
       "    } else {\n",
       "        this.send_message(\"toolbar_button\", {name: name});\n",
       "    }\n",
       "};\n",
       "\n",
       "mpl.figure.prototype.toolbar_button_onmouseover = function(tooltip) {\n",
       "    this.message.textContent = tooltip;\n",
       "};\n",
       "mpl.toolbar_items = [[\"Home\", \"Reset original view\", \"fa fa-home icon-home\", \"home\"], [\"Back\", \"Back to previous view\", \"fa fa-arrow-left icon-arrow-left\", \"back\"], [\"Forward\", \"Forward to next view\", \"fa fa-arrow-right icon-arrow-right\", \"forward\"], [\"\", \"\", \"\", \"\"], [\"Pan\", \"Pan axes with left mouse, zoom with right\", \"fa fa-arrows icon-move\", \"pan\"], [\"Zoom\", \"Zoom to rectangle\", \"fa fa-square-o icon-check-empty\", \"zoom\"], [\"\", \"\", \"\", \"\"], [\"Download\", \"Download plot\", \"fa fa-floppy-o icon-save\", \"download\"]];\n",
       "\n",
       "mpl.extensions = [\"eps\", \"jpeg\", \"pdf\", \"png\", \"ps\", \"raw\", \"svg\", \"tif\"];\n",
       "\n",
       "mpl.default_extension = \"png\";var comm_websocket_adapter = function(comm) {\n",
       "    // Create a \"websocket\"-like object which calls the given IPython comm\n",
       "    // object with the appropriate methods. Currently this is a non binary\n",
       "    // socket, so there is still some room for performance tuning.\n",
       "    var ws = {};\n",
       "\n",
       "    ws.close = function() {\n",
       "        comm.close()\n",
       "    };\n",
       "    ws.send = function(m) {\n",
       "        //console.log('sending', m);\n",
       "        comm.send(m);\n",
       "    };\n",
       "    // Register the callback with on_msg.\n",
       "    comm.on_msg(function(msg) {\n",
       "        //console.log('receiving', msg['content']['data'], msg);\n",
       "        // Pass the mpl event to the overridden (by mpl) onmessage function.\n",
       "        ws.onmessage(msg['content']['data'])\n",
       "    });\n",
       "    return ws;\n",
       "}\n",
       "\n",
       "mpl.mpl_figure_comm = function(comm, msg) {\n",
       "    // This is the function which gets called when the mpl process\n",
       "    // starts-up an IPython Comm through the \"matplotlib\" channel.\n",
       "\n",
       "    var id = msg.content.data.id;\n",
       "    // Get hold of the div created by the display call when the Comm\n",
       "    // socket was opened in Python.\n",
       "    var element = $(\"#\" + id);\n",
       "    var ws_proxy = comm_websocket_adapter(comm)\n",
       "\n",
       "    function ondownload(figure, format) {\n",
       "        window.open(figure.imageObj.src);\n",
       "    }\n",
       "\n",
       "    var fig = new mpl.figure(id, ws_proxy,\n",
       "                           ondownload,\n",
       "                           element.get(0));\n",
       "\n",
       "    // Call onopen now - mpl needs it, as it is assuming we've passed it a real\n",
       "    // web socket which is closed, not our websocket->open comm proxy.\n",
       "    ws_proxy.onopen();\n",
       "\n",
       "    fig.parent_element = element.get(0);\n",
       "    fig.cell_info = mpl.find_output_cell(\"<div id='\" + id + \"'></div>\");\n",
       "    if (!fig.cell_info) {\n",
       "        console.error(\"Failed to find cell for figure\", id, fig);\n",
       "        return;\n",
       "    }\n",
       "\n",
       "    var output_index = fig.cell_info[2]\n",
       "    var cell = fig.cell_info[0];\n",
       "\n",
       "};\n",
       "\n",
       "mpl.figure.prototype.handle_close = function(fig, msg) {\n",
       "    var width = fig.canvas.width/mpl.ratio\n",
       "    fig.root.unbind('remove')\n",
       "\n",
       "    // Update the output cell to use the data from the current canvas.\n",
       "    fig.push_to_output();\n",
       "    var dataURL = fig.canvas.toDataURL();\n",
       "    // Re-enable the keyboard manager in IPython - without this line, in FF,\n",
       "    // the notebook keyboard shortcuts fail.\n",
       "    IPython.keyboard_manager.enable()\n",
       "    $(fig.parent_element).html('<img src=\"' + dataURL + '\" width=\"' + width + '\">');\n",
       "    fig.close_ws(fig, msg);\n",
       "}\n",
       "\n",
       "mpl.figure.prototype.close_ws = function(fig, msg){\n",
       "    fig.send_message('closing', msg);\n",
       "    // fig.ws.close()\n",
       "}\n",
       "\n",
       "mpl.figure.prototype.push_to_output = function(remove_interactive) {\n",
       "    // Turn the data on the canvas into data in the output cell.\n",
       "    var width = this.canvas.width/mpl.ratio\n",
       "    var dataURL = this.canvas.toDataURL();\n",
       "    this.cell_info[1]['text/html'] = '<img src=\"' + dataURL + '\" width=\"' + width + '\">';\n",
       "}\n",
       "\n",
       "mpl.figure.prototype.updated_canvas_event = function() {\n",
       "    // Tell IPython that the notebook contents must change.\n",
       "    IPython.notebook.set_dirty(true);\n",
       "    this.send_message(\"ack\", {});\n",
       "    var fig = this;\n",
       "    // Wait a second, then push the new image to the DOM so\n",
       "    // that it is saved nicely (might be nice to debounce this).\n",
       "    setTimeout(function () { fig.push_to_output() }, 1000);\n",
       "}\n",
       "\n",
       "mpl.figure.prototype._init_toolbar = function() {\n",
       "    var fig = this;\n",
       "\n",
       "    var nav_element = $('<div/>');\n",
       "    nav_element.attr('style', 'width: 100%');\n",
       "    this.root.append(nav_element);\n",
       "\n",
       "    // Define a callback function for later on.\n",
       "    function toolbar_event(event) {\n",
       "        return fig.toolbar_button_onclick(event['data']);\n",
       "    }\n",
       "    function toolbar_mouse_event(event) {\n",
       "        return fig.toolbar_button_onmouseover(event['data']);\n",
       "    }\n",
       "\n",
       "    for(var toolbar_ind in mpl.toolbar_items){\n",
       "        var name = mpl.toolbar_items[toolbar_ind][0];\n",
       "        var tooltip = mpl.toolbar_items[toolbar_ind][1];\n",
       "        var image = mpl.toolbar_items[toolbar_ind][2];\n",
       "        var method_name = mpl.toolbar_items[toolbar_ind][3];\n",
       "\n",
       "        if (!name) { continue; };\n",
       "\n",
       "        var button = $('<button class=\"btn btn-default\" href=\"#\" title=\"' + name + '\"><i class=\"fa ' + image + ' fa-lg\"></i></button>');\n",
       "        button.click(method_name, toolbar_event);\n",
       "        button.mouseover(tooltip, toolbar_mouse_event);\n",
       "        nav_element.append(button);\n",
       "    }\n",
       "\n",
       "    // Add the status bar.\n",
       "    var status_bar = $('<span class=\"mpl-message\" style=\"text-align:right; float: right;\"/>');\n",
       "    nav_element.append(status_bar);\n",
       "    this.message = status_bar[0];\n",
       "\n",
       "    // Add the close button to the window.\n",
       "    var buttongrp = $('<div class=\"btn-group inline pull-right\"></div>');\n",
       "    var button = $('<button class=\"btn btn-mini btn-primary\" href=\"#\" title=\"Stop Interaction\"><i class=\"fa fa-power-off icon-remove icon-large\"></i></button>');\n",
       "    button.click(function (evt) { fig.handle_close(fig, {}); } );\n",
       "    button.mouseover('Stop Interaction', toolbar_mouse_event);\n",
       "    buttongrp.append(button);\n",
       "    var titlebar = this.root.find($('.ui-dialog-titlebar'));\n",
       "    titlebar.prepend(buttongrp);\n",
       "}\n",
       "\n",
       "mpl.figure.prototype._root_extra_style = function(el){\n",
       "    var fig = this\n",
       "    el.on(\"remove\", function(){\n",
       "\tfig.close_ws(fig, {});\n",
       "    });\n",
       "}\n",
       "\n",
       "mpl.figure.prototype._canvas_extra_style = function(el){\n",
       "    // this is important to make the div 'focusable\n",
       "    el.attr('tabindex', 0)\n",
       "    // reach out to IPython and tell the keyboard manager to turn it's self\n",
       "    // off when our div gets focus\n",
       "\n",
       "    // location in version 3\n",
       "    if (IPython.notebook.keyboard_manager) {\n",
       "        IPython.notebook.keyboard_manager.register_events(el);\n",
       "    }\n",
       "    else {\n",
       "        // location in version 2\n",
       "        IPython.keyboard_manager.register_events(el);\n",
       "    }\n",
       "\n",
       "}\n",
       "\n",
       "mpl.figure.prototype._key_event_extra = function(event, name) {\n",
       "    var manager = IPython.notebook.keyboard_manager;\n",
       "    if (!manager)\n",
       "        manager = IPython.keyboard_manager;\n",
       "\n",
       "    // Check for shift+enter\n",
       "    if (event.shiftKey && event.which == 13) {\n",
       "        this.canvas_div.blur();\n",
       "        event.shiftKey = false;\n",
       "        // Send a \"J\" for go to next cell\n",
       "        event.which = 74;\n",
       "        event.keyCode = 74;\n",
       "        manager.command_mode();\n",
       "        manager.handle_keydown(event);\n",
       "    }\n",
       "}\n",
       "\n",
       "mpl.figure.prototype.handle_save = function(fig, msg) {\n",
       "    fig.ondownload(fig, null);\n",
       "}\n",
       "\n",
       "\n",
       "mpl.find_output_cell = function(html_output) {\n",
       "    // Return the cell and output element which can be found *uniquely* in the notebook.\n",
       "    // Note - this is a bit hacky, but it is done because the \"notebook_saving.Notebook\"\n",
       "    // IPython event is triggered only after the cells have been serialised, which for\n",
       "    // our purposes (turning an active figure into a static one), is too late.\n",
       "    var cells = IPython.notebook.get_cells();\n",
       "    var ncells = cells.length;\n",
       "    for (var i=0; i<ncells; i++) {\n",
       "        var cell = cells[i];\n",
       "        if (cell.cell_type === 'code'){\n",
       "            for (var j=0; j<cell.output_area.outputs.length; j++) {\n",
       "                var data = cell.output_area.outputs[j];\n",
       "                if (data.data) {\n",
       "                    // IPython >= 3 moved mimebundle to data attribute of output\n",
       "                    data = data.data;\n",
       "                }\n",
       "                if (data['text/html'] == html_output) {\n",
       "                    return [cell, data, j];\n",
       "                }\n",
       "            }\n",
       "        }\n",
       "    }\n",
       "}\n",
       "\n",
       "// Register the function which deals with the matplotlib target/channel.\n",
       "// The kernel may be null if the page has been refreshed.\n",
       "if (IPython.notebook.kernel != null) {\n",
       "    IPython.notebook.kernel.comm_manager.register_target('matplotlib', mpl.mpl_figure_comm);\n",
       "}\n"
      ],
      "text/plain": [
       "<IPython.core.display.Javascript object>"
      ]
     },
     "metadata": {},
     "output_type": "display_data"
    },
    {
     "data": {
      "text/html": [
       "<img src=\"data:image/png;base64,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\" width=\"640\">"
      ],
      "text/plain": [
       "<IPython.core.display.HTML object>"
      ]
     },
     "metadata": {},
     "output_type": "display_data"
    }
   ],
   "source": [
    "lr_find(sess, trainloader, start_lr=1e-7)"
   ]
  },
  {
   "cell_type": "code",
   "execution_count": 18,
   "metadata": {},
   "outputs": [],
   "source": [
    "sess.set_lr(5e-4)"
   ]
  },
  {
   "cell_type": "code",
   "execution_count": 19,
   "metadata": {
    "scrolled": false
   },
   "outputs": [
    {
     "data": {
      "application/vnd.jupyter.widget-view+json": {
       "model_id": "4809c546cc0342e199119613a87f5739",
       "version_major": 2,
       "version_minor": 0
      },
      "text/plain": [
       "HBox(children=(IntProgress(value=0, description='Epochs', max=31, style=ProgressStyle(description_width='initi…"
      ]
     },
     "metadata": {},
     "output_type": "display_data"
    },
    {
     "data": {
      "application/vnd.jupyter.widget-view+json": {
       "model_id": "",
       "version_major": 2,
       "version_minor": 0
      },
      "text/plain": [
       "HBox(children=(IntProgress(value=0, description='Steps', max=891, style=ProgressStyle(description_width='initi…"
      ]
     },
     "metadata": {},
     "output_type": "display_data"
    },
    {
     "name": "stderr",
     "output_type": "stream",
     "text": [
      "Validating: 100%|██████████| 47/47 [00:01<00:00, 38.76it/s]\n"
     ]
    },
    {
     "name": "stdout",
     "output_type": "stream",
     "text": [
      "Training Loss: 0.8189326524734497  Validaton Loss: 0.8057296276092529 Validation Accuracy: 0.9896666666666666\n"
     ]
    },
    {
     "data": {
      "application/vnd.jupyter.widget-view+json": {
       "model_id": "",
       "version_major": 2,
       "version_minor": 0
      },
      "text/plain": [
       "HBox(children=(IntProgress(value=0, description='Steps', max=891, style=ProgressStyle(description_width='initi…"
      ]
     },
     "metadata": {},
     "output_type": "display_data"
    },
    {
     "name": "stderr",
     "output_type": "stream",
     "text": [
      "Validating: 100%|██████████| 47/47 [00:01<00:00, 40.14it/s]\n"
     ]
    },
    {
     "name": "stdout",
     "output_type": "stream",
     "text": [
      "Training Loss: 0.7214283347129822  Validaton Loss: 0.6963302493095398 Validation Accuracy: 0.9936666666666666\n"
     ]
    },
    {
     "data": {
      "application/vnd.jupyter.widget-view+json": {
       "model_id": "",
       "version_major": 2,
       "version_minor": 0
      },
      "text/plain": [
       "HBox(children=(IntProgress(value=0, description='Steps', max=891, style=ProgressStyle(description_width='initi…"
      ]
     },
     "metadata": {},
     "output_type": "display_data"
    },
    {
     "name": "stderr",
     "output_type": "stream",
     "text": [
      "Validating: 100%|██████████| 47/47 [00:01<00:00, 40.16it/s]\n"
     ]
    },
    {
     "name": "stdout",
     "output_type": "stream",
     "text": [
      "Training Loss: 0.6720517873764038  Validaton Loss: 0.6618590950965881 Validation Accuracy: 0.9946666666666666\n"
     ]
    },
    {
     "data": {
      "application/vnd.jupyter.widget-view+json": {
       "model_id": "",
       "version_major": 2,
       "version_minor": 0
      },
      "text/plain": [
       "HBox(children=(IntProgress(value=0, description='Steps', max=891, style=ProgressStyle(description_width='initi…"
      ]
     },
     "metadata": {},
     "output_type": "display_data"
    },
    {
     "name": "stderr",
     "output_type": "stream",
     "text": [
      "Validating: 100%|██████████| 47/47 [00:01<00:00, 40.41it/s]"
     ]
    },
    {
     "name": "stdout",
     "output_type": "stream",
     "text": [
      "Training Loss: 0.6602077484130859  Validaton Loss: 0.6650410890579224 Validation Accuracy: 0.99\n"
     ]
    },
    {
     "name": "stderr",
     "output_type": "stream",
     "text": [
      "\n"
     ]
    },
    {
     "data": {
      "application/vnd.jupyter.widget-view+json": {
       "model_id": "",
       "version_major": 2,
       "version_minor": 0
      },
      "text/plain": [
       "HBox(children=(IntProgress(value=0, description='Steps', max=891, style=ProgressStyle(description_width='initi…"
      ]
     },
     "metadata": {},
     "output_type": "display_data"
    },
    {
     "name": "stderr",
     "output_type": "stream",
     "text": [
      "Validating: 100%|██████████| 47/47 [00:01<00:00, 39.90it/s]\n"
     ]
    },
    {
     "name": "stdout",
     "output_type": "stream",
     "text": [
      "Training Loss: 0.6206750273704529  Validaton Loss: 0.6128929853439331 Validation Accuracy: 0.9953333333333333\n"
     ]
    },
    {
     "data": {
      "application/vnd.jupyter.widget-view+json": {
       "model_id": "",
       "version_major": 2,
       "version_minor": 0
      },
      "text/plain": [
       "HBox(children=(IntProgress(value=0, description='Steps', max=891, style=ProgressStyle(description_width='initi…"
      ]
     },
     "metadata": {},
     "output_type": "display_data"
    },
    {
     "name": "stderr",
     "output_type": "stream",
     "text": [
      "Validating: 100%|██████████| 47/47 [00:01<00:00, 39.97it/s]\n"
     ]
    },
    {
     "name": "stdout",
     "output_type": "stream",
     "text": [
      "Training Loss: 0.5999667048454285  Validaton Loss: 0.5991351008415222 Validation Accuracy: 0.996\n"
     ]
    },
    {
     "data": {
      "application/vnd.jupyter.widget-view+json": {
       "model_id": "",
       "version_major": 2,
       "version_minor": 0
      },
      "text/plain": [
       "HBox(children=(IntProgress(value=0, description='Steps', max=891, style=ProgressStyle(description_width='initi…"
      ]
     },
     "metadata": {},
     "output_type": "display_data"
    },
    {
     "name": "stderr",
     "output_type": "stream",
     "text": [
      "Validating: 100%|██████████| 47/47 [00:01<00:00, 39.46it/s]"
     ]
    },
    {
     "name": "stdout",
     "output_type": "stream",
     "text": [
      "Training Loss: 0.6158831715583801  Validaton Loss: 0.6018255352973938 Validation Accuracy: 0.996\n"
     ]
    },
    {
     "name": "stderr",
     "output_type": "stream",
     "text": [
      "\n"
     ]
    },
    {
     "data": {
      "application/vnd.jupyter.widget-view+json": {
       "model_id": "",
       "version_major": 2,
       "version_minor": 0
      },
      "text/plain": [
       "HBox(children=(IntProgress(value=0, description='Steps', max=891, style=ProgressStyle(description_width='initi…"
      ]
     },
     "metadata": {},
     "output_type": "display_data"
    },
    {
     "name": "stderr",
     "output_type": "stream",
     "text": [
      "Validating: 100%|██████████| 47/47 [00:01<00:00, 40.41it/s]\n"
     ]
    },
    {
     "name": "stdout",
     "output_type": "stream",
     "text": [
      "Training Loss: 0.6225256323814392  Validaton Loss: 0.6104891896247864 Validation Accuracy: 0.9936666666666666\n"
     ]
    },
    {
     "data": {
      "application/vnd.jupyter.widget-view+json": {
       "model_id": "",
       "version_major": 2,
       "version_minor": 0
      },
      "text/plain": [
       "HBox(children=(IntProgress(value=0, description='Steps', max=891, style=ProgressStyle(description_width='initi…"
      ]
     },
     "metadata": {},
     "output_type": "display_data"
    },
    {
     "name": "stderr",
     "output_type": "stream",
     "text": [
      "Validating: 100%|██████████| 47/47 [00:01<00:00, 39.81it/s]\n"
     ]
    },
    {
     "name": "stdout",
     "output_type": "stream",
     "text": [
      "Training Loss: 0.5956984162330627  Validaton Loss: 0.5934549570083618 Validation Accuracy: 0.9963333333333333\n"
     ]
    },
    {
     "data": {
      "application/vnd.jupyter.widget-view+json": {
       "model_id": "",
       "version_major": 2,
       "version_minor": 0
      },
      "text/plain": [
       "HBox(children=(IntProgress(value=0, description='Steps', max=891, style=ProgressStyle(description_width='initi…"
      ]
     },
     "metadata": {},
     "output_type": "display_data"
    },
    {
     "name": "stderr",
     "output_type": "stream",
     "text": [
      "Validating: 100%|██████████| 47/47 [00:01<00:00, 40.53it/s]"
     ]
    },
    {
     "name": "stdout",
     "output_type": "stream",
     "text": [
      "Training Loss: 0.5854418277740479  Validaton Loss: 0.5891430377960205 Validation Accuracy: 0.9966666666666666\n"
     ]
    },
    {
     "name": "stderr",
     "output_type": "stream",
     "text": [
      "\n"
     ]
    },
    {
     "data": {
      "application/vnd.jupyter.widget-view+json": {
       "model_id": "",
       "version_major": 2,
       "version_minor": 0
      },
      "text/plain": [
       "HBox(children=(IntProgress(value=0, description='Steps', max=891, style=ProgressStyle(description_width='initi…"
      ]
     },
     "metadata": {},
     "output_type": "display_data"
    },
    {
     "name": "stderr",
     "output_type": "stream",
     "text": [
      "Validating: 100%|██████████| 47/47 [00:01<00:00, 39.77it/s]"
     ]
    },
    {
     "name": "stdout",
     "output_type": "stream",
     "text": [
      "Training Loss: 0.5763269662857056  Validaton Loss: 0.575313925743103 Validation Accuracy: 0.9956666666666666\n"
     ]
    },
    {
     "name": "stderr",
     "output_type": "stream",
     "text": [
      "\n"
     ]
    },
    {
     "data": {
      "application/vnd.jupyter.widget-view+json": {
       "model_id": "",
       "version_major": 2,
       "version_minor": 0
      },
      "text/plain": [
       "HBox(children=(IntProgress(value=0, description='Steps', max=891, style=ProgressStyle(description_width='initi…"
      ]
     },
     "metadata": {},
     "output_type": "display_data"
    },
    {
     "name": "stderr",
     "output_type": "stream",
     "text": [
      "Validating: 100%|██████████| 47/47 [00:01<00:00, 39.97it/s]\n"
     ]
    },
    {
     "name": "stdout",
     "output_type": "stream",
     "text": [
      "Training Loss: 0.5756825804710388  Validaton Loss: 0.5685910582542419 Validation Accuracy: 0.9973333333333333\n"
     ]
    },
    {
     "data": {
      "application/vnd.jupyter.widget-view+json": {
       "model_id": "",
       "version_major": 2,
       "version_minor": 0
      },
      "text/plain": [
       "HBox(children=(IntProgress(value=0, description='Steps', max=891, style=ProgressStyle(description_width='initi…"
      ]
     },
     "metadata": {},
     "output_type": "display_data"
    },
    {
     "name": "stderr",
     "output_type": "stream",
     "text": [
      "Validating: 100%|██████████| 47/47 [00:01<00:00, 39.96it/s]"
     ]
    },
    {
     "name": "stdout",
     "output_type": "stream",
     "text": [
      "Training Loss: 0.5703939199447632  Validaton Loss: 0.5627748370170593 Validation Accuracy: 0.9973333333333333\n"
     ]
    },
    {
     "name": "stderr",
     "output_type": "stream",
     "text": [
      "\n"
     ]
    },
    {
     "data": {
      "application/vnd.jupyter.widget-view+json": {
       "model_id": "",
       "version_major": 2,
       "version_minor": 0
      },
      "text/plain": [
       "HBox(children=(IntProgress(value=0, description='Steps', max=891, style=ProgressStyle(description_width='initi…"
      ]
     },
     "metadata": {},
     "output_type": "display_data"
    },
    {
     "name": "stderr",
     "output_type": "stream",
     "text": [
      "Validating: 100%|██████████| 47/47 [00:01<00:00, 40.06it/s]"
     ]
    },
    {
     "name": "stdout",
     "output_type": "stream",
     "text": [
      "Training Loss: 0.5638198852539062  Validaton Loss: 0.5544560551643372 Validation Accuracy: 0.997\n"
     ]
    },
    {
     "name": "stderr",
     "output_type": "stream",
     "text": [
      "\n"
     ]
    },
    {
     "data": {
      "application/vnd.jupyter.widget-view+json": {
       "model_id": "",
       "version_major": 2,
       "version_minor": 0
      },
      "text/plain": [
       "HBox(children=(IntProgress(value=0, description='Steps', max=891, style=ProgressStyle(description_width='initi…"
      ]
     },
     "metadata": {},
     "output_type": "display_data"
    },
    {
     "name": "stderr",
     "output_type": "stream",
     "text": [
      "Validating: 100%|██████████| 47/47 [00:01<00:00, 40.50it/s]\n"
     ]
    },
    {
     "name": "stdout",
     "output_type": "stream",
     "text": [
      "Training Loss: 0.5534539222717285  Validaton Loss: 0.5642850399017334 Validation Accuracy: 0.9966666666666666\n"
     ]
    },
    {
     "data": {
      "application/vnd.jupyter.widget-view+json": {
       "model_id": "",
       "version_major": 2,
       "version_minor": 0
      },
      "text/plain": [
       "HBox(children=(IntProgress(value=0, description='Steps', max=891, style=ProgressStyle(description_width='initi…"
      ]
     },
     "metadata": {},
     "output_type": "display_data"
    },
    {
     "name": "stderr",
     "output_type": "stream",
     "text": [
      "Validating: 100%|██████████| 47/47 [00:01<00:00, 39.20it/s]"
     ]
    },
    {
     "name": "stdout",
     "output_type": "stream",
     "text": [
      "Training Loss: 0.5832133889198303  Validaton Loss: 0.5790337920188904 Validation Accuracy: 0.996\n"
     ]
    },
    {
     "name": "stderr",
     "output_type": "stream",
     "text": [
      "\n"
     ]
    },
    {
     "data": {
      "application/vnd.jupyter.widget-view+json": {
       "model_id": "",
       "version_major": 2,
       "version_minor": 0
      },
      "text/plain": [
       "HBox(children=(IntProgress(value=0, description='Steps', max=891, style=ProgressStyle(description_width='initi…"
      ]
     },
     "metadata": {},
     "output_type": "display_data"
    },
    {
     "name": "stderr",
     "output_type": "stream",
     "text": [
      "Validating: 100%|██████████| 47/47 [00:01<00:00, 39.86it/s]\n"
     ]
    },
    {
     "name": "stdout",
     "output_type": "stream",
     "text": [
      "Training Loss: 0.5883492827415466  Validaton Loss: 0.5694617033004761 Validation Accuracy: 0.9946666666666666\n"
     ]
    },
    {
     "data": {
      "application/vnd.jupyter.widget-view+json": {
       "model_id": "",
       "version_major": 2,
       "version_minor": 0
      },
      "text/plain": [
       "HBox(children=(IntProgress(value=0, description='Steps', max=891, style=ProgressStyle(description_width='initi…"
      ]
     },
     "metadata": {},
     "output_type": "display_data"
    },
    {
     "name": "stderr",
     "output_type": "stream",
     "text": [
      "Validating: 100%|██████████| 47/47 [00:01<00:00, 39.95it/s]"
     ]
    },
    {
     "name": "stdout",
     "output_type": "stream",
     "text": [
      "Training Loss: 0.5604308843612671  Validaton Loss: 0.5653041005134583 Validation Accuracy: 0.996\n"
     ]
    },
    {
     "name": "stderr",
     "output_type": "stream",
     "text": [
      "\n"
     ]
    },
    {
     "data": {
      "application/vnd.jupyter.widget-view+json": {
       "model_id": "",
       "version_major": 2,
       "version_minor": 0
      },
      "text/plain": [
       "HBox(children=(IntProgress(value=0, description='Steps', max=891, style=ProgressStyle(description_width='initi…"
      ]
     },
     "metadata": {},
     "output_type": "display_data"
    },
    {
     "name": "stderr",
     "output_type": "stream",
     "text": [
      "Validating: 100%|██████████| 47/47 [00:01<00:00, 39.65it/s]"
     ]
    },
    {
     "name": "stdout",
     "output_type": "stream",
     "text": [
      "Training Loss: 0.5760645270347595  Validaton Loss: 0.5684772729873657 Validation Accuracy: 0.995\n"
     ]
    },
    {
     "name": "stderr",
     "output_type": "stream",
     "text": [
      "\n"
     ]
    },
    {
     "data": {
      "application/vnd.jupyter.widget-view+json": {
       "model_id": "",
       "version_major": 2,
       "version_minor": 0
      },
      "text/plain": [
       "HBox(children=(IntProgress(value=0, description='Steps', max=891, style=ProgressStyle(description_width='initi…"
      ]
     },
     "metadata": {},
     "output_type": "display_data"
    },
    {
     "name": "stderr",
     "output_type": "stream",
     "text": [
      "Validating: 100%|██████████| 47/47 [00:01<00:00, 38.71it/s]"
     ]
    },
    {
     "name": "stdout",
     "output_type": "stream",
     "text": [
      "Training Loss: 0.5636578798294067  Validaton Loss: 0.5576738119125366 Validation Accuracy: 0.996\n"
     ]
    },
    {
     "name": "stderr",
     "output_type": "stream",
     "text": [
      "\n"
     ]
    },
    {
     "data": {
      "application/vnd.jupyter.widget-view+json": {
       "model_id": "",
       "version_major": 2,
       "version_minor": 0
      },
      "text/plain": [
       "HBox(children=(IntProgress(value=0, description='Steps', max=891, style=ProgressStyle(description_width='initi…"
      ]
     },
     "metadata": {},
     "output_type": "display_data"
    },
    {
     "name": "stderr",
     "output_type": "stream",
     "text": [
      "Validating: 100%|██████████| 47/47 [00:01<00:00, 37.88it/s]"
     ]
    },
    {
     "name": "stdout",
     "output_type": "stream",
     "text": [
      "Training Loss: 0.553753674030304  Validaton Loss: 0.5570612549781799 Validation Accuracy: 0.995\n"
     ]
    },
    {
     "name": "stderr",
     "output_type": "stream",
     "text": [
      "\n"
     ]
    },
    {
     "data": {
      "application/vnd.jupyter.widget-view+json": {
       "model_id": "",
       "version_major": 2,
       "version_minor": 0
      },
      "text/plain": [
       "HBox(children=(IntProgress(value=0, description='Steps', max=891, style=ProgressStyle(description_width='initi…"
      ]
     },
     "metadata": {},
     "output_type": "display_data"
    },
    {
     "name": "stderr",
     "output_type": "stream",
     "text": [
      "Validating: 100%|██████████| 47/47 [00:01<00:00, 39.62it/s]"
     ]
    },
    {
     "name": "stdout",
     "output_type": "stream",
     "text": [
      "Training Loss: 0.5367347002029419  Validaton Loss: 0.5464513301849365 Validation Accuracy: 0.9963333333333333\n"
     ]
    },
    {
     "name": "stderr",
     "output_type": "stream",
     "text": [
      "\n"
     ]
    },
    {
     "data": {
      "application/vnd.jupyter.widget-view+json": {
       "model_id": "",
       "version_major": 2,
       "version_minor": 0
      },
      "text/plain": [
       "HBox(children=(IntProgress(value=0, description='Steps', max=891, style=ProgressStyle(description_width='initi…"
      ]
     },
     "metadata": {},
     "output_type": "display_data"
    },
    {
     "name": "stderr",
     "output_type": "stream",
     "text": [
      "Validating: 100%|██████████| 47/47 [00:01<00:00, 36.28it/s]"
     ]
    },
    {
     "name": "stdout",
     "output_type": "stream",
     "text": [
      "Training Loss: 0.5336765646934509  Validaton Loss: 0.5405786037445068 Validation Accuracy: 0.9966666666666666\n"
     ]
    },
    {
     "name": "stderr",
     "output_type": "stream",
     "text": [
      "\n"
     ]
    },
    {
     "data": {
      "application/vnd.jupyter.widget-view+json": {
       "model_id": "",
       "version_major": 2,
       "version_minor": 0
      },
      "text/plain": [
       "HBox(children=(IntProgress(value=0, description='Steps', max=891, style=ProgressStyle(description_width='initi…"
      ]
     },
     "metadata": {},
     "output_type": "display_data"
    },
    {
     "name": "stderr",
     "output_type": "stream",
     "text": [
      "Validating: 100%|██████████| 47/47 [00:01<00:00, 38.65it/s]"
     ]
    },
    {
     "name": "stdout",
     "output_type": "stream",
     "text": [
      "Training Loss: 0.5267555713653564  Validaton Loss: 0.5313124060630798 Validation Accuracy: 0.997\n"
     ]
    },
    {
     "name": "stderr",
     "output_type": "stream",
     "text": [
      "\n"
     ]
    },
    {
     "data": {
      "application/vnd.jupyter.widget-view+json": {
       "model_id": "",
       "version_major": 2,
       "version_minor": 0
      },
      "text/plain": [
       "HBox(children=(IntProgress(value=0, description='Steps', max=891, style=ProgressStyle(description_width='initi…"
      ]
     },
     "metadata": {},
     "output_type": "display_data"
    },
    {
     "name": "stderr",
     "output_type": "stream",
     "text": [
      "Validating: 100%|██████████| 47/47 [00:01<00:00, 39.80it/s]"
     ]
    },
    {
     "name": "stdout",
     "output_type": "stream",
     "text": [
      "Training Loss: 0.5197668075561523  Validaton Loss: 0.5248785614967346 Validation Accuracy: 0.997\n"
     ]
    },
    {
     "name": "stderr",
     "output_type": "stream",
     "text": [
      "\n"
     ]
    },
    {
     "data": {
      "application/vnd.jupyter.widget-view+json": {
       "model_id": "",
       "version_major": 2,
       "version_minor": 0
      },
      "text/plain": [
       "HBox(children=(IntProgress(value=0, description='Steps', max=891, style=ProgressStyle(description_width='initi…"
      ]
     },
     "metadata": {},
     "output_type": "display_data"
    },
    {
     "name": "stderr",
     "output_type": "stream",
     "text": [
      "Validating: 100%|██████████| 47/47 [00:01<00:00, 38.97it/s]"
     ]
    },
    {
     "name": "stdout",
     "output_type": "stream",
     "text": [
      "Training Loss: 0.516030490398407  Validaton Loss: 0.5151762366294861 Validation Accuracy: 0.9963333333333333\n"
     ]
    },
    {
     "name": "stderr",
     "output_type": "stream",
     "text": [
      "\n"
     ]
    },
    {
     "data": {
      "application/vnd.jupyter.widget-view+json": {
       "model_id": "",
       "version_major": 2,
       "version_minor": 0
      },
      "text/plain": [
       "HBox(children=(IntProgress(value=0, description='Steps', max=891, style=ProgressStyle(description_width='initi…"
      ]
     },
     "metadata": {},
     "output_type": "display_data"
    },
    {
     "name": "stderr",
     "output_type": "stream",
     "text": [
      "Validating: 100%|██████████| 47/47 [00:01<00:00, 38.38it/s]"
     ]
    },
    {
     "name": "stdout",
     "output_type": "stream",
     "text": [
      "Training Loss: 0.5162439346313477  Validaton Loss: 0.5204252600669861 Validation Accuracy: 0.9956666666666666\n"
     ]
    },
    {
     "name": "stderr",
     "output_type": "stream",
     "text": [
      "\n"
     ]
    },
    {
     "data": {
      "application/vnd.jupyter.widget-view+json": {
       "model_id": "",
       "version_major": 2,
       "version_minor": 0
      },
      "text/plain": [
       "HBox(children=(IntProgress(value=0, description='Steps', max=891, style=ProgressStyle(description_width='initi…"
      ]
     },
     "metadata": {},
     "output_type": "display_data"
    },
    {
     "name": "stderr",
     "output_type": "stream",
     "text": [
      "Validating: 100%|██████████| 47/47 [00:01<00:00, 40.17it/s]"
     ]
    },
    {
     "name": "stdout",
     "output_type": "stream",
     "text": [
      "Training Loss: 0.5194947123527527  Validaton Loss: 0.5120308995246887 Validation Accuracy: 0.9966666666666666\n"
     ]
    },
    {
     "name": "stderr",
     "output_type": "stream",
     "text": [
      "\n"
     ]
    },
    {
     "data": {
      "application/vnd.jupyter.widget-view+json": {
       "model_id": "",
       "version_major": 2,
       "version_minor": 0
      },
      "text/plain": [
       "HBox(children=(IntProgress(value=0, description='Steps', max=891, style=ProgressStyle(description_width='initi…"
      ]
     },
     "metadata": {},
     "output_type": "display_data"
    },
    {
     "name": "stderr",
     "output_type": "stream",
     "text": [
      "Validating: 100%|██████████| 47/47 [00:01<00:00, 38.92it/s]"
     ]
    },
    {
     "name": "stdout",
     "output_type": "stream",
     "text": [
      "Training Loss: 0.495785653591156  Validaton Loss: 0.509146511554718 Validation Accuracy: 0.9966666666666666\n"
     ]
    },
    {
     "name": "stderr",
     "output_type": "stream",
     "text": [
      "\n"
     ]
    },
    {
     "data": {
      "application/vnd.jupyter.widget-view+json": {
       "model_id": "",
       "version_major": 2,
       "version_minor": 0
      },
      "text/plain": [
       "HBox(children=(IntProgress(value=0, description='Steps', max=891, style=ProgressStyle(description_width='initi…"
      ]
     },
     "metadata": {},
     "output_type": "display_data"
    },
    {
     "name": "stderr",
     "output_type": "stream",
     "text": [
      "Validating: 100%|██████████| 47/47 [00:01<00:00, 39.70it/s]"
     ]
    },
    {
     "name": "stdout",
     "output_type": "stream",
     "text": [
      "Training Loss: 0.5067558288574219  Validaton Loss: 0.5069277882575989 Validation Accuracy: 0.9973333333333333\n"
     ]
    },
    {
     "name": "stderr",
     "output_type": "stream",
     "text": [
      "\n"
     ]
    },
    {
     "data": {
      "application/vnd.jupyter.widget-view+json": {
       "model_id": "",
       "version_major": 2,
       "version_minor": 0
      },
      "text/plain": [
       "HBox(children=(IntProgress(value=0, description='Steps', max=891, style=ProgressStyle(description_width='initi…"
      ]
     },
     "metadata": {},
     "output_type": "display_data"
    },
    {
     "name": "stderr",
     "output_type": "stream",
     "text": [
      "Validating: 100%|██████████| 47/47 [00:01<00:00, 40.00it/s]"
     ]
    },
    {
     "name": "stdout",
     "output_type": "stream",
     "text": [
      "Training Loss: 0.5063837170600891  Validaton Loss: 0.5122607946395874 Validation Accuracy: 0.9973333333333333\n",
      "\n"
     ]
    },
    {
     "name": "stderr",
     "output_type": "stream",
     "text": [
      "\n"
     ]
    }
   ],
   "source": [
    "validator = Validator(valloader, CustomOneHotAccuracy(), save_best=True, model_dir='./triplet')\n",
    "lr_scheduler = CosAnneal(len(trainloader), T_mult=2)\n",
    "schedule = TrainingSchedule(trainloader, [lr_scheduler, validator])\n",
    "sess.train(schedule, 31)"
   ]
  },
  {
   "cell_type": "code",
   "execution_count": null,
   "metadata": {},
   "outputs": [],
   "source": [
    "sess2 = Session(model, TripletRegularizedCrossEntropyLoss(0, 1), optim.Adam, 1e-4)\n",
    "validator = Validator(valloader, CustomOneHotAccuracy(), save_best=True, model_dir='./triplet')\n",
    "lr_scheduler = CosAnneal(len(trainloader), T_mult=2)\n",
    "schedule = TrainingSchedule(trainloader, [lr_scheduler, validator])\n",
    "sess2.train(schedule, 7)"
   ]
  },
  {
   "cell_type": "code",
   "execution_count": null,
   "metadata": {},
   "outputs": [],
   "source": []
  }
 ],
 "metadata": {
  "kernelspec": {
   "display_name": "Python 3",
   "language": "python",
   "name": "python3"
  },
  "language_info": {
   "codemirror_mode": {
    "name": "ipython",
    "version": 3
   },
   "file_extension": ".py",
   "mimetype": "text/x-python",
   "name": "python",
   "nbconvert_exporter": "python",
   "pygments_lexer": "ipython3",
   "version": "3.7.4"
  }
 },
 "nbformat": 4,
 "nbformat_minor": 2
}
