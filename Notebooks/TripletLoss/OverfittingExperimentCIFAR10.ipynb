{
 "cells": [
  {
   "cell_type": "code",
   "execution_count": 1,
   "metadata": {},
   "outputs": [
    {
     "name": "stderr",
     "output_type": "stream",
     "text": [
      "/home/drake/anaconda3/envs/.torch/lib/python3.7/site-packages/tensorboard/compat/tensorflow_stub/dtypes.py:541: FutureWarning: Passing (type, 1) or '1type' as a synonym of type is deprecated; in a future version of numpy, it will be understood as (type, (1,)) / '(1,)type'.\n",
      "  _np_qint8 = np.dtype([(\"qint8\", np.int8, 1)])\n",
      "/home/drake/anaconda3/envs/.torch/lib/python3.7/site-packages/tensorboard/compat/tensorflow_stub/dtypes.py:542: FutureWarning: Passing (type, 1) or '1type' as a synonym of type is deprecated; in a future version of numpy, it will be understood as (type, (1,)) / '(1,)type'.\n",
      "  _np_quint8 = np.dtype([(\"quint8\", np.uint8, 1)])\n",
      "/home/drake/anaconda3/envs/.torch/lib/python3.7/site-packages/tensorboard/compat/tensorflow_stub/dtypes.py:543: FutureWarning: Passing (type, 1) or '1type' as a synonym of type is deprecated; in a future version of numpy, it will be understood as (type, (1,)) / '(1,)type'.\n",
      "  _np_qint16 = np.dtype([(\"qint16\", np.int16, 1)])\n",
      "/home/drake/anaconda3/envs/.torch/lib/python3.7/site-packages/tensorboard/compat/tensorflow_stub/dtypes.py:544: FutureWarning: Passing (type, 1) or '1type' as a synonym of type is deprecated; in a future version of numpy, it will be understood as (type, (1,)) / '(1,)type'.\n",
      "  _np_quint16 = np.dtype([(\"quint16\", np.uint16, 1)])\n",
      "/home/drake/anaconda3/envs/.torch/lib/python3.7/site-packages/tensorboard/compat/tensorflow_stub/dtypes.py:545: FutureWarning: Passing (type, 1) or '1type' as a synonym of type is deprecated; in a future version of numpy, it will be understood as (type, (1,)) / '(1,)type'.\n",
      "  _np_qint32 = np.dtype([(\"qint32\", np.int32, 1)])\n",
      "/home/drake/anaconda3/envs/.torch/lib/python3.7/site-packages/tensorboard/compat/tensorflow_stub/dtypes.py:550: FutureWarning: Passing (type, 1) or '1type' as a synonym of type is deprecated; in a future version of numpy, it will be understood as (type, (1,)) / '(1,)type'.\n",
      "  np_resource = np.dtype([(\"resource\", np.ubyte, 1)])\n"
     ]
    }
   ],
   "source": [
    "import numpy as np\n",
    "import torch\n",
    "import torchvision\n",
    "import matplotlib.pyplot as plt\n",
    "from time import time\n",
    "from torchvision import datasets, transforms\n",
    "from torch import nn, optim\n",
    "from torch.nn.modules.loss import *\n",
    "from Loss.triplet import *\n",
    "from session import *\n",
    "from LR_Schedule.cyclical import Cyclical\n",
    "from LR_Schedule.cos_anneal import CosAnneal\n",
    "from LR_Schedule.lr_find import lr_find\n",
    "from callbacks import *\n",
    "from validation import *\n",
    "from validation import _AccuracyMeter\n",
    "import Datasets.ImageData as ImageData\n",
    "from Transforms.ImageTransforms import *\n",
    "import util\n",
    "import matplotlib.pyplot as plt\n",
    "from mpl_toolkits.mplot3d import Axes3D\n",
    "from sklearn.decomposition import PCA\n",
    "from torch.utils.tensorboard import SummaryWriter\n",
    "from session import LossMeter, EvalModel\n",
    "# %matplotlib notebook"
   ]
  },
  {
   "cell_type": "code",
   "execution_count": 2,
   "metadata": {},
   "outputs": [],
   "source": [
    "%load_ext autoreload\n",
    "%autoreload 2"
   ]
  },
  {
   "cell_type": "code",
   "execution_count": 3,
   "metadata": {},
   "outputs": [
    {
     "name": "stderr",
     "output_type": "stream",
     "text": [
      "/home/drake/anaconda3/envs/.torch/lib/python3.7/site-packages/torch/cuda/__init__.py:135: UserWarning: \n",
      "    Found GPU0 GeForce GTX 770 which is of cuda capability 3.0.\n",
      "    PyTorch no longer supports this GPU because it is too old.\n",
      "    The minimum cuda capability that we support is 3.5.\n",
      "    \n",
      "  warnings.warn(old_gpu_warn % (d, name, major, capability[1]))\n"
     ]
    }
   ],
   "source": [
    "torch.cuda.set_device(0); torch.backends.cudnn.benchmark=True;"
   ]
  },
  {
   "cell_type": "code",
   "execution_count": 4,
   "metadata": {},
   "outputs": [
    {
     "name": "stdout",
     "output_type": "stream",
     "text": [
      "Files already downloaded and verified\n",
      "Files already downloaded and verified\n"
     ]
    }
   ],
   "source": [
    "transform = transforms.Compose([transforms.ToTensor(), \n",
    "                                transforms.Normalize((0.4914, 0.4822, 0.4465), (0.247, 0.243, 0.261))])\n",
    "\n",
    "fulltrainset = torchvision.datasets.CIFAR10(root='/media/drake/MX500/Datasets/cifar-10/train', train=True,\n",
    "                                        download=True, transform=transform)\n",
    "trainset = torch.utils.data.dataset.Subset(fulltrainset, np.arange(3200))\n",
    "\n",
    "fullvalset = torchvision.datasets.CIFAR10(root='/media/drake/MX500/Datasets/cifar-10/test', train=False,\n",
    "                                       download=True, transform=transform)\n",
    "valset = torch.utils.data.dataset.Subset(fullvalset, np.arange(3200))\n",
    "\n",
    "trainloader = torch.utils.data.DataLoader(trainset, batch_size=64, shuffle=True)\n",
    "valloader = torch.utils.data.DataLoader(valset, batch_size=64, shuffle=False)"
   ]
  },
  {
   "cell_type": "code",
   "execution_count": 5,
   "metadata": {},
   "outputs": [],
   "source": [
    "class Flatten(nn.Module):\n",
    "    def forward(self, input):\n",
    "        return input.view(input.size(0), -1)"
   ]
  },
  {
   "cell_type": "code",
   "execution_count": 6,
   "metadata": {},
   "outputs": [],
   "source": [
    "class TripletRegularizedCrossEntropyLoss(nn.Module):\n",
    "    def __init__(self, alpha, margin):     \n",
    "        super().__init__()\n",
    "        self.alpha = alpha\n",
    "        self.margin = margin\n",
    "        \n",
    "    def forward(self, x, y):\n",
    "        loss = F.cross_entropy(x[-1][0], y)\n",
    "        triplet = 0\n",
    "        if (self.alpha > 0):\n",
    "            for layer in x[:-1]:\n",
    "                # print(layer[0])\n",
    "                triplet += batch_all_triplet_loss(layer[0].view(layer[0].size(0), -1), y, self.margin)\n",
    "\n",
    "            triplet *= self.alpha\n",
    "            \n",
    "        return loss + triplet"
   ]
  },
  {
   "cell_type": "code",
   "execution_count": 7,
   "metadata": {},
   "outputs": [],
   "source": [
    "class CustomOneHotAccuracy(OneHotAccuracy):\n",
    "    def __init__(self):\n",
    "        super().__init__()\n",
    "        self.reset()\n",
    "\n",
    "    def update(self, output, label):\n",
    "        return super().update(output[-1][0], label)"
   ]
  },
  {
   "cell_type": "code",
   "execution_count": 8,
   "metadata": {},
   "outputs": [],
   "source": [
    "class EmbeddingSpaceValidator(TrainCallback):\n",
    "    def __init__(self, val_data, num_embeddings, accuracy_meter_fn):\n",
    "        self.val_data = val_data\n",
    "        self.val_accuracy_meter = accuracy_meter_fn()\n",
    "        self.train_accuracy_meter = accuracy_meter_fn()\n",
    "        self.num_embeddings=num_embeddings\n",
    "        \n",
    "        self.train_accuracies = []\n",
    "        self.batch_train_accuracies = []\n",
    "        self.val_accuracies = []\n",
    "        \n",
    "        self.train_losses = []\n",
    "        self.batch_train_losses = []\n",
    "        self.train_bce_losses = []\n",
    "        self.val_losses = []\n",
    "        self.val_bce_losses = []\n",
    "        \n",
    "        self.batch_train_embedding_losses = [[] for x in range(self.num_embeddings)]\n",
    "        self.val_embedding_losses = [[] for x in range(self.num_embeddings)]\n",
    "        \n",
    "        self.num_batches = 0\n",
    "        self.num_epochs = 0\n",
    "        \n",
    "        self.epochs = []\n",
    "\n",
    "    def run(self, session, lossMeter=None):\n",
    "        self.val_accuracy_meter.reset()\n",
    "            \n",
    "        val_loss = LossMeter()\n",
    "        val_bce_loss = LossMeter()\n",
    "        embedding_losses = [LossMeter() for x in range(self.num_embeddings)]\n",
    "        \n",
    "        with EvalModel(session.model):\n",
    "            for input, label, *_ in tqdm(self.val_data, desc=\"Validating\", leave=True):\n",
    "                label = Variable(util.to_gpu(label))\n",
    "                output = session.forward(input)\n",
    "                \n",
    "                step_loss = session.criterion(output, label).data.cpu()\n",
    "                \n",
    "                val_loss.update(step_loss, input.shape[0])\n",
    "                \n",
    "                val_bce_loss.update(F.cross_entropy(output[-1][0], label).data.cpu(), input.shape[0])\n",
    "                \n",
    "                self.val_accuracy_meter.update(output, label)\n",
    "                    \n",
    "                for layer, embedding_loss in zip(output[:-1], embedding_losses):\n",
    "                    embedding_loss.update(batch_all_triplet_loss(layer[0].view(layer[0].size(0), -1), label, 1).data.cpu())\n",
    "        \n",
    "        self.val_losses.append(val_loss.raw_avg.item())\n",
    "        self.val_bce_losses.append(val_bce_loss.raw_avg.item())\n",
    "         \n",
    "        accuracy = self.val_accuracy_meter.accuracy()\n",
    "        \n",
    "        self.val_accuracies.append(accuracy)\n",
    "              \n",
    "        for meter, loss in zip(embedding_losses, self.val_embedding_losses):\n",
    "            loss.append(meter.raw_avg)     \n",
    "        \n",
    "    def on_epoch_begin(self, session):\n",
    "        self.train_accuracy_meter.reset()     \n",
    "        self.train_bce_loss_meter = LossMeter()\n",
    "        \n",
    "    def on_epoch_end(self, session, lossMeter): \n",
    "        self.train_accuracies.append(self.train_accuracy_meter.accuracy())\n",
    "        self.train_losses.append(lossMeter.debias.data.cpu().item())\n",
    "        \n",
    "        self.train_bce_losses.append(self.train_bce_loss_meter.raw_avg.data.cpu().item())\n",
    "        \n",
    "        self.run(session, lossMeter) \n",
    "        self.epochs.append(self.num_batches)\n",
    "        self.num_epochs += 1\n",
    "        \n",
    "        print(\"\\nval accuracy: \", round(self.val_accuracies[-1], 4),\n",
    "              \"\\ntrain loss: \", round(self.train_losses[-1], 4) , \n",
    "              \" train BCE : \", round(self.train_bce_losses[-1], 4) ,       \n",
    "              \"\\nvalid loss: \", round(self.val_losses[-1], 4), \n",
    "              \" valid BCE : \", round(self.val_bce_losses[-1], 4))\n",
    "    \n",
    "    def on_batch_end(self, session, lossMeter, output, label):\n",
    "        label = Variable(util.to_gpu(label))\n",
    "        batch_accuracy = self.train_accuracy_meter.update(output, label)\n",
    "        self.batch_train_accuracies.append(batch_accuracy)\n",
    "        self.batch_train_losses.append(lossMeter.loss.data.cpu().item())   \n",
    "        self.train_bce_loss_meter.update(F.cross_entropy(output[-1][0], label).data.cpu(), label.shape[0])\n",
    "             \n",
    "        for layer, embedding_loss in zip(output[:-1], self.batch_train_embedding_losses):\n",
    "            embedding_loss.append(batch_all_triplet_loss(layer[0].view(layer[0].size(0), -1), label, 1).data.cpu().item())\n",
    "            \n",
    "        self.num_batches += 1\n",
    "            \n",
    "    def plot(self):\n",
    "        fig, (ax1, ax2, ax3, ax4) = plt.subplots(nrows=4, ncols=1, figsize=(15, 15))\n",
    "        \n",
    "        #ax.plot(np.arange(self.num_batches), self.batch_train_accuracies)\n",
    "        #legend.append(\"Train accuracy per batch\")\n",
    "        \n",
    "        #ax.plot(np.arange(self.num_batches), self.batch_train_losses)\n",
    "        #legend.append(\"Train loss per batch\")\n",
    "            \n",
    "        ax1.plot(self.epochs, self.train_accuracies, '-o', label=\"Training accuracy per epoch\")\n",
    "\n",
    "        ax1.plot(self.epochs, self.val_accuracies, '-o', label=\"Validation accuracy per epoch\")\n",
    "        \n",
    "        ax2.plot(self.epochs, self.train_losses, '-o', label=\"Training loss per epoch\")\n",
    "        \n",
    "        ax2.plot(self.epochs, self.val_losses, '-o', label=\"Validation loss per epoch\")\n",
    "        \n",
    "        ax3.plot(self.epochs, self.train_bce_losses, '-o', label=\"Training BCE loss per epoch\")\n",
    "        \n",
    "        ax3.plot(self.epochs, self.val_bce_losses, '-o', label=\"Validation BCE loss per epoch\")\n",
    "        \n",
    "        for embedding in self.batch_train_embedding_losses:\n",
    "            ax4.plot(np.arange(self.num_batches), embedding, label=\"Train embedding triplet loss per batch\")\n",
    "        \n",
    "        for embedding in self.val_embedding_losses:\n",
    "            ax4.plot(self.epochs, embedding, '-o', label=\"Validation embedding triplet loss per epoch\")\n",
    "            \n",
    "        for ax in (ax1, ax2, ax3, ax4):\n",
    "            box = ax.get_position()\n",
    "            ax.set_position([box.x0, box.y0, box.width * 0.8, box.height])\n",
    "            ax.legend(loc='center left', bbox_to_anchor=(1, 0.5))   "
   ]
  },
  {
   "cell_type": "code",
   "execution_count": 9,
   "metadata": {},
   "outputs": [],
   "source": [
    "class SelectiveSequential(nn.Module):\n",
    "    def __init__(self, to_select, modules_dict):\n",
    "        super(SelectiveSequential, self).__init__()\n",
    "        for key, module in modules_dict.items():\n",
    "            self.add_module(key, module)\n",
    "        self._to_select = to_select\n",
    "    \n",
    "    def forward(self, x):\n",
    "        list = []\n",
    "        for name, module in self._modules.items():\n",
    "            x = module(x)\n",
    "            if name in self._to_select:\n",
    "                list.append((x, name))\n",
    "        return list"
   ]
  },
  {
   "cell_type": "code",
   "execution_count": null,
   "metadata": {},
   "outputs": [],
   "source": [
    "  model = SelectiveSequential(\n",
    "    ['fc1', 'fc2', 'out'],\n",
    "    {'conv32a': nn.Conv2d(3, 32, kernel_size=3, stride=1, padding=1),\n",
    "     'batch32a': nn.BatchNorm2d(32),\n",
    "     'act32a': nn.ReLU(),\n",
    "    \n",
    "     'conv32b': nn.Conv2d(32, 32, kernel_size=3, stride=1, padding=1),\n",
    "     'batch32b': nn.BatchNorm2d(32),\n",
    "     'act32b': nn.ReLU(),\n",
    "     \n",
    "     'max1': nn.MaxPool2d(kernel_size=2, stride=2),\n",
    "    \n",
    "     'conv64a': nn.Conv2d(32, 64, kernel_size=3, stride=1, padding=1),\n",
    "     'batch64a': nn.BatchNorm2d(64),\n",
    "     'act64a': nn.ReLU(),\n",
    "     \n",
    "     'conv64b': nn.Conv2d(64, 64, kernel_size=3, stride=1, padding=1),\n",
    "     'batch64b': nn.BatchNorm2d(64),\n",
    "     'act64b': nn.ReLU(),\n",
    "    \n",
    "     'max2': nn.MaxPool2d(kernel_size=2, stride=2),\n",
    "    \n",
    "     'conv128a': nn.Conv2d(64, 128, kernel_size=3, stride=1, padding=1),\n",
    "     'batch128a': nn.BatchNorm2d(128),\n",
    "     'act128a': nn.ReLU(),\n",
    "     \n",
    "     'conv128b': nn.Conv2d(128, 128, kernel_size=3, stride=1, padding=1),\n",
    "     'batch128b': nn.BatchNorm2d(128),\n",
    "     'act128b': nn.ReLU(),\n",
    "     \n",
    "     'max3': nn.MaxPool2d(kernel_size=2, stride=2),\n",
    "     \n",
    "     'conv256a': nn.Conv2d(128, 256, kernel_size=3, stride=1, padding=1),\n",
    "     'batch256a': nn.BatchNorm2d(256),\n",
    "     'act256a': nn.ReLU(),\n",
    "     \n",
    "     'conv256b': nn.Conv2d(256, 256, kernel_size=3, stride=1, padding=1),\n",
    "     'batch256b': nn.BatchNorm2d(256),\n",
    "     'act256b': nn.ReLU(),\n",
    "    \n",
    "     'flatten': Flatten(),\n",
    "    \n",
    "     'fc1': nn.Linear(4 * 4 * 256, 512),\n",
    "     'actLinear': nn.ReLU(),\n",
    "     #'drop1': nn.Dropout(.05),\n",
    "     'fc2': nn.Linear(512, 256),\n",
    "     'actLin2': nn.ReLU(),\n",
    "     #'drop1': nn.Dropout(.05),\n",
    "     'out': nn.Linear(256, 10)})"
   ]
  },
  {
   "cell_type": "code",
   "execution_count": null,
   "metadata": {},
   "outputs": [],
   "source": [
    "criterion = TripletRegularizedCrossEntropyLoss(0, .5)"
   ]
  },
  {
   "cell_type": "code",
   "execution_count": null,
   "metadata": {},
   "outputs": [],
   "source": [
    "sess = Session(model, criterion, optim.AdamW, 1e-3)"
   ]
  },
  {
   "cell_type": "code",
   "execution_count": null,
   "metadata": {
    "scrolled": false
   },
   "outputs": [],
   "source": [
    "validator = EmbeddingSpaceValidator(valloader, 2, CustomOneHotAccuracy)\n",
    "lr_scheduler = CosAnneal(len(trainloader) * 15, T_mult=1, lr_min=1e-7)\n",
    "schedule = TrainingSchedule(trainloader, [lr_scheduler, validator])\n",
    "sess.train(schedule, 15)"
   ]
  },
  {
   "cell_type": "code",
   "execution_count": null,
   "metadata": {},
   "outputs": [],
   "source": [
    "validator.plot()"
   ]
  },
  {
   "cell_type": "code",
   "execution_count": null,
   "metadata": {},
   "outputs": [],
   "source": [
    "np.max(validator.val_accuracies), \"Best accuracy without reg\""
   ]
  },
  {
   "cell_type": "code",
   "execution_count": 22,
   "metadata": {},
   "outputs": [],
   "source": [
    "model2 = SelectiveSequential(\n",
    "    ['act1', 'act2', 'out'],\n",
    "    {'conv32a': nn.Conv2d(3, 32, kernel_size=3, stride=1, padding=1),\n",
    "     # 'batch32a': nn.BatchNorm2d(32),\n",
    "     'act32a': nn.ReLU(),\n",
    "    \n",
    "     'conv32b': nn.Conv2d(32, 32, kernel_size=3, stride=1, padding=1),\n",
    "     # 'batch32b': nn.BatchNorm2d(32),\n",
    "     'act32b': nn.ReLU(),\n",
    "     \n",
    "     'max1': nn.MaxPool2d(kernel_size=2, stride=2),\n",
    "    \n",
    "     'conv64a': nn.Conv2d(32, 64, kernel_size=3, stride=1, padding=1),\n",
    "     # 'batch64a': nn.BatchNorm2d(64),\n",
    "     'act64a': nn.ReLU(),\n",
    "     \n",
    "     'conv64b': nn.Conv2d(64, 64, kernel_size=3, stride=1, padding=1),\n",
    "     # 'batch64b': nn.BatchNorm2d(64),\n",
    "     'act64b': nn.ReLU(),\n",
    "    \n",
    "     'max2': nn.MaxPool2d(kernel_size=2, stride=2),\n",
    "    \n",
    "     'conv128a': nn.Conv2d(64, 128, kernel_size=3, stride=1, padding=1),\n",
    "     # 'batch128a': nn.BatchNorm2d(128),\n",
    "     'act128a': nn.ReLU(),\n",
    "     \n",
    "     'conv128b': nn.Conv2d(128, 128, kernel_size=3, stride=1, padding=1),\n",
    "     # 'batch128b': nn.BatchNorm2d(128),\n",
    "     'act128b': nn.ReLU(),\n",
    "     \n",
    "     'max3': nn.MaxPool2d(kernel_size=2, stride=2),\n",
    "     \n",
    "     # 'conv256a': nn.Conv2d(128, 256, kernel_size=3, stride=1, padding=1),\n",
    "     # 'batch256a': nn.BatchNorm2d(256),\n",
    "     # 'act256a': nn.ReLU(),\n",
    "     \n",
    "     # 'conv256b': nn.Conv2d(256, 256, kernel_size=3, stride=1, padding=1),\n",
    "     # 'batch256b': nn.BatchNorm2d(256),\n",
    "     # 'act256b': nn.ReLU(),\n",
    "    \n",
    "     'flatten': Flatten(),\n",
    "    \n",
    "     'fc1': nn.Linear(4 * 4 * 128, 512),\n",
    "     'act1': nn.ReLU(),\n",
    "     #'drop1': nn.Dropout(.05),\n",
    "     'fc2': nn.Linear(512, 256),\n",
    "     'act2': nn.ReLU(),\n",
    "     #'drop1': nn.Dropout(.05),\n",
    "     'out': nn.Linear(256, 10)})"
   ]
  },
  {
   "cell_type": "code",
   "execution_count": 23,
   "metadata": {},
   "outputs": [],
   "source": [
    "criterion = TripletRegularizedCrossEntropyLoss(.25, .5)"
   ]
  },
  {
   "cell_type": "code",
   "execution_count": 24,
   "metadata": {},
   "outputs": [],
   "source": [
    "sess = Session(model2, criterion, optim.AdamW, 1e-3)"
   ]
  },
  {
   "cell_type": "code",
   "execution_count": 25,
   "metadata": {
    "scrolled": false
   },
   "outputs": [],
   "source": [
    "# lr_find(sess, trainloader, start_lr=1e-12)"
   ]
  },
  {
   "cell_type": "code",
   "execution_count": 26,
   "metadata": {},
   "outputs": [],
   "source": [
    "sess.set_lr(1e-3)"
   ]
  },
  {
   "cell_type": "code",
   "execution_count": null,
   "metadata": {
    "scrolled": false
   },
   "outputs": [
    {
     "data": {
      "application/vnd.jupyter.widget-view+json": {
       "model_id": "9a065726ae004038b7c526e86924d9a4",
       "version_major": 2,
       "version_minor": 0
      },
      "text/plain": [
       "HBox(children=(IntProgress(value=0, description='Epochs', max=63, style=ProgressStyle(description_width='initi…"
      ]
     },
     "metadata": {},
     "output_type": "display_data"
    },
    {
     "data": {
      "application/vnd.jupyter.widget-view+json": {
       "model_id": "",
       "version_major": 2,
       "version_minor": 0
      },
      "text/plain": [
       "HBox(children=(IntProgress(value=0, description='Steps', max=50, style=ProgressStyle(description_width='initia…"
      ]
     },
     "metadata": {},
     "output_type": "display_data"
    },
    {
     "name": "stderr",
     "output_type": "stream",
     "text": [
      "Validating: 100%|██████████| 50/50 [00:01<00:00, 36.12it/s]"
     ]
    },
    {
     "name": "stdout",
     "output_type": "stream",
     "text": [
      "\n",
      "val accuracy:  0.2009 \n",
      "train loss:  2.519  train BCE :  2.2057 \n",
      "valid loss:  2.3905  valid BCE :  2.0986\n"
     ]
    },
    {
     "name": "stderr",
     "output_type": "stream",
     "text": [
      "\n"
     ]
    },
    {
     "data": {
      "application/vnd.jupyter.widget-view+json": {
       "model_id": "",
       "version_major": 2,
       "version_minor": 0
      },
      "text/plain": [
       "HBox(children=(IntProgress(value=0, description='Steps', max=50, style=ProgressStyle(description_width='initia…"
      ]
     },
     "metadata": {},
     "output_type": "display_data"
    },
    {
     "name": "stderr",
     "output_type": "stream",
     "text": [
      "Validating: 100%|██████████| 50/50 [00:01<00:00, 36.34it/s]"
     ]
    },
    {
     "name": "stdout",
     "output_type": "stream",
     "text": [
      "\n",
      "val accuracy:  0.3178 \n",
      "train loss:  2.3672  train BCE :  1.9122 \n",
      "valid loss:  2.2205  valid BCE :  1.7912\n"
     ]
    },
    {
     "name": "stderr",
     "output_type": "stream",
     "text": [
      "\n"
     ]
    },
    {
     "data": {
      "application/vnd.jupyter.widget-view+json": {
       "model_id": "",
       "version_major": 2,
       "version_minor": 0
      },
      "text/plain": [
       "HBox(children=(IntProgress(value=0, description='Steps', max=50, style=ProgressStyle(description_width='initia…"
      ]
     },
     "metadata": {},
     "output_type": "display_data"
    },
    {
     "name": "stderr",
     "output_type": "stream",
     "text": [
      "Validating: 100%|██████████| 50/50 [00:01<00:00, 34.70it/s]\n"
     ]
    },
    {
     "name": "stdout",
     "output_type": "stream",
     "text": [
      "\n",
      "val accuracy:  0.3856 \n",
      "train loss:  2.1969  train BCE :  1.7018 \n",
      "valid loss:  2.1263  valid BCE :  1.6359\n"
     ]
    },
    {
     "data": {
      "application/vnd.jupyter.widget-view+json": {
       "model_id": "",
       "version_major": 2,
       "version_minor": 0
      },
      "text/plain": [
       "HBox(children=(IntProgress(value=0, description='Steps', max=50, style=ProgressStyle(description_width='initia…"
      ]
     },
     "metadata": {},
     "output_type": "display_data"
    },
    {
     "name": "stderr",
     "output_type": "stream",
     "text": [
      "Validating: 100%|██████████| 50/50 [00:01<00:00, 35.00it/s]"
     ]
    },
    {
     "name": "stdout",
     "output_type": "stream",
     "text": [
      "\n",
      "val accuracy:  0.4156 \n",
      "train loss:  2.0647  train BCE :  1.572 \n",
      "valid loss:  1.9779  valid BCE :  1.5928\n"
     ]
    },
    {
     "name": "stderr",
     "output_type": "stream",
     "text": [
      "\n"
     ]
    },
    {
     "data": {
      "application/vnd.jupyter.widget-view+json": {
       "model_id": "",
       "version_major": 2,
       "version_minor": 0
      },
      "text/plain": [
       "HBox(children=(IntProgress(value=0, description='Steps', max=50, style=ProgressStyle(description_width='initia…"
      ]
     },
     "metadata": {},
     "output_type": "display_data"
    },
    {
     "name": "stderr",
     "output_type": "stream",
     "text": [
      "Validating: 100%|██████████| 50/50 [00:01<00:00, 36.83it/s]"
     ]
    },
    {
     "name": "stdout",
     "output_type": "stream",
     "text": [
      "\n",
      "val accuracy:  0.4544 \n",
      "train loss:  1.9275  train BCE :  1.4485 \n",
      "valid loss:  1.9087  valid BCE :  1.4742\n"
     ]
    },
    {
     "name": "stderr",
     "output_type": "stream",
     "text": [
      "\n"
     ]
    },
    {
     "data": {
      "application/vnd.jupyter.widget-view+json": {
       "model_id": "",
       "version_major": 2,
       "version_minor": 0
      },
      "text/plain": [
       "HBox(children=(IntProgress(value=0, description='Steps', max=50, style=ProgressStyle(description_width='initia…"
      ]
     },
     "metadata": {},
     "output_type": "display_data"
    },
    {
     "name": "stderr",
     "output_type": "stream",
     "text": [
      "Validating: 100%|██████████| 50/50 [00:01<00:00, 36.92it/s]"
     ]
    },
    {
     "name": "stdout",
     "output_type": "stream",
     "text": [
      "\n",
      "val accuracy:  0.4272 \n",
      "train loss:  1.8158  train BCE :  1.3452 \n",
      "valid loss:  1.9329  valid BCE :  1.5424\n"
     ]
    },
    {
     "name": "stderr",
     "output_type": "stream",
     "text": [
      "\n"
     ]
    },
    {
     "data": {
      "application/vnd.jupyter.widget-view+json": {
       "model_id": "",
       "version_major": 2,
       "version_minor": 0
      },
      "text/plain": [
       "HBox(children=(IntProgress(value=0, description='Steps', max=50, style=ProgressStyle(description_width='initia…"
      ]
     },
     "metadata": {},
     "output_type": "display_data"
    },
    {
     "name": "stderr",
     "output_type": "stream",
     "text": [
      "Validating: 100%|██████████| 50/50 [00:01<00:00, 37.28it/s]"
     ]
    },
    {
     "name": "stdout",
     "output_type": "stream",
     "text": [
      "\n",
      "val accuracy:  0.4431 \n",
      "train loss:  1.6814  train BCE :  1.2118 \n",
      "valid loss:  2.0235  valid BCE :  1.5647\n"
     ]
    },
    {
     "name": "stderr",
     "output_type": "stream",
     "text": [
      "\n"
     ]
    },
    {
     "data": {
      "application/vnd.jupyter.widget-view+json": {
       "model_id": "",
       "version_major": 2,
       "version_minor": 0
      },
      "text/plain": [
       "HBox(children=(IntProgress(value=0, description='Steps', max=50, style=ProgressStyle(description_width='initia…"
      ]
     },
     "metadata": {},
     "output_type": "display_data"
    },
    {
     "name": "stderr",
     "output_type": "stream",
     "text": [
      "Validating: 100%|██████████| 50/50 [00:01<00:00, 36.60it/s]"
     ]
    },
    {
     "name": "stdout",
     "output_type": "stream",
     "text": [
      "\n",
      "val accuracy:  0.4906 \n",
      "train loss:  1.569  train BCE :  1.1199 \n",
      "valid loss:  1.805  valid BCE :  1.3752\n"
     ]
    },
    {
     "name": "stderr",
     "output_type": "stream",
     "text": [
      "\n"
     ]
    },
    {
     "data": {
      "application/vnd.jupyter.widget-view+json": {
       "model_id": "",
       "version_major": 2,
       "version_minor": 0
      },
      "text/plain": [
       "HBox(children=(IntProgress(value=0, description='Steps', max=50, style=ProgressStyle(description_width='initia…"
      ]
     },
     "metadata": {},
     "output_type": "display_data"
    },
    {
     "name": "stderr",
     "output_type": "stream",
     "text": [
      "Validating: 100%|██████████| 50/50 [00:01<00:00, 36.67it/s]"
     ]
    },
    {
     "name": "stdout",
     "output_type": "stream",
     "text": [
      "\n",
      "val accuracy:  0.4997 \n",
      "train loss:  1.4371  train BCE :  0.9897 \n",
      "valid loss:  1.8281  valid BCE :  1.393\n"
     ]
    },
    {
     "name": "stderr",
     "output_type": "stream",
     "text": [
      "\n"
     ]
    },
    {
     "data": {
      "application/vnd.jupyter.widget-view+json": {
       "model_id": "",
       "version_major": 2,
       "version_minor": 0
      },
      "text/plain": [
       "HBox(children=(IntProgress(value=0, description='Steps', max=50, style=ProgressStyle(description_width='initia…"
      ]
     },
     "metadata": {},
     "output_type": "display_data"
    },
    {
     "name": "stderr",
     "output_type": "stream",
     "text": [
      "Validating: 100%|██████████| 50/50 [00:01<00:00, 33.53it/s]"
     ]
    },
    {
     "name": "stdout",
     "output_type": "stream",
     "text": [
      "\n",
      "val accuracy:  0.4909 \n",
      "train loss:  1.2893  train BCE :  0.8339 \n",
      "valid loss:  1.891  valid BCE :  1.4401\n"
     ]
    },
    {
     "name": "stderr",
     "output_type": "stream",
     "text": [
      "\n"
     ]
    },
    {
     "data": {
      "application/vnd.jupyter.widget-view+json": {
       "model_id": "",
       "version_major": 2,
       "version_minor": 0
      },
      "text/plain": [
       "HBox(children=(IntProgress(value=0, description='Steps', max=50, style=ProgressStyle(description_width='initia…"
      ]
     },
     "metadata": {},
     "output_type": "display_data"
    },
    {
     "name": "stderr",
     "output_type": "stream",
     "text": [
      "Validating: 100%|██████████| 50/50 [00:01<00:00, 33.68it/s]\n"
     ]
    },
    {
     "name": "stdout",
     "output_type": "stream",
     "text": [
      "\n",
      "val accuracy:  0.5266 \n",
      "train loss:  1.158  train BCE :  0.7326 \n",
      "valid loss:  1.9081  valid BCE :  1.3949\n"
     ]
    },
    {
     "data": {
      "application/vnd.jupyter.widget-view+json": {
       "model_id": "",
       "version_major": 2,
       "version_minor": 0
      },
      "text/plain": [
       "HBox(children=(IntProgress(value=0, description='Steps', max=50, style=ProgressStyle(description_width='initia…"
      ]
     },
     "metadata": {},
     "output_type": "display_data"
    },
    {
     "name": "stderr",
     "output_type": "stream",
     "text": [
      "Validating: 100%|██████████| 50/50 [00:01<00:00, 31.68it/s]"
     ]
    },
    {
     "name": "stdout",
     "output_type": "stream",
     "text": [
      "\n",
      "val accuracy:  0.5203 \n",
      "train loss:  1.0146  train BCE :  0.5643 \n",
      "valid loss:  1.9708  valid BCE :  1.4614\n"
     ]
    },
    {
     "name": "stderr",
     "output_type": "stream",
     "text": [
      "\n"
     ]
    },
    {
     "data": {
      "application/vnd.jupyter.widget-view+json": {
       "model_id": "",
       "version_major": 2,
       "version_minor": 0
      },
      "text/plain": [
       "HBox(children=(IntProgress(value=0, description='Steps', max=50, style=ProgressStyle(description_width='initia…"
      ]
     },
     "metadata": {},
     "output_type": "display_data"
    },
    {
     "name": "stderr",
     "output_type": "stream",
     "text": [
      "Validating: 100%|██████████| 50/50 [00:01<00:00, 33.89it/s]"
     ]
    },
    {
     "name": "stdout",
     "output_type": "stream",
     "text": [
      "\n",
      "val accuracy:  0.5256 \n",
      "train loss:  0.8726  train BCE :  0.4332 \n",
      "valid loss:  2.0793  valid BCE :  1.5263\n"
     ]
    },
    {
     "name": "stderr",
     "output_type": "stream",
     "text": [
      "\n"
     ]
    },
    {
     "data": {
      "application/vnd.jupyter.widget-view+json": {
       "model_id": "",
       "version_major": 2,
       "version_minor": 0
      },
      "text/plain": [
       "HBox(children=(IntProgress(value=0, description='Steps', max=50, style=ProgressStyle(description_width='initia…"
      ]
     },
     "metadata": {},
     "output_type": "display_data"
    },
    {
     "name": "stderr",
     "output_type": "stream",
     "text": [
      "Validating: 100%|██████████| 50/50 [00:01<00:00, 36.24it/s]\n"
     ]
    },
    {
     "name": "stdout",
     "output_type": "stream",
     "text": [
      "\n",
      "val accuracy:  0.5178 \n",
      "train loss:  0.7673  train BCE :  0.3638 \n",
      "valid loss:  2.1607  valid BCE :  1.6212\n"
     ]
    },
    {
     "data": {
      "application/vnd.jupyter.widget-view+json": {
       "model_id": "",
       "version_major": 2,
       "version_minor": 0
      },
      "text/plain": [
       "HBox(children=(IntProgress(value=0, description='Steps', max=50, style=ProgressStyle(description_width='initia…"
      ]
     },
     "metadata": {},
     "output_type": "display_data"
    },
    {
     "name": "stderr",
     "output_type": "stream",
     "text": [
      "Validating: 100%|██████████| 50/50 [00:01<00:00, 34.84it/s]"
     ]
    },
    {
     "name": "stdout",
     "output_type": "stream",
     "text": [
      "\n",
      "val accuracy:  0.5306 \n",
      "train loss:  0.6816  train BCE :  0.292 \n",
      "valid loss:  2.2287  valid BCE :  1.6531\n"
     ]
    },
    {
     "name": "stderr",
     "output_type": "stream",
     "text": [
      "\n"
     ]
    },
    {
     "data": {
      "application/vnd.jupyter.widget-view+json": {
       "model_id": "",
       "version_major": 2,
       "version_minor": 0
      },
      "text/plain": [
       "HBox(children=(IntProgress(value=0, description='Steps', max=50, style=ProgressStyle(description_width='initia…"
      ]
     },
     "metadata": {},
     "output_type": "display_data"
    },
    {
     "name": "stderr",
     "output_type": "stream",
     "text": [
      "Validating: 100%|██████████| 50/50 [00:01<00:00, 32.75it/s]"
     ]
    },
    {
     "name": "stdout",
     "output_type": "stream",
     "text": [
      "\n",
      "val accuracy:  0.5184 \n",
      "train loss:  0.5787  train BCE :  0.192 \n",
      "valid loss:  2.4266  valid BCE :  1.8342\n"
     ]
    },
    {
     "name": "stderr",
     "output_type": "stream",
     "text": [
      "\n"
     ]
    },
    {
     "data": {
      "application/vnd.jupyter.widget-view+json": {
       "model_id": "",
       "version_major": 2,
       "version_minor": 0
      },
      "text/plain": [
       "HBox(children=(IntProgress(value=0, description='Steps', max=50, style=ProgressStyle(description_width='initia…"
      ]
     },
     "metadata": {},
     "output_type": "display_data"
    },
    {
     "name": "stderr",
     "output_type": "stream",
     "text": [
      "Validating: 100%|██████████| 50/50 [00:01<00:00, 35.01it/s]"
     ]
    },
    {
     "name": "stdout",
     "output_type": "stream",
     "text": [
      "\n",
      "val accuracy:  0.5128 \n",
      "train loss:  0.5127  train BCE :  0.1562 \n",
      "valid loss:  2.5441  valid BCE :  1.9533\n"
     ]
    },
    {
     "name": "stderr",
     "output_type": "stream",
     "text": [
      "\n"
     ]
    },
    {
     "data": {
      "application/vnd.jupyter.widget-view+json": {
       "model_id": "",
       "version_major": 2,
       "version_minor": 0
      },
      "text/plain": [
       "HBox(children=(IntProgress(value=0, description='Steps', max=50, style=ProgressStyle(description_width='initia…"
      ]
     },
     "metadata": {},
     "output_type": "display_data"
    },
    {
     "name": "stderr",
     "output_type": "stream",
     "text": [
      "Validating: 100%|██████████| 50/50 [00:01<00:00, 35.41it/s]"
     ]
    },
    {
     "name": "stdout",
     "output_type": "stream",
     "text": [
      "\n",
      "val accuracy:  0.5188 \n",
      "train loss:  0.4879  train BCE :  0.1585 \n",
      "valid loss:  2.4315  valid BCE :  1.8336\n"
     ]
    },
    {
     "name": "stderr",
     "output_type": "stream",
     "text": [
      "\n"
     ]
    },
    {
     "data": {
      "application/vnd.jupyter.widget-view+json": {
       "model_id": "",
       "version_major": 2,
       "version_minor": 0
      },
      "text/plain": [
       "HBox(children=(IntProgress(value=0, description='Steps', max=50, style=ProgressStyle(description_width='initia…"
      ]
     },
     "metadata": {},
     "output_type": "display_data"
    },
    {
     "name": "stderr",
     "output_type": "stream",
     "text": [
      "Validating: 100%|██████████| 50/50 [00:01<00:00, 36.04it/s]"
     ]
    },
    {
     "name": "stdout",
     "output_type": "stream",
     "text": [
      "\n",
      "val accuracy:  0.5272 \n",
      "train loss:  0.4526  train BCE :  0.116 \n",
      "valid loss:  2.7202  valid BCE :  2.0544\n"
     ]
    },
    {
     "name": "stderr",
     "output_type": "stream",
     "text": [
      "\n"
     ]
    },
    {
     "data": {
      "application/vnd.jupyter.widget-view+json": {
       "model_id": "68df18986d474bc396f31dfed3e51b16",
       "version_major": 2,
       "version_minor": 0
      },
      "text/plain": [
       "HBox(children=(IntProgress(value=0, description='Steps', max=50, style=ProgressStyle(description_width='initia…"
      ]
     },
     "metadata": {},
     "output_type": "display_data"
    }
   ],
   "source": [
    "validator2 = EmbeddingSpaceValidator(valloader, 1, CustomOneHotAccuracy)\n",
    "lr_scheduler2 = CosAnneal(len(trainloader) * 63, T_mult=1, lr_min=1e-7)\n",
    "schedule2 = TrainingSchedule(trainloader, [validator2])\n",
    "sess.train(schedule2, 63)"
   ]
  },
  {
   "cell_type": "code",
   "execution_count": null,
   "metadata": {},
   "outputs": [],
   "source": [
    "validator2.plot()"
   ]
  },
  {
   "cell_type": "code",
   "execution_count": null,
   "metadata": {},
   "outputs": [],
   "source": [
    "print(np.max(validator2.val_accuracies), \"Best accuracy with reg\")\n",
    "print(np.max(validator.val_accuracies), \"Best accuracy without reg\")"
   ]
  },
  {
   "cell_type": "code",
   "execution_count": null,
   "metadata": {},
   "outputs": [],
   "source": []
  },
  {
   "cell_type": "code",
   "execution_count": null,
   "metadata": {},
   "outputs": [],
   "source": []
  }
 ],
 "metadata": {
  "kernelspec": {
   "display_name": "Python 3",
   "language": "python",
   "name": "python3"
  },
  "language_info": {
   "codemirror_mode": {
    "name": "ipython",
    "version": 3
   },
   "file_extension": ".py",
   "mimetype": "text/x-python",
   "name": "python",
   "nbconvert_exporter": "python",
   "pygments_lexer": "ipython3",
   "version": "3.7.4"
  }
 },
 "nbformat": 4,
 "nbformat_minor": 2
}
