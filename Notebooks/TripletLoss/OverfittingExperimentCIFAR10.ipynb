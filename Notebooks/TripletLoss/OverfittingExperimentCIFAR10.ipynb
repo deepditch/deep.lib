{
 "cells": [
  {
   "cell_type": "code",
   "execution_count": 1,
   "metadata": {},
   "outputs": [
    {
     "name": "stderr",
     "output_type": "stream",
     "text": [
      "/home/drake/anaconda3/envs/.torch/lib/python3.7/site-packages/torch/cuda/__init__.py:135: UserWarning: \n",
      "    Found GPU0 GeForce GTX 770 which is of cuda capability 3.0.\n",
      "    PyTorch no longer supports this GPU because it is too old.\n",
      "    The minimum cuda capability that we support is 3.5.\n",
      "    \n",
      "  warnings.warn(old_gpu_warn % (d, name, major, capability[1]))\n"
     ]
    }
   ],
   "source": [
    "import numpy as np\n",
    "import torch\n",
    "from torch import nn, optim\n",
    "import torchvision\n",
    "from torchvision import datasets, transforms\n",
    "from Models.selective_sequential import *\n",
    "from Loss.triplet_regularized import *\n",
    "from session import *\n",
    "from LR_Schedule.cyclical import Cyclical\n",
    "from LR_Schedule.cos_anneal import CosAnneal\n",
    "from LR_Schedule.lr_find import lr_find\n",
    "from callbacks import *\n",
    "from validation import *\n",
    "import Datasets.ImageData as ImageData\n",
    "from Transforms.ImageTransforms import *\n",
    "import util\n",
    "from session import LossMeter, EvalModel\n",
    "from Layers.flatten import Flatten\n",
    "\n",
    "%load_ext autoreload\n",
    "%autoreload 2\n",
    "\n",
    "torch.cuda.set_device(0); torch.backends.cudnn.benchmark=True;"
   ]
  },
  {
   "cell_type": "code",
   "execution_count": 2,
   "metadata": {},
   "outputs": [
    {
     "name": "stdout",
     "output_type": "stream",
     "text": [
      "Files already downloaded and verified\n",
      "Files already downloaded and verified\n"
     ]
    }
   ],
   "source": [
    "transform_train = transforms.Compose([\n",
    "    transforms.RandomCrop(32, padding=4),\n",
    "    transforms.RandomHorizontalFlip(),\n",
    "    transforms.ToTensor(),\n",
    "    transforms.Normalize((0.4914, 0.4822, 0.4465), (0.2023, 0.1994, 0.2010)),\n",
    "])\n",
    "\n",
    "transform_test = transforms.Compose([\n",
    "    transforms.ToTensor(),\n",
    "    transforms.Normalize((0.4914, 0.4822, 0.4465), (0.2023, 0.1994, 0.2010)),\n",
    "])\n",
    "\n",
    "trainset = torchvision.datasets.CIFAR10(root='/media/drake/MX500/Datasets/cifar-10/train', train=True,\n",
    "                                        download=True, transform=transform_train)\n",
    "partial_trainset = torch.utils.data.dataset.Subset(trainset, np.arange(3200))\n",
    "\n",
    "valset = torchvision.datasets.CIFAR10(root='/media/drake/MX500/Datasets/cifar-10/test', train=False,\n",
    "                                       download=True, transform=transform_test)\n",
    "partial_valset = torch.utils.data.dataset.Subset(valset, np.arange(3200))\n",
    "\n",
    "trainloader = torch.utils.data.DataLoader(trainset, batch_size=64, shuffle=True)\n",
    "valloader = torch.utils.data.DataLoader(valset, batch_size=64, shuffle=False)"
   ]
  },
  {
   "cell_type": "code",
   "execution_count": 3,
   "metadata": {},
   "outputs": [],
   "source": [
    "select = ['max1', 'act1', 'out']\n",
    "model = SelectiveSequential(\n",
    "    select,\n",
    "    {'conv64': nn.Conv2d(3, 64, kernel_size=5, padding=2),\n",
    "     'act64': nn.ReLU(True),\n",
    "     \n",
    "     'max1': nn.MaxPool2d(kernel_size=2, stride=2),\n",
    "    \n",
    "     'conv192': nn.Conv2d(64, 192, kernel_size=5, padding=2),\n",
    "     'act192': nn.ReLU(True),\n",
    "    \n",
    "     'max2': nn.MaxPool2d(kernel_size=2, stride=2),\n",
    "    \n",
    "     'conv384': nn.Conv2d(192, 384, kernel_size=3, padding=1),\n",
    "     'act384': nn.ReLU(True),\n",
    "     \n",
    "     'conv256a': nn.Conv2d(384, 256, kernel_size=3, padding=1),\n",
    "     'act256a': nn.ReLU(True),\n",
    "     \n",
    "     'conv256b': nn.Conv2d(256, 256, kernel_size=3, padding=1),\n",
    "     'act256b': nn.ReLU(True),\n",
    "     \n",
    "     'max3': nn.MaxPool2d(kernel_size=2, stride=2),\n",
    "    \n",
    "     'flatten': Flatten(),\n",
    "     'fc1': nn.Linear(4 * 4 * 256, 512),\n",
    "     'act1': nn.ReLU(True),\n",
    "     'fc2': nn.Linear(512, 512),\n",
    "     'act2': nn.ReLU(True),\n",
    "     'out': nn.Linear(512, 10)})"
   ]
  },
  {
   "cell_type": "code",
   "execution_count": 4,
   "metadata": {},
   "outputs": [],
   "source": [
    "criterion = TripletRegularizedMultiMarginLoss(0, .5)\n",
    "sess = Session(model, criterion, optim.Adam, 1e-4)"
   ]
  },
  {
   "cell_type": "code",
   "execution_count": 5,
   "metadata": {
    "scrolled": true
   },
   "outputs": [
    {
     "data": {
      "application/vnd.jupyter.widget-view+json": {
       "model_id": "586fee43bd90490484293dc3dbd698d2",
       "version_major": 2,
       "version_minor": 0
      },
      "text/plain": [
       "HBox(children=(IntProgress(value=0, description='Epochs', max=63, style=ProgressStyle(description_width='initi…"
      ]
     },
     "metadata": {},
     "output_type": "display_data"
    },
    {
     "data": {
      "application/vnd.jupyter.widget-view+json": {
       "model_id": "",
       "version_major": 2,
       "version_minor": 0
      },
      "text/plain": [
       "HBox(children=(IntProgress(value=0, description='Steps', max=782, style=ProgressStyle(description_width='initi…"
      ]
     },
     "metadata": {},
     "output_type": "display_data"
    },
    {
     "name": "stderr",
     "output_type": "stream",
     "text": [
      "Validating: 100%|██████████| 157/157 [00:06<00:00, 25.42it/s]"
     ]
    },
    {
     "name": "stdout",
     "output_type": "stream",
     "text": [
      "\n",
      "val accuracy:  0.401 \n",
      "train loss:  0.3784  train BCE :  1.8313 \n",
      "valid loss:  0.3649  valid BCE :  1.6407\n"
     ]
    },
    {
     "name": "stderr",
     "output_type": "stream",
     "text": [
      "\n"
     ]
    },
    {
     "data": {
      "application/vnd.jupyter.widget-view+json": {
       "model_id": "",
       "version_major": 2,
       "version_minor": 0
      },
      "text/plain": [
       "HBox(children=(IntProgress(value=0, description='Steps', max=782, style=ProgressStyle(description_width='initi…"
      ]
     },
     "metadata": {},
     "output_type": "display_data"
    },
    {
     "name": "stderr",
     "output_type": "stream",
     "text": [
      "Validating: 100%|██████████| 157/157 [00:06<00:00, 25.50it/s]"
     ]
    },
    {
     "name": "stdout",
     "output_type": "stream",
     "text": [
      "\n",
      "val accuracy:  0.4876 \n",
      "train loss:  0.3069  train BCE :  1.5854 \n",
      "valid loss:  0.2933  valid BCE :  1.4607\n"
     ]
    },
    {
     "name": "stderr",
     "output_type": "stream",
     "text": [
      "\n"
     ]
    },
    {
     "data": {
      "application/vnd.jupyter.widget-view+json": {
       "model_id": "",
       "version_major": 2,
       "version_minor": 0
      },
      "text/plain": [
       "HBox(children=(IntProgress(value=0, description='Steps', max=782, style=ProgressStyle(description_width='initi…"
      ]
     },
     "metadata": {},
     "output_type": "display_data"
    },
    {
     "name": "stderr",
     "output_type": "stream",
     "text": [
      "Validating: 100%|██████████| 157/157 [00:06<00:00, 25.68it/s]"
     ]
    },
    {
     "name": "stdout",
     "output_type": "stream",
     "text": [
      "\n",
      "val accuracy:  0.5345 \n",
      "train loss:  0.2701  train BCE :  1.4607 \n",
      "valid loss:  0.2547  valid BCE :  1.3493\n"
     ]
    },
    {
     "name": "stderr",
     "output_type": "stream",
     "text": [
      "\n"
     ]
    },
    {
     "data": {
      "application/vnd.jupyter.widget-view+json": {
       "model_id": "",
       "version_major": 2,
       "version_minor": 0
      },
      "text/plain": [
       "HBox(children=(IntProgress(value=0, description='Steps', max=782, style=ProgressStyle(description_width='initi…"
      ]
     },
     "metadata": {},
     "output_type": "display_data"
    },
    {
     "name": "stderr",
     "output_type": "stream",
     "text": [
      "Validating: 100%|██████████| 157/157 [00:06<00:00, 25.49it/s]"
     ]
    },
    {
     "name": "stdout",
     "output_type": "stream",
     "text": [
      "\n",
      "val accuracy:  0.5723 \n",
      "train loss:  0.2353  train BCE :  1.3685 \n",
      "valid loss:  0.2253  valid BCE :  1.259\n"
     ]
    },
    {
     "name": "stderr",
     "output_type": "stream",
     "text": [
      "\n"
     ]
    },
    {
     "data": {
      "application/vnd.jupyter.widget-view+json": {
       "model_id": "",
       "version_major": 2,
       "version_minor": 0
      },
      "text/plain": [
       "HBox(children=(IntProgress(value=0, description='Steps', max=782, style=ProgressStyle(description_width='initi…"
      ]
     },
     "metadata": {},
     "output_type": "display_data"
    },
    {
     "name": "stderr",
     "output_type": "stream",
     "text": [
      "Validating: 100%|██████████| 157/157 [00:06<00:00, 24.39it/s]"
     ]
    },
    {
     "name": "stdout",
     "output_type": "stream",
     "text": [
      "\n",
      "val accuracy:  0.6014 \n",
      "train loss:  0.2062  train BCE :  1.293 \n",
      "valid loss:  0.2056  valid BCE :  1.1811\n"
     ]
    },
    {
     "name": "stderr",
     "output_type": "stream",
     "text": [
      "\n"
     ]
    },
    {
     "data": {
      "application/vnd.jupyter.widget-view+json": {
       "model_id": "",
       "version_major": 2,
       "version_minor": 0
      },
      "text/plain": [
       "HBox(children=(IntProgress(value=0, description='Steps', max=782, style=ProgressStyle(description_width='initi…"
      ]
     },
     "metadata": {},
     "output_type": "display_data"
    },
    {
     "name": "stderr",
     "output_type": "stream",
     "text": [
      "Validating: 100%|██████████| 157/157 [00:06<00:00, 24.87it/s]"
     ]
    },
    {
     "name": "stdout",
     "output_type": "stream",
     "text": [
      "\n",
      "val accuracy:  0.6301 \n",
      "train loss:  0.1944  train BCE :  1.2276 \n",
      "valid loss:  0.1883  valid BCE :  1.1148\n"
     ]
    },
    {
     "name": "stderr",
     "output_type": "stream",
     "text": [
      "\n"
     ]
    },
    {
     "data": {
      "application/vnd.jupyter.widget-view+json": {
       "model_id": "",
       "version_major": 2,
       "version_minor": 0
      },
      "text/plain": [
       "HBox(children=(IntProgress(value=0, description='Steps', max=782, style=ProgressStyle(description_width='initi…"
      ]
     },
     "metadata": {},
     "output_type": "display_data"
    },
    {
     "name": "stderr",
     "output_type": "stream",
     "text": [
      "Validating: 100%|██████████| 157/157 [00:06<00:00, 25.70it/s]"
     ]
    },
    {
     "name": "stdout",
     "output_type": "stream",
     "text": [
      "\n",
      "val accuracy:  0.6464 \n",
      "train loss:  0.1824  train BCE :  1.1777 \n",
      "valid loss:  0.1756  valid BCE :  1.0691\n"
     ]
    },
    {
     "name": "stderr",
     "output_type": "stream",
     "text": [
      "\n"
     ]
    },
    {
     "data": {
      "application/vnd.jupyter.widget-view+json": {
       "model_id": "",
       "version_major": 2,
       "version_minor": 0
      },
      "text/plain": [
       "HBox(children=(IntProgress(value=0, description='Steps', max=782, style=ProgressStyle(description_width='initi…"
      ]
     },
     "metadata": {},
     "output_type": "display_data"
    },
    {
     "name": "stderr",
     "output_type": "stream",
     "text": [
      "Validating: 100%|██████████| 157/157 [00:06<00:00, 25.71it/s]"
     ]
    },
    {
     "name": "stdout",
     "output_type": "stream",
     "text": [
      "\n",
      "val accuracy:  0.6566 \n",
      "train loss:  0.1646  train BCE :  1.1243 \n",
      "valid loss:  0.1662  valid BCE :  1.0318\n"
     ]
    },
    {
     "name": "stderr",
     "output_type": "stream",
     "text": [
      "\n"
     ]
    },
    {
     "data": {
      "application/vnd.jupyter.widget-view+json": {
       "model_id": "",
       "version_major": 2,
       "version_minor": 0
      },
      "text/plain": [
       "HBox(children=(IntProgress(value=0, description='Steps', max=782, style=ProgressStyle(description_width='initi…"
      ]
     },
     "metadata": {},
     "output_type": "display_data"
    },
    {
     "name": "stderr",
     "output_type": "stream",
     "text": [
      "Validating: 100%|██████████| 157/157 [00:06<00:00, 25.79it/s]"
     ]
    },
    {
     "name": "stdout",
     "output_type": "stream",
     "text": [
      "\n",
      "val accuracy:  0.6768 \n",
      "train loss:  0.156  train BCE :  1.0805 \n",
      "valid loss:  0.1553  valid BCE :  0.9857\n"
     ]
    },
    {
     "name": "stderr",
     "output_type": "stream",
     "text": [
      "\n"
     ]
    },
    {
     "data": {
      "application/vnd.jupyter.widget-view+json": {
       "model_id": "",
       "version_major": 2,
       "version_minor": 0
      },
      "text/plain": [
       "HBox(children=(IntProgress(value=0, description='Steps', max=782, style=ProgressStyle(description_width='initi…"
      ]
     },
     "metadata": {},
     "output_type": "display_data"
    },
    {
     "name": "stderr",
     "output_type": "stream",
     "text": [
      "Validating: 100%|██████████| 157/157 [00:06<00:00, 26.15it/s]"
     ]
    },
    {
     "name": "stdout",
     "output_type": "stream",
     "text": [
      "\n",
      "val accuracy:  0.6858 \n",
      "train loss:  0.1444  train BCE :  1.0478 \n",
      "valid loss:  0.1486  valid BCE :  0.9587\n"
     ]
    },
    {
     "name": "stderr",
     "output_type": "stream",
     "text": [
      "\n"
     ]
    },
    {
     "data": {
      "application/vnd.jupyter.widget-view+json": {
       "model_id": "",
       "version_major": 2,
       "version_minor": 0
      },
      "text/plain": [
       "HBox(children=(IntProgress(value=0, description='Steps', max=782, style=ProgressStyle(description_width='initi…"
      ]
     },
     "metadata": {},
     "output_type": "display_data"
    },
    {
     "name": "stderr",
     "output_type": "stream",
     "text": [
      "Validating: 100%|██████████| 157/157 [00:05<00:00, 26.19it/s]"
     ]
    },
    {
     "name": "stdout",
     "output_type": "stream",
     "text": [
      "\n",
      "val accuracy:  0.7033 \n",
      "train loss:  0.1411  train BCE :  0.9991 \n",
      "valid loss:  0.1387  valid BCE :  0.9165\n"
     ]
    },
    {
     "name": "stderr",
     "output_type": "stream",
     "text": [
      "\n"
     ]
    },
    {
     "data": {
      "application/vnd.jupyter.widget-view+json": {
       "model_id": "",
       "version_major": 2,
       "version_minor": 0
      },
      "text/plain": [
       "HBox(children=(IntProgress(value=0, description='Steps', max=782, style=ProgressStyle(description_width='initi…"
      ]
     },
     "metadata": {},
     "output_type": "display_data"
    },
    {
     "name": "stderr",
     "output_type": "stream",
     "text": [
      "Validating: 100%|██████████| 157/157 [00:05<00:00, 26.27it/s]"
     ]
    },
    {
     "name": "stdout",
     "output_type": "stream",
     "text": [
      "\n",
      "val accuracy:  0.7103 \n",
      "train loss:  0.1299  train BCE :  0.9687 \n",
      "valid loss:  0.1338  valid BCE :  0.8965\n"
     ]
    },
    {
     "name": "stderr",
     "output_type": "stream",
     "text": [
      "\n"
     ]
    },
    {
     "data": {
      "application/vnd.jupyter.widget-view+json": {
       "model_id": "",
       "version_major": 2,
       "version_minor": 0
      },
      "text/plain": [
       "HBox(children=(IntProgress(value=0, description='Steps', max=782, style=ProgressStyle(description_width='initi…"
      ]
     },
     "metadata": {},
     "output_type": "display_data"
    },
    {
     "name": "stderr",
     "output_type": "stream",
     "text": [
      "Validating: 100%|██████████| 157/157 [00:05<00:00, 26.29it/s]"
     ]
    },
    {
     "name": "stdout",
     "output_type": "stream",
     "text": [
      "\n",
      "val accuracy:  0.7219 \n",
      "train loss:  0.1203  train BCE :  0.928 \n",
      "valid loss:  0.1276  valid BCE :  0.8554\n"
     ]
    },
    {
     "name": "stderr",
     "output_type": "stream",
     "text": [
      "\n"
     ]
    },
    {
     "data": {
      "application/vnd.jupyter.widget-view+json": {
       "model_id": "",
       "version_major": 2,
       "version_minor": 0
      },
      "text/plain": [
       "HBox(children=(IntProgress(value=0, description='Steps', max=782, style=ProgressStyle(description_width='initi…"
      ]
     },
     "metadata": {},
     "output_type": "display_data"
    },
    {
     "name": "stderr",
     "output_type": "stream",
     "text": [
      "Validating: 100%|██████████| 157/157 [00:05<00:00, 28.07it/s]"
     ]
    },
    {
     "name": "stdout",
     "output_type": "stream",
     "text": [
      "\n",
      "val accuracy:  0.7351 \n",
      "train loss:  0.1188  train BCE :  0.9022 \n",
      "valid loss:  0.1209  valid BCE :  0.8271\n"
     ]
    },
    {
     "name": "stderr",
     "output_type": "stream",
     "text": [
      "\n"
     ]
    },
    {
     "data": {
      "application/vnd.jupyter.widget-view+json": {
       "model_id": "",
       "version_major": 2,
       "version_minor": 0
      },
      "text/plain": [
       "HBox(children=(IntProgress(value=0, description='Steps', max=782, style=ProgressStyle(description_width='initi…"
      ]
     },
     "metadata": {},
     "output_type": "display_data"
    },
    {
     "name": "stderr",
     "output_type": "stream",
     "text": [
      "Validating: 100%|██████████| 157/157 [00:05<00:00, 27.88it/s]"
     ]
    },
    {
     "name": "stdout",
     "output_type": "stream",
     "text": [
      "\n",
      "val accuracy:  0.7461 \n",
      "train loss:  0.1089  train BCE :  0.8784 \n",
      "valid loss:  0.116  valid BCE :  0.8122\n"
     ]
    },
    {
     "name": "stderr",
     "output_type": "stream",
     "text": [
      "\n"
     ]
    },
    {
     "data": {
      "application/vnd.jupyter.widget-view+json": {
       "model_id": "",
       "version_major": 2,
       "version_minor": 0
      },
      "text/plain": [
       "HBox(children=(IntProgress(value=0, description='Steps', max=782, style=ProgressStyle(description_width='initi…"
      ]
     },
     "metadata": {},
     "output_type": "display_data"
    },
    {
     "name": "stderr",
     "output_type": "stream",
     "text": [
      "Validating: 100%|██████████| 157/157 [00:05<00:00, 28.11it/s]"
     ]
    },
    {
     "name": "stdout",
     "output_type": "stream",
     "text": [
      "\n",
      "val accuracy:  0.7542 \n",
      "train loss:  0.107  train BCE :  0.8536 \n",
      "valid loss:  0.1121  valid BCE :  0.79\n"
     ]
    },
    {
     "name": "stderr",
     "output_type": "stream",
     "text": [
      "\n"
     ]
    },
    {
     "data": {
      "application/vnd.jupyter.widget-view+json": {
       "model_id": "",
       "version_major": 2,
       "version_minor": 0
      },
      "text/plain": [
       "HBox(children=(IntProgress(value=0, description='Steps', max=782, style=ProgressStyle(description_width='initi…"
      ]
     },
     "metadata": {},
     "output_type": "display_data"
    },
    {
     "name": "stderr",
     "output_type": "stream",
     "text": [
      "Validating: 100%|██████████| 157/157 [00:05<00:00, 27.94it/s]"
     ]
    },
    {
     "name": "stdout",
     "output_type": "stream",
     "text": [
      "\n",
      "val accuracy:  0.7615 \n",
      "train loss:  0.1049  train BCE :  0.8254 \n",
      "valid loss:  0.1076  valid BCE :  0.7616\n"
     ]
    },
    {
     "name": "stderr",
     "output_type": "stream",
     "text": [
      "\n"
     ]
    },
    {
     "data": {
      "application/vnd.jupyter.widget-view+json": {
       "model_id": "",
       "version_major": 2,
       "version_minor": 0
      },
      "text/plain": [
       "HBox(children=(IntProgress(value=0, description='Steps', max=782, style=ProgressStyle(description_width='initi…"
      ]
     },
     "metadata": {},
     "output_type": "display_data"
    },
    {
     "name": "stderr",
     "output_type": "stream",
     "text": [
      "Validating: 100%|██████████| 157/157 [00:05<00:00, 27.97it/s]"
     ]
    },
    {
     "name": "stdout",
     "output_type": "stream",
     "text": [
      "\n",
      "val accuracy:  0.7672 \n",
      "train loss:  0.094  train BCE :  0.8028 \n",
      "valid loss:  0.1046  valid BCE :  0.7459\n"
     ]
    },
    {
     "name": "stderr",
     "output_type": "stream",
     "text": [
      "\n"
     ]
    },
    {
     "data": {
      "application/vnd.jupyter.widget-view+json": {
       "model_id": "",
       "version_major": 2,
       "version_minor": 0
      },
      "text/plain": [
       "HBox(children=(IntProgress(value=0, description='Steps', max=782, style=ProgressStyle(description_width='initi…"
      ]
     },
     "metadata": {},
     "output_type": "display_data"
    },
    {
     "name": "stderr",
     "output_type": "stream",
     "text": [
      "Validating: 100%|██████████| 157/157 [00:05<00:00, 27.93it/s]"
     ]
    },
    {
     "name": "stdout",
     "output_type": "stream",
     "text": [
      "\n",
      "val accuracy:  0.7695 \n",
      "train loss:  0.094  train BCE :  0.7761 \n",
      "valid loss:  0.1024  valid BCE :  0.7214\n"
     ]
    },
    {
     "name": "stderr",
     "output_type": "stream",
     "text": [
      "\n"
     ]
    },
    {
     "data": {
      "application/vnd.jupyter.widget-view+json": {
       "model_id": "",
       "version_major": 2,
       "version_minor": 0
      },
      "text/plain": [
       "HBox(children=(IntProgress(value=0, description='Steps', max=782, style=ProgressStyle(description_width='initi…"
      ]
     },
     "metadata": {},
     "output_type": "display_data"
    },
    {
     "name": "stderr",
     "output_type": "stream",
     "text": [
      "Validating: 100%|██████████| 157/157 [00:05<00:00, 27.89it/s]"
     ]
    },
    {
     "name": "stdout",
     "output_type": "stream",
     "text": [
      "\n",
      "val accuracy:  0.7741 \n",
      "train loss:  0.0891  train BCE :  0.7601 \n",
      "valid loss:  0.0991  valid BCE :  0.7127\n"
     ]
    },
    {
     "name": "stderr",
     "output_type": "stream",
     "text": [
      "\n"
     ]
    },
    {
     "data": {
      "application/vnd.jupyter.widget-view+json": {
       "model_id": "",
       "version_major": 2,
       "version_minor": 0
      },
      "text/plain": [
       "HBox(children=(IntProgress(value=0, description='Steps', max=782, style=ProgressStyle(description_width='initi…"
      ]
     },
     "metadata": {},
     "output_type": "display_data"
    },
    {
     "name": "stderr",
     "output_type": "stream",
     "text": [
      "Validating: 100%|██████████| 157/157 [00:05<00:00, 27.87it/s]"
     ]
    },
    {
     "name": "stdout",
     "output_type": "stream",
     "text": [
      "\n",
      "val accuracy:  0.7851 \n",
      "train loss:  0.0813  train BCE :  0.7355 \n",
      "valid loss:  0.0958  valid BCE :  0.6874\n"
     ]
    },
    {
     "name": "stderr",
     "output_type": "stream",
     "text": [
      "\n"
     ]
    },
    {
     "data": {
      "application/vnd.jupyter.widget-view+json": {
       "model_id": "",
       "version_major": 2,
       "version_minor": 0
      },
      "text/plain": [
       "HBox(children=(IntProgress(value=0, description='Steps', max=782, style=ProgressStyle(description_width='initi…"
      ]
     },
     "metadata": {},
     "output_type": "display_data"
    },
    {
     "name": "stderr",
     "output_type": "stream",
     "text": [
      "Validating: 100%|██████████| 157/157 [00:05<00:00, 27.95it/s]"
     ]
    },
    {
     "name": "stdout",
     "output_type": "stream",
     "text": [
      "\n",
      "val accuracy:  0.7884 \n",
      "train loss:  0.0825  train BCE :  0.7176 \n",
      "valid loss:  0.0935  valid BCE :  0.6802\n"
     ]
    },
    {
     "name": "stderr",
     "output_type": "stream",
     "text": [
      "\n"
     ]
    },
    {
     "data": {
      "application/vnd.jupyter.widget-view+json": {
       "model_id": "",
       "version_major": 2,
       "version_minor": 0
      },
      "text/plain": [
       "HBox(children=(IntProgress(value=0, description='Steps', max=782, style=ProgressStyle(description_width='initi…"
      ]
     },
     "metadata": {},
     "output_type": "display_data"
    },
    {
     "name": "stderr",
     "output_type": "stream",
     "text": [
      "Validating: 100%|██████████| 157/157 [00:05<00:00, 28.02it/s]"
     ]
    },
    {
     "name": "stdout",
     "output_type": "stream",
     "text": [
      "\n",
      "val accuracy:  0.7945 \n",
      "train loss:  0.0792  train BCE :  0.7004 \n",
      "valid loss:  0.0915  valid BCE :  0.6624\n"
     ]
    },
    {
     "name": "stderr",
     "output_type": "stream",
     "text": [
      "\n"
     ]
    },
    {
     "data": {
      "application/vnd.jupyter.widget-view+json": {
       "model_id": "",
       "version_major": 2,
       "version_minor": 0
      },
      "text/plain": [
       "HBox(children=(IntProgress(value=0, description='Steps', max=782, style=ProgressStyle(description_width='initi…"
      ]
     },
     "metadata": {},
     "output_type": "display_data"
    },
    {
     "name": "stderr",
     "output_type": "stream",
     "text": [
      "Validating: 100%|██████████| 157/157 [00:05<00:00, 28.12it/s]"
     ]
    },
    {
     "name": "stdout",
     "output_type": "stream",
     "text": [
      "\n",
      "val accuracy:  0.7972 \n",
      "train loss:  0.0789  train BCE :  0.6853 \n",
      "valid loss:  0.0896  valid BCE :  0.6473\n"
     ]
    },
    {
     "name": "stderr",
     "output_type": "stream",
     "text": [
      "\n"
     ]
    },
    {
     "data": {
      "application/vnd.jupyter.widget-view+json": {
       "model_id": "",
       "version_major": 2,
       "version_minor": 0
      },
      "text/plain": [
       "HBox(children=(IntProgress(value=0, description='Steps', max=782, style=ProgressStyle(description_width='initi…"
      ]
     },
     "metadata": {},
     "output_type": "display_data"
    },
    {
     "name": "stderr",
     "output_type": "stream",
     "text": [
      "Validating: 100%|██████████| 157/157 [00:05<00:00, 28.25it/s]"
     ]
    },
    {
     "name": "stdout",
     "output_type": "stream",
     "text": [
      "\n",
      "val accuracy:  0.7991 \n",
      "train loss:  0.0734  train BCE :  0.672 \n",
      "valid loss:  0.0882  valid BCE :  0.6397\n"
     ]
    },
    {
     "name": "stderr",
     "output_type": "stream",
     "text": [
      "\n"
     ]
    },
    {
     "data": {
      "application/vnd.jupyter.widget-view+json": {
       "model_id": "",
       "version_major": 2,
       "version_minor": 0
      },
      "text/plain": [
       "HBox(children=(IntProgress(value=0, description='Steps', max=782, style=ProgressStyle(description_width='initi…"
      ]
     },
     "metadata": {},
     "output_type": "display_data"
    },
    {
     "name": "stderr",
     "output_type": "stream",
     "text": [
      "Validating: 100%|██████████| 157/157 [00:05<00:00, 27.92it/s]"
     ]
    },
    {
     "name": "stdout",
     "output_type": "stream",
     "text": [
      "\n",
      "val accuracy:  0.8016 \n",
      "train loss:  0.0676  train BCE :  0.6512 \n",
      "valid loss:  0.0866  valid BCE :  0.6278\n"
     ]
    },
    {
     "name": "stderr",
     "output_type": "stream",
     "text": [
      "\n"
     ]
    },
    {
     "data": {
      "application/vnd.jupyter.widget-view+json": {
       "model_id": "",
       "version_major": 2,
       "version_minor": 0
      },
      "text/plain": [
       "HBox(children=(IntProgress(value=0, description='Steps', max=782, style=ProgressStyle(description_width='initi…"
      ]
     },
     "metadata": {},
     "output_type": "display_data"
    },
    {
     "name": "stderr",
     "output_type": "stream",
     "text": [
      "Validating: 100%|██████████| 157/157 [00:05<00:00, 28.21it/s]"
     ]
    },
    {
     "name": "stdout",
     "output_type": "stream",
     "text": [
      "\n",
      "val accuracy:  0.8085 \n",
      "train loss:  0.0666  train BCE :  0.6348 \n",
      "valid loss:  0.0843  valid BCE :  0.6174\n"
     ]
    },
    {
     "name": "stderr",
     "output_type": "stream",
     "text": [
      "\n"
     ]
    },
    {
     "data": {
      "application/vnd.jupyter.widget-view+json": {
       "model_id": "",
       "version_major": 2,
       "version_minor": 0
      },
      "text/plain": [
       "HBox(children=(IntProgress(value=0, description='Steps', max=782, style=ProgressStyle(description_width='initi…"
      ]
     },
     "metadata": {},
     "output_type": "display_data"
    },
    {
     "name": "stderr",
     "output_type": "stream",
     "text": [
      "Validating: 100%|██████████| 157/157 [00:05<00:00, 28.22it/s]"
     ]
    },
    {
     "name": "stdout",
     "output_type": "stream",
     "text": [
      "\n",
      "val accuracy:  0.8108 \n",
      "train loss:  0.064  train BCE :  0.6185 \n",
      "valid loss:  0.0832  valid BCE :  0.6049\n"
     ]
    },
    {
     "name": "stderr",
     "output_type": "stream",
     "text": [
      "\n"
     ]
    },
    {
     "data": {
      "application/vnd.jupyter.widget-view+json": {
       "model_id": "",
       "version_major": 2,
       "version_minor": 0
      },
      "text/plain": [
       "HBox(children=(IntProgress(value=0, description='Steps', max=782, style=ProgressStyle(description_width='initi…"
      ]
     },
     "metadata": {},
     "output_type": "display_data"
    },
    {
     "name": "stderr",
     "output_type": "stream",
     "text": [
      "Validating: 100%|██████████| 157/157 [00:05<00:00, 28.19it/s]"
     ]
    },
    {
     "name": "stdout",
     "output_type": "stream",
     "text": [
      "\n",
      "val accuracy:  0.8145 \n",
      "train loss:  0.0621  train BCE :  0.6028 \n",
      "valid loss:  0.0821  valid BCE :  0.5977\n"
     ]
    },
    {
     "name": "stderr",
     "output_type": "stream",
     "text": [
      "\n"
     ]
    },
    {
     "data": {
      "application/vnd.jupyter.widget-view+json": {
       "model_id": "",
       "version_major": 2,
       "version_minor": 0
      },
      "text/plain": [
       "HBox(children=(IntProgress(value=0, description='Steps', max=782, style=ProgressStyle(description_width='initi…"
      ]
     },
     "metadata": {},
     "output_type": "display_data"
    },
    {
     "name": "stderr",
     "output_type": "stream",
     "text": [
      "Validating: 100%|██████████| 157/157 [00:05<00:00, 28.26it/s]"
     ]
    },
    {
     "name": "stdout",
     "output_type": "stream",
     "text": [
      "\n",
      "val accuracy:  0.8184 \n",
      "train loss:  0.0618  train BCE :  0.5861 \n",
      "valid loss:  0.0805  valid BCE :  0.5898\n"
     ]
    },
    {
     "name": "stderr",
     "output_type": "stream",
     "text": [
      "\n"
     ]
    },
    {
     "data": {
      "application/vnd.jupyter.widget-view+json": {
       "model_id": "",
       "version_major": 2,
       "version_minor": 0
      },
      "text/plain": [
       "HBox(children=(IntProgress(value=0, description='Steps', max=782, style=ProgressStyle(description_width='initi…"
      ]
     },
     "metadata": {},
     "output_type": "display_data"
    },
    {
     "name": "stderr",
     "output_type": "stream",
     "text": [
      "Validating: 100%|██████████| 157/157 [00:05<00:00, 28.17it/s]"
     ]
    },
    {
     "name": "stdout",
     "output_type": "stream",
     "text": [
      "\n",
      "val accuracy:  0.8174 \n",
      "train loss:  0.0588  train BCE :  0.5758 \n",
      "valid loss:  0.0796  valid BCE :  0.5806\n"
     ]
    },
    {
     "name": "stderr",
     "output_type": "stream",
     "text": [
      "\n"
     ]
    },
    {
     "data": {
      "application/vnd.jupyter.widget-view+json": {
       "model_id": "",
       "version_major": 2,
       "version_minor": 0
      },
      "text/plain": [
       "HBox(children=(IntProgress(value=0, description='Steps', max=782, style=ProgressStyle(description_width='initi…"
      ]
     },
     "metadata": {},
     "output_type": "display_data"
    },
    {
     "name": "stderr",
     "output_type": "stream",
     "text": [
      "Validating: 100%|██████████| 157/157 [00:05<00:00, 28.37it/s]"
     ]
    },
    {
     "name": "stdout",
     "output_type": "stream",
     "text": [
      "\n",
      "val accuracy:  0.8194 \n",
      "train loss:  0.0554  train BCE :  0.5578 \n",
      "valid loss:  0.0782  valid BCE :  0.5665\n"
     ]
    },
    {
     "name": "stderr",
     "output_type": "stream",
     "text": [
      "\n"
     ]
    },
    {
     "data": {
      "application/vnd.jupyter.widget-view+json": {
       "model_id": "",
       "version_major": 2,
       "version_minor": 0
      },
      "text/plain": [
       "HBox(children=(IntProgress(value=0, description='Steps', max=782, style=ProgressStyle(description_width='initi…"
      ]
     },
     "metadata": {},
     "output_type": "display_data"
    },
    {
     "name": "stderr",
     "output_type": "stream",
     "text": [
      "Validating: 100%|██████████| 157/157 [00:05<00:00, 28.27it/s]"
     ]
    },
    {
     "name": "stdout",
     "output_type": "stream",
     "text": [
      "\n",
      "val accuracy:  0.824 \n",
      "train loss:  0.0536  train BCE :  0.5427 \n",
      "valid loss:  0.0773  valid BCE :  0.5548\n"
     ]
    },
    {
     "name": "stderr",
     "output_type": "stream",
     "text": [
      "\n"
     ]
    },
    {
     "data": {
      "application/vnd.jupyter.widget-view+json": {
       "model_id": "",
       "version_major": 2,
       "version_minor": 0
      },
      "text/plain": [
       "HBox(children=(IntProgress(value=0, description='Steps', max=782, style=ProgressStyle(description_width='initi…"
      ]
     },
     "metadata": {},
     "output_type": "display_data"
    },
    {
     "name": "stderr",
     "output_type": "stream",
     "text": [
      "Validating: 100%|██████████| 157/157 [00:05<00:00, 28.27it/s]"
     ]
    },
    {
     "name": "stdout",
     "output_type": "stream",
     "text": [
      "\n",
      "val accuracy:  0.8263 \n",
      "train loss:  0.053  train BCE :  0.531 \n",
      "valid loss:  0.0761  valid BCE :  0.5495\n"
     ]
    },
    {
     "name": "stderr",
     "output_type": "stream",
     "text": [
      "\n"
     ]
    },
    {
     "data": {
      "application/vnd.jupyter.widget-view+json": {
       "model_id": "",
       "version_major": 2,
       "version_minor": 0
      },
      "text/plain": [
       "HBox(children=(IntProgress(value=0, description='Steps', max=782, style=ProgressStyle(description_width='initi…"
      ]
     },
     "metadata": {},
     "output_type": "display_data"
    },
    {
     "name": "stderr",
     "output_type": "stream",
     "text": [
      "Validating: 100%|██████████| 157/157 [00:05<00:00, 28.35it/s]"
     ]
    },
    {
     "name": "stdout",
     "output_type": "stream",
     "text": [
      "\n",
      "val accuracy:  0.8255 \n",
      "train loss:  0.0491  train BCE :  0.5219 \n",
      "valid loss:  0.0754  valid BCE :  0.5432\n"
     ]
    },
    {
     "name": "stderr",
     "output_type": "stream",
     "text": [
      "\n"
     ]
    },
    {
     "data": {
      "application/vnd.jupyter.widget-view+json": {
       "model_id": "",
       "version_major": 2,
       "version_minor": 0
      },
      "text/plain": [
       "HBox(children=(IntProgress(value=0, description='Steps', max=782, style=ProgressStyle(description_width='initi…"
      ]
     },
     "metadata": {},
     "output_type": "display_data"
    },
    {
     "name": "stderr",
     "output_type": "stream",
     "text": [
      "Validating: 100%|██████████| 157/157 [00:05<00:00, 28.19it/s]"
     ]
    },
    {
     "name": "stdout",
     "output_type": "stream",
     "text": [
      "\n",
      "val accuracy:  0.8254 \n",
      "train loss:  0.047  train BCE :  0.5096 \n",
      "valid loss:  0.0753  valid BCE :  0.5383\n"
     ]
    },
    {
     "name": "stderr",
     "output_type": "stream",
     "text": [
      "\n"
     ]
    },
    {
     "data": {
      "application/vnd.jupyter.widget-view+json": {
       "model_id": "",
       "version_major": 2,
       "version_minor": 0
      },
      "text/plain": [
       "HBox(children=(IntProgress(value=0, description='Steps', max=782, style=ProgressStyle(description_width='initi…"
      ]
     },
     "metadata": {},
     "output_type": "display_data"
    },
    {
     "name": "stderr",
     "output_type": "stream",
     "text": [
      "Validating: 100%|██████████| 157/157 [00:05<00:00, 27.77it/s]"
     ]
    },
    {
     "name": "stdout",
     "output_type": "stream",
     "text": [
      "\n",
      "val accuracy:  0.8274 \n",
      "train loss:  0.0445  train BCE :  0.489 \n",
      "valid loss:  0.0752  valid BCE :  0.5301\n"
     ]
    },
    {
     "name": "stderr",
     "output_type": "stream",
     "text": [
      "\n"
     ]
    },
    {
     "data": {
      "application/vnd.jupyter.widget-view+json": {
       "model_id": "",
       "version_major": 2,
       "version_minor": 0
      },
      "text/plain": [
       "HBox(children=(IntProgress(value=0, description='Steps', max=782, style=ProgressStyle(description_width='initi…"
      ]
     },
     "metadata": {},
     "output_type": "display_data"
    },
    {
     "name": "stderr",
     "output_type": "stream",
     "text": [
      "Validating: 100%|██████████| 157/157 [00:05<00:00, 28.38it/s]"
     ]
    },
    {
     "name": "stdout",
     "output_type": "stream",
     "text": [
      "\n",
      "val accuracy:  0.8327 \n",
      "train loss:  0.0428  train BCE :  0.4799 \n",
      "valid loss:  0.074  valid BCE :  0.5182\n"
     ]
    },
    {
     "name": "stderr",
     "output_type": "stream",
     "text": [
      "\n"
     ]
    },
    {
     "data": {
      "application/vnd.jupyter.widget-view+json": {
       "model_id": "",
       "version_major": 2,
       "version_minor": 0
      },
      "text/plain": [
       "HBox(children=(IntProgress(value=0, description='Steps', max=782, style=ProgressStyle(description_width='initi…"
      ]
     },
     "metadata": {},
     "output_type": "display_data"
    },
    {
     "name": "stderr",
     "output_type": "stream",
     "text": [
      "Validating: 100%|██████████| 157/157 [00:05<00:00, 28.32it/s]"
     ]
    },
    {
     "name": "stdout",
     "output_type": "stream",
     "text": [
      "\n",
      "val accuracy:  0.832 \n",
      "train loss:  0.0404  train BCE :  0.4738 \n",
      "valid loss:  0.0737  valid BCE :  0.5172\n"
     ]
    },
    {
     "name": "stderr",
     "output_type": "stream",
     "text": [
      "\n"
     ]
    },
    {
     "data": {
      "application/vnd.jupyter.widget-view+json": {
       "model_id": "",
       "version_major": 2,
       "version_minor": 0
      },
      "text/plain": [
       "HBox(children=(IntProgress(value=0, description='Steps', max=782, style=ProgressStyle(description_width='initi…"
      ]
     },
     "metadata": {},
     "output_type": "display_data"
    },
    {
     "name": "stderr",
     "output_type": "stream",
     "text": [
      "Validating: 100%|██████████| 157/157 [00:05<00:00, 28.23it/s]"
     ]
    },
    {
     "name": "stdout",
     "output_type": "stream",
     "text": [
      "\n",
      "val accuracy:  0.8336 \n",
      "train loss:  0.043  train BCE :  0.4629 \n",
      "valid loss:  0.0736  valid BCE :  0.5124\n"
     ]
    },
    {
     "name": "stderr",
     "output_type": "stream",
     "text": [
      "\n"
     ]
    },
    {
     "data": {
      "application/vnd.jupyter.widget-view+json": {
       "model_id": "",
       "version_major": 2,
       "version_minor": 0
      },
      "text/plain": [
       "HBox(children=(IntProgress(value=0, description='Steps', max=782, style=ProgressStyle(description_width='initi…"
      ]
     },
     "metadata": {},
     "output_type": "display_data"
    },
    {
     "name": "stderr",
     "output_type": "stream",
     "text": [
      "Validating: 100%|██████████| 157/157 [00:05<00:00, 28.46it/s]"
     ]
    },
    {
     "name": "stdout",
     "output_type": "stream",
     "text": [
      "\n",
      "val accuracy:  0.8331 \n",
      "train loss:  0.0401  train BCE :  0.4528 \n",
      "valid loss:  0.0724  valid BCE :  0.5034\n"
     ]
    },
    {
     "name": "stderr",
     "output_type": "stream",
     "text": [
      "\n"
     ]
    },
    {
     "data": {
      "application/vnd.jupyter.widget-view+json": {
       "model_id": "",
       "version_major": 2,
       "version_minor": 0
      },
      "text/plain": [
       "HBox(children=(IntProgress(value=0, description='Steps', max=782, style=ProgressStyle(description_width='initi…"
      ]
     },
     "metadata": {},
     "output_type": "display_data"
    },
    {
     "name": "stderr",
     "output_type": "stream",
     "text": [
      "Validating: 100%|██████████| 157/157 [00:05<00:00, 28.16it/s]"
     ]
    },
    {
     "name": "stdout",
     "output_type": "stream",
     "text": [
      "\n",
      "val accuracy:  0.8324 \n",
      "train loss:  0.0372  train BCE :  0.4357 \n",
      "valid loss:  0.0718  valid BCE :  0.4955\n"
     ]
    },
    {
     "name": "stderr",
     "output_type": "stream",
     "text": [
      "\n"
     ]
    },
    {
     "data": {
      "application/vnd.jupyter.widget-view+json": {
       "model_id": "",
       "version_major": 2,
       "version_minor": 0
      },
      "text/plain": [
       "HBox(children=(IntProgress(value=0, description='Steps', max=782, style=ProgressStyle(description_width='initi…"
      ]
     },
     "metadata": {},
     "output_type": "display_data"
    },
    {
     "name": "stderr",
     "output_type": "stream",
     "text": [
      "Validating: 100%|██████████| 157/157 [00:05<00:00, 28.20it/s]"
     ]
    },
    {
     "name": "stdout",
     "output_type": "stream",
     "text": [
      "\n",
      "val accuracy:  0.8379 \n",
      "train loss:  0.0339  train BCE :  0.4278 \n",
      "valid loss:  0.0711  valid BCE :  0.4965\n"
     ]
    },
    {
     "name": "stderr",
     "output_type": "stream",
     "text": [
      "\n"
     ]
    },
    {
     "data": {
      "application/vnd.jupyter.widget-view+json": {
       "model_id": "",
       "version_major": 2,
       "version_minor": 0
      },
      "text/plain": [
       "HBox(children=(IntProgress(value=0, description='Steps', max=782, style=ProgressStyle(description_width='initi…"
      ]
     },
     "metadata": {},
     "output_type": "display_data"
    },
    {
     "name": "stderr",
     "output_type": "stream",
     "text": [
      "Validating: 100%|██████████| 157/157 [00:05<00:00, 28.54it/s]"
     ]
    },
    {
     "name": "stdout",
     "output_type": "stream",
     "text": [
      "\n",
      "val accuracy:  0.8407 \n",
      "train loss:  0.0363  train BCE :  0.4131 \n",
      "valid loss:  0.0706  valid BCE :  0.486\n"
     ]
    },
    {
     "name": "stderr",
     "output_type": "stream",
     "text": [
      "\n"
     ]
    },
    {
     "data": {
      "application/vnd.jupyter.widget-view+json": {
       "model_id": "",
       "version_major": 2,
       "version_minor": 0
      },
      "text/plain": [
       "HBox(children=(IntProgress(value=0, description='Steps', max=782, style=ProgressStyle(description_width='initi…"
      ]
     },
     "metadata": {},
     "output_type": "display_data"
    },
    {
     "name": "stderr",
     "output_type": "stream",
     "text": [
      "Validating: 100%|██████████| 157/157 [00:05<00:00, 28.35it/s]"
     ]
    },
    {
     "name": "stdout",
     "output_type": "stream",
     "text": [
      "\n",
      "val accuracy:  0.8393 \n",
      "train loss:  0.0347  train BCE :  0.4077 \n",
      "valid loss:  0.0709  valid BCE :  0.483\n"
     ]
    },
    {
     "name": "stderr",
     "output_type": "stream",
     "text": [
      "\n"
     ]
    },
    {
     "data": {
      "application/vnd.jupyter.widget-view+json": {
       "model_id": "",
       "version_major": 2,
       "version_minor": 0
      },
      "text/plain": [
       "HBox(children=(IntProgress(value=0, description='Steps', max=782, style=ProgressStyle(description_width='initi…"
      ]
     },
     "metadata": {},
     "output_type": "display_data"
    },
    {
     "name": "stderr",
     "output_type": "stream",
     "text": [
      "Validating: 100%|██████████| 157/157 [00:05<00:00, 28.25it/s]"
     ]
    },
    {
     "name": "stdout",
     "output_type": "stream",
     "text": [
      "\n",
      "val accuracy:  0.8425 \n",
      "train loss:  0.0341  train BCE :  0.3961 \n",
      "valid loss:  0.0699  valid BCE :  0.4787\n"
     ]
    },
    {
     "name": "stderr",
     "output_type": "stream",
     "text": [
      "\n"
     ]
    },
    {
     "data": {
      "application/vnd.jupyter.widget-view+json": {
       "model_id": "",
       "version_major": 2,
       "version_minor": 0
      },
      "text/plain": [
       "HBox(children=(IntProgress(value=0, description='Steps', max=782, style=ProgressStyle(description_width='initi…"
      ]
     },
     "metadata": {},
     "output_type": "display_data"
    },
    {
     "name": "stderr",
     "output_type": "stream",
     "text": [
      "Validating: 100%|██████████| 157/157 [00:05<00:00, 28.32it/s]"
     ]
    },
    {
     "name": "stdout",
     "output_type": "stream",
     "text": [
      "\n",
      "val accuracy:  0.8413 \n",
      "train loss:  0.03  train BCE :  0.3897 \n",
      "valid loss:  0.07  valid BCE :  0.4797\n"
     ]
    },
    {
     "name": "stderr",
     "output_type": "stream",
     "text": [
      "\n"
     ]
    },
    {
     "data": {
      "application/vnd.jupyter.widget-view+json": {
       "model_id": "",
       "version_major": 2,
       "version_minor": 0
      },
      "text/plain": [
       "HBox(children=(IntProgress(value=0, description='Steps', max=782, style=ProgressStyle(description_width='initi…"
      ]
     },
     "metadata": {},
     "output_type": "display_data"
    },
    {
     "name": "stderr",
     "output_type": "stream",
     "text": [
      "Validating: 100%|██████████| 157/157 [00:05<00:00, 28.42it/s]"
     ]
    },
    {
     "name": "stdout",
     "output_type": "stream",
     "text": [
      "\n",
      "val accuracy:  0.8402 \n",
      "train loss:  0.0287  train BCE :  0.3816 \n",
      "valid loss:  0.0698  valid BCE :  0.4733\n"
     ]
    },
    {
     "name": "stderr",
     "output_type": "stream",
     "text": [
      "\n"
     ]
    },
    {
     "data": {
      "application/vnd.jupyter.widget-view+json": {
       "model_id": "",
       "version_major": 2,
       "version_minor": 0
      },
      "text/plain": [
       "HBox(children=(IntProgress(value=0, description='Steps', max=782, style=ProgressStyle(description_width='initi…"
      ]
     },
     "metadata": {},
     "output_type": "display_data"
    },
    {
     "name": "stderr",
     "output_type": "stream",
     "text": [
      "Validating: 100%|██████████| 157/157 [00:05<00:00, 28.20it/s]"
     ]
    },
    {
     "name": "stdout",
     "output_type": "stream",
     "text": [
      "\n",
      "val accuracy:  0.8443 \n",
      "train loss:  0.0266  train BCE :  0.3681 \n",
      "valid loss:  0.0701  valid BCE :  0.4683\n"
     ]
    },
    {
     "name": "stderr",
     "output_type": "stream",
     "text": [
      "\n"
     ]
    },
    {
     "data": {
      "application/vnd.jupyter.widget-view+json": {
       "model_id": "",
       "version_major": 2,
       "version_minor": 0
      },
      "text/plain": [
       "HBox(children=(IntProgress(value=0, description='Steps', max=782, style=ProgressStyle(description_width='initi…"
      ]
     },
     "metadata": {},
     "output_type": "display_data"
    },
    {
     "name": "stderr",
     "output_type": "stream",
     "text": [
      "Validating: 100%|██████████| 157/157 [00:05<00:00, 28.23it/s]"
     ]
    },
    {
     "name": "stdout",
     "output_type": "stream",
     "text": [
      "\n",
      "val accuracy:  0.8441 \n",
      "train loss:  0.0277  train BCE :  0.3645 \n",
      "valid loss:  0.0696  valid BCE :  0.468\n"
     ]
    },
    {
     "name": "stderr",
     "output_type": "stream",
     "text": [
      "\n"
     ]
    },
    {
     "data": {
      "application/vnd.jupyter.widget-view+json": {
       "model_id": "",
       "version_major": 2,
       "version_minor": 0
      },
      "text/plain": [
       "HBox(children=(IntProgress(value=0, description='Steps', max=782, style=ProgressStyle(description_width='initi…"
      ]
     },
     "metadata": {},
     "output_type": "display_data"
    },
    {
     "name": "stderr",
     "output_type": "stream",
     "text": [
      "Validating: 100%|██████████| 157/157 [00:05<00:00, 28.23it/s]"
     ]
    },
    {
     "name": "stdout",
     "output_type": "stream",
     "text": [
      "\n",
      "val accuracy:  0.8465 \n",
      "train loss:  0.0262  train BCE :  0.3542 \n",
      "valid loss:  0.0711  valid BCE :  0.464\n"
     ]
    },
    {
     "name": "stderr",
     "output_type": "stream",
     "text": [
      "\n"
     ]
    },
    {
     "data": {
      "application/vnd.jupyter.widget-view+json": {
       "model_id": "",
       "version_major": 2,
       "version_minor": 0
      },
      "text/plain": [
       "HBox(children=(IntProgress(value=0, description='Steps', max=782, style=ProgressStyle(description_width='initi…"
      ]
     },
     "metadata": {},
     "output_type": "display_data"
    },
    {
     "name": "stderr",
     "output_type": "stream",
     "text": [
      "Validating: 100%|██████████| 157/157 [00:05<00:00, 28.32it/s]"
     ]
    },
    {
     "name": "stdout",
     "output_type": "stream",
     "text": [
      "\n",
      "val accuracy:  0.8491 \n",
      "train loss:  0.0243  train BCE :  0.345 \n",
      "valid loss:  0.0687  valid BCE :  0.4567\n"
     ]
    },
    {
     "name": "stderr",
     "output_type": "stream",
     "text": [
      "\n"
     ]
    },
    {
     "data": {
      "application/vnd.jupyter.widget-view+json": {
       "model_id": "",
       "version_major": 2,
       "version_minor": 0
      },
      "text/plain": [
       "HBox(children=(IntProgress(value=0, description='Steps', max=782, style=ProgressStyle(description_width='initi…"
      ]
     },
     "metadata": {},
     "output_type": "display_data"
    },
    {
     "name": "stderr",
     "output_type": "stream",
     "text": [
      "Validating: 100%|██████████| 157/157 [00:05<00:00, 28.33it/s]"
     ]
    },
    {
     "name": "stdout",
     "output_type": "stream",
     "text": [
      "\n",
      "val accuracy:  0.8483 \n",
      "train loss:  0.0248  train BCE :  0.3392 \n",
      "valid loss:  0.0685  valid BCE :  0.4557\n"
     ]
    },
    {
     "name": "stderr",
     "output_type": "stream",
     "text": [
      "\n"
     ]
    },
    {
     "data": {
      "application/vnd.jupyter.widget-view+json": {
       "model_id": "",
       "version_major": 2,
       "version_minor": 0
      },
      "text/plain": [
       "HBox(children=(IntProgress(value=0, description='Steps', max=782, style=ProgressStyle(description_width='initi…"
      ]
     },
     "metadata": {},
     "output_type": "display_data"
    },
    {
     "name": "stderr",
     "output_type": "stream",
     "text": [
      "Validating: 100%|██████████| 157/157 [00:05<00:00, 28.36it/s]"
     ]
    },
    {
     "name": "stdout",
     "output_type": "stream",
     "text": [
      "\n",
      "val accuracy:  0.8472 \n",
      "train loss:  0.0219  train BCE :  0.3292 \n",
      "valid loss:  0.0698  valid BCE :  0.4569\n"
     ]
    },
    {
     "name": "stderr",
     "output_type": "stream",
     "text": [
      "\n"
     ]
    },
    {
     "data": {
      "application/vnd.jupyter.widget-view+json": {
       "model_id": "",
       "version_major": 2,
       "version_minor": 0
      },
      "text/plain": [
       "HBox(children=(IntProgress(value=0, description='Steps', max=782, style=ProgressStyle(description_width='initi…"
      ]
     },
     "metadata": {},
     "output_type": "display_data"
    },
    {
     "name": "stderr",
     "output_type": "stream",
     "text": [
      "Validating: 100%|██████████| 157/157 [00:05<00:00, 28.36it/s]"
     ]
    },
    {
     "name": "stdout",
     "output_type": "stream",
     "text": [
      "\n",
      "val accuracy:  0.8484 \n",
      "train loss:  0.0214  train BCE :  0.3147 \n",
      "valid loss:  0.0685  valid BCE :  0.4496\n"
     ]
    },
    {
     "name": "stderr",
     "output_type": "stream",
     "text": [
      "\n"
     ]
    },
    {
     "data": {
      "application/vnd.jupyter.widget-view+json": {
       "model_id": "",
       "version_major": 2,
       "version_minor": 0
      },
      "text/plain": [
       "HBox(children=(IntProgress(value=0, description='Steps', max=782, style=ProgressStyle(description_width='initi…"
      ]
     },
     "metadata": {},
     "output_type": "display_data"
    },
    {
     "name": "stderr",
     "output_type": "stream",
     "text": [
      "Validating: 100%|██████████| 157/157 [00:05<00:00, 28.31it/s]"
     ]
    },
    {
     "name": "stdout",
     "output_type": "stream",
     "text": [
      "\n",
      "val accuracy:  0.8483 \n",
      "train loss:  0.022  train BCE :  0.3084 \n",
      "valid loss:  0.0693  valid BCE :  0.4454\n"
     ]
    },
    {
     "name": "stderr",
     "output_type": "stream",
     "text": [
      "\n"
     ]
    },
    {
     "data": {
      "application/vnd.jupyter.widget-view+json": {
       "model_id": "",
       "version_major": 2,
       "version_minor": 0
      },
      "text/plain": [
       "HBox(children=(IntProgress(value=0, description='Steps', max=782, style=ProgressStyle(description_width='initi…"
      ]
     },
     "metadata": {},
     "output_type": "display_data"
    },
    {
     "name": "stderr",
     "output_type": "stream",
     "text": [
      "Validating: 100%|██████████| 157/157 [00:05<00:00, 28.31it/s]"
     ]
    },
    {
     "name": "stdout",
     "output_type": "stream",
     "text": [
      "\n",
      "val accuracy:  0.8494 \n",
      "train loss:  0.0203  train BCE :  0.3039 \n",
      "valid loss:  0.0701  valid BCE :  0.4458\n"
     ]
    },
    {
     "name": "stderr",
     "output_type": "stream",
     "text": [
      "\n"
     ]
    },
    {
     "data": {
      "application/vnd.jupyter.widget-view+json": {
       "model_id": "",
       "version_major": 2,
       "version_minor": 0
      },
      "text/plain": [
       "HBox(children=(IntProgress(value=0, description='Steps', max=782, style=ProgressStyle(description_width='initi…"
      ]
     },
     "metadata": {},
     "output_type": "display_data"
    },
    {
     "name": "stderr",
     "output_type": "stream",
     "text": [
      "Validating: 100%|██████████| 157/157 [00:05<00:00, 28.44it/s]"
     ]
    },
    {
     "name": "stdout",
     "output_type": "stream",
     "text": [
      "\n",
      "val accuracy:  0.8474 \n",
      "train loss:  0.0199  train BCE :  0.3016 \n",
      "valid loss:  0.0694  valid BCE :  0.4467\n"
     ]
    },
    {
     "name": "stderr",
     "output_type": "stream",
     "text": [
      "\n"
     ]
    },
    {
     "data": {
      "application/vnd.jupyter.widget-view+json": {
       "model_id": "",
       "version_major": 2,
       "version_minor": 0
      },
      "text/plain": [
       "HBox(children=(IntProgress(value=0, description='Steps', max=782, style=ProgressStyle(description_width='initi…"
      ]
     },
     "metadata": {},
     "output_type": "display_data"
    },
    {
     "name": "stderr",
     "output_type": "stream",
     "text": [
      "Validating: 100%|██████████| 157/157 [00:05<00:00, 28.38it/s]"
     ]
    },
    {
     "name": "stdout",
     "output_type": "stream",
     "text": [
      "\n",
      "val accuracy:  0.8485 \n",
      "train loss:  0.0191  train BCE :  0.282 \n",
      "valid loss:  0.07  valid BCE :  0.4406\n"
     ]
    },
    {
     "name": "stderr",
     "output_type": "stream",
     "text": [
      "\n"
     ]
    },
    {
     "data": {
      "application/vnd.jupyter.widget-view+json": {
       "model_id": "",
       "version_major": 2,
       "version_minor": 0
      },
      "text/plain": [
       "HBox(children=(IntProgress(value=0, description='Steps', max=782, style=ProgressStyle(description_width='initi…"
      ]
     },
     "metadata": {},
     "output_type": "display_data"
    },
    {
     "name": "stderr",
     "output_type": "stream",
     "text": [
      "Validating: 100%|██████████| 157/157 [00:05<00:00, 28.32it/s]"
     ]
    },
    {
     "name": "stdout",
     "output_type": "stream",
     "text": [
      "\n",
      "val accuracy:  0.8484 \n",
      "train loss:  0.0177  train BCE :  0.2842 \n",
      "valid loss:  0.0699  valid BCE :  0.4445\n"
     ]
    },
    {
     "name": "stderr",
     "output_type": "stream",
     "text": [
      "\n"
     ]
    },
    {
     "data": {
      "application/vnd.jupyter.widget-view+json": {
       "model_id": "",
       "version_major": 2,
       "version_minor": 0
      },
      "text/plain": [
       "HBox(children=(IntProgress(value=0, description='Steps', max=782, style=ProgressStyle(description_width='initi…"
      ]
     },
     "metadata": {},
     "output_type": "display_data"
    },
    {
     "name": "stderr",
     "output_type": "stream",
     "text": [
      "Validating: 100%|██████████| 157/157 [00:05<00:00, 28.27it/s]"
     ]
    },
    {
     "name": "stdout",
     "output_type": "stream",
     "text": [
      "\n",
      "val accuracy:  0.8532 \n",
      "train loss:  0.0157  train BCE :  0.2747 \n",
      "valid loss:  0.0683  valid BCE :  0.4349\n"
     ]
    },
    {
     "name": "stderr",
     "output_type": "stream",
     "text": [
      "\n"
     ]
    },
    {
     "data": {
      "application/vnd.jupyter.widget-view+json": {
       "model_id": "",
       "version_major": 2,
       "version_minor": 0
      },
      "text/plain": [
       "HBox(children=(IntProgress(value=0, description='Steps', max=782, style=ProgressStyle(description_width='initi…"
      ]
     },
     "metadata": {},
     "output_type": "display_data"
    },
    {
     "name": "stderr",
     "output_type": "stream",
     "text": [
      "Validating: 100%|██████████| 157/157 [00:05<00:00, 28.39it/s]"
     ]
    },
    {
     "name": "stdout",
     "output_type": "stream",
     "text": [
      "\n",
      "val accuracy:  0.8511 \n",
      "train loss:  0.0153  train BCE :  0.268 \n",
      "valid loss:  0.0693  valid BCE :  0.4363\n"
     ]
    },
    {
     "name": "stderr",
     "output_type": "stream",
     "text": [
      "\n"
     ]
    },
    {
     "data": {
      "application/vnd.jupyter.widget-view+json": {
       "model_id": "",
       "version_major": 2,
       "version_minor": 0
      },
      "text/plain": [
       "HBox(children=(IntProgress(value=0, description='Steps', max=782, style=ProgressStyle(description_width='initi…"
      ]
     },
     "metadata": {},
     "output_type": "display_data"
    },
    {
     "name": "stderr",
     "output_type": "stream",
     "text": [
      "Validating: 100%|██████████| 157/157 [00:05<00:00, 28.19it/s]"
     ]
    },
    {
     "name": "stdout",
     "output_type": "stream",
     "text": [
      "\n",
      "val accuracy:  0.8508 \n",
      "train loss:  0.0153  train BCE :  0.259 \n",
      "valid loss:  0.0706  valid BCE :  0.4353\n",
      "\n"
     ]
    },
    {
     "name": "stderr",
     "output_type": "stream",
     "text": [
      "\n"
     ]
    }
   ],
   "source": [
    "validator = EmbeddingSpaceValidator(valloader, len(select)-1, CustomOneHotAccuracy)\n",
    "lr_scheduler = CosAnneal(len(trainloader), T_mult=1, lr_min=1e-7)\n",
    "schedule = TrainingSchedule(trainloader, [lr_scheduler, validator])\n",
    "sess.train(schedule, 63)"
   ]
  },
  {
   "cell_type": "code",
   "execution_count": 6,
   "metadata": {},
   "outputs": [],
   "source": [
    "validator.num_embeddings=1"
   ]
  },
  {
   "cell_type": "code",
   "execution_count": 7,
   "metadata": {},
   "outputs": [
    {
     "data": {
      "image/png": "[encoded data removed]",
      "text/plain": [
       "<Figure size 1080x1080 with 4 Axes>"
      ]
     },
     "metadata": {
      "needs_background": "light"
     },
     "output_type": "display_data"
    }
   ],
   "source": [
    "validator.plot()"
   ]
  },
  {
   "cell_type": "code",
   "execution_count": 8,
   "metadata": {},
   "outputs": [
    {
     "name": "stdout",
     "output_type": "stream",
     "text": [
      "0.8532  Best validation accuracy without reg\n",
      "0.93224  Best train accuracy without reg\n"
     ]
    }
   ],
   "source": [
    "print(np.max(validator.val_accuracies), \" Best validation accuracy without reg\")\n",
    "print(np.max(validator.train_accuracies), \" Best train accuracy without reg\")"
   ]
  },
  {
   "cell_type": "code",
   "execution_count": 20,
   "metadata": {},
   "outputs": [],
   "source": [
    "select = ['act1', 'out']\n",
    "model2 = SelectiveSequential(\n",
    "    select,\n",
    "    {'conv64': nn.Conv2d(3, 64, kernel_size=5, padding=2),\n",
    "     'act64': nn.ReLU(True),\n",
    "     \n",
    "     'max1': nn.MaxPool2d(kernel_size=2, stride=2),\n",
    "    \n",
    "     'conv192': nn.Conv2d(64, 192, kernel_size=5, padding=2),\n",
    "     'act192': nn.ReLU(True),\n",
    "    \n",
    "     'max2': nn.MaxPool2d(kernel_size=2, stride=2),\n",
    "    \n",
    "     'conv384': nn.Conv2d(192, 384, kernel_size=3, padding=1),\n",
    "     'act384': nn.ReLU(True),\n",
    "     \n",
    "     'conv256a': nn.Conv2d(384, 256, kernel_size=3, padding=1),\n",
    "     'act256a': nn.ReLU(True),\n",
    "     \n",
    "     'conv256b': nn.Conv2d(256, 256, kernel_size=3, padding=1),\n",
    "     'act256b': nn.ReLU(True),\n",
    "     \n",
    "     'max3': nn.MaxPool2d(kernel_size=2, stride=2),\n",
    "    \n",
    "     'flatten': Flatten(),\n",
    "     'fc1': nn.Linear(4 * 4 * 256, 512),\n",
    "     'act1': nn.ReLU(True),\n",
    "     'fc2': nn.Linear(512, 512),\n",
    "     'act2': nn.ReLU(True),\n",
    "     'out': nn.Linear(512, 10)})"
   ]
  },
  {
   "cell_type": "code",
   "execution_count": 21,
   "metadata": {},
   "outputs": [],
   "source": [
    "criterion = TripletRegularizedMultiMarginLoss(0.05, .25)\n",
    "sess = Session(model2, criterion, optim.AdamW, 1e-4)"
   ]
  },
  {
   "cell_type": "code",
   "execution_count": 22,
   "metadata": {},
   "outputs": [],
   "source": [
    "validator2 = EmbeddingSpaceValidator(valloader, len(select)-1, CustomOneHotAccuracy)\n",
    "lr_scheduler = CosAnneal(len(trainloader), T_mult=1, lr_min=1e-6)\n",
    "schedule = TrainingSchedule(trainloader, [lr_scheduler, validator2])"
   ]
  },
  {
   "cell_type": "code",
   "execution_count": null,
   "metadata": {
    "scrolled": true
   },
   "outputs": [
    {
     "data": {
      "application/vnd.jupyter.widget-view+json": {
       "model_id": "9684d8164bf94823943bdc6df56f06c4",
       "version_major": 2,
       "version_minor": 0
      },
      "text/plain": [
       "HBox(children=(IntProgress(value=0, description='Epochs', max=63, style=ProgressStyle(description_width='initi…"
      ]
     },
     "metadata": {},
     "output_type": "display_data"
    },
    {
     "data": {
      "application/vnd.jupyter.widget-view+json": {
       "model_id": "",
       "version_major": 2,
       "version_minor": 0
      },
      "text/plain": [
       "HBox(children=(IntProgress(value=0, description='Steps', max=782, style=ProgressStyle(description_width='initi…"
      ]
     },
     "metadata": {},
     "output_type": "display_data"
    },
    {
     "name": "stderr",
     "output_type": "stream",
     "text": [
      "Validating: 100%|██████████| 157/157 [00:05<00:00, 29.53it/s]"
     ]
    },
    {
     "name": "stdout",
     "output_type": "stream",
     "text": [
      "\n",
      "val accuracy:  0.49 \n",
      "train loss:  0.3944  train BCE :  1.8058 \n",
      "valid loss:  0.3902  valid BCE :  1.5919\n"
     ]
    },
    {
     "name": "stderr",
     "output_type": "stream",
     "text": [
      "\n"
     ]
    },
    {
     "data": {
      "application/vnd.jupyter.widget-view+json": {
       "model_id": "",
       "version_major": 2,
       "version_minor": 0
      },
      "text/plain": [
       "HBox(children=(IntProgress(value=0, description='Steps', max=782, style=ProgressStyle(description_width='initi…"
      ]
     },
     "metadata": {},
     "output_type": "display_data"
    },
    {
     "name": "stderr",
     "output_type": "stream",
     "text": [
      "Validating: 100%|██████████| 157/157 [00:05<00:00, 29.28it/s]"
     ]
    },
    {
     "name": "stdout",
     "output_type": "stream",
     "text": [
      "\n",
      "val accuracy:  0.5591 \n",
      "train loss:  0.3182  train BCE :  1.5295 \n",
      "valid loss:  0.3076  valid BCE :  1.4057\n"
     ]
    },
    {
     "name": "stderr",
     "output_type": "stream",
     "text": [
      "\n"
     ]
    },
    {
     "data": {
      "application/vnd.jupyter.widget-view+json": {
       "model_id": "",
       "version_major": 2,
       "version_minor": 0
      },
      "text/plain": [
       "HBox(children=(IntProgress(value=0, description='Steps', max=782, style=ProgressStyle(description_width='initi…"
      ]
     },
     "metadata": {},
     "output_type": "display_data"
    },
    {
     "name": "stderr",
     "output_type": "stream",
     "text": [
      "Validating: 100%|██████████| 157/157 [00:05<00:00, 29.07it/s]"
     ]
    },
    {
     "name": "stdout",
     "output_type": "stream",
     "text": [
      "\n",
      "val accuracy:  0.6046 \n",
      "train loss:  0.2615  train BCE :  1.3943 \n",
      "valid loss:  0.261  valid BCE :  1.2842\n"
     ]
    },
    {
     "name": "stderr",
     "output_type": "stream",
     "text": [
      "\n"
     ]
    },
    {
     "data": {
      "application/vnd.jupyter.widget-view+json": {
       "model_id": "",
       "version_major": 2,
       "version_minor": 0
      },
      "text/plain": [
       "HBox(children=(IntProgress(value=0, description='Steps', max=782, style=ProgressStyle(description_width='initi…"
      ]
     },
     "metadata": {},
     "output_type": "display_data"
    },
    {
     "name": "stderr",
     "output_type": "stream",
     "text": [
      "Validating: 100%|██████████| 157/157 [00:05<00:00, 28.97it/s]"
     ]
    },
    {
     "name": "stdout",
     "output_type": "stream",
     "text": [
      "\n",
      "val accuracy:  0.6381 \n",
      "train loss:  0.2311  train BCE :  1.2978 \n",
      "valid loss:  0.2308  valid BCE :  1.2031\n"
     ]
    },
    {
     "name": "stderr",
     "output_type": "stream",
     "text": [
      "\n"
     ]
    },
    {
     "data": {
      "application/vnd.jupyter.widget-view+json": {
       "model_id": "",
       "version_major": 2,
       "version_minor": 0
      },
      "text/plain": [
       "HBox(children=(IntProgress(value=0, description='Steps', max=782, style=ProgressStyle(description_width='initi…"
      ]
     },
     "metadata": {},
     "output_type": "display_data"
    },
    {
     "name": "stderr",
     "output_type": "stream",
     "text": [
      "Validating: 100%|██████████| 157/157 [00:05<00:00, 29.05it/s]"
     ]
    },
    {
     "name": "stdout",
     "output_type": "stream",
     "text": [
      "\n",
      "val accuracy:  0.6694 \n",
      "train loss:  0.2042  train BCE :  1.2102 \n",
      "valid loss:  0.2065  valid BCE :  1.115\n"
     ]
    },
    {
     "name": "stderr",
     "output_type": "stream",
     "text": [
      "\n"
     ]
    },
    {
     "data": {
      "application/vnd.jupyter.widget-view+json": {
       "model_id": "",
       "version_major": 2,
       "version_minor": 0
      },
      "text/plain": [
       "HBox(children=(IntProgress(value=0, description='Steps', max=782, style=ProgressStyle(description_width='initi…"
      ]
     },
     "metadata": {},
     "output_type": "display_data"
    },
    {
     "name": "stderr",
     "output_type": "stream",
     "text": [
      "Validating: 100%|██████████| 157/157 [00:05<00:00, 29.05it/s]"
     ]
    },
    {
     "name": "stdout",
     "output_type": "stream",
     "text": [
      "\n",
      "val accuracy:  0.6946 \n",
      "train loss:  0.1907  train BCE :  1.1504 \n",
      "valid loss:  0.1887  valid BCE :  1.0625\n"
     ]
    },
    {
     "name": "stderr",
     "output_type": "stream",
     "text": [
      "\n"
     ]
    },
    {
     "data": {
      "application/vnd.jupyter.widget-view+json": {
       "model_id": "",
       "version_major": 2,
       "version_minor": 0
      },
      "text/plain": [
       "HBox(children=(IntProgress(value=0, description='Steps', max=782, style=ProgressStyle(description_width='initi…"
      ]
     },
     "metadata": {},
     "output_type": "display_data"
    },
    {
     "name": "stderr",
     "output_type": "stream",
     "text": [
      "Validating: 100%|██████████| 157/157 [00:05<00:00, 29.27it/s]"
     ]
    },
    {
     "name": "stdout",
     "output_type": "stream",
     "text": [
      "\n",
      "val accuracy:  0.7127 \n",
      "train loss:  0.1761  train BCE :  1.088 \n",
      "valid loss:  0.1746  valid BCE :  1.0021\n"
     ]
    },
    {
     "name": "stderr",
     "output_type": "stream",
     "text": [
      "\n"
     ]
    },
    {
     "data": {
      "application/vnd.jupyter.widget-view+json": {
       "model_id": "",
       "version_major": 2,
       "version_minor": 0
      },
      "text/plain": [
       "HBox(children=(IntProgress(value=0, description='Steps', max=782, style=ProgressStyle(description_width='initi…"
      ]
     },
     "metadata": {},
     "output_type": "display_data"
    },
    {
     "name": "stderr",
     "output_type": "stream",
     "text": [
      "Validating: 100%|██████████| 157/157 [00:05<00:00, 29.16it/s]"
     ]
    },
    {
     "name": "stdout",
     "output_type": "stream",
     "text": [
      "\n",
      "val accuracy:  0.7235 \n",
      "train loss:  0.1554  train BCE :  1.0384 \n",
      "valid loss:  0.1646  valid BCE :  0.9691\n"
     ]
    },
    {
     "name": "stderr",
     "output_type": "stream",
     "text": [
      "\n"
     ]
    },
    {
     "data": {
      "application/vnd.jupyter.widget-view+json": {
       "model_id": "",
       "version_major": 2,
       "version_minor": 0
      },
      "text/plain": [
       "HBox(children=(IntProgress(value=0, description='Steps', max=782, style=ProgressStyle(description_width='initi…"
      ]
     },
     "metadata": {},
     "output_type": "display_data"
    },
    {
     "name": "stderr",
     "output_type": "stream",
     "text": [
      "Validating: 100%|██████████| 157/157 [00:05<00:00, 29.05it/s]"
     ]
    },
    {
     "name": "stdout",
     "output_type": "stream",
     "text": [
      "\n",
      "val accuracy:  0.7406 \n",
      "train loss:  0.1476  train BCE :  0.9947 \n",
      "valid loss:  0.1521  valid BCE :  0.9231\n"
     ]
    },
    {
     "name": "stderr",
     "output_type": "stream",
     "text": [
      "\n"
     ]
    },
    {
     "data": {
      "application/vnd.jupyter.widget-view+json": {
       "model_id": "",
       "version_major": 2,
       "version_minor": 0
      },
      "text/plain": [
       "HBox(children=(IntProgress(value=0, description='Steps', max=782, style=ProgressStyle(description_width='initi…"
      ]
     },
     "metadata": {},
     "output_type": "display_data"
    },
    {
     "name": "stderr",
     "output_type": "stream",
     "text": [
      "Validating: 100%|██████████| 157/157 [00:05<00:00, 29.18it/s]"
     ]
    },
    {
     "name": "stdout",
     "output_type": "stream",
     "text": [
      "\n",
      "val accuracy:  0.7488 \n",
      "train loss:  0.1357  train BCE :  0.9509 \n",
      "valid loss:  0.1448  valid BCE :  0.8824\n"
     ]
    },
    {
     "name": "stderr",
     "output_type": "stream",
     "text": [
      "\n"
     ]
    },
    {
     "data": {
      "application/vnd.jupyter.widget-view+json": {
       "model_id": "",
       "version_major": 2,
       "version_minor": 0
      },
      "text/plain": [
       "HBox(children=(IntProgress(value=0, description='Steps', max=782, style=ProgressStyle(description_width='initi…"
      ]
     },
     "metadata": {},
     "output_type": "display_data"
    },
    {
     "name": "stderr",
     "output_type": "stream",
     "text": [
      "Validating: 100%|██████████| 157/157 [00:05<00:00, 29.29it/s]"
     ]
    },
    {
     "name": "stdout",
     "output_type": "stream",
     "text": [
      "\n",
      "val accuracy:  0.7592 \n",
      "train loss:  0.1302  train BCE :  0.9174 \n",
      "valid loss:  0.138  valid BCE :  0.8524\n"
     ]
    },
    {
     "name": "stderr",
     "output_type": "stream",
     "text": [
      "\n"
     ]
    },
    {
     "data": {
      "application/vnd.jupyter.widget-view+json": {
       "model_id": "",
       "version_major": 2,
       "version_minor": 0
      },
      "text/plain": [
       "HBox(children=(IntProgress(value=0, description='Steps', max=782, style=ProgressStyle(description_width='initi…"
      ]
     },
     "metadata": {},
     "output_type": "display_data"
    },
    {
     "name": "stderr",
     "output_type": "stream",
     "text": [
      "Validating: 100%|██████████| 157/157 [00:05<00:00, 29.33it/s]"
     ]
    },
    {
     "name": "stdout",
     "output_type": "stream",
     "text": [
      "\n",
      "val accuracy:  0.7678 \n",
      "train loss:  0.1194  train BCE :  0.886 \n",
      "valid loss:  0.1322  valid BCE :  0.8259\n"
     ]
    },
    {
     "name": "stderr",
     "output_type": "stream",
     "text": [
      "\n"
     ]
    },
    {
     "data": {
      "application/vnd.jupyter.widget-view+json": {
       "model_id": "",
       "version_major": 2,
       "version_minor": 0
      },
      "text/plain": [
       "HBox(children=(IntProgress(value=0, description='Steps', max=782, style=ProgressStyle(description_width='initi…"
      ]
     },
     "metadata": {},
     "output_type": "display_data"
    },
    {
     "name": "stderr",
     "output_type": "stream",
     "text": [
      "Validating: 100%|██████████| 157/157 [00:05<00:00, 29.27it/s]"
     ]
    },
    {
     "name": "stdout",
     "output_type": "stream",
     "text": [
      "\n",
      "val accuracy:  0.7767 \n",
      "train loss:  0.1163  train BCE :  0.8534 \n",
      "valid loss:  0.1268  valid BCE :  0.8059\n"
     ]
    },
    {
     "name": "stderr",
     "output_type": "stream",
     "text": [
      "\n"
     ]
    },
    {
     "data": {
      "application/vnd.jupyter.widget-view+json": {
       "model_id": "",
       "version_major": 2,
       "version_minor": 0
      },
      "text/plain": [
       "HBox(children=(IntProgress(value=0, description='Steps', max=782, style=ProgressStyle(description_width='initi…"
      ]
     },
     "metadata": {},
     "output_type": "display_data"
    },
    {
     "name": "stderr",
     "output_type": "stream",
     "text": [
      "Validating: 100%|██████████| 157/157 [00:05<00:00, 29.24it/s]"
     ]
    },
    {
     "name": "stdout",
     "output_type": "stream",
     "text": [
      "\n",
      "val accuracy:  0.7839 \n",
      "train loss:  0.1071  train BCE :  0.8279 \n",
      "valid loss:  0.1224  valid BCE :  0.7897\n"
     ]
    },
    {
     "name": "stderr",
     "output_type": "stream",
     "text": [
      "\n"
     ]
    },
    {
     "data": {
      "application/vnd.jupyter.widget-view+json": {
       "model_id": "",
       "version_major": 2,
       "version_minor": 0
      },
      "text/plain": [
       "HBox(children=(IntProgress(value=0, description='Steps', max=782, style=ProgressStyle(description_width='initi…"
      ]
     },
     "metadata": {},
     "output_type": "display_data"
    },
    {
     "name": "stderr",
     "output_type": "stream",
     "text": [
      "Validating: 100%|██████████| 157/157 [00:05<00:00, 29.13it/s]"
     ]
    },
    {
     "name": "stdout",
     "output_type": "stream",
     "text": [
      "\n",
      "val accuracy:  0.7913 \n",
      "train loss:  0.1072  train BCE :  0.7942 \n",
      "valid loss:  0.1174  valid BCE :  0.7496\n"
     ]
    },
    {
     "name": "stderr",
     "output_type": "stream",
     "text": [
      "\n"
     ]
    },
    {
     "data": {
      "application/vnd.jupyter.widget-view+json": {
       "model_id": "",
       "version_major": 2,
       "version_minor": 0
      },
      "text/plain": [
       "HBox(children=(IntProgress(value=0, description='Steps', max=782, style=ProgressStyle(description_width='initi…"
      ]
     },
     "metadata": {},
     "output_type": "display_data"
    },
    {
     "name": "stderr",
     "output_type": "stream",
     "text": [
      "Validating: 100%|██████████| 157/157 [00:05<00:00, 29.18it/s]"
     ]
    },
    {
     "name": "stdout",
     "output_type": "stream",
     "text": [
      "\n",
      "val accuracy:  0.7982 \n",
      "train loss:  0.1004  train BCE :  0.7627 \n",
      "valid loss:  0.1142  valid BCE :  0.7377\n"
     ]
    },
    {
     "name": "stderr",
     "output_type": "stream",
     "text": [
      "\n"
     ]
    },
    {
     "data": {
      "application/vnd.jupyter.widget-view+json": {
       "model_id": "",
       "version_major": 2,
       "version_minor": 0
      },
      "text/plain": [
       "HBox(children=(IntProgress(value=0, description='Steps', max=782, style=ProgressStyle(description_width='initi…"
      ]
     },
     "metadata": {},
     "output_type": "display_data"
    },
    {
     "name": "stderr",
     "output_type": "stream",
     "text": [
      "Validating: 100%|██████████| 157/157 [00:05<00:00, 29.13it/s]"
     ]
    },
    {
     "name": "stdout",
     "output_type": "stream",
     "text": [
      "\n",
      "val accuracy:  0.8006 \n",
      "train loss:  0.0932  train BCE :  0.7459 \n",
      "valid loss:  0.1116  valid BCE :  0.7243\n"
     ]
    },
    {
     "name": "stderr",
     "output_type": "stream",
     "text": [
      "\n"
     ]
    },
    {
     "data": {
      "application/vnd.jupyter.widget-view+json": {
       "model_id": "",
       "version_major": 2,
       "version_minor": 0
      },
      "text/plain": [
       "HBox(children=(IntProgress(value=0, description='Steps', max=782, style=ProgressStyle(description_width='initi…"
      ]
     },
     "metadata": {},
     "output_type": "display_data"
    },
    {
     "name": "stderr",
     "output_type": "stream",
     "text": [
      "Validating: 100%|██████████| 157/157 [00:05<00:00, 29.20it/s]"
     ]
    },
    {
     "name": "stdout",
     "output_type": "stream",
     "text": [
      "\n",
      "val accuracy:  0.804 \n",
      "train loss:  0.089  train BCE :  0.7233 \n",
      "valid loss:  0.1086  valid BCE :  0.7034\n"
     ]
    },
    {
     "name": "stderr",
     "output_type": "stream",
     "text": [
      "\n"
     ]
    },
    {
     "data": {
      "application/vnd.jupyter.widget-view+json": {
       "model_id": "",
       "version_major": 2,
       "version_minor": 0
      },
      "text/plain": [
       "HBox(children=(IntProgress(value=0, description='Steps', max=782, style=ProgressStyle(description_width='initi…"
      ]
     },
     "metadata": {},
     "output_type": "display_data"
    },
    {
     "name": "stderr",
     "output_type": "stream",
     "text": [
      "Validating: 100%|██████████| 157/157 [00:05<00:00, 28.82it/s]"
     ]
    },
    {
     "name": "stdout",
     "output_type": "stream",
     "text": [
      "\n",
      "val accuracy:  0.8124 \n",
      "train loss:  0.0841  train BCE :  0.6967 \n",
      "valid loss:  0.1051  valid BCE :  0.6933\n"
     ]
    },
    {
     "name": "stderr",
     "output_type": "stream",
     "text": [
      "\n"
     ]
    },
    {
     "data": {
      "application/vnd.jupyter.widget-view+json": {
       "model_id": "",
       "version_major": 2,
       "version_minor": 0
      },
      "text/plain": [
       "HBox(children=(IntProgress(value=0, description='Steps', max=782, style=ProgressStyle(description_width='initi…"
      ]
     },
     "metadata": {},
     "output_type": "display_data"
    },
    {
     "name": "stderr",
     "output_type": "stream",
     "text": [
      "Validating: 100%|██████████| 157/157 [00:05<00:00, 29.18it/s]"
     ]
    },
    {
     "name": "stdout",
     "output_type": "stream",
     "text": [
      "\n",
      "val accuracy:  0.8116 \n",
      "train loss:  0.0817  train BCE :  0.6708 \n",
      "valid loss:  0.1045  valid BCE :  0.6768\n"
     ]
    },
    {
     "name": "stderr",
     "output_type": "stream",
     "text": [
      "\n"
     ]
    },
    {
     "data": {
      "application/vnd.jupyter.widget-view+json": {
       "model_id": "",
       "version_major": 2,
       "version_minor": 0
      },
      "text/plain": [
       "HBox(children=(IntProgress(value=0, description='Steps', max=782, style=ProgressStyle(description_width='initi…"
      ]
     },
     "metadata": {},
     "output_type": "display_data"
    },
    {
     "name": "stderr",
     "output_type": "stream",
     "text": [
      "Validating: 100%|██████████| 157/157 [00:05<00:00, 29.27it/s]"
     ]
    },
    {
     "name": "stdout",
     "output_type": "stream",
     "text": [
      "\n",
      "val accuracy:  0.8203 \n",
      "train loss:  0.071  train BCE :  0.6499 \n",
      "valid loss:  0.1025  valid BCE :  0.657\n"
     ]
    },
    {
     "name": "stderr",
     "output_type": "stream",
     "text": [
      "\n"
     ]
    },
    {
     "data": {
      "application/vnd.jupyter.widget-view+json": {
       "model_id": "",
       "version_major": 2,
       "version_minor": 0
      },
      "text/plain": [
       "HBox(children=(IntProgress(value=0, description='Steps', max=782, style=ProgressStyle(description_width='initi…"
      ]
     },
     "metadata": {},
     "output_type": "display_data"
    },
    {
     "name": "stderr",
     "output_type": "stream",
     "text": [
      "Validating: 100%|██████████| 157/157 [00:05<00:00, 29.26it/s]"
     ]
    },
    {
     "name": "stdout",
     "output_type": "stream",
     "text": [
      "\n",
      "val accuracy:  0.8183 \n",
      "train loss:  0.0751  train BCE :  0.6341 \n",
      "valid loss:  0.1012  valid BCE :  0.6508\n"
     ]
    },
    {
     "name": "stderr",
     "output_type": "stream",
     "text": [
      "\n"
     ]
    },
    {
     "data": {
      "application/vnd.jupyter.widget-view+json": {
       "model_id": "",
       "version_major": 2,
       "version_minor": 0
      },
      "text/plain": [
       "HBox(children=(IntProgress(value=0, description='Steps', max=782, style=ProgressStyle(description_width='initi…"
      ]
     },
     "metadata": {},
     "output_type": "display_data"
    },
    {
     "name": "stderr",
     "output_type": "stream",
     "text": [
      "Validating: 100%|██████████| 157/157 [00:05<00:00, 29.15it/s]"
     ]
    },
    {
     "name": "stdout",
     "output_type": "stream",
     "text": [
      "\n",
      "val accuracy:  0.821 \n",
      "train loss:  0.0689  train BCE :  0.6178 \n",
      "valid loss:  0.1  valid BCE :  0.6424\n"
     ]
    },
    {
     "name": "stderr",
     "output_type": "stream",
     "text": [
      "\n"
     ]
    },
    {
     "data": {
      "application/vnd.jupyter.widget-view+json": {
       "model_id": "",
       "version_major": 2,
       "version_minor": 0
      },
      "text/plain": [
       "HBox(children=(IntProgress(value=0, description='Steps', max=782, style=ProgressStyle(description_width='initi…"
      ]
     },
     "metadata": {},
     "output_type": "display_data"
    },
    {
     "name": "stderr",
     "output_type": "stream",
     "text": [
      "Validating: 100%|██████████| 157/157 [00:05<00:00, 29.16it/s]"
     ]
    },
    {
     "name": "stdout",
     "output_type": "stream",
     "text": [
      "\n",
      "val accuracy:  0.8255 \n",
      "train loss:  0.0668  train BCE :  0.6017 \n",
      "valid loss:  0.0973  valid BCE :  0.6315\n"
     ]
    },
    {
     "name": "stderr",
     "output_type": "stream",
     "text": [
      "\n"
     ]
    },
    {
     "data": {
      "application/vnd.jupyter.widget-view+json": {
       "model_id": "",
       "version_major": 2,
       "version_minor": 0
      },
      "text/plain": [
       "HBox(children=(IntProgress(value=0, description='Steps', max=782, style=ProgressStyle(description_width='initi…"
      ]
     },
     "metadata": {},
     "output_type": "display_data"
    },
    {
     "name": "stderr",
     "output_type": "stream",
     "text": [
      "Validating: 100%|██████████| 157/157 [00:05<00:00, 29.37it/s]"
     ]
    },
    {
     "name": "stdout",
     "output_type": "stream",
     "text": [
      "\n",
      "val accuracy:  0.8255 \n",
      "train loss:  0.0638  train BCE :  0.5819 \n",
      "valid loss:  0.0966  valid BCE :  0.626\n"
     ]
    },
    {
     "name": "stderr",
     "output_type": "stream",
     "text": [
      "\n"
     ]
    },
    {
     "data": {
      "application/vnd.jupyter.widget-view+json": {
       "model_id": "9c0c59ad89b24a98b7a9db36d8a5a04c",
       "version_major": 2,
       "version_minor": 0
      },
      "text/plain": [
       "HBox(children=(IntProgress(value=0, description='Steps', max=782, style=ProgressStyle(description_width='initi…"
      ]
     },
     "metadata": {},
     "output_type": "display_data"
    }
   ],
   "source": [
    "sess.train(schedule, 63)"
   ]
  },
  {
   "cell_type": "code",
   "execution_count": 13,
   "metadata": {},
   "outputs": [
    {
     "data": {
      "text/plain": [
       "[Parameter containing:\n",
       " tensor([[[[-1.2104e-02,  2.9573e-02, -2.8922e-02,  1.7594e-02,  5.1013e-03],\n",
       "           [ 5.7761e-04,  1.4556e-02,  6.2851e-03, -2.9522e-02, -1.1761e-02],\n",
       "           [ 1.0226e-02, -3.6977e-02,  2.2658e-02,  3.4213e-02,  3.1562e-04],\n",
       "           [ 3.5423e-02, -1.8281e-02,  9.4915e-03, -4.0875e-02,  1.2320e-02],\n",
       "           [-3.7341e-02,  3.3254e-02, -3.0205e-02,  5.3110e-02, -2.0229e-02]],\n",
       " \n",
       "          [[ 2.6071e-02, -5.2731e-02,  1.2806e-02,  3.1245e-02, -3.2052e-02],\n",
       "           [ 2.0855e-02, -7.2150e-03,  3.7356e-02, -3.8027e-02,  3.2431e-02],\n",
       "           [-3.7974e-02,  3.5600e-02, -4.1973e-02,  1.1265e-02, -1.9344e-02],\n",
       "           [-3.5255e-02,  3.0654e-02,  6.3281e-03,  3.7997e-03,  2.3422e-02],\n",
       "           [ 3.8782e-02, -1.6702e-02, -3.1514e-04, -1.5874e-02,  2.7593e-03]],\n",
       " \n",
       "          [[-2.0347e-02,  4.1961e-02,  1.0234e-02, -5.3832e-02,  3.2929e-02],\n",
       "           [-1.0510e-02, -1.4073e-02, -3.1398e-02,  6.6344e-02, -3.0675e-02],\n",
       "           [ 1.3307e-02,  3.2171e-02,  1.6525e-03, -2.3865e-02,  8.5518e-03],\n",
       "           [ 1.9538e-02, -4.2617e-02,  4.3238e-03,  2.4645e-02, -2.6188e-02],\n",
       "           [-7.1409e-03,  6.8038e-03,  1.3648e-02, -2.7271e-02,  1.7812e-02]]],\n",
       " \n",
       " \n",
       "         [[[ 8.1856e-03,  8.5266e-03, -3.4232e-02,  7.1001e-04,  3.5642e-02],\n",
       "           [ 1.4992e-02,  6.0190e-03, -1.7892e-02,  5.6064e-02, -7.4063e-02],\n",
       "           [-1.3299e-02,  2.3328e-03,  2.7641e-02, -5.9135e-02,  5.9888e-02],\n",
       "           [-3.0686e-02,  1.6573e-02, -5.5047e-03, -4.1019e-03,  8.8124e-03],\n",
       "           [ 2.9715e-02, -2.2121e-02,  3.0252e-03,  2.4794e-02, -3.8303e-02]],\n",
       " \n",
       "          [[ 7.6302e-03,  2.3400e-02,  1.1713e-02, -1.4888e-02, -3.9387e-02],\n",
       "           [-5.0925e-02, -2.4410e-02,  2.6994e-02, -4.9763e-02,  8.2565e-02],\n",
       "           [ 4.5397e-02, -4.1628e-02, -7.2422e-04,  2.9863e-02, -2.2858e-02],\n",
       "           [-5.5556e-04,  1.1888e-02,  1.1904e-02,  2.1915e-02, -6.3471e-02],\n",
       "           [-1.5372e-02,  2.4111e-02, -5.1435e-02, -6.2260e-04,  6.1790e-02]],\n",
       " \n",
       "          [[-1.0383e-02, -3.9893e-02,  3.9028e-02,  6.2526e-03,  1.1988e-02],\n",
       "           [ 3.2369e-02,  3.4748e-02, -4.4363e-02,  8.6597e-03, -1.1436e-02],\n",
       "           [-3.1969e-02,  2.0657e-02, -7.2596e-04,  3.8812e-02, -4.1988e-02],\n",
       "           [ 2.6633e-02, -2.8158e-02,  2.1765e-03, -4.4075e-02,  8.1549e-02],\n",
       "           [-1.9097e-02,  6.6453e-04,  4.6416e-02, -9.1789e-03, -3.1349e-02]]],\n",
       " \n",
       " \n",
       "         [[[ 1.6176e-02, -1.9566e-02,  1.6544e-02, -4.2745e-03, -1.3414e-02],\n",
       "           [-1.4028e-03, -2.1605e-02,  1.8805e-02,  3.2278e-02, -2.5500e-02],\n",
       "           [ 6.9365e-03,  2.2314e-02, -3.5783e-02, -2.0768e-02,  2.8383e-02],\n",
       "           [-3.2197e-02,  8.2323e-03,  2.2655e-02, -2.7086e-02,  1.0065e-02],\n",
       "           [-9.8686e-03,  2.8418e-02, -3.5844e-02,  2.4794e-02, -2.3302e-03]],\n",
       " \n",
       "          [[ 1.5398e-02, -4.2985e-02,  5.7954e-02, -4.8652e-02,  2.8586e-02],\n",
       "           [-1.8022e-02,  6.3177e-02, -5.3675e-02,  4.5096e-03,  1.2941e-02],\n",
       "           [ 2.9929e-03, -6.8366e-02,  3.3315e-02,  3.1353e-02, -6.1801e-02],\n",
       "           [ 5.1567e-02, -2.7737e-02, -5.8339e-03,  1.7767e-02,  2.9262e-02],\n",
       "           [-2.1084e-02,  1.0545e-02,  3.9087e-02, -3.8536e-02, -1.8832e-02]],\n",
       " \n",
       "          [[-1.2841e-03,  2.1698e-02, -4.9444e-02,  4.0325e-02, -3.9621e-03],\n",
       "           [-2.5735e-02,  2.1655e-02,  2.3446e-02, -2.3818e-02, -7.7140e-03],\n",
       "           [ 1.9524e-02, -4.9491e-03, -3.4935e-03, -3.9400e-03,  3.6089e-02],\n",
       "           [-4.7588e-02,  4.8439e-02,  6.1363e-03, -2.0309e-02, -1.9961e-02],\n",
       "           [ 4.4061e-02, -3.8293e-02, -2.4660e-02,  3.9772e-02,  1.2096e-02]]],\n",
       " \n",
       " \n",
       "         ...,\n",
       " \n",
       " \n",
       "         [[[ 3.9070e-02,  2.7393e-02, -2.8403e-02, -1.1565e-02,  2.4584e-02],\n",
       "           [-3.1930e-02, -6.8221e-02,  7.3506e-02, -2.5285e-02,  6.9529e-04],\n",
       "           [ 1.6465e-02,  2.0007e-02, -3.4170e-02,  1.9184e-02, -7.2158e-03],\n",
       "           [ 1.5622e-02,  2.5542e-02, -2.5726e-02,  1.9619e-02, -1.3415e-02],\n",
       "           [-2.3161e-02, -2.1575e-02,  4.5949e-02, -4.0959e-02,  1.7707e-02]],\n",
       " \n",
       "          [[-4.3454e-02,  7.7567e-03,  6.2488e-03,  4.1826e-02, -3.6734e-02],\n",
       "           [ 4.2705e-03,  6.3119e-02, -5.2938e-02,  3.4015e-02, -1.7007e-02],\n",
       "           [ 8.4617e-03, -9.8989e-03, -3.1962e-02,  1.7209e-02, -3.9988e-03],\n",
       "           [-2.7502e-02,  1.9643e-02,  3.2721e-03, -5.4434e-03,  1.4619e-02],\n",
       "           [ 5.4226e-02, -6.7004e-02,  2.3175e-02, -3.9953e-03,  1.0746e-02]],\n",
       " \n",
       "          [[ 1.2101e-02, -3.3154e-02,  1.8981e-02, -2.3966e-02,  2.3028e-02],\n",
       "           [ 9.2573e-03,  6.9145e-03,  2.6149e-03, -3.2332e-02,  1.4061e-02],\n",
       "           [ 7.1324e-03, -3.9087e-02,  5.4878e-02, -2.5541e-02,  1.4991e-02],\n",
       "           [-2.2443e-02,  1.7876e-02,  4.2872e-03,  9.6413e-03, -1.2060e-02],\n",
       "           [ 3.3195e-03,  4.4347e-02, -5.3132e-02,  4.4009e-02, -2.4335e-02]]],\n",
       " \n",
       " \n",
       "         [[[ 3.8770e-02, -3.4833e-02,  1.2214e-02, -3.6389e-02,  2.2584e-02],\n",
       "           [-4.1881e-02,  2.0380e-02,  2.1256e-02,  4.6092e-03,  5.3592e-03],\n",
       "           [ 1.2489e-02,  1.8191e-03,  1.3077e-02, -2.2110e-02, -1.1590e-02],\n",
       "           [ 2.3900e-02, -1.5694e-02, -4.5258e-02,  3.4708e-02, -3.5051e-03],\n",
       "           [-1.5274e-02,  2.0723e-02, -1.9414e-03, -2.0995e-03, -6.0309e-03]],\n",
       " \n",
       "          [[-8.2754e-04, -2.8870e-03,  1.2271e-02,  1.0770e-02,  1.1422e-02],\n",
       "           [ 1.1895e-02, -3.3160e-02, -1.8735e-02,  1.8305e-02, -2.6942e-02],\n",
       "           [ 2.3298e-02,  1.1281e-02, -1.0574e-02,  1.0805e-02,  2.2125e-02],\n",
       "           [-3.3006e-02, -1.0078e-02,  4.6364e-02, -2.5894e-02,  6.9116e-03],\n",
       "           [-7.5837e-03,  2.2321e-02, -1.1712e-02,  2.2821e-02, -2.5774e-02]],\n",
       " \n",
       "          [[-2.5179e-02,  1.9007e-02, -7.6783e-03,  8.2621e-03, -2.3850e-02],\n",
       "           [ 1.5587e-02,  4.5230e-02, -2.4506e-02,  1.1604e-02,  1.4872e-02],\n",
       "           [-3.5027e-02, -9.2061e-03,  1.2091e-02, -7.5253e-03, -5.0107e-04],\n",
       "           [ 2.5934e-02, -1.5146e-03,  1.9673e-02, -1.0663e-02, -8.4650e-04],\n",
       "           [ 9.5377e-03, -3.3305e-02, -2.3730e-03, -5.5545e-03,  1.7980e-02]]],\n",
       " \n",
       " \n",
       "         [[[ 2.4433e-02, -2.3154e-03, -8.2126e-03,  8.8787e-04,  8.0965e-03],\n",
       "           [-4.1542e-02, -9.7052e-05,  2.2037e-02,  2.7208e-02, -3.8724e-02],\n",
       "           [ 4.0203e-02, -3.1788e-03, -9.6833e-03, -4.7064e-02,  4.2511e-02],\n",
       "           [-4.3108e-02, -6.5667e-03,  2.8991e-02,  8.3519e-03,  2.1941e-03],\n",
       "           [ 2.3577e-02,  9.9162e-03, -4.7162e-02,  1.3971e-02, -4.8631e-03]],\n",
       " \n",
       "          [[-1.9383e-02, -2.0207e-02,  3.1942e-02, -3.9467e-03, -1.0092e-02],\n",
       "           [ 7.2247e-04,  4.5096e-02, -6.3477e-02,  3.0094e-03,  3.0698e-02],\n",
       "           [-2.7802e-03, -2.5134e-02,  6.4273e-02, -1.9682e-02, -1.6714e-02],\n",
       "           [ 2.9006e-02, -2.4211e-02, -2.9754e-02,  1.6383e-02, -1.0965e-02],\n",
       "           [-4.4184e-03, -6.0403e-03,  3.8133e-02,  7.3192e-03, -1.1923e-02]],\n",
       " \n",
       "          [[ 3.1954e-03,  1.7600e-02, -3.0253e-02,  1.1157e-02,  5.6239e-03],\n",
       "           [ 1.4656e-02, -3.1371e-02,  4.8007e-02, -2.2799e-02, -1.7476e-02],\n",
       "           [-6.9439e-03, -1.2380e-02, -3.8985e-02,  5.6177e-02, -1.8033e-02],\n",
       "           [-1.3861e-02,  5.3986e-02, -1.0180e-02, -2.5373e-02,  2.2879e-03],\n",
       "           [-1.4855e-02, -6.1888e-03,  4.8175e-03, -1.4192e-02,  2.1134e-02]]]],\n",
       "        device='cuda:0', requires_grad=True), Parameter containing:\n",
       " tensor([-0.2855, -0.3267, -0.3438, -0.2931, -0.2767, -0.3058, -0.4064, -0.2904,\n",
       "         -0.2158, -0.3293, -0.2700, -0.2786, -0.2840, -0.3291, -0.3374, -0.3499,\n",
       "         -0.3217, -0.3211, -0.3914, -0.3159, -0.2780, -0.2077, -0.3110, -0.3988,\n",
       "         -0.2237, -0.3339, -0.2753, -0.3018, -0.2709, -0.3517, -0.2244, -0.3948,\n",
       "         -0.2709, -0.3478, -0.2885, -0.3456, -0.3844, -0.3188, -0.3389, -0.3437,\n",
       "         -0.3698, -0.2562, -0.2570, -0.2691, -0.3266, -0.3648, -0.3111, -0.3681,\n",
       "         -0.3057, -0.2494, -0.2869, -0.1926, -0.3704, -0.3587, -0.3461, -0.3698,\n",
       "         -0.2679, -0.2822, -0.3611, -0.2775, -0.2406, -0.3794, -0.2924, -0.2721],\n",
       "        device='cuda:0', requires_grad=True), Parameter containing:\n",
       " tensor([[[[-1.5648e-02,  1.6201e-02, -2.4054e-02,  9.1599e-03, -1.8780e-02],\n",
       "           [-3.4280e-03, -7.3505e-03,  1.1197e-02, -2.0902e-02, -2.7223e-02],\n",
       "           [ 8.2287e-03, -4.7012e-03, -2.0022e-02,  5.8090e-03,  2.5749e-03],\n",
       "           [ 2.1818e-03, -1.1701e-02, -3.7299e-03, -1.1680e-02, -9.5956e-04],\n",
       "           [ 1.0224e-02, -1.8082e-02, -3.4818e-03,  5.4402e-03,  6.2721e-03]],\n",
       " \n",
       "          [[ 2.9038e-04,  1.3052e-02,  7.5559e-03, -2.4551e-02,  2.3635e-02],\n",
       "           [ 2.3060e-02, -4.0496e-04, -2.0602e-02, -2.6325e-03, -1.7864e-02],\n",
       "           [ 6.7454e-03, -1.9166e-02, -2.4202e-02,  3.6344e-03, -2.2699e-02],\n",
       "           [-5.0232e-03, -1.5713e-02,  1.5662e-03, -4.7919e-03, -2.3211e-02],\n",
       "           [ 1.0688e-02, -2.1407e-02, -2.1575e-02,  2.0626e-02,  1.5500e-02]],\n",
       " \n",
       "          [[ 1.2792e-02, -1.9814e-03, -1.7676e-02, -7.0724e-04,  1.2401e-02],\n",
       "           [-1.8812e-02, -2.4070e-02, -8.0520e-03, -1.7263e-02,  1.4716e-02],\n",
       "           [-7.3254e-03, -4.0350e-03, -1.4703e-02,  5.0423e-03, -1.7609e-02],\n",
       "           [-9.6924e-04,  1.5744e-02,  1.3878e-02,  9.9607e-03,  7.8621e-03],\n",
       "           [ 1.1827e-02,  2.1410e-02,  6.5088e-03,  2.1975e-02, -8.9532e-03]],\n",
       " \n",
       "          ...,\n",
       " \n",
       "          [[-5.2843e-04, -3.4526e-03,  2.1166e-02,  2.2849e-02, -3.4001e-03],\n",
       "           [ 1.9258e-02,  2.0574e-02, -1.5338e-02,  1.8171e-02,  2.6174e-03],\n",
       "           [-7.3227e-04, -1.8486e-02, -1.8503e-02,  1.8484e-02, -2.2630e-02],\n",
       "           [-2.3904e-02, -2.4713e-02, -1.3571e-02,  3.7902e-03,  1.1495e-02],\n",
       "           [ 1.4488e-03,  8.7797e-03, -1.7460e-02, -6.2127e-03,  1.0587e-02]],\n",
       " \n",
       "          [[ 1.1738e-02,  9.7163e-03, -1.8673e-02, -2.4862e-02,  2.2044e-02],\n",
       "           [ 6.8352e-05, -1.1250e-02,  4.2338e-03, -2.2596e-02,  1.7972e-02],\n",
       "           [-1.6226e-02, -6.7943e-04,  4.2523e-03,  4.7028e-03, -1.7882e-02],\n",
       "           [-1.7203e-02, -2.0670e-02, -1.1606e-02, -2.1729e-02,  1.1336e-02],\n",
       "           [ 2.2658e-02,  1.2519e-02, -5.6707e-03,  7.1045e-04, -2.1849e-02]],\n",
       " \n",
       "          [[ 2.1265e-02, -1.0174e-02, -3.9649e-03, -5.9547e-03, -1.1835e-02],\n",
       "           [ 1.8985e-02,  1.2179e-02, -1.8448e-02,  2.0709e-02, -2.8144e-03],\n",
       "           [ 8.7435e-03,  7.4346e-03, -6.8636e-03, -1.8161e-02, -2.2636e-02],\n",
       "           [ 1.6462e-02, -7.7315e-03, -1.9256e-03, -8.3808e-03,  8.7010e-03],\n",
       "           [-1.9809e-02,  1.8375e-02,  1.2676e-02,  5.4054e-03, -8.2012e-03]]],\n",
       " \n",
       " \n",
       "         [[[ 1.9230e-02, -1.4921e-02, -2.2313e-02,  1.6244e-03,  1.3297e-02],\n",
       "           [-2.4513e-02,  9.3571e-03, -2.3693e-02, -1.3067e-02,  5.8517e-03],\n",
       "           [-1.8024e-02, -2.1355e-02, -6.4203e-03,  1.0348e-02, -6.9012e-03],\n",
       "           [-2.0669e-02,  2.3126e-02,  2.0733e-03, -8.7273e-03, -9.5751e-03],\n",
       "           [ 2.1631e-02,  1.3284e-02, -2.2744e-02, -5.1615e-03, -1.1962e-02]],\n",
       " \n",
       "          [[ 5.0014e-03,  1.6215e-02,  2.0207e-02, -1.0556e-02, -2.0037e-02],\n",
       "           [-4.8574e-03,  1.3563e-02, -3.3292e-03, -1.6478e-02,  1.6430e-02],\n",
       "           [-1.8373e-02, -3.9537e-03, -1.5346e-02,  6.6239e-05,  4.0309e-03],\n",
       "           [-1.0431e-02, -1.7340e-03,  4.5117e-03, -2.3811e-02, -2.4163e-02],\n",
       "           [ 1.7847e-02,  1.4283e-02, -6.4981e-03, -2.1053e-02, -1.1734e-02]],\n",
       " \n",
       "          [[ 4.4454e-03, -6.6465e-03,  1.2993e-02,  1.9222e-02,  1.0500e-02],\n",
       "           [-2.0643e-02,  1.5494e-02, -2.0781e-02,  6.8573e-03,  1.9769e-02],\n",
       "           [-6.9211e-03, -1.6774e-02,  7.7674e-04, -2.7481e-03,  1.2380e-02],\n",
       "           [ 6.3878e-04,  1.9934e-02, -2.2985e-02,  2.5432e-03,  2.1379e-02],\n",
       "           [-2.4369e-02,  1.9372e-02,  1.8958e-02, -1.3212e-02,  1.3866e-02]],\n",
       " \n",
       "          ...,\n",
       " \n",
       "          [[ 2.0490e-02,  1.1959e-02, -1.8727e-02,  1.6340e-02, -2.5273e-02],\n",
       "           [-2.5141e-02, -1.0359e-02, -2.6402e-02, -4.3831e-03,  1.9111e-02],\n",
       "           [ 1.1475e-02, -1.2409e-02, -5.6740e-03,  2.1018e-02,  2.0195e-02],\n",
       "           [-1.9862e-02,  4.9222e-03, -9.2019e-03, -2.5614e-02, -1.9901e-02],\n",
       "           [-2.3385e-02, -1.0605e-02, -2.1693e-02,  6.0782e-03, -2.4530e-02]],\n",
       " \n",
       "          [[-1.3379e-02,  1.8303e-02,  1.0070e-04,  9.0767e-03,  9.7774e-04],\n",
       "           [ 1.5681e-02, -6.5789e-04, -1.0708e-02,  1.9785e-02, -2.1524e-02],\n",
       "           [-6.8253e-03,  7.5386e-03,  1.2866e-02,  1.2754e-02,  1.0496e-02],\n",
       "           [-1.6177e-02, -1.1220e-02,  2.0017e-03,  1.8655e-02,  1.4860e-02],\n",
       "           [-2.1923e-02, -1.5650e-02,  2.2858e-02,  1.0011e-02, -1.7381e-03]],\n",
       " \n",
       "          [[-2.3834e-02,  4.8477e-03, -1.4227e-02,  7.8921e-03, -2.1485e-02],\n",
       "           [-7.3506e-03,  1.9700e-02,  2.8794e-03,  2.0489e-02, -1.1488e-02],\n",
       "           [ 6.8842e-03, -2.0478e-03, -1.2978e-02, -2.2525e-02,  1.5019e-02],\n",
       "           [ 1.5795e-02,  2.0992e-02, -2.2416e-03, -1.6634e-02,  7.1271e-03],\n",
       "           [-1.5614e-02, -2.2930e-02, -2.6012e-03, -1.4928e-02, -3.5262e-03]]],\n",
       " \n",
       " \n",
       "         [[[-1.6400e-02,  3.4958e-03,  1.6977e-02, -2.5735e-03,  1.8381e-02],\n",
       "           [-5.0916e-03, -2.0792e-02,  1.5001e-02, -2.5538e-02,  3.1051e-03],\n",
       "           [ 1.8785e-02, -2.6074e-02,  3.6635e-03, -2.3096e-02, -1.9305e-02],\n",
       "           [ 1.6020e-02, -2.6190e-02,  9.9318e-03, -1.5250e-02,  1.6671e-02],\n",
       "           [-2.6286e-03, -1.6659e-02,  9.8133e-03,  1.8169e-02,  1.4340e-02]],\n",
       " \n",
       "          [[-1.7607e-02,  2.1711e-02, -2.1057e-02,  1.1562e-02,  5.3050e-03],\n",
       "           [-1.1096e-02, -1.7858e-02, -1.5685e-02,  1.7913e-02, -7.2537e-03],\n",
       "           [ 7.5470e-03, -1.6811e-02,  1.2570e-02, -8.8220e-03,  2.0507e-02],\n",
       "           [-1.2357e-02,  9.2487e-03, -2.2359e-02,  5.8152e-03,  1.1827e-02],\n",
       "           [ 2.1789e-02, -7.3381e-03, -1.3568e-02,  1.5105e-02,  4.9898e-06]],\n",
       " \n",
       "          [[-1.6660e-03, -7.4983e-03, -1.1748e-02,  1.8646e-02,  7.7172e-03],\n",
       "           [-1.8828e-02, -9.9126e-03,  1.1272e-02, -3.5496e-03, -2.5736e-03],\n",
       "           [-2.7647e-03, -4.4394e-03, -1.4007e-02, -1.5433e-02,  1.8401e-02],\n",
       "           [ 1.2296e-02,  2.6687e-03, -1.3728e-02,  3.0268e-03, -2.2528e-03],\n",
       "           [ 1.2114e-02,  2.0798e-02, -5.2611e-03, -2.5557e-02,  1.0804e-02]],\n",
       " \n",
       "          ...,\n",
       " \n",
       "          [[ 9.9229e-03,  2.0953e-03,  2.4378e-03,  8.6702e-03,  8.8406e-03],\n",
       "           [-6.3671e-03, -1.9109e-02,  1.8959e-02,  2.0043e-02, -2.1613e-02],\n",
       "           [ 9.0005e-03,  8.4532e-03, -4.1422e-03, -9.9329e-03,  1.5252e-03],\n",
       "           [ 1.7481e-02,  1.4699e-02,  8.1357e-03,  8.7686e-03,  1.4030e-02],\n",
       "           [-1.7981e-03, -2.0748e-02,  1.6977e-02,  6.2182e-03,  3.0762e-03]],\n",
       " \n",
       "          [[-1.5123e-02, -1.3900e-03, -2.5128e-02,  1.4084e-02,  1.4756e-02],\n",
       "           [-1.5836e-02, -1.8851e-03,  1.0854e-02, -1.6457e-02,  8.2791e-03],\n",
       "           [ 1.8351e-02, -1.1315e-02, -3.9173e-04,  2.0199e-02, -2.4074e-02],\n",
       "           [-1.2461e-02,  1.2751e-02, -1.5917e-02, -5.3684e-03,  1.3921e-02],\n",
       "           [-1.3638e-02, -5.2143e-03, -2.0830e-02,  2.0158e-02,  1.1621e-02]],\n",
       " \n",
       "          [[ 2.0773e-02,  1.3528e-02,  5.6766e-03, -1.0716e-03, -2.1175e-02],\n",
       "           [-9.3149e-03,  6.7291e-03, -7.9776e-03, -1.3633e-02,  6.7230e-03],\n",
       "           [ 2.0736e-02, -1.5403e-02,  2.8925e-03,  2.0257e-02, -6.3341e-05],\n",
       "           [-1.5035e-02,  8.2042e-03,  7.5870e-03,  1.1798e-02,  5.7652e-03],\n",
       "           [ 1.3641e-02, -1.6441e-03, -1.8128e-02,  1.4568e-02, -1.0081e-02]]],\n",
       " \n",
       " \n",
       "         ...,\n",
       " \n",
       " \n",
       "         [[[-2.5314e-02,  8.3445e-03, -1.3173e-02,  1.2710e-02, -1.9697e-02],\n",
       "           [ 1.3547e-02, -1.3872e-02,  2.6270e-03,  1.8420e-02,  1.7631e-02],\n",
       "           [-2.5798e-02, -1.8430e-02,  2.0122e-02,  1.0589e-03, -1.2373e-02],\n",
       "           [ 9.3876e-04, -2.1425e-03, -9.9823e-03,  9.4473e-03,  5.7284e-03],\n",
       "           [-1.3820e-02,  6.3465e-03, -2.4787e-02,  4.9165e-03,  1.5528e-02]],\n",
       " \n",
       "          [[-1.8249e-02, -1.7491e-03,  1.7322e-02, -2.2727e-03,  2.2263e-02],\n",
       "           [ 1.8114e-02, -8.5325e-03,  7.3218e-03,  3.4370e-03, -1.4435e-02],\n",
       "           [-2.3259e-02, -6.0776e-03, -1.6657e-02, -2.3133e-02,  1.5851e-03],\n",
       "           [-1.2984e-03,  5.5052e-03, -2.2858e-02,  1.3886e-02,  2.7187e-03],\n",
       "           [ 1.0645e-02,  1.4975e-02,  1.7792e-02,  5.5586e-03, -2.4707e-02]],\n",
       " \n",
       "          [[ 9.7820e-03,  1.0068e-02, -3.1790e-03, -6.4430e-03,  1.3438e-03],\n",
       "           [-1.1909e-02,  2.3588e-02, -1.7093e-02,  3.8771e-03,  2.4410e-03],\n",
       "           [-1.4638e-02,  1.5970e-02, -1.0161e-02, -1.0250e-02, -4.4999e-04],\n",
       "           [ 1.5828e-02, -1.0101e-04,  1.5923e-02,  1.3494e-02, -1.8217e-02],\n",
       "           [ 1.0682e-02, -1.6079e-02, -4.7542e-04, -8.3618e-03,  1.8717e-02]],\n",
       " \n",
       "          ...,\n",
       " \n",
       "          [[ 5.3922e-03, -3.5762e-03, -2.2616e-02,  1.6231e-02,  1.3910e-03],\n",
       "           [-2.3061e-02,  1.7352e-02, -1.4646e-02, -2.7804e-03,  1.9609e-02],\n",
       "           [-9.5511e-03,  1.8578e-03,  2.1024e-02, -7.0758e-03, -1.0152e-02],\n",
       "           [-1.0556e-02,  8.1069e-03,  8.8329e-03, -2.4198e-02,  1.0084e-02],\n",
       "           [ 3.7084e-03,  1.1651e-02,  1.9262e-02, -1.3060e-02,  1.3769e-02]],\n",
       " \n",
       "          [[ 2.1833e-03, -3.4445e-03, -1.0257e-02, -4.4073e-04,  4.0407e-03],\n",
       "           [ 1.7041e-02, -1.1217e-03, -1.1951e-04, -1.1328e-02,  4.4182e-03],\n",
       "           [-4.8534e-03,  2.1883e-02, -2.3843e-02,  1.4199e-02,  1.3651e-02],\n",
       "           [-1.4784e-02, -8.7637e-04, -5.4320e-03, -1.4602e-02,  2.3197e-02],\n",
       "           [ 1.5173e-02,  4.4860e-03, -1.5399e-02,  1.8418e-02, -5.4811e-03]],\n",
       " \n",
       "          [[-1.7317e-02,  2.1607e-02,  2.3401e-02, -1.1220e-02, -4.8004e-03],\n",
       "           [ 4.2555e-03,  6.2522e-03,  1.5779e-02,  1.0227e-02, -6.3030e-03],\n",
       "           [-1.9436e-03, -1.8113e-02,  2.2356e-02,  2.1194e-02,  1.6611e-02],\n",
       "           [-3.0080e-03,  1.9595e-02, -2.0212e-02, -7.0668e-03, -1.2486e-02],\n",
       "           [ 5.8130e-03, -1.6520e-02,  8.7913e-04, -2.8201e-03, -2.3090e-02]]],\n",
       " \n",
       " \n",
       "         [[[-1.6812e-02, -1.9133e-02, -1.6406e-02, -2.4142e-02,  2.1512e-02],\n",
       "           [ 1.8548e-03,  1.0215e-02, -1.3813e-02, -6.5328e-04,  9.5898e-03],\n",
       "           [ 3.5284e-03, -2.1437e-02, -1.7718e-02,  9.6987e-03, -6.3378e-03],\n",
       "           [-1.4812e-02, -8.3999e-03,  1.8894e-02,  1.9224e-02,  4.6770e-03],\n",
       "           [ 2.1714e-02,  5.9759e-03, -1.2628e-04, -1.4668e-02, -2.3577e-02]],\n",
       " \n",
       "          [[ 1.1561e-02, -1.1975e-02,  8.8874e-03,  5.1271e-03, -1.2752e-02],\n",
       "           [ 1.7018e-02,  2.1007e-02,  6.7399e-03,  4.8041e-03,  1.0533e-02],\n",
       "           [ 9.2110e-03,  1.5534e-02, -1.5235e-02,  8.6136e-03,  1.6391e-02],\n",
       "           [-9.1157e-03,  1.0550e-02, -3.6645e-04, -1.8420e-02, -2.3138e-02],\n",
       "           [-1.1119e-02, -2.4339e-02,  1.5444e-02,  2.0279e-02, -1.2448e-03]],\n",
       " \n",
       "          [[-3.9798e-03,  2.0918e-02, -1.1213e-02,  1.9814e-02,  1.3781e-02],\n",
       "           [ 9.5729e-03,  8.1335e-03,  1.1994e-02,  1.9541e-02, -1.4828e-02],\n",
       "           [-6.9269e-03,  8.6897e-03, -5.9075e-03,  1.1943e-02, -1.0065e-02],\n",
       "           [ 1.6471e-03,  9.7148e-03, -1.9266e-02, -8.5111e-03, -1.2734e-02],\n",
       "           [ 1.4971e-02, -6.2151e-03, -1.5205e-02,  3.2265e-03,  1.8989e-02]],\n",
       " \n",
       "          ...,\n",
       " \n",
       "          [[-1.7619e-02,  9.6032e-03,  1.8620e-02, -2.3790e-02,  4.8022e-03],\n",
       "           [-2.4860e-02, -2.6755e-03,  2.1257e-02,  1.9403e-02,  1.8503e-02],\n",
       "           [ 3.4584e-04,  1.5030e-03,  2.3009e-03, -6.7405e-03,  1.7051e-02],\n",
       "           [ 1.3223e-02,  9.6037e-03, -5.5861e-03, -1.7465e-02, -1.1354e-02],\n",
       "           [-2.3300e-02,  8.1672e-04,  1.3507e-02, -2.0544e-02, -1.8406e-02]],\n",
       " \n",
       "          [[-1.4128e-02, -2.0775e-02,  1.6981e-02, -1.2778e-02, -1.0080e-02],\n",
       "           [-2.1818e-03,  3.1335e-03,  2.0867e-02,  2.0335e-02, -1.0564e-02],\n",
       "           [-2.2782e-02, -7.5326e-03,  2.2031e-02,  1.7792e-02,  4.1137e-04],\n",
       "           [ 7.5806e-03,  1.1510e-02, -1.2467e-02,  2.0453e-02, -1.3028e-03],\n",
       "           [ 1.9088e-02,  2.0816e-02,  1.6447e-02, -4.0477e-03,  3.3634e-03]],\n",
       " \n",
       "          [[-2.2924e-02, -1.2653e-02,  1.3476e-02, -1.3769e-02,  3.1359e-03],\n",
       "           [-2.1014e-03, -1.1522e-02,  1.8260e-02, -2.0184e-02,  1.6753e-02],\n",
       "           [ 1.6233e-02,  1.6525e-02, -1.9871e-03, -1.8918e-02, -3.0979e-03],\n",
       "           [ 4.1359e-03, -3.7362e-03,  6.1598e-03, -7.6081e-03,  2.8901e-03],\n",
       "           [ 2.4525e-03,  2.2080e-02,  1.9837e-02, -1.2036e-02, -1.6997e-02]]],\n",
       " \n",
       " \n",
       "         [[[-6.2414e-03, -8.4456e-03, -1.6527e-03, -6.3764e-03,  9.9959e-03],\n",
       "           [ 1.2286e-02,  8.6873e-03, -3.3075e-03, -1.3905e-02, -2.0431e-02],\n",
       "           [-1.9083e-02,  1.2204e-02,  1.1320e-02,  2.0444e-02,  2.2618e-02],\n",
       "           [ 1.9060e-02,  1.8986e-02,  8.6783e-03, -5.0977e-04, -1.8099e-02],\n",
       "           [ 6.5719e-03,  1.2228e-02,  2.6808e-03,  9.9625e-03,  2.3493e-02]],\n",
       " \n",
       "          [[-2.2688e-02,  1.7000e-02,  1.3350e-02, -1.2904e-02, -1.8617e-02],\n",
       "           [ 1.5879e-02, -2.2390e-02, -1.1182e-03,  2.1985e-03, -2.1139e-03],\n",
       "           [-2.2566e-02, -1.9837e-02, -9.8391e-04, -3.5710e-03,  1.2316e-02],\n",
       "           [-2.2127e-02, -2.2149e-02,  1.0386e-02, -3.7862e-03,  2.4382e-02],\n",
       "           [-1.3554e-02, -7.9600e-03, -1.2993e-02,  1.0273e-02,  1.6520e-02]],\n",
       " \n",
       "          [[-2.3140e-03,  2.3115e-02, -1.5849e-03, -1.9416e-02,  1.7073e-02],\n",
       "           [ 1.5688e-02,  2.1510e-02, -4.9239e-03, -2.0991e-03, -1.2119e-02],\n",
       "           [-2.4557e-02,  1.3767e-02, -1.3512e-02,  1.8377e-02, -1.8512e-03],\n",
       "           [ 1.6712e-02, -2.7313e-03, -9.1268e-03,  6.1497e-04, -4.7693e-03],\n",
       "           [ 1.0254e-02,  8.4254e-03, -1.5413e-02,  1.7120e-02, -8.4297e-03]],\n",
       " \n",
       "          ...,\n",
       " \n",
       "          [[-1.7338e-02, -1.8685e-02,  2.0571e-02, -2.3214e-02,  6.2566e-03],\n",
       "           [ 1.8120e-02, -1.9952e-02, -3.6141e-03, -5.7110e-03,  9.8513e-03],\n",
       "           [-1.9972e-02,  1.7039e-02, -2.1278e-02,  1.0330e-02, -1.4659e-02],\n",
       "           [ 2.0125e-02,  1.6496e-03,  7.6138e-03, -1.5009e-02, -2.9839e-03],\n",
       "           [-2.1876e-02,  2.1116e-02,  1.5824e-02, -1.2123e-02,  1.7264e-02]],\n",
       " \n",
       "          [[-9.5237e-03,  6.2821e-03, -6.8086e-03,  1.7179e-02,  8.4971e-03],\n",
       "           [ 1.8674e-02, -1.8903e-02,  2.0969e-02, -1.9562e-02,  5.5671e-03],\n",
       "           [-1.2668e-02,  4.4305e-03, -9.1512e-03, -2.3699e-02,  1.4529e-02],\n",
       "           [-2.9700e-03,  1.3808e-02,  1.6587e-02, -1.3724e-02, -9.4139e-03],\n",
       "           [ 5.7918e-03, -2.4613e-02, -2.5241e-02, -1.0863e-02, -1.7686e-02]],\n",
       " \n",
       "          [[ 1.6537e-02,  4.0655e-03,  1.7463e-02, -1.2670e-02,  7.9681e-03],\n",
       "           [-2.4859e-02, -1.2863e-02, -1.4827e-02, -1.4093e-02,  3.6892e-03],\n",
       "           [-2.2677e-02,  3.8434e-03,  1.4172e-02, -1.2449e-03,  1.2515e-02],\n",
       "           [-1.0241e-03, -2.2124e-02, -5.4924e-03,  6.2211e-03,  7.5253e-03],\n",
       "           [-1.5400e-02,  5.0872e-03, -9.4549e-03,  5.5435e-03,  2.9808e-03]]]],\n",
       "        device='cuda:0', requires_grad=True), Parameter containing:\n",
       " tensor([-1.1710e-03,  7.6346e-03, -8.2875e-04, -1.0980e-02, -2.0599e-03,\n",
       "          1.3673e-03,  6.5864e-03,  7.3553e-03, -9.6405e-04,  1.4209e-02,\n",
       "         -1.2281e-02,  3.4168e-02,  1.2032e-02, -1.5154e-02,  1.0745e-02,\n",
       "         -3.9202e-03,  1.4967e-02, -2.5076e-02,  1.3361e-02, -2.0201e-02,\n",
       "         -4.6553e-03,  2.3737e-02,  1.4032e-02, -1.8944e-02, -2.0664e-02,\n",
       "          1.6615e-02,  8.2629e-03, -1.5520e-02,  5.8760e-03, -1.2838e-02,\n",
       "         -2.3866e-02,  1.9243e-02,  1.0000e-02, -1.1502e-02,  3.0462e-02,\n",
       "          9.3871e-03,  1.4585e-02,  2.1219e-02,  1.8633e-02,  1.4031e-02,\n",
       "          9.2719e-03,  4.4109e-02,  1.2993e-02, -1.4321e-02, -1.7845e-02,\n",
       "          1.1571e-02, -8.1915e-03, -1.3110e-03, -2.5661e-02, -1.3749e-03,\n",
       "          1.2944e-02,  4.3716e-02, -1.4517e-03, -9.5219e-04, -2.0492e-02,\n",
       "         -9.3227e-04, -1.1552e-02, -2.1515e-03, -1.5504e-03, -1.8732e-04,\n",
       "          1.3456e-02, -4.6716e-03,  1.1381e-02, -9.3515e-03,  6.4135e-03,\n",
       "         -1.9203e-02,  1.0891e-02, -1.7629e-02, -1.5010e-02,  9.8081e-03,\n",
       "         -1.7173e-02,  1.5322e-02, -1.3559e-03, -1.9090e-02, -2.7447e-03,\n",
       "          1.3495e-02, -4.1511e-04, -2.2713e-02, -1.5731e-02, -1.6122e-02,\n",
       "         -1.4689e-03,  1.1282e-02, -1.5094e-02, -1.9149e-03,  6.7705e-03,\n",
       "         -1.4064e-03, -2.2358e-02,  4.3834e-02, -2.6371e-04, -2.3642e-02,\n",
       "         -6.1162e-05, -4.9875e-03,  1.9762e-02,  5.3854e-03,  4.3389e-02,\n",
       "         -6.8934e-03, -9.3979e-04, -1.8323e-02,  1.1823e-02,  9.9404e-03,\n",
       "          1.4602e-02,  7.9085e-03, -8.4263e-03,  6.4996e-03, -2.0371e-02,\n",
       "         -1.7178e-03, -8.8906e-04, -8.7421e-03, -1.4912e-02,  1.4465e-02,\n",
       "          2.1471e-02, -1.6403e-04, -4.5541e-04, -2.3332e-02,  7.9117e-03,\n",
       "          2.4601e-02, -2.6248e-02,  7.9644e-03, -4.2545e-04,  5.9773e-03,\n",
       "          1.3423e-02,  3.5147e-03, -2.5161e-04, -6.1036e-03, -2.8379e-03,\n",
       "          1.7278e-03, -9.1657e-03,  1.1967e-02,  1.3609e-02,  8.1734e-04,\n",
       "          4.6245e-03, -8.0444e-03,  8.2075e-03,  4.6048e-03, -1.5779e-02,\n",
       "         -5.7135e-04, -2.3041e-02, -4.3678e-04, -1.8423e-02,  2.4147e-03,\n",
       "          9.6496e-03, -2.2974e-02, -3.6505e-04,  1.2049e-02, -7.0112e-03,\n",
       "         -1.4778e-02, -2.1665e-02,  1.0481e-02,  2.9244e-03, -1.0297e-03,\n",
       "          7.1781e-03, -4.5750e-05, -1.1719e-02, -2.6327e-02, -1.1218e-03,\n",
       "          7.3031e-03, -9.6494e-04, -2.1428e-02,  1.8728e-02, -2.3464e-02,\n",
       "         -1.3350e-02, -4.6811e-04,  5.2914e-03,  8.2563e-03, -2.5895e-02,\n",
       "         -2.6729e-02, -2.3903e-03,  9.1376e-03,  7.6689e-03, -2.3808e-02,\n",
       "         -1.6113e-02, -1.5355e-03, -1.6607e-02, -1.7040e-02, -7.1756e-03,\n",
       "         -1.6922e-02, -1.1917e-03, -1.4663e-02, -2.5093e-02, -2.1599e-02,\n",
       "          1.0487e-02,  1.2104e-02, -2.5332e-02, -1.4415e-02,  1.2757e-02,\n",
       "         -2.7129e-03,  1.3904e-02,  1.5222e-02,  2.0389e-02, -1.8760e-03,\n",
       "         -6.7106e-04, -1.6505e-02], device='cuda:0', requires_grad=True), Parameter containing:\n",
       " tensor([[[[-7.4001e-03, -3.5381e-03,  1.9073e-02],\n",
       "           [ 7.6819e-03,  1.7976e-02,  1.4673e-02],\n",
       "           [-4.8514e-03,  1.8915e-02, -3.3206e-03]],\n",
       " \n",
       "          [[-1.2354e-02,  5.0745e-03, -1.7819e-02],\n",
       "           [-1.8634e-02,  1.2999e-03, -1.3690e-02],\n",
       "           [ 1.0783e-02,  4.1318e-03, -7.4716e-03]],\n",
       " \n",
       "          [[-1.4524e-02,  3.7809e-03,  2.4868e-03],\n",
       "           [ 4.5328e-03, -2.6770e-03, -3.1431e-03],\n",
       "           [ 1.3825e-02, -5.9166e-03,  1.4769e-02]],\n",
       " \n",
       "          ...,\n",
       " \n",
       "          [[-6.2342e-03, -1.2085e-02,  8.0884e-03],\n",
       "           [ 7.8785e-03, -1.0296e-02, -1.4389e-02],\n",
       "           [-1.1753e-02, -1.4433e-02, -9.6362e-03]],\n",
       " \n",
       "          [[-1.2498e-02,  1.2300e-05, -1.6472e-02],\n",
       "           [-5.7303e-03,  1.6769e-02, -9.1235e-03],\n",
       "           [-9.8196e-03, -4.4022e-03,  2.0687e-02]],\n",
       " \n",
       "          [[-2.0581e-02,  5.3173e-03,  7.6068e-04],\n",
       "           [-2.3319e-02, -3.4838e-03, -4.5788e-03],\n",
       "           [-9.0222e-03,  1.9076e-02,  2.2345e-02]]],\n",
       " \n",
       " \n",
       "         [[[-1.0018e-02, -1.0120e-02, -9.8152e-03],\n",
       "           [-1.0430e-02, -1.6881e-02, -1.9863e-02],\n",
       "           [ 2.3317e-02,  4.6196e-03,  1.8668e-02]],\n",
       " \n",
       "          [[ 1.5281e-03,  6.0358e-03,  1.4753e-02],\n",
       "           [-1.3367e-02,  2.0102e-02,  4.8891e-03],\n",
       "           [ 1.5857e-02, -1.5476e-02, -5.8881e-03]],\n",
       " \n",
       "          [[ 1.1947e-02,  1.1382e-02, -8.4996e-03],\n",
       "           [-2.2184e-02, -4.6100e-03,  5.9008e-03],\n",
       "           [ 2.2559e-02, -2.9617e-03, -1.1384e-02]],\n",
       " \n",
       "          ...,\n",
       " \n",
       "          [[-5.7617e-03, -1.8249e-02, -1.6183e-04],\n",
       "           [ 6.1759e-03, -2.1066e-02, -8.2023e-03],\n",
       "           [-1.2880e-02, -8.1430e-04,  1.3580e-02]],\n",
       " \n",
       "          [[-3.0094e-04,  2.0819e-02, -3.3279e-03],\n",
       "           [-1.9567e-02, -1.4019e-02,  1.5178e-02],\n",
       "           [-2.1844e-02,  1.0220e-02,  3.6493e-03]],\n",
       " \n",
       "          [[ 5.7010e-03, -5.2285e-03, -8.3259e-03],\n",
       "           [ 2.3699e-02, -2.8677e-04,  1.7809e-02],\n",
       "           [ 1.2806e-02,  3.4570e-03,  1.0675e-03]]],\n",
       " \n",
       " \n",
       "         [[[ 1.1017e-02,  1.7618e-02,  1.3230e-02],\n",
       "           [ 3.4733e-03,  7.0627e-03, -2.3360e-02],\n",
       "           [ 1.0522e-02,  2.0309e-02,  1.3968e-02]],\n",
       " \n",
       "          [[ 1.7387e-02, -3.4368e-03, -1.5677e-02],\n",
       "           [ 8.7970e-04,  1.7109e-02,  2.2986e-02],\n",
       "           [ 7.2578e-03, -6.2392e-03, -1.7801e-02]],\n",
       " \n",
       "          [[ 2.0652e-02, -1.9838e-02,  2.5583e-02],\n",
       "           [-2.4494e-05,  5.4575e-03, -1.2666e-02],\n",
       "           [ 9.3763e-03,  6.7347e-03, -9.1179e-03]],\n",
       " \n",
       "          ...,\n",
       " \n",
       "          [[ 1.9634e-02, -2.1958e-02, -8.2595e-03],\n",
       "           [-1.1897e-02,  4.5451e-03, -1.1468e-02],\n",
       "           [ 5.1883e-03, -4.2471e-03,  2.9030e-03]],\n",
       " \n",
       "          [[-5.2533e-03,  8.8997e-03,  2.4642e-02],\n",
       "           [-1.2491e-02, -1.1412e-02, -1.8417e-02],\n",
       "           [-1.0992e-02,  1.3699e-02, -9.6640e-03]],\n",
       " \n",
       "          [[ 3.1899e-04, -2.1601e-02,  2.2459e-02],\n",
       "           [ 1.2868e-02,  2.1902e-02,  3.5663e-03],\n",
       "           [ 2.2056e-02,  1.2637e-02,  9.4559e-03]]],\n",
       " \n",
       " \n",
       "         ...,\n",
       " \n",
       " \n",
       "         [[[-3.0793e-03,  1.8579e-02,  1.3152e-02],\n",
       "           [-1.4070e-02,  1.1821e-03,  1.6710e-02],\n",
       "           [-1.1782e-02, -2.6881e-02, -2.7215e-03]],\n",
       " \n",
       "          [[-1.4700e-02, -6.0695e-03,  9.5260e-03],\n",
       "           [ 1.1582e-02,  1.3611e-02,  2.2843e-03],\n",
       "           [-1.5479e-02, -2.1626e-02, -4.6194e-03]],\n",
       " \n",
       "          [[ 3.2889e-03, -9.9403e-03,  8.5581e-03],\n",
       "           [-1.5555e-02,  1.0391e-02, -1.8417e-02],\n",
       "           [ 1.3831e-02, -7.1080e-03,  1.3315e-02]],\n",
       " \n",
       "          ...,\n",
       " \n",
       "          [[ 2.1294e-02,  1.3341e-02, -1.2705e-02],\n",
       "           [-1.1476e-02, -9.0782e-03,  1.7640e-02],\n",
       "           [ 3.1872e-03,  1.2701e-02, -1.3578e-02]],\n",
       " \n",
       "          [[ 5.9566e-03,  1.0991e-02,  2.1634e-02],\n",
       "           [ 1.9876e-02, -1.1452e-02, -9.2057e-03],\n",
       "           [ 4.1959e-03,  5.0815e-03,  1.8909e-02]],\n",
       " \n",
       "          [[-9.8064e-03,  1.4981e-02,  1.4615e-05],\n",
       "           [ 1.6872e-02, -1.8137e-02,  7.6519e-03],\n",
       "           [ 1.3407e-02,  1.8113e-02, -8.4573e-03]]],\n",
       " \n",
       " \n",
       "         [[[-1.7639e-02, -1.5548e-02, -1.3832e-02],\n",
       "           [-1.6789e-02, -9.7335e-04,  1.5970e-02],\n",
       "           [-2.0908e-02, -2.2592e-02,  6.8129e-03]],\n",
       " \n",
       "          [[-8.6813e-04,  1.3382e-02,  1.3019e-02],\n",
       "           [ 5.0668e-03,  5.7688e-03,  1.3567e-03],\n",
       "           [ 5.7994e-03,  1.7500e-02,  8.6653e-03]],\n",
       " \n",
       "          [[ 1.3653e-02, -1.7004e-02,  2.2146e-02],\n",
       "           [-8.7492e-03, -9.5507e-04, -3.9479e-03],\n",
       "           [-4.1997e-03, -5.2805e-04, -2.3927e-02]],\n",
       " \n",
       "          ...,\n",
       " \n",
       "          [[-1.3348e-02,  1.8013e-02,  4.3259e-03],\n",
       "           [ 8.0792e-03, -2.1564e-02, -3.9226e-03],\n",
       "           [-5.4137e-03,  2.2486e-03,  1.4992e-02]],\n",
       " \n",
       "          [[-2.1617e-02,  1.2217e-03,  7.1667e-03],\n",
       "           [ 3.5120e-03,  2.2370e-02, -1.9205e-02],\n",
       "           [-2.4093e-02, -1.0225e-02,  9.1161e-03]],\n",
       " \n",
       "          [[ 1.9920e-03, -4.9542e-03, -1.3433e-02],\n",
       "           [-1.7024e-03,  1.9793e-02,  1.9460e-02],\n",
       "           [ 8.2671e-03,  1.8563e-02,  1.0325e-02]]],\n",
       " \n",
       " \n",
       "         [[[ 8.3805e-03, -9.8810e-03,  2.6522e-03],\n",
       "           [ 1.2269e-02, -1.3763e-03, -1.1711e-02],\n",
       "           [ 1.7314e-02, -2.2013e-02, -8.9933e-03]],\n",
       " \n",
       "          [[ 1.8942e-02,  1.1664e-02,  1.5227e-02],\n",
       "           [ 7.6479e-03,  1.0863e-03, -1.4321e-04],\n",
       "           [-8.6247e-03, -4.3313e-03, -2.0229e-02]],\n",
       " \n",
       "          [[-1.6748e-02, -2.5334e-03, -1.3536e-02],\n",
       "           [-1.5288e-02,  1.7721e-02,  1.5567e-02],\n",
       "           [-2.2211e-02, -1.7509e-02,  9.4411e-03]],\n",
       " \n",
       "          ...,\n",
       " \n",
       "          [[-7.6448e-03,  1.7669e-02, -2.8059e-03],\n",
       "           [ 1.7372e-04, -1.8773e-02, -3.2997e-03],\n",
       "           [-1.1769e-02, -2.3506e-02, -2.4317e-03]],\n",
       " \n",
       "          [[-8.8556e-04,  1.2517e-02,  2.2314e-02],\n",
       "           [ 2.0845e-02,  1.1337e-02, -1.6325e-02],\n",
       "           [ 7.3459e-03, -1.1569e-02, -1.5707e-03]],\n",
       " \n",
       "          [[-1.2368e-02, -1.5630e-02, -3.4546e-03],\n",
       "           [-1.0869e-02,  1.0315e-02,  1.7933e-02],\n",
       "           [-6.3043e-03, -7.5939e-03, -1.0518e-02]]]], device='cuda:0',\n",
       "        requires_grad=True), Parameter containing:\n",
       " tensor([-2.1124e-02, -9.6295e-03, -1.1279e-02,  4.5132e-03,  5.8381e-03,\n",
       "          1.0100e-02,  9.0573e-03,  4.0336e-03, -6.5376e-03,  9.7503e-03,\n",
       "         -8.6819e-03,  6.8164e-03, -1.1884e-02,  1.1227e-02, -7.6824e-03,\n",
       "          1.8210e-03, -5.7519e-03, -1.2125e-02,  9.8962e-03,  4.8722e-03,\n",
       "         -1.9568e-02,  9.3690e-03, -2.1643e-03, -6.4582e-03, -1.5034e-02,\n",
       "         -1.2409e-02, -6.0181e-03,  8.0884e-03, -2.0952e-02,  9.5296e-03,\n",
       "          6.2295e-03, -7.3720e-03, -5.6996e-03, -2.0203e-02, -6.9925e-03,\n",
       "         -1.7112e-02, -1.4869e-02,  1.0595e-02,  1.5205e-02,  1.1097e-02,\n",
       "          7.0776e-03,  3.9810e-03,  2.5500e-03,  3.3161e-03, -1.8682e-02,\n",
       "         -1.7156e-02, -1.3603e-02, -2.5324e-02, -5.9685e-03,  7.2512e-03,\n",
       "         -2.1176e-02, -9.6845e-04, -2.1456e-02,  2.5963e-03,  4.4464e-03,\n",
       "          1.4385e-02, -2.0735e-02, -2.3563e-02, -1.3212e-02, -2.0275e-02,\n",
       "         -1.3991e-02, -6.9533e-03, -8.4728e-03, -2.3768e-02, -9.7741e-03,\n",
       "          7.5232e-04,  3.9379e-03,  5.3884e-03, -8.7679e-03, -7.7279e-03,\n",
       "         -3.6019e-03, -1.8125e-02,  1.0247e-02,  6.0582e-03,  9.5284e-03,\n",
       "         -9.1686e-04, -1.8482e-03, -1.2654e-02,  9.4863e-05, -6.3407e-05,\n",
       "          8.4588e-03,  2.3917e-03,  8.9881e-03, -1.4294e-02, -2.2131e-02,\n",
       "         -1.7627e-02, -1.7849e-02, -1.7538e-02,  8.0976e-03,  4.4670e-03,\n",
       "         -1.6572e-02, -2.1493e-02, -3.4476e-03, -2.0339e-02,  6.0964e-03,\n",
       "          3.9471e-04,  9.2661e-03, -1.2317e-02, -1.8367e-02, -1.3082e-02,\n",
       "         -3.2653e-03,  3.2940e-03,  9.3366e-03,  8.8263e-03, -1.0146e-02,\n",
       "          7.9511e-03, -2.4869e-03, -1.3594e-02,  3.2701e-06, -1.0433e-02,\n",
       "          1.9595e-03,  4.8036e-03, -1.1726e-03, -3.8610e-03,  1.0965e-02,\n",
       "         -5.2777e-03, -5.4481e-03, -5.5514e-03,  8.0773e-03, -1.8839e-02,\n",
       "          6.3401e-03,  9.3304e-03, -3.7851e-03, -5.5961e-03,  6.0557e-03,\n",
       "         -5.7389e-03,  1.0430e-02, -2.7708e-03,  1.2223e-03,  1.3422e-03,\n",
       "          1.1048e-03,  1.1021e-03, -1.0693e-02,  5.0561e-03,  9.0322e-03,\n",
       "         -8.5176e-03,  4.4091e-03,  3.5928e-03,  1.0979e-02,  7.4885e-03,\n",
       "          5.4309e-03, -6.5438e-03,  1.4472e-02, -1.8727e-02,  1.3820e-03,\n",
       "         -8.3375e-03,  8.4458e-03, -1.6587e-02, -8.1321e-03,  8.8075e-03,\n",
       "         -4.7261e-03,  8.8684e-03, -1.6033e-02, -1.1809e-02, -1.0981e-02,\n",
       "         -2.2528e-03,  8.1014e-03, -1.4375e-02,  1.1363e-02, -1.4922e-02,\n",
       "         -1.1364e-03,  3.8445e-03, -2.0333e-02,  1.0945e-02, -1.1516e-02,\n",
       "          8.9143e-03, -2.3432e-02,  2.9567e-03,  6.7126e-03,  9.0302e-03,\n",
       "          1.0762e-02,  9.0885e-03,  9.4020e-03, -1.0306e-02,  1.0398e-02,\n",
       "          7.1048e-03,  2.0829e-03,  1.4943e-04,  5.8139e-03, -1.4320e-02,\n",
       "         -1.4544e-02,  4.5401e-03, -1.3249e-03, -8.5183e-03,  1.9150e-03,\n",
       "          1.2911e-02,  1.2005e-02, -1.4334e-02,  1.1458e-02,  1.6427e-02,\n",
       "          1.0934e-02,  8.7549e-03,  8.1338e-03,  1.0151e-02,  7.7253e-03,\n",
       "         -2.4895e-04,  3.7857e-03, -1.0563e-02, -2.5264e-02, -1.4107e-02,\n",
       "         -1.3823e-03,  4.5781e-03,  5.8936e-03,  2.3698e-03, -1.1621e-03,\n",
       "          4.8421e-03,  1.2130e-03, -5.6695e-03, -1.9788e-02,  7.6842e-03,\n",
       "          1.3752e-02,  7.7523e-03, -2.2560e-02, -9.4049e-03, -5.6258e-03,\n",
       "          2.1275e-03, -4.0662e-03,  3.9349e-03, -9.9340e-03, -2.6858e-03,\n",
       "         -1.1819e-02, -1.1572e-02,  5.5460e-03, -1.5351e-02, -1.4554e-02,\n",
       "          8.7120e-03, -1.0072e-03,  4.5199e-03, -1.3934e-03, -1.0766e-02,\n",
       "         -4.2667e-03, -6.4139e-03, -1.9567e-02,  9.8463e-03, -4.4298e-03,\n",
       "          8.3060e-03,  9.4594e-03,  5.3724e-03,  3.7084e-03, -7.5893e-04,\n",
       "         -1.3398e-02,  1.6735e-03,  6.7276e-03, -1.4911e-02,  1.2192e-03,\n",
       "          8.8622e-03, -5.4160e-03,  1.4122e-02,  1.5244e-02, -1.3591e-02,\n",
       "         -1.8609e-02,  1.8217e-02, -7.0259e-03, -1.0107e-02,  1.4181e-02,\n",
       "          6.6677e-03, -1.4045e-02,  4.8131e-03, -2.2349e-02,  3.1199e-03,\n",
       "          3.6488e-04,  1.5016e-02, -1.4158e-02, -5.9811e-03,  2.7865e-03,\n",
       "          8.8457e-03,  1.5934e-02, -5.0054e-03, -1.5300e-02, -4.3745e-03,\n",
       "          1.2991e-02, -2.1302e-02,  9.1011e-04, -1.0584e-02,  3.4446e-03,\n",
       "          6.4760e-03, -1.0182e-02,  1.2669e-03, -1.8935e-02, -2.1170e-02,\n",
       "          8.1268e-03,  3.8141e-03,  1.2043e-02, -7.9101e-03, -2.1814e-02,\n",
       "         -1.9356e-02, -1.0990e-02,  6.8762e-03,  1.2829e-02, -1.3598e-02,\n",
       "         -1.6199e-02,  2.6541e-03,  2.4531e-03, -1.6608e-02, -5.0595e-03,\n",
       "         -1.7554e-02, -1.3090e-03, -2.2788e-03, -2.4309e-02, -1.7753e-02,\n",
       "         -1.8039e-02, -5.1771e-03,  6.1978e-03, -1.9430e-02,  9.8325e-03,\n",
       "         -1.7741e-02, -9.6399e-03, -1.3153e-02,  1.4885e-02,  1.6181e-02,\n",
       "          9.3003e-03, -4.7402e-03,  3.7519e-03,  3.0853e-03, -1.5842e-02,\n",
       "          1.0723e-02, -7.9630e-03,  8.1557e-03, -1.3860e-03, -3.7633e-03,\n",
       "         -2.0775e-02, -2.5953e-03, -2.4482e-02, -1.8016e-02,  1.3754e-03,\n",
       "         -2.1845e-02, -1.3260e-02, -5.9740e-04, -2.0815e-02, -7.1755e-03,\n",
       "         -1.2802e-02,  3.1415e-03,  1.0019e-02,  1.2268e-03,  6.5369e-03,\n",
       "          7.7290e-03,  5.0958e-04, -9.0441e-03, -9.3828e-03,  8.4956e-03,\n",
       "          8.3998e-03,  7.7876e-03,  1.7308e-02,  3.2976e-04, -9.5518e-03,\n",
       "         -3.7551e-03, -1.3506e-03, -3.8004e-03,  8.8394e-03, -1.4451e-02,\n",
       "         -4.3203e-03,  1.0905e-02, -7.7140e-03,  1.4709e-02,  4.3568e-03,\n",
       "          1.6098e-02, -6.7902e-03,  1.3649e-02, -8.3561e-03,  4.7967e-03,\n",
       "          1.0964e-03, -1.5033e-03, -2.3393e-02, -3.1422e-03, -1.3102e-03,\n",
       "          1.6462e-02,  9.8422e-03, -3.6720e-03, -3.2194e-04,  1.0976e-03,\n",
       "          9.2214e-03,  2.5279e-03,  8.3485e-03,  7.0745e-03, -1.8671e-02,\n",
       "          1.4130e-02,  1.5552e-03,  1.9803e-03,  1.3371e-02, -1.9334e-02,\n",
       "         -9.2740e-03,  6.9730e-03, -1.1811e-02, -2.0995e-03], device='cuda:0',\n",
       "        requires_grad=True), Parameter containing:\n",
       " tensor([[[[ 2.3645e-03,  3.7561e-03, -7.8413e-03],\n",
       "           [ 1.0513e-03, -4.5339e-03, -2.8163e-03],\n",
       "           [ 2.3796e-03,  1.3253e-02,  1.0718e-02]],\n",
       " \n",
       "          [[ 8.0119e-03,  5.8323e-03, -1.4162e-02],\n",
       "           [-2.0424e-04, -9.6020e-03,  1.4027e-02],\n",
       "           [ 1.5050e-02,  4.9308e-03, -3.1415e-03]],\n",
       " \n",
       "          [[-5.8769e-03,  6.5678e-03,  1.0402e-02],\n",
       "           [ 1.1108e-03, -8.5181e-04,  5.9198e-04],\n",
       "           [ 7.9404e-03, -1.3539e-03, -1.2652e-03]],\n",
       " \n",
       "          ...,\n",
       " \n",
       "          [[-1.4492e-02, -7.6613e-03,  8.0123e-03],\n",
       "           [ 1.0971e-02, -1.5059e-02, -1.3845e-02],\n",
       "           [-1.0469e-02,  6.4775e-03,  1.2125e-03]],\n",
       " \n",
       "          [[ 3.6133e-05,  1.0391e-02, -1.4295e-03],\n",
       "           [-2.3923e-03,  3.1636e-03, -1.1531e-02],\n",
       "           [ 1.3871e-02, -9.5389e-04, -1.2160e-03]],\n",
       " \n",
       "          [[ 1.2962e-02, -7.1096e-03, -4.3523e-03],\n",
       "           [-8.2458e-03,  1.4724e-03,  2.9641e-03],\n",
       "           [ 1.1117e-02,  1.2409e-02, -1.3964e-02]]],\n",
       " \n",
       " \n",
       "         [[[-1.2016e-02, -1.2913e-02,  1.0663e-02],\n",
       "           [-8.9553e-03,  5.3127e-03,  1.3494e-02],\n",
       "           [-7.9698e-03,  1.1271e-02,  2.3475e-04]],\n",
       " \n",
       "          [[-1.5709e-02, -2.8596e-03,  1.2009e-02],\n",
       "           [ 5.5193e-03,  1.2875e-02, -1.1819e-02],\n",
       "           [ 2.7704e-03, -1.2136e-02, -8.8752e-03]],\n",
       " \n",
       "          [[-2.3288e-02, -5.2478e-03, -8.3267e-04],\n",
       "           [-1.7987e-02, -2.0970e-02,  1.9298e-03],\n",
       "           [-1.7130e-02,  5.5637e-03, -1.6130e-02]],\n",
       " \n",
       "          ...,\n",
       " \n",
       "          [[-2.9046e-03, -6.6794e-03, -1.1477e-02],\n",
       "           [-4.4985e-03,  1.2065e-02, -1.5545e-02],\n",
       "           [ 1.0766e-02,  1.0942e-02,  8.6532e-03]],\n",
       " \n",
       "          [[ 3.0006e-03,  7.4338e-03,  7.2456e-03],\n",
       "           [ 1.0074e-02, -2.4600e-03,  1.1269e-02],\n",
       "           [-6.8424e-03,  6.5481e-03,  1.2603e-02]],\n",
       " \n",
       "          [[ 5.3504e-03, -1.8957e-04,  6.9260e-03],\n",
       "           [ 1.3223e-02, -1.0651e-02,  1.2180e-02],\n",
       "           [-1.3042e-03,  5.3612e-03, -9.3691e-03]]],\n",
       " \n",
       " \n",
       "         [[[ 5.9337e-04,  9.1450e-03, -6.6742e-03],\n",
       "           [-3.0592e-03, -4.1244e-03,  3.6014e-03],\n",
       "           [ 3.2479e-03,  9.3086e-03,  1.1233e-03]],\n",
       " \n",
       "          [[-1.6482e-02, -3.1963e-03, -1.0806e-02],\n",
       "           [-1.0225e-02, -4.5519e-03,  6.1139e-03],\n",
       "           [-2.6619e-03,  1.0170e-02, -1.4024e-02]],\n",
       " \n",
       "          [[ 1.2258e-02,  9.2024e-05,  4.8802e-03],\n",
       "           [-1.2455e-02, -1.0480e-02, -8.8279e-03],\n",
       "           [ 9.6581e-03, -8.8287e-03,  8.7674e-03]],\n",
       " \n",
       "          ...,\n",
       " \n",
       "          [[ 1.5439e-02, -6.5456e-03,  1.1284e-02],\n",
       "           [ 1.5386e-02,  1.3189e-02, -1.1524e-02],\n",
       "           [-9.4636e-04,  1.3058e-02, -1.7158e-02]],\n",
       " \n",
       "          [[-1.5568e-02, -5.4444e-04, -1.4276e-03],\n",
       "           [ 8.6073e-03, -3.0506e-03,  1.1084e-02],\n",
       "           [ 9.4313e-03, -3.5510e-04,  1.0170e-02]],\n",
       " \n",
       "          [[-2.4762e-03,  4.1778e-03,  1.0565e-02],\n",
       "           [-6.6083e-03,  1.2572e-02, -1.4043e-02],\n",
       "           [-6.6665e-03, -1.9589e-03, -5.2672e-03]]],\n",
       " \n",
       " \n",
       "         ...,\n",
       " \n",
       " \n",
       "         [[[ 1.6186e-02,  8.4220e-04,  1.9554e-03],\n",
       "           [-1.0077e-02, -6.5061e-04,  9.3186e-03],\n",
       "           [-2.3352e-03,  5.0445e-03,  3.5642e-03]],\n",
       " \n",
       "          [[-8.5473e-03, -1.5372e-02,  2.7940e-03],\n",
       "           [-1.6644e-02, -1.2989e-02, -6.6891e-03],\n",
       "           [-2.2732e-04,  5.9522e-03,  6.9634e-03]],\n",
       " \n",
       "          [[-1.3367e-03,  1.3085e-03,  5.7867e-03],\n",
       "           [ 9.6363e-03,  1.1689e-02, -7.8617e-03],\n",
       "           [ 3.2906e-03, -8.9392e-03,  2.0008e-03]],\n",
       " \n",
       "          ...,\n",
       " \n",
       "          [[ 3.7446e-03,  1.7124e-02, -5.2361e-03],\n",
       "           [-1.3265e-02, -9.6033e-03,  4.3829e-03],\n",
       "           [ 1.4612e-02,  1.4087e-02,  1.1443e-02]],\n",
       " \n",
       "          [[ 8.6795e-03, -1.5991e-02,  1.1535e-02],\n",
       "           [-1.4181e-02, -1.3431e-02,  2.3203e-03],\n",
       "           [ 1.6484e-02,  1.2202e-03, -1.2807e-03]],\n",
       " \n",
       "          [[ 1.6315e-02, -1.4781e-02,  1.3669e-02],\n",
       "           [-1.2510e-02, -3.3200e-03, -1.5334e-03],\n",
       "           [-3.1015e-03,  1.6266e-02,  1.1374e-02]]],\n",
       " \n",
       " \n",
       "         [[[ 2.4659e-03,  1.3067e-02, -1.2901e-02],\n",
       "           [-1.4647e-02,  1.1982e-02,  6.7235e-03],\n",
       "           [-2.4847e-03,  1.0874e-03,  8.6095e-03]],\n",
       " \n",
       "          [[ 8.3061e-03, -2.8234e-03,  1.0012e-02],\n",
       "           [-2.1578e-03, -1.0621e-02,  1.4028e-03],\n",
       "           [-9.7802e-03,  1.0766e-02, -7.1926e-03]],\n",
       " \n",
       "          [[ 5.1795e-03, -3.5261e-03, -6.0988e-03],\n",
       "           [ 1.2423e-02,  7.3784e-03, -1.3215e-02],\n",
       "           [ 1.3737e-03, -6.9148e-03, -3.2336e-03]],\n",
       " \n",
       "          ...,\n",
       " \n",
       "          [[-7.5743e-03, -1.7388e-02,  6.5034e-03],\n",
       "           [ 1.4747e-03, -1.0042e-02, -1.1743e-02],\n",
       "           [-1.9262e-02,  1.1996e-02, -5.3546e-03]],\n",
       " \n",
       "          [[ 4.6255e-03, -1.5168e-02,  8.6789e-03],\n",
       "           [-1.7282e-03, -1.4768e-02, -1.5293e-03],\n",
       "           [ 1.2610e-02, -3.4402e-03,  3.8467e-03]],\n",
       " \n",
       "          [[ 1.4488e-02, -4.4514e-03, -3.9502e-03],\n",
       "           [ 1.1027e-03, -4.2431e-03, -9.3082e-03],\n",
       "           [-6.9435e-03, -1.5705e-03, -4.2030e-03]]],\n",
       " \n",
       " \n",
       "         [[[ 1.3769e-02,  2.6957e-03,  3.5456e-03],\n",
       "           [ 7.3214e-04,  6.6003e-03, -1.3837e-02],\n",
       "           [-1.6918e-02,  1.3621e-02, -1.1973e-02]],\n",
       " \n",
       "          [[-7.5398e-03,  5.8348e-03,  6.2663e-03],\n",
       "           [-9.6068e-03, -1.4400e-02, -8.2097e-03],\n",
       "           [ 5.2416e-03,  4.4594e-03, -2.3808e-03]],\n",
       " \n",
       "          [[-1.4063e-02, -2.2474e-03, -9.2370e-03],\n",
       "           [ 5.2441e-03, -3.4353e-04, -6.3794e-03],\n",
       "           [-6.4102e-03, -2.3649e-03, -9.3896e-03]],\n",
       " \n",
       "          ...,\n",
       " \n",
       "          [[ 1.4324e-02, -3.1907e-03, -1.0063e-02],\n",
       "           [-7.4283e-03, -6.5340e-03,  1.2036e-02],\n",
       "           [-1.6441e-03,  8.5939e-03, -1.2759e-02]],\n",
       " \n",
       "          [[ 1.2588e-02, -1.4598e-02, -1.9275e-03],\n",
       "           [-7.1129e-03,  1.1757e-02,  2.3902e-03],\n",
       "           [ 6.1645e-03, -1.4124e-02,  1.3062e-02]],\n",
       " \n",
       "          [[ 9.6743e-04,  8.0535e-03, -1.5752e-02],\n",
       "           [ 1.2185e-02, -6.3886e-03,  1.5686e-02],\n",
       "           [-7.7882e-03, -2.1486e-03, -9.4342e-04]]]], device='cuda:0',\n",
       "        requires_grad=True), Parameter containing:\n",
       " tensor([-1.8732e-03, -1.8729e-03, -9.5449e-03, -1.5013e-02, -1.0371e-02,\n",
       "         -2.9366e-04, -3.2821e-04, -3.2058e-03, -6.6958e-03, -5.0349e-03,\n",
       "         -2.4240e-03, -6.1206e-03, -2.0063e-03, -8.0850e-05, -7.5674e-03,\n",
       "         -2.7140e-03, -4.0550e-03, -4.8555e-03, -1.2566e-02, -1.5517e-02,\n",
       "         -4.0288e-04, -1.6322e-02, -8.1488e-04, -1.1972e-02, -1.3684e-02,\n",
       "         -1.0192e-02, -6.7059e-04, -1.6489e-02, -4.9098e-03, -1.4444e-02,\n",
       "         -1.6869e-03, -1.5116e-04, -3.7489e-03, -4.7102e-03, -2.6336e-03,\n",
       "         -3.0475e-03, -1.8347e-03, -7.6502e-03, -1.3730e-03, -3.5209e-04,\n",
       "         -1.1422e-03, -4.8653e-03, -1.5760e-02, -4.7498e-03, -6.2453e-03,\n",
       "         -4.0765e-04, -1.3839e-03, -1.4926e-03, -4.3564e-03, -1.4853e-03,\n",
       "         -7.9338e-03, -4.1049e-04, -3.4734e-03,  9.0344e-04, -1.3563e-02,\n",
       "         -3.6408e-03, -2.0241e-03, -1.5506e-02, -6.4276e-04, -1.2301e-04,\n",
       "         -5.8781e-03, -1.6231e-04, -3.8363e-04, -1.7471e-03, -1.6359e-02,\n",
       "         -1.6799e-02, -9.6486e-03, -8.6503e-04, -4.7792e-03, -1.5892e-02,\n",
       "         -1.7597e-03, -4.2323e-03, -9.1062e-03, -1.4718e-02, -1.2151e-02,\n",
       "         -8.9054e-03, -1.0371e-03, -4.9680e-03, -8.3931e-04, -2.1165e-04,\n",
       "         -9.7796e-05, -1.7174e-03, -1.5723e-02, -2.6372e-03,  9.5997e-03,\n",
       "         -5.1441e-03, -2.3427e-03, -7.3847e-04, -5.0826e-03, -2.8090e-03,\n",
       "         -4.9137e-04, -1.5248e-02, -6.4875e-04, -1.3187e-02, -9.6761e-03,\n",
       "         -4.7790e-04, -1.1151e-02, -4.1042e-04, -8.1899e-03, -9.6071e-03,\n",
       "         -3.5457e-03, -3.3784e-03, -7.4948e-03, -4.8173e-03, -3.3379e-04,\n",
       "         -3.9318e-04, -3.1878e-03, -9.5906e-04, -3.3676e-04, -6.1910e-03,\n",
       "         -6.2868e-03, -5.9521e-03, -1.1290e-02, -2.0688e-03, -4.7789e-03,\n",
       "         -1.5724e-03, -3.7978e-03, -1.1016e-03, -1.6986e-03, -1.0818e-02,\n",
       "         -6.3679e-03, -1.6203e-02, -2.3071e-03, -1.2922e-02, -2.4939e-04,\n",
       "         -1.2152e-03, -4.3758e-03, -1.4670e-02, -7.2605e-03, -8.5934e-03,\n",
       "         -1.4166e-03, -1.0132e-02, -2.2413e-03, -8.3916e-03, -3.5367e-03,\n",
       "         -7.6949e-03, -6.5739e-04, -5.1247e-03, -8.0323e-03, -1.5998e-03,\n",
       "         -1.7714e-03,  8.4062e-04, -1.5931e-02, -1.2634e-02, -7.9568e-03,\n",
       "         -1.2335e-02, -1.4532e-02, -2.2016e-03, -1.8205e-03, -2.3160e-03,\n",
       "         -7.5041e-03, -2.5946e-03, -5.3126e-03, -1.0305e-03, -3.1171e-03,\n",
       "         -1.3000e-03, -1.4666e-03, -2.6993e-04, -4.1831e-03, -1.4196e-03,\n",
       "          8.1018e-03, -1.5330e-03, -1.1445e-02, -1.2983e-03, -4.7403e-03,\n",
       "         -1.2248e-02, -1.3717e-03, -9.3416e-03, -1.3709e-04, -1.2248e-02,\n",
       "         -2.5583e-03, -1.4613e-03, -1.6361e-02, -9.7862e-04, -1.1776e-02,\n",
       "         -3.7710e-04, -1.8795e-03, -3.6309e-05, -1.7348e-03, -1.8510e-03,\n",
       "          2.0730e-03, -4.7824e-03, -3.5454e-03, -1.0857e-02, -5.0148e-04,\n",
       "         -1.7603e-03, -1.2311e-03, -7.3046e-04, -2.6788e-04,  7.4372e-04,\n",
       "         -1.2608e-03, -3.5534e-03, -1.4731e-02, -4.6620e-03, -1.6468e-02,\n",
       "         -3.9910e-03, -1.0472e-02, -1.6012e-03, -2.7099e-03, -1.4358e-03,\n",
       "         -7.7108e-04, -1.2797e-02, -2.1881e-03, -1.6767e-03, -2.4266e-03,\n",
       "         -1.4276e-02, -1.2693e-02, -1.6273e-02, -3.7576e-04, -5.5753e-04,\n",
       "         -6.6181e-04, -2.1996e-03, -6.2822e-03, -9.3451e-03, -1.0056e-03,\n",
       "         -1.1450e-02, -7.8677e-04, -1.8984e-03, -2.2208e-04, -1.5890e-03,\n",
       "         -1.6238e-03, -1.6928e-03, -2.1529e-03, -5.7673e-03, -2.3909e-03,\n",
       "         -9.8560e-03, -8.9015e-05, -1.1701e-02, -1.2158e-04, -9.2415e-03,\n",
       "         -3.9465e-03, -7.3859e-03, -2.3322e-03, -3.0811e-03, -6.4272e-04,\n",
       "         -1.2324e-02, -2.1902e-04, -2.2349e-03, -8.7753e-03, -1.1855e-03,\n",
       "         -1.4953e-02, -2.3245e-03, -8.3816e-03, -3.0556e-03, -1.6922e-02,\n",
       "         -1.1457e-02, -3.0770e-04, -4.9205e-03, -1.0808e-03, -5.6353e-03,\n",
       "         -1.4933e-04, -1.5901e-02, -2.9830e-04,  1.1901e-02, -7.9429e-04,\n",
       "         -1.4401e-02], device='cuda:0', requires_grad=True), Parameter containing:\n",
       " tensor([[[[-1.3951e-02,  1.6858e-02,  1.7199e-02],\n",
       "           [ 1.9640e-02,  1.2024e-02,  1.4086e-02],\n",
       "           [-1.6390e-02, -2.7388e-03, -1.5235e-02]],\n",
       " \n",
       "          [[ 5.5469e-03,  2.9934e-03, -1.7740e-02],\n",
       "           [ 9.1467e-03, -1.6390e-02,  1.6824e-02],\n",
       "           [ 2.7103e-03, -1.9165e-02,  1.2579e-02]],\n",
       " \n",
       "          [[ 1.7902e-03, -5.2567e-03, -3.6924e-04],\n",
       "           [ 1.4871e-02, -6.1892e-03,  7.3467e-03],\n",
       "           [ 6.7038e-03,  8.2852e-03, -3.9565e-03]],\n",
       " \n",
       "          ...,\n",
       " \n",
       "          [[-1.6570e-02,  9.2265e-03,  3.1537e-03],\n",
       "           [ 8.0624e-03, -1.4714e-02,  2.8125e-03],\n",
       "           [ 3.0386e-03,  1.2771e-02, -8.9411e-03]],\n",
       " \n",
       "          [[-1.3961e-02, -1.1299e-02, -7.9807e-03],\n",
       "           [ 2.0448e-04, -9.8447e-03, -1.2980e-02],\n",
       "           [-5.3812e-03, -3.9425e-03,  7.8901e-03]],\n",
       " \n",
       "          [[-5.4498e-03, -5.4176e-03,  1.7512e-02],\n",
       "           [-1.1483e-02,  1.5604e-02,  1.1789e-02],\n",
       "           [-4.1565e-03, -5.5766e-03, -1.7794e-02]]],\n",
       " \n",
       " \n",
       "         [[[-9.1556e-03,  8.9147e-03, -6.5878e-03],\n",
       "           [ 1.4623e-02,  1.6423e-02,  1.8233e-02],\n",
       "           [ 1.3811e-02,  1.7229e-02,  1.7816e-02]],\n",
       " \n",
       "          [[-5.2418e-03,  2.3409e-02,  5.9742e-03],\n",
       "           [ 1.7068e-02, -2.1568e-02, -9.0026e-03],\n",
       "           [ 1.9631e-03,  4.0476e-03,  1.8951e-03]],\n",
       " \n",
       "          [[-1.6155e-03, -1.2919e-02, -1.1492e-02],\n",
       "           [-4.4288e-03,  1.0748e-02,  5.3499e-03],\n",
       "           [ 4.8567e-03, -1.2261e-02,  1.1356e-02]],\n",
       " \n",
       "          ...,\n",
       " \n",
       "          [[-1.2873e-02, -1.9204e-02, -4.9594e-03],\n",
       "           [-6.4090e-03,  1.2736e-02, -1.2175e-02],\n",
       "           [-5.1620e-04, -4.2552e-03, -1.0213e-02]],\n",
       " \n",
       "          [[-1.1215e-02,  2.0721e-02,  5.9499e-03],\n",
       "           [ 5.7205e-03,  1.2237e-03, -1.8997e-02],\n",
       "           [ 1.2738e-02,  9.9180e-04,  1.2999e-02]],\n",
       " \n",
       "          [[ 6.6529e-03, -3.8108e-03, -8.7633e-03],\n",
       "           [ 1.4384e-02, -1.0776e-03, -1.1977e-02],\n",
       "           [ 1.1835e-02, -2.7967e-06, -9.7325e-03]]],\n",
       " \n",
       " \n",
       "         [[[-8.9691e-03, -1.1519e-02, -1.1900e-02],\n",
       "           [-3.9357e-03, -1.0221e-02,  1.9331e-02],\n",
       "           [ 1.9100e-02, -1.9353e-02,  4.4611e-04]],\n",
       " \n",
       "          [[ 1.8789e-02,  1.4769e-02, -1.2729e-02],\n",
       "           [-3.2174e-03, -1.2726e-03, -1.8711e-02],\n",
       "           [-1.2167e-02, -8.4681e-03, -1.7983e-02]],\n",
       " \n",
       "          [[-2.2197e-03,  2.7136e-03, -1.3127e-02],\n",
       "           [ 1.8711e-02,  2.0694e-02, -1.5053e-02],\n",
       "           [ 1.6450e-03,  1.3510e-02, -1.3568e-02]],\n",
       " \n",
       "          ...,\n",
       " \n",
       "          [[-2.0999e-02, -1.2002e-02,  1.4946e-04],\n",
       "           [ 1.2798e-02, -2.0482e-02, -1.8474e-02],\n",
       "           [ 1.9395e-02, -1.3442e-02, -4.6269e-04]],\n",
       " \n",
       "          [[-1.1945e-03, -7.7440e-03, -3.1309e-03],\n",
       "           [-1.0337e-02,  7.1526e-03,  1.5272e-02],\n",
       "           [ 1.0024e-02,  9.9739e-03,  1.5436e-02]],\n",
       " \n",
       "          [[ 6.4408e-03,  1.3762e-02,  1.3845e-02],\n",
       "           [ 7.0412e-03, -1.5992e-02, -1.0431e-02],\n",
       "           [-1.0389e-02,  1.1431e-02,  1.9574e-02]]],\n",
       " \n",
       " \n",
       "         ...,\n",
       " \n",
       " \n",
       "         [[[ 1.3573e-02, -1.8742e-02, -1.6559e-02],\n",
       "           [-1.7359e-02,  8.8632e-03, -6.3064e-03],\n",
       "           [-6.1727e-03,  4.6028e-03,  1.8158e-04]],\n",
       " \n",
       "          [[-1.8060e-02, -1.9937e-02,  1.5667e-02],\n",
       "           [-1.0735e-02,  1.0921e-02, -1.7286e-02],\n",
       "           [ 1.9471e-02, -1.3846e-02,  1.9354e-02]],\n",
       " \n",
       "          [[-1.7219e-02, -8.7115e-03,  3.5230e-03],\n",
       "           [-9.9743e-03, -6.4416e-03,  8.8868e-03],\n",
       "           [-5.6463e-03, -1.9811e-02, -4.2243e-03]],\n",
       " \n",
       "          ...,\n",
       " \n",
       "          [[-9.1108e-03, -2.2122e-03, -1.8287e-02],\n",
       "           [-3.0069e-03, -2.8003e-03, -1.1041e-02],\n",
       "           [-1.9409e-02, -1.2526e-02, -2.6408e-02]],\n",
       " \n",
       "          [[-2.1042e-02,  1.5630e-02,  1.8838e-02],\n",
       "           [-5.9161e-04,  1.1233e-02, -1.2984e-02],\n",
       "           [ 6.8298e-03, -3.1541e-03, -1.5903e-02]],\n",
       " \n",
       "          [[-6.6265e-03, -1.8243e-02,  8.1161e-03],\n",
       "           [-1.3303e-02,  2.9715e-03, -1.2180e-03],\n",
       "           [-3.3800e-03, -9.4056e-03,  3.0668e-03]]],\n",
       " \n",
       " \n",
       "         [[[ 1.5986e-04, -1.2996e-02,  6.9855e-03],\n",
       "           [ 2.2823e-03, -8.6547e-03, -4.4336e-03],\n",
       "           [-1.0709e-02, -1.2836e-02, -1.9006e-03]],\n",
       " \n",
       "          [[-1.9546e-02, -7.0038e-03, -1.3810e-02],\n",
       "           [-9.0846e-03,  1.2872e-02, -1.8054e-02],\n",
       "           [ 1.9073e-02, -7.5047e-03, -6.0126e-03]],\n",
       " \n",
       "          [[ 1.8627e-02,  1.0307e-02,  1.4674e-02],\n",
       "           [ 7.8338e-03,  1.3460e-02, -1.7862e-02],\n",
       "           [ 1.1746e-02,  1.2443e-02, -9.7792e-03]],\n",
       " \n",
       "          ...,\n",
       " \n",
       "          [[ 3.4588e-04, -1.2164e-02, -1.0608e-02],\n",
       "           [-5.8305e-03,  3.6312e-03,  1.0929e-02],\n",
       "           [-1.7440e-03,  1.5503e-02, -2.9880e-03]],\n",
       " \n",
       "          [[-1.7810e-02,  8.1774e-03, -5.2651e-03],\n",
       "           [-4.6490e-03,  1.8577e-02,  1.3841e-02],\n",
       "           [ 4.2063e-03, -8.9921e-03, -3.5394e-03]],\n",
       " \n",
       "          [[ 5.2543e-03, -3.1848e-03, -1.2270e-02],\n",
       "           [-7.6928e-03,  2.4528e-03, -1.7389e-02],\n",
       "           [-6.5626e-03,  5.0718e-03, -9.8463e-03]]],\n",
       " \n",
       " \n",
       "         [[[ 1.4676e-02, -5.7735e-03,  1.7331e-02],\n",
       "           [ 1.5902e-02,  4.6872e-03, -1.6612e-02],\n",
       "           [ 9.5197e-03, -1.2910e-02,  1.3782e-02]],\n",
       " \n",
       "          [[ 1.4192e-02,  5.8488e-03,  8.6486e-03],\n",
       "           [-7.9180e-03,  2.2413e-03, -4.1885e-03],\n",
       "           [ 1.8859e-02, -1.9389e-02,  1.7499e-03]],\n",
       " \n",
       "          [[ 3.4581e-03, -9.6003e-03, -1.9846e-02],\n",
       "           [-4.6659e-03,  6.6761e-03, -7.4846e-03],\n",
       "           [-9.2751e-04, -1.4123e-02, -1.6803e-02]],\n",
       " \n",
       "          ...,\n",
       " \n",
       "          [[-3.0821e-03, -4.2218e-04, -9.7740e-03],\n",
       "           [-1.5802e-02, -1.4530e-02,  1.8279e-02],\n",
       "           [-5.1833e-03,  3.2764e-03,  1.4531e-03]],\n",
       " \n",
       "          [[-6.2770e-03, -4.5811e-03,  5.5922e-03],\n",
       "           [ 1.6451e-02,  1.8488e-02, -1.7082e-02],\n",
       "           [ 1.7645e-02,  1.9609e-02, -1.2050e-02]],\n",
       " \n",
       "          [[ 7.2475e-03, -1.5794e-02, -1.2317e-02],\n",
       "           [-8.5635e-03, -1.1430e-03,  3.4720e-03],\n",
       "           [ 1.5119e-03, -1.4610e-02,  1.1165e-02]]]], device='cuda:0',\n",
       "        requires_grad=True), Parameter containing:\n",
       " tensor([-4.7731e-03, -1.1406e-03, -1.3085e-02,  2.6695e-04, -2.7404e-03,\n",
       "         -6.0371e-04, -1.2995e-02, -9.1967e-03, -3.8092e-03,  5.6496e-05,\n",
       "         -2.3796e-03,  1.3136e-04,  3.1395e-05,  6.2448e-04, -5.1412e-03,\n",
       "         -9.9522e-03, -1.2076e-02,  1.0776e-02, -3.2607e-03, -8.9984e-03,\n",
       "         -1.2765e-03, -1.0207e-02, -1.7721e-02, -3.9571e-03, -1.4858e-02,\n",
       "         -4.8800e-04, -2.1698e-03, -8.8831e-04, -8.8548e-03,  6.5792e-03,\n",
       "         -1.3473e-02, -2.5875e-03, -2.3679e-03, -4.2613e-04, -1.2977e-02,\n",
       "         -2.0186e-03, -1.6569e-03, -2.9484e-03,  5.3799e-04, -2.0054e-04,\n",
       "         -7.7462e-05,  5.5146e-04, -5.2129e-03,  6.0836e-05, -2.5400e-03,\n",
       "         -2.0164e-02, -3.6296e-03, -8.4446e-03, -4.4225e-06, -2.0460e-03,\n",
       "         -1.7546e-02, -1.2047e-02, -1.9978e-02, -1.0278e-03, -1.4829e-03,\n",
       "         -2.0657e-02, -2.0813e-03, -1.9926e-03,  2.4315e-03, -4.7586e-03,\n",
       "         -4.7983e-04, -6.0725e-04, -1.4082e-02, -4.0489e-03, -3.5397e-04,\n",
       "         -7.2601e-03, -1.9077e-03, -1.9549e-03, -1.4948e-02, -1.5276e-03,\n",
       "         -2.3239e-03, -8.3736e-03, -6.7054e-03, -1.0620e-02, -1.9145e-02,\n",
       "          5.0822e-03, -1.2446e-02,  8.7327e-04, -1.6271e-02, -1.3826e-02,\n",
       "         -6.3488e-04,  1.2450e-03,  2.8199e-04, -1.9733e-02, -2.0253e-03,\n",
       "         -1.6767e-03, -6.1904e-03, -2.6372e-03, -1.1454e-03, -8.6778e-03,\n",
       "         -1.2778e-03, -5.0201e-05, -1.1180e-03, -1.8460e-02, -4.9037e-03,\n",
       "         -1.0543e-03, -1.8411e-02, -7.0714e-03, -2.0006e-02, -8.9474e-04,\n",
       "         -2.8906e-03, -1.0197e-03, -8.5336e-03,  6.2501e-03, -1.4379e-02,\n",
       "         -1.9750e-02, -6.8637e-04, -3.2677e-03, -2.1399e-03, -9.9026e-06,\n",
       "          2.3154e-04, -4.6296e-03, -6.9933e-04, -1.8279e-02, -8.2967e-04,\n",
       "         -6.8130e-03, -1.4376e-02, -7.3526e-03, -6.6478e-04, -2.3415e-03,\n",
       "         -6.8238e-04,  6.1746e-04,  1.3490e-02, -5.0920e-03, -3.0087e-03,\n",
       "         -8.2700e-03, -1.9677e-02, -1.9968e-02, -5.7364e-04, -6.3728e-04,\n",
       "         -3.6451e-03,  4.6229e-04, -5.5210e-04,  1.2084e-04, -1.0265e-02,\n",
       "         -1.0565e-02, -4.2492e-04, -2.8254e-03, -8.2508e-03, -1.2670e-02,\n",
       "         -1.1920e-03, -2.0516e-03, -1.2093e-03, -6.3004e-04, -1.4691e-02,\n",
       "         -2.5846e-03, -2.6622e-03, -2.7295e-03, -8.2410e-04, -2.7445e-03,\n",
       "         -1.5196e-03, -1.6033e-03, -5.1294e-03,  2.2950e-04, -1.9273e-03,\n",
       "         -1.8337e-03, -1.4050e-02, -1.7192e-04,  1.0377e-02, -6.8205e-03,\n",
       "         -1.4417e-03, -1.4314e-02,  5.0063e-04, -1.6571e-02,  6.3364e-04,\n",
       "         -2.4323e-03, -2.4197e-03, -4.5267e-03, -8.2140e-03, -2.1229e-03,\n",
       "         -1.6539e-02, -1.4396e-04, -9.8918e-03, -2.6894e-03, -3.9669e-04,\n",
       "          5.6226e-04, -1.0234e-02, -1.1470e-03, -4.7952e-03, -1.2639e-03,\n",
       "         -1.7835e-03, -3.7385e-03, -8.9496e-03, -5.1761e-04, -4.5395e-04,\n",
       "          5.5733e-04, -6.5299e-03, -1.1001e-03, -1.1935e-02,  8.0924e-03,\n",
       "         -3.1292e-04,  1.8588e-04, -5.0185e-03, -8.4719e-04, -1.5140e-02,\n",
       "          8.9621e-04,  1.7795e-02, -6.6935e-03, -1.0941e-02, -1.5604e-03,\n",
       "         -2.0222e-03, -1.0202e-03,  2.8005e-04, -6.9841e-03, -5.9036e-03,\n",
       "         -5.0170e-04,  3.0083e-03, -1.1650e-02, -3.3474e-03,  3.0990e-05,\n",
       "         -1.8400e-02, -9.5082e-04, -1.8690e-03, -1.9297e-02, -4.1611e-03,\n",
       "         -4.0272e-03, -1.1599e-02, -6.7876e-03,  7.1564e-03, -1.7533e-02,\n",
       "         -3.6520e-05, -6.1721e-04, -1.7356e-02,  4.7200e-04, -7.2120e-03,\n",
       "         -1.4263e-03, -6.5791e-03, -1.8915e-02, -5.9398e-03, -1.8318e-02,\n",
       "         -1.3745e-02, -1.6174e-03,  7.6957e-05, -1.1907e-02, -9.3687e-03,\n",
       "         -1.0364e-03, -1.4605e-03, -4.2824e-04, -1.6696e-03, -1.0395e-02,\n",
       "         -1.1136e-03, -8.1267e-04, -1.9424e-03, -1.5521e-03, -4.7239e-03,\n",
       "         -9.4125e-03, -9.0674e-03, -2.5722e-03, -5.4538e-03, -2.1754e-03,\n",
       "         -4.5580e-04, -3.2226e-03, -3.8262e-03, -9.2181e-04, -1.7146e-02,\n",
       "         -1.0350e-03], device='cuda:0', requires_grad=True), Parameter containing:\n",
       " tensor([[-0.0016,  0.0107,  0.0044,  ..., -0.0033,  0.0068, -0.0136],\n",
       "         [-0.0105,  0.0075, -0.0117,  ...,  0.0148, -0.0064,  0.0088],\n",
       "         [ 0.0097,  0.0009,  0.0003,  ...,  0.0098, -0.0119,  0.0072],\n",
       "         ...,\n",
       "         [ 0.0025,  0.0100, -0.0040,  ..., -0.0108, -0.0020,  0.0005],\n",
       "         [-0.0086,  0.0090,  0.0080,  ..., -0.0135, -0.0089,  0.0127],\n",
       "         [-0.0082,  0.0125,  0.0095,  ..., -0.0137,  0.0153, -0.0106]],\n",
       "        device='cuda:0', requires_grad=True), Parameter containing:\n",
       " tensor([-9.6440e-04, -7.9617e-03, -1.2200e-02, -3.6025e-03, -4.4136e-03,\n",
       "         -1.8742e-03, -1.4615e-02, -1.5488e-02, -2.9950e-04, -9.0633e-03,\n",
       "          9.8014e-06, -1.4689e-02,  3.1839e-03,  6.4309e-04,  8.6746e-04,\n",
       "         -7.5149e-03,  1.8255e-03,  3.5092e-03, -6.0328e-03,  1.5287e-03,\n",
       "         -8.0774e-03, -5.9034e-03,  4.5046e-03, -9.8874e-04, -1.1123e-02,\n",
       "          1.7503e-04,  1.8974e-03, -7.5341e-03, -8.4833e-03,  6.0911e-03,\n",
       "         -1.0095e-02, -6.5989e-05, -1.5420e-03, -6.3801e-03,  2.3965e-04,\n",
       "          3.8180e-03, -4.7237e-03,  1.0067e-03,  2.5323e-03, -1.9960e-03,\n",
       "          2.8110e-04, -1.0424e-02, -6.6117e-04,  4.8123e-03,  4.3187e-03,\n",
       "         -5.1233e-03,  1.8625e-03, -5.0488e-03,  4.0754e-03,  1.8959e-03,\n",
       "         -8.0548e-03, -1.1136e-02, -6.3275e-03, -1.1741e-02, -2.1411e-04,\n",
       "         -1.1088e-02, -1.9751e-03,  3.4162e-03, -2.4333e-04, -7.3983e-03,\n",
       "          3.8840e-03,  5.0055e-03, -1.2399e-03, -1.0200e-02,  1.4888e-03,\n",
       "         -9.0960e-03,  2.4926e-03, -1.0895e-03,  3.7955e-04, -1.7846e-03,\n",
       "         -4.1575e-03, -1.2290e-02,  3.3771e-03, -3.0797e-03, -1.6318e-03,\n",
       "         -1.1351e-02, -1.5012e-02, -9.6295e-03, -1.0905e-02, -1.2207e-02,\n",
       "         -1.1758e-03, -1.1326e-02, -1.3497e-02,  5.0199e-03,  2.0047e-04,\n",
       "          2.4945e-03, -4.0200e-03, -5.8280e-03, -3.2235e-03, -1.6831e-03,\n",
       "          2.1491e-03,  7.2714e-04, -1.1134e-02, -5.1252e-04, -7.6492e-03,\n",
       "         -2.6911e-04, -1.4349e-02, -6.1129e-03, -1.1881e-03,  3.5012e-03,\n",
       "         -6.8868e-03, -1.8875e-04, -1.4264e-02, -1.9800e-03, -1.5033e-03,\n",
       "         -2.1339e-03, -4.2187e-04,  4.0550e-03,  4.7901e-03,  1.8054e-04,\n",
       "         -1.5962e-03,  1.9632e-03, -7.0268e-03, -3.5144e-03, -3.7142e-03,\n",
       "          3.9333e-03, -1.4524e-02, -1.5796e-02, -2.3206e-03,  2.8740e-04,\n",
       "         -1.7415e-03, -1.3926e-02, -6.3857e-03,  2.3485e-05, -6.8956e-03,\n",
       "          6.4533e-04, -3.6199e-03,  8.9366e-04, -5.6950e-03, -3.4301e-03,\n",
       "         -5.9588e-03, -2.3854e-03, -1.7137e-04, -1.5172e-03, -1.0576e-02,\n",
       "          2.7040e-03, -1.2999e-02,  2.5772e-03,  3.2115e-04, -1.3524e-03,\n",
       "         -6.1167e-03, -7.7671e-03, -1.5377e-02,  7.3656e-04,  3.0578e-04,\n",
       "         -1.2679e-02,  4.4365e-03,  1.1101e-02, -7.8903e-04, -2.2317e-03,\n",
       "         -1.3392e-03, -8.5894e-04, -9.2723e-03,  2.4734e-03, -5.9705e-03,\n",
       "          1.7316e-03, -1.0925e-03, -2.2794e-04,  2.7736e-03, -4.7255e-05,\n",
       "          1.6587e-02,  3.9934e-04, -8.7142e-03, -1.2126e-03,  3.0726e-03,\n",
       "         -2.8202e-03, -3.0332e-03,  4.6045e-04,  1.8194e-03,  1.5840e-03,\n",
       "         -1.1489e-02, -1.4419e-02, -5.7311e-03, -1.5221e-04, -2.8116e-03,\n",
       "         -8.6008e-04, -3.5241e-03, -1.2593e-02,  7.0124e-04, -3.8694e-03,\n",
       "          4.3373e-04, -2.2624e-03,  7.1049e-04, -2.4416e-03, -1.8027e-04,\n",
       "         -1.1663e-05,  1.7148e-03, -3.4145e-04,  2.8161e-04, -6.2887e-03,\n",
       "         -1.2835e-02, -3.5143e-03,  3.2794e-03,  9.6869e-04, -4.8286e-04,\n",
       "         -1.0559e-02, -2.7673e-04, -1.2118e-02, -1.1350e-02, -7.5531e-03,\n",
       "         -3.4013e-03, -1.0417e-02, -2.1202e-03,  1.3688e-03, -3.6843e-03,\n",
       "          2.9424e-03, -4.7776e-03, -3.2684e-03,  3.8243e-04, -1.1261e-03,\n",
       "         -2.4881e-04,  4.3800e-03, -8.8219e-03, -3.2632e-04, -3.4827e-03,\n",
       "          4.7068e-03, -7.9899e-03,  3.6754e-03, -2.7075e-03,  4.5287e-03,\n",
       "         -2.3449e-03, -1.4298e-04, -1.8563e-03, -1.2389e-02, -3.8337e-03,\n",
       "          4.5737e-03, -1.0923e-02,  9.2632e-04, -3.0105e-03, -1.0727e-02,\n",
       "         -7.1082e-03,  1.0940e-03, -3.9973e-03,  2.0681e-03,  3.0318e-03,\n",
       "         -5.0687e-03, -2.5363e-03,  4.7889e-03, -1.2290e-02,  2.1927e-03,\n",
       "          2.9605e-03, -2.3780e-04,  6.0668e-04, -1.3176e-02, -1.1028e-03,\n",
       "          5.8997e-03, -3.1939e-03, -9.2095e-03, -1.5520e-02, -4.7797e-03,\n",
       "         -1.4607e-02,  3.4060e-03, -1.2982e-02, -1.3994e-02, -1.1386e-02,\n",
       "          4.4359e-03, -7.9574e-04,  3.9081e-03, -9.0199e-03,  1.8024e-03,\n",
       "         -1.0811e-03, -3.3514e-03, -9.5944e-04, -1.1659e-02, -4.9715e-04,\n",
       "          3.1409e-03, -3.2249e-03,  3.1759e-03,  1.6477e-03, -3.9866e-03,\n",
       "         -5.5744e-03, -3.6082e-03,  9.9064e-04, -1.3867e-02, -8.6554e-03,\n",
       "         -6.1020e-03,  4.6494e-03,  7.3745e-04, -8.9510e-03, -5.5595e-03,\n",
       "         -1.3549e-02,  1.2219e-03, -3.8979e-03, -3.4688e-03,  4.9235e-03,\n",
       "         -1.5716e-02, -1.2703e-02, -1.3473e-02, -3.3487e-04,  5.5829e-04,\n",
       "         -5.1034e-03, -1.5052e-02, -1.4691e-02, -3.4195e-04, -4.7116e-03,\n",
       "          4.6451e-03, -3.8594e-03, -8.9066e-05, -4.4630e-04,  1.0898e-03,\n",
       "          5.5935e-03, -8.4985e-03,  1.4664e-03,  2.1669e-03,  1.4173e-03,\n",
       "          3.3892e-03,  2.1106e-02,  2.6242e-03,  1.5377e-03,  2.7248e-03,\n",
       "         -1.0351e-02,  7.6009e-04, -2.0915e-03,  2.3437e-03, -2.9634e-03,\n",
       "          3.2919e-03, -5.4214e-04,  8.3948e-05, -1.3629e-03, -2.8160e-04,\n",
       "         -1.5536e-02,  2.4842e-03, -2.0136e-03, -7.5558e-04, -1.4364e-02,\n",
       "         -1.0222e-03,  2.2449e-03, -3.4085e-03, -8.7092e-03, -5.7929e-03,\n",
       "         -4.7567e-04, -7.6707e-03, -1.1659e-02, -8.6654e-03, -1.2487e-02,\n",
       "         -5.2041e-03, -1.1738e-03, -1.9184e-03, -1.4173e-02, -1.5664e-03,\n",
       "         -4.2079e-04, -2.9632e-03,  2.3406e-03,  9.9582e-03, -1.1756e-02,\n",
       "         -2.5887e-03, -5.4200e-03, -4.3153e-03,  2.3592e-04, -9.7398e-04,\n",
       "         -4.2233e-04, -8.5738e-03, -3.1695e-03, -1.0665e-02, -1.3104e-02,\n",
       "         -3.4109e-03, -1.2691e-03,  1.4165e-03,  3.1378e-03,  1.6362e-03,\n",
       "         -1.2319e-02, -1.0200e-03, -1.0858e-03,  5.3331e-03, -7.3587e-03,\n",
       "          3.0322e-03, -1.3802e-02, -1.2705e-03, -6.9174e-03, -1.1601e-02,\n",
       "         -5.5116e-04,  1.8841e-03,  3.3118e-03, -1.7198e-03,  4.0109e-04,\n",
       "          4.1626e-03,  2.1794e-04,  3.3094e-03, -1.1490e-02,  5.4608e-04,\n",
       "          1.7813e-03, -3.0462e-03,  3.9593e-03, -1.7706e-04, -5.7539e-03,\n",
       "          2.8924e-03, -1.6920e-03, -1.5507e-03,  3.3424e-03, -1.1094e-03,\n",
       "         -5.8537e-04,  1.5463e-03, -5.5101e-03, -9.5073e-03, -1.5728e-03,\n",
       "          3.2658e-03, -3.6429e-03, -6.1965e-03, -4.9668e-03, -1.4582e-03,\n",
       "         -4.7796e-03,  1.2968e-03,  6.4750e-04,  3.1393e-03, -1.5057e-02,\n",
       "         -1.3024e-02,  4.4094e-03, -2.4398e-03,  2.7414e-03, -1.1700e-02,\n",
       "          3.7682e-03, -1.1098e-02,  3.6670e-03,  3.5675e-04,  1.3773e-03,\n",
       "          1.6188e-03, -4.4964e-03, -3.8720e-03, -1.5046e-02,  9.8651e-04,\n",
       "         -8.1999e-03, -7.0286e-03, -1.4707e-02, -1.5190e-02, -1.0386e-02,\n",
       "          1.6297e-03, -2.4503e-03, -6.2536e-05, -1.3396e-02, -8.3210e-03,\n",
       "         -1.3594e-02, -4.9394e-04,  3.3650e-03, -8.6366e-03, -1.0370e-02,\n",
       "         -7.1328e-04, -9.2006e-04, -5.2195e-03,  1.5165e-03, -1.0077e-02,\n",
       "         -5.6983e-04, -7.3955e-03, -1.0935e-02, -1.0013e-02,  2.2033e-03,\n",
       "          2.3715e-02, -5.3750e-03, -5.9605e-03, -2.3893e-03, -1.4761e-02,\n",
       "         -1.2674e-02,  1.1673e-03,  2.5267e-04, -1.0639e-02,  4.4182e-03,\n",
       "          6.1392e-04, -7.4748e-03, -1.0880e-03, -9.3743e-03, -7.8966e-04,\n",
       "         -7.3843e-04, -3.8432e-03,  4.3780e-03,  4.0236e-03, -4.3955e-04,\n",
       "          5.1446e-04, -1.6372e-03, -1.1267e-02, -1.3616e-02, -3.8872e-04,\n",
       "         -1.0481e-02, -1.4306e-02, -1.6864e-04, -1.1013e-02, -2.5746e-03,\n",
       "          2.5339e-03, -9.0636e-03, -2.0699e-03, -3.9328e-03,  1.2612e-04,\n",
       "          4.6238e-05, -1.4779e-02, -1.4751e-02, -5.9414e-03, -9.5373e-03,\n",
       "         -8.6940e-03, -1.0947e-02,  5.6127e-03, -1.5141e-02, -7.2113e-03,\n",
       "         -3.4667e-03,  1.5743e-03, -1.2374e-02, -1.3004e-02,  9.3571e-04,\n",
       "         -1.4832e-02,  1.8133e-03, -1.1938e-03, -9.3286e-04,  1.9772e-03,\n",
       "          2.4365e-03, -1.1770e-02, -1.2785e-02,  5.1285e-03,  1.8186e-03,\n",
       "          1.3917e-03, -1.0164e-02, -7.2479e-03, -3.1776e-03, -1.1707e-02,\n",
       "         -6.6318e-04,  1.2211e-02], device='cuda:0', requires_grad=True), Parameter containing:\n",
       " tensor([[-0.0032,  0.0067,  0.0232,  ...,  0.0037,  0.0023, -0.0091],\n",
       "         [ 0.0417,  0.0196,  0.0208,  ..., -0.0068,  0.0133, -0.0232],\n",
       "         [ 0.0236,  0.0135, -0.0314,  ...,  0.0303, -0.0427, -0.0326],\n",
       "         ...,\n",
       "         [ 0.0015,  0.0193,  0.0294,  ..., -0.0260, -0.0083,  0.0320],\n",
       "         [-0.0201, -0.0183, -0.0391,  ...,  0.0139, -0.0047,  0.0121],\n",
       "         [ 0.0056, -0.0239,  0.0344,  ..., -0.0330, -0.0264,  0.0252]],\n",
       "        device='cuda:0', requires_grad=True), Parameter containing:\n",
       " tensor([ 1.4397e-02, -3.4916e-02, -7.6700e-03, -2.9317e-02, -2.6043e-03,\n",
       "          2.7571e-02,  3.1943e-02, -1.7794e-02,  2.5377e-02, -1.5286e-03,\n",
       "          1.7171e-02, -5.3860e-03,  4.5139e-04, -6.2586e-03, -3.7193e-02,\n",
       "         -1.1050e-02,  2.1723e-02, -3.0982e-02,  2.8434e-02,  3.6874e-02,\n",
       "         -3.7248e-02, -5.0758e-03, -8.4768e-03, -3.2696e-04,  2.4585e-04,\n",
       "         -6.4966e-03,  2.3595e-02, -4.1481e-02,  2.7813e-02,  2.7160e-02,\n",
       "          2.9811e-02,  2.4888e-02,  9.3903e-03,  3.2864e-02, -1.9236e-02,\n",
       "          2.7808e-02,  1.9376e-02, -4.1324e-02, -2.1137e-02, -2.1269e-02,\n",
       "         -3.9102e-02,  1.5664e-02,  3.2134e-02, -3.6743e-02, -3.8217e-02,\n",
       "         -1.2186e-03, -3.5775e-04, -2.7504e-02, -2.5087e-02,  3.3354e-02,\n",
       "          2.6994e-02,  2.5642e-02,  2.0405e-02, -3.0762e-03, -1.9233e-02,\n",
       "         -1.1708e-02, -4.1371e-02, -2.7664e-02,  3.1393e-02, -2.8812e-03,\n",
       "          1.5046e-02, -2.9126e-02,  2.9341e-02,  3.7783e-03,  3.1195e-02,\n",
       "          1.1156e-02, -3.9383e-02, -3.8955e-02, -4.2147e-02, -2.1853e-02,\n",
       "         -1.2317e-02,  1.5663e-02,  1.6529e-02,  2.9490e-02, -1.7405e-02,\n",
       "          2.7966e-02,  2.0673e-02, -2.5818e-03,  1.0378e-02,  1.2942e-02,\n",
       "         -1.9415e-03, -2.8031e-03, -1.6364e-03,  3.2465e-03,  1.6173e-02,\n",
       "         -2.2996e-03,  3.8290e-04, -2.1952e-02,  2.5252e-02,  4.5335e-02,\n",
       "          1.2246e-02, -2.9375e-02,  2.7554e-02,  2.1934e-02, -7.4924e-03,\n",
       "         -2.4244e-02,  2.0537e-02, -1.2692e-02, -2.8579e-02,  2.8454e-04,\n",
       "         -4.0494e-02, -5.9389e-03, -7.7202e-03,  2.4435e-03, -1.1773e-02,\n",
       "          1.9027e-02, -1.1125e-02, -8.2345e-03, -4.3825e-03,  8.7819e-04,\n",
       "          1.4516e-02, -2.8983e-02, -2.9550e-03, -3.0430e-02,  2.0554e-03,\n",
       "         -1.0988e-02, -6.3615e-03,  5.1008e-04, -6.0828e-03, -1.4637e-02,\n",
       "          1.9834e-02,  1.8166e-03,  9.4666e-03,  1.8142e-02, -4.0440e-02,\n",
       "         -7.4066e-04, -2.5111e-02, -5.8033e-03, -2.0914e-02,  4.7861e-03,\n",
       "          2.0750e-02, -2.1376e-03,  7.7102e-03,  3.5321e-02,  2.6485e-04,\n",
       "         -2.2217e-03,  7.7344e-04,  8.3389e-03, -4.2781e-02,  2.2013e-03,\n",
       "         -5.5664e-03,  3.9400e-03,  1.2657e-02, -4.0069e-02, -4.1600e-02,\n",
       "         -2.9845e-03, -8.9743e-03, -5.2303e-03,  5.7659e-03, -3.7559e-03,\n",
       "          2.1187e-02, -3.5814e-02, -2.7145e-02,  1.1820e-02, -1.7340e-02,\n",
       "          2.1838e-02, -3.6698e-02,  6.6438e-04, -3.2843e-02, -2.2798e-02,\n",
       "          2.7996e-02, -8.9508e-06, -4.9805e-03, -1.8585e-02, -8.4332e-03,\n",
       "          1.1332e-02,  6.4667e-04, -3.9619e-02,  5.6538e-03, -5.4369e-04,\n",
       "          3.1409e-02, -1.2066e-02, -3.0882e-03, -1.0577e-02, -1.5804e-02,\n",
       "         -7.1563e-03,  1.4341e-02, -1.7259e-02, -2.4753e-03,  1.2099e-02,\n",
       "          3.6791e-02,  1.4346e-02, -3.8161e-02,  1.5793e-02, -2.5920e-03,\n",
       "          2.4727e-03, -1.6516e-03,  2.3648e-02, -1.8328e-02,  2.2886e-02,\n",
       "         -1.8235e-02, -1.8241e-02,  4.4752e-02, -3.6121e-02, -3.7422e-02,\n",
       "         -2.1236e-02, -3.2488e-04,  1.7671e-02, -1.3483e-02, -2.8140e-02,\n",
       "         -2.2642e-02, -1.3773e-02, -2.7397e-02, -5.1163e-03, -3.8370e-03,\n",
       "         -3.0570e-05, -4.0872e-02, -2.6416e-02, -1.3555e-02, -3.7571e-02,\n",
       "         -1.5082e-02,  1.7717e-02,  1.2276e-02, -2.5636e-02, -1.3716e-02,\n",
       "          1.8245e-02, -9.8607e-03,  2.8944e-02, -2.8879e-02,  1.9610e-02,\n",
       "         -3.2484e-02,  2.5439e-02, -4.2425e-03,  2.5479e-02,  3.9107e-02,\n",
       "         -9.0154e-03, -9.8705e-03, -3.4313e-02,  6.3552e-03, -1.6847e-02,\n",
       "         -1.4629e-03,  2.7025e-02,  1.3038e-02, -5.9891e-03,  5.7722e-03,\n",
       "         -3.3689e-03, -4.1339e-02,  2.2233e-02, -2.6962e-02,  4.0663e-03,\n",
       "          2.4825e-02, -1.6932e-02, -4.1616e-02,  1.7157e-02, -9.4033e-03,\n",
       "          2.5595e-02, -8.1467e-04, -8.6422e-05, -1.5263e-03, -6.2841e-04,\n",
       "         -3.3991e-02, -4.2917e-02, -3.7709e-02, -9.0415e-03, -9.0425e-03,\n",
       "          1.7723e-02, -2.2852e-02,  5.9994e-03,  2.2040e-02, -4.0639e-02,\n",
       "         -4.2271e-02,  1.9386e-03,  4.2873e-03, -4.8408e-03, -1.0091e-02,\n",
       "         -3.9035e-02, -8.0653e-04, -1.9687e-03, -1.1698e-02,  3.5990e-02,\n",
       "         -3.5640e-02, -4.0422e-02,  1.2854e-02, -7.2087e-04,  5.2510e-03,\n",
       "         -3.1488e-03,  3.5611e-02, -1.5808e-02,  1.8865e-02, -3.5627e-02,\n",
       "         -5.6305e-04, -2.9005e-03,  4.7474e-05, -2.3365e-02,  2.3834e-03,\n",
       "         -2.2911e-03, -2.2986e-02, -8.1868e-03, -1.2220e-03,  2.2341e-02,\n",
       "          2.6888e-04,  1.2628e-02, -1.3111e-03, -2.2403e-03, -2.8312e-02,\n",
       "          2.2853e-02, -1.5215e-02, -3.6357e-02, -3.5223e-02, -2.2970e-02,\n",
       "          1.4964e-02, -2.6131e-03,  1.2623e-02, -3.9358e-02,  3.5988e-05,\n",
       "         -6.4497e-03, -2.5325e-02, -2.4597e-02, -1.3680e-03,  6.4148e-03,\n",
       "         -2.8214e-02, -3.2879e-02,  2.9418e-02, -1.3415e-02, -1.5728e-02,\n",
       "         -3.2888e-02, -2.2216e-02, -2.2619e-02,  2.6824e-02,  3.2919e-02,\n",
       "         -1.6519e-02, -1.2931e-03, -3.3223e-02,  2.3721e-02, -3.2165e-03,\n",
       "         -2.2808e-02, -3.0522e-03, -4.6589e-03, -1.7896e-02, -2.4918e-02,\n",
       "         -8.3881e-03, -3.1665e-02,  1.5974e-02, -2.9773e-02,  2.0497e-02,\n",
       "         -7.4273e-03,  1.1521e-02,  8.5544e-03, -1.0453e-02,  3.9441e-02,\n",
       "          1.8443e-02, -6.5258e-04,  2.9898e-02, -2.5197e-02, -9.8518e-03,\n",
       "         -4.0212e-02, -3.3766e-03,  2.7077e-02, -3.9624e-02, -4.2773e-02,\n",
       "         -1.8625e-02,  1.1926e-02,  4.5814e-03, -3.2128e-02,  2.2113e-02,\n",
       "          8.5890e-04,  2.1831e-02,  8.3680e-03, -1.6098e-02, -4.0618e-03,\n",
       "         -4.3639e-03, -3.6731e-02, -3.7909e-02,  3.7395e-02, -1.5289e-02,\n",
       "         -1.9874e-02,  3.0404e-03,  1.3445e-02, -3.3769e-02, -2.2890e-03,\n",
       "          3.9326e-02, -2.6048e-02, -1.5953e-02,  1.4203e-02,  2.5465e-02,\n",
       "         -4.8448e-03,  1.3846e-02,  1.8985e-02, -5.0457e-03,  3.0439e-02,\n",
       "         -3.6945e-02, -8.6578e-03, -6.6552e-03, -2.3629e-02, -3.5577e-02,\n",
       "          1.9489e-02,  3.4890e-02, -3.7824e-02, -2.4985e-03, -1.1750e-02,\n",
       "         -3.1155e-02, -3.7446e-02, -1.7664e-02, -2.8126e-04,  3.5988e-02,\n",
       "         -9.3305e-03,  2.9893e-02, -1.4837e-02, -8.8632e-03, -2.3550e-02,\n",
       "         -2.9921e-02,  2.7013e-02,  1.4637e-02, -4.2564e-02, -1.7799e-02,\n",
       "         -1.6482e-02, -2.3826e-03,  2.6039e-02,  6.4375e-03, -6.0190e-03,\n",
       "         -5.2035e-04,  1.8182e-02,  1.9134e-02,  3.7176e-02, -3.5369e-02,\n",
       "         -8.5828e-03, -3.9163e-02,  4.0025e-04, -1.7816e-02,  3.4010e-02,\n",
       "         -3.8912e-02,  1.9844e-02, -2.9289e-02, -2.0977e-02, -3.6586e-02,\n",
       "          1.3101e-02,  1.3571e-02, -3.5649e-02, -5.6262e-04,  2.7505e-03,\n",
       "         -1.4086e-02, -9.0132e-03,  4.2154e-03, -3.5610e-02, -4.2468e-02,\n",
       "         -2.9599e-02,  2.6283e-02, -3.2248e-02,  9.3699e-05, -3.3959e-02,\n",
       "         -3.1653e-03, -8.1041e-03, -1.4957e-03, -3.3853e-03, -3.7731e-02,\n",
       "          1.2677e-02,  2.3531e-02, -4.0603e-03, -2.1622e-02, -1.2678e-02,\n",
       "         -1.1999e-02, -2.7987e-02, -2.2048e-03, -2.9948e-02, -2.4230e-02,\n",
       "         -3.3365e-02,  1.0815e-02,  1.9455e-02, -2.9674e-02, -2.4124e-02,\n",
       "         -7.9130e-04, -7.0262e-03,  2.2957e-02, -3.0694e-02,  2.0338e-02,\n",
       "          1.0360e-02,  1.2544e-02, -3.5261e-02, -2.4128e-02,  2.0331e-02,\n",
       "          1.5795e-02,  1.6746e-02, -3.1498e-02,  3.3530e-02,  3.0373e-02,\n",
       "         -1.6133e-02, -1.5305e-03,  1.6751e-02, -2.5427e-02,  4.0453e-02,\n",
       "         -6.8954e-03, -2.1717e-02, -1.8552e-02, -3.5634e-03,  2.9283e-02,\n",
       "          2.8348e-02,  2.3713e-02, -1.0258e-03, -3.7292e-02, -9.5310e-03,\n",
       "         -2.3784e-03, -7.5475e-03, -8.2399e-03, -2.8895e-02, -1.6332e-03,\n",
       "         -4.1290e-02, -1.3584e-02,  5.5336e-03,  2.5249e-02, -1.8680e-02,\n",
       "          3.3131e-03,  9.4620e-03, -3.1812e-02,  3.6853e-02, -3.4456e-02,\n",
       "          2.5770e-02,  7.1275e-03,  3.0355e-02,  4.3621e-02,  1.6506e-02,\n",
       "         -7.8098e-03, -2.0509e-02], device='cuda:0', requires_grad=True), Parameter containing:\n",
       " tensor([[-0.0332, -0.0139, -0.0251,  ..., -0.0324, -0.0425, -0.0295],\n",
       "         [-0.0397,  0.0302,  0.0336,  ...,  0.0033,  0.0387, -0.0023],\n",
       "         [-0.0103,  0.0011, -0.0154,  ...,  0.0302, -0.0141,  0.0044],\n",
       "         ...,\n",
       "         [-0.0204, -0.0266,  0.0131,  ...,  0.0143, -0.0041,  0.0250],\n",
       "         [-0.0298,  0.0238,  0.0309,  ..., -0.0188,  0.0268,  0.0417],\n",
       "         [ 0.0283,  0.0269,  0.0164,  ...,  0.0569, -0.0148, -0.0193]],\n",
       "        device='cuda:0', requires_grad=True), Parameter containing:\n",
       " tensor([ 0.0135,  0.0336,  0.0221, -0.0230,  0.0365, -0.0147,  0.0261,  0.0101,\n",
       "          0.0093,  0.0511], device='cuda:0', requires_grad=True)]"
      ]
     },
     "execution_count": 13,
     "metadata": {},
     "output_type": "execute_result"
    }
   ],
   "source": [
    "w = list(model2.parameters())\n",
    "w"
   ]
  },
  {
   "cell_type": "code",
   "execution_count": 14,
   "metadata": {
    "scrolled": false
   },
   "outputs": [
    {
     "data": {
      "image/png": "[encoded data removed]",
      "text/plain": [
       "<Figure size 1080x1080 with 4 Axes>"
      ]
     },
     "metadata": {
      "needs_background": "light"
     },
     "output_type": "display_data"
    }
   ],
   "source": [
    "validator2.plot()"
   ]
  },
  {
   "cell_type": "code",
   "execution_count": 15,
   "metadata": {},
   "outputs": [
    {
     "name": "stdout",
     "output_type": "stream",
     "text": [
      "0.1 Best accuracy with reg\n",
      "0.8532 Best accuracy without reg\n"
     ]
    }
   ],
   "source": [
    "print(np.max(validator2.val_accuracies), \"Best accuracy with reg\")\n",
    "print(np.max(validator.val_accuracies), \"Best accuracy without reg\")"
   ]
  },
  {
   "cell_type": "code",
   "execution_count": null,
   "metadata": {},
   "outputs": [],
   "source": []
  },
  {
   "cell_type": "code",
   "execution_count": null,
   "metadata": {},
   "outputs": [],
   "source": []
  }
 ],
 "metadata": {
  "kernelspec": {
   "display_name": "Python 3",
   "language": "python",
   "name": "python3"
  },
  "language_info": {
   "codemirror_mode": {
    "name": "ipython",
    "version": 3
   },
   "file_extension": ".py",
   "mimetype": "text/x-python",
   "name": "python",
   "nbconvert_exporter": "python",
   "pygments_lexer": "ipython3",
   "version": "3.7.5"
  }
 },
 "nbformat": 4,
 "nbformat_minor": 2
}
