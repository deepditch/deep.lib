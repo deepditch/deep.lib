{
 "cells": [
  {
   "cell_type": "code",
   "execution_count": null,
   "metadata": {},
   "outputs": [],
   "source": [
    "from pathlib import Path\n",
    "import itertools\n",
    "import numpy as np\n",
    "import pandas as pd\n",
    "from sklearn.decomposition import PCA\n",
    "import matplotlib.pyplot as plt\n",
    "from mpl_toolkits.mplot3d import Axes3D\n",
    "from sklearn import svm"
   ]
  },
  {
   "cell_type": "code",
   "execution_count": null,
   "metadata": {},
   "outputs": [],
   "source": [
    "class PokerHandAccuracy(_AccuracyMeter):\n",
    "    def __init__(self):\n",
    "        self.reset()\n",
    "        self.confusion = [[0 for y in range(num_classes)] for x in range(num_classes)]\n",
    "\n",
    "    def reset(self):\n",
    "        self.num_correct = 0\n",
    "        self.count = 0\n",
    "        self.confusion = [[0 for y in range(num_classes)] for x in range(num_classes)]\n",
    "        \n",
    "    def accuracy(self): \n",
    "        return self.num_correct / self.count\n",
    "\n",
    "    def update(self, pred, label, log=False):   \n",
    "        vals, preds = torch.max(actn, 1)\n",
    "        if log: print(\"Preds: \", preds)\n",
    "        _, gt = torch.max(label, 1)     \n",
    "        if log: print(\"GT   : \", gt)\n",
    "        self.num_correct += torch.sum(preds == gt).item()\n",
    "        if log: print(\"Num Correct: \", self.num_correct)\n",
    "        self.count += label.shape[0]\n",
    "        \n",
    "        for lab, pred in zip(gt, preds):\n",
    "            self.confusion[lab][pred] += 1\n",
    "            \n",
    "    def plot_confusion_matrix(self,\n",
    "                          title='Confusion matrix',\n",
    "                          cmap=plt.cm.Blues):\n",
    "        cm = np.array(self.confusion)\n",
    "        fig, ax = plt.subplots(figsize=(12,12))\n",
    "        img = ax.imshow(cm, interpolation='nearest', cmap=cmap)\n",
    "        plt.colorbar(img, ax=ax)\n",
    "        ax.set_title(title)\n",
    "        tick_marks = np.arange(num_classes)\n",
    "        plt.xticks(tick_marks, rotation=45)\n",
    "        plt.yticks(tick_marks)\n",
    "\n",
    "        fmt = 'd'\n",
    "        thresh = cm.max() / 2.\n",
    "        for i, j in itertools.product(range(cm.shape[0]), range(cm.shape[1])):\n",
    "            ax.text(j, i, format(cm[i, j], fmt),\n",
    "                     horizontalalignment=\"center\",\n",
    "                     color=\"white\" if cm[i, j] > thresh else \"black\")\n",
    "\n",
    "        ax.set_ylabel('True label')\n",
    "        ax.set_xlabel('Predicted label')"
   ]
  },
  {
   "cell_type": "code",
   "execution_count": null,
   "metadata": {},
   "outputs": [],
   "source": [
    "class PokerHandDataset():\n",
    "    def __init__(self, file):\n",
    "        self.hands, self.labels = self.parse_csv(file)\n",
    "       \n",
    "    @staticmethod\n",
    "    def parse_csv(file):\n",
    "        df = pd.read_csv(file, header=None)\n",
    "        xs = df[df.columns[0:10]]\n",
    "        ys = df[df.columns[-1]]\n",
    "        \n",
    "        labels = np.array([label for label in ys])\n",
    "        hands = np.array([PokerHandDataset.make_tensor(np.array(hand).reshape((5,2)) - 1) for hand in xs.values])\n",
    "            \n",
    "        return hands, ys\n",
    "        \n",
    "    @staticmethod\n",
    "    def make_tensor(hand):\n",
    "        hand_tensor = np.zeros((4,13)) - 1\n",
    "        for card in hand: \n",
    "            suit = np.zeros(4)\n",
    "            suit[card[1]] = 1\n",
    "            hand_tensor[card[0], card[1]] = 1\n",
    "        return hand_tensor.reshape(-1)\n",
    "    \n",
    "    @staticmethod\n",
    "    def make_one_hot(label):\n",
    "        tensor = torch.zeros(10)\n",
    "        tensor[label] = 1\n",
    "        return tensor\n",
    "    \n",
    "    def __len__(self): return len(self.hands)\n",
    "\n",
    "    def __getitem__(self, i):\n",
    "        hand, label = self.hands[i], self.labels[i]\n",
    "        x, y = self.make_tensor(hand), self.make_one_hot(label)\n",
    "        return x, y"
   ]
  },
  {
   "cell_type": "code",
   "execution_count": null,
   "metadata": {},
   "outputs": [],
   "source": [
    "data_path = Path(\"./Datasets/PokerHands\")\n",
    "train_dataset = PokerHandDataset(data_path/'training.csv')\n",
    "test_dataset = PokerHandDataset(data_path/'testing.csv')"
   ]
  },
  {
   "cell_type": "code",
   "execution_count": null,
   "metadata": {},
   "outputs": [],
   "source": []
  }
 ],
 "metadata": {
  "kernelspec": {
   "display_name": "Python 3",
   "language": "python",
   "name": "python3"
  },
  "language_info": {
   "codemirror_mode": {
    "name": "ipython",
    "version": 3
   },
   "file_extension": ".py",
   "mimetype": "text/x-python",
   "name": "python",
   "nbconvert_exporter": "python",
   "pygments_lexer": "ipython3",
   "version": "3.6.6"
  }
 },
 "nbformat": 4,
 "nbformat_minor": 2
}
